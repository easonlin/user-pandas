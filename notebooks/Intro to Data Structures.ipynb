{
 "metadata": {
  "name": "",
  "signature": "sha256:a252069923240f5b691b1a809a300ff4595c8e8d7718c0643206d9f37bb9a1a7"
 },
 "nbformat": 3,
 "nbformat_minor": 0,
 "worksheets": [
  {
   "cells": [
    {
     "cell_type": "heading",
     "level": 1,
     "metadata": {},
     "source": [
      "Intro to Data Structures\n",
      "http://pandas.pydata.org/pandas-docs/stable/dsintro.html"
     ]
    },
    {
     "cell_type": "code",
     "collapsed": false,
     "input": [
      "import numpy as np\n",
      "randn = np.random.randn\n",
      "from pandas import *\n",
      "import pandas as pd"
     ],
     "language": "python",
     "metadata": {},
     "outputs": [],
     "prompt_number": 79
    },
    {
     "cell_type": "heading",
     "level": 2,
     "metadata": {},
     "source": [
      "Series"
     ]
    },
    {
     "cell_type": "markdown",
     "metadata": {},
     "source": [
      "Accepted init data\n",
      "- a Python dict\n",
      "- an ndarray\n",
      "- a scalar value"
     ]
    },
    {
     "cell_type": "code",
     "collapsed": false,
     "input": [
      "# From ndarray\n",
      "s = Series(randn(5), index=['a', 'b', 'c', 'd', 'e'])\n",
      "print s\n",
      "print s.index\n",
      "Series(randn(5))"
     ],
     "language": "python",
     "metadata": {},
     "outputs": [
      {
       "output_type": "stream",
       "stream": "stdout",
       "text": [
        "a    0.549812\n",
        "b    0.330505\n",
        "c    0.571375\n",
        "d   -0.773775\n",
        "e   -0.451413\n",
        "dtype: float64\n",
        "Index([u'a', u'b', u'c', u'd', u'e'], dtype='object')\n"
       ]
      },
      {
       "metadata": {},
       "output_type": "pyout",
       "prompt_number": 80,
       "text": [
        "0   -1.582662\n",
        "1   -0.814572\n",
        "2    1.698050\n",
        "3   -0.770512\n",
        "4   -0.736766\n",
        "dtype: float64"
       ]
      }
     ],
     "prompt_number": 80
    },
    {
     "cell_type": "code",
     "collapsed": false,
     "input": [
      "# From dict\n",
      "d = {'a': 0., 'b': 1., 'c': 2.}\n",
      "print Series(d)\n",
      "Series(d, index=['b', 'c', 'd', 'a'])"
     ],
     "language": "python",
     "metadata": {},
     "outputs": [
      {
       "output_type": "stream",
       "stream": "stdout",
       "text": [
        "a    0\n",
        "b    1\n",
        "c    2\n",
        "dtype: float64\n"
       ]
      },
      {
       "metadata": {},
       "output_type": "pyout",
       "prompt_number": 81,
       "text": [
        "b     1\n",
        "c     2\n",
        "d   NaN\n",
        "a     0\n",
        "dtype: float64"
       ]
      }
     ],
     "prompt_number": 81
    },
    {
     "cell_type": "code",
     "collapsed": false,
     "input": [
      "# From scalar value\n",
      "Series(5., index=['a', 'b', 'c', 'd', 'e'])"
     ],
     "language": "python",
     "metadata": {},
     "outputs": [
      {
       "metadata": {},
       "output_type": "pyout",
       "prompt_number": 82,
       "text": [
        "a    5\n",
        "b    5\n",
        "c    5\n",
        "d    5\n",
        "e    5\n",
        "dtype: float64"
       ]
      }
     ],
     "prompt_number": 82
    },
    {
     "cell_type": "heading",
     "level": 3,
     "metadata": {},
     "source": [
      "Series is ndarray-like"
     ]
    },
    {
     "cell_type": "code",
     "collapsed": false,
     "input": [
      "s[0]"
     ],
     "language": "python",
     "metadata": {},
     "outputs": [
      {
       "metadata": {},
       "output_type": "pyout",
       "prompt_number": 83,
       "text": [
        "0.5498116512820963"
       ]
      }
     ],
     "prompt_number": 83
    },
    {
     "cell_type": "code",
     "collapsed": false,
     "input": [
      "s[:3]"
     ],
     "language": "python",
     "metadata": {},
     "outputs": [
      {
       "metadata": {},
       "output_type": "pyout",
       "prompt_number": 84,
       "text": [
        "a    0.549812\n",
        "b    0.330505\n",
        "c    0.571375\n",
        "dtype: float64"
       ]
      }
     ],
     "prompt_number": 84
    },
    {
     "cell_type": "code",
     "collapsed": false,
     "input": [
      "s[s>s.median()]"
     ],
     "language": "python",
     "metadata": {},
     "outputs": [
      {
       "metadata": {},
       "output_type": "pyout",
       "prompt_number": 85,
       "text": [
        "a    0.549812\n",
        "c    0.571375\n",
        "dtype: float64"
       ]
      }
     ],
     "prompt_number": 85
    },
    {
     "cell_type": "code",
     "collapsed": false,
     "input": [
      "s[[4,3,1]]"
     ],
     "language": "python",
     "metadata": {},
     "outputs": [
      {
       "metadata": {},
       "output_type": "pyout",
       "prompt_number": 86,
       "text": [
        "e   -0.451413\n",
        "d   -0.773775\n",
        "b    0.330505\n",
        "dtype: float64"
       ]
      }
     ],
     "prompt_number": 86
    },
    {
     "cell_type": "code",
     "collapsed": false,
     "input": [
      "np.exp(s)"
     ],
     "language": "python",
     "metadata": {},
     "outputs": [
      {
       "metadata": {},
       "output_type": "pyout",
       "prompt_number": 87,
       "text": [
        "a    1.732927\n",
        "b    1.391671\n",
        "c    1.770700\n",
        "d    0.461269\n",
        "e    0.636728\n",
        "dtype: float64"
       ]
      }
     ],
     "prompt_number": 87
    },
    {
     "cell_type": "heading",
     "level": 3,
     "metadata": {},
     "source": [
      "Series is dict-like"
     ]
    },
    {
     "cell_type": "code",
     "collapsed": false,
     "input": [
      "s['a']"
     ],
     "language": "python",
     "metadata": {},
     "outputs": [
      {
       "metadata": {},
       "output_type": "pyout",
       "prompt_number": 88,
       "text": [
        "0.5498116512820963"
       ]
      }
     ],
     "prompt_number": 88
    },
    {
     "cell_type": "code",
     "collapsed": false,
     "input": [
      "s['e'] = 12.\n",
      "s"
     ],
     "language": "python",
     "metadata": {},
     "outputs": [
      {
       "metadata": {},
       "output_type": "pyout",
       "prompt_number": 89,
       "text": [
        "a     0.549812\n",
        "b     0.330505\n",
        "c     0.571375\n",
        "d    -0.773775\n",
        "e    12.000000\n",
        "dtype: float64"
       ]
      }
     ],
     "prompt_number": 89
    },
    {
     "cell_type": "code",
     "collapsed": false,
     "input": [
      "'e' in s"
     ],
     "language": "python",
     "metadata": {},
     "outputs": [
      {
       "metadata": {},
       "output_type": "pyout",
       "prompt_number": 90,
       "text": [
        "True"
       ]
      }
     ],
     "prompt_number": 90
    },
    {
     "cell_type": "code",
     "collapsed": false,
     "input": [
      "'f' in s"
     ],
     "language": "python",
     "metadata": {},
     "outputs": [
      {
       "metadata": {},
       "output_type": "pyout",
       "prompt_number": 91,
       "text": [
        "False"
       ]
      }
     ],
     "prompt_number": 91
    },
    {
     "cell_type": "code",
     "collapsed": false,
     "input": [
      "# raise exception when label not found\n",
      "#s['f']"
     ],
     "language": "python",
     "metadata": {},
     "outputs": [],
     "prompt_number": 92
    },
    {
     "cell_type": "code",
     "collapsed": false,
     "input": [
      "s.get('f')"
     ],
     "language": "python",
     "metadata": {},
     "outputs": [],
     "prompt_number": 93
    },
    {
     "cell_type": "code",
     "collapsed": false,
     "input": [
      "s.get('f', np.nan)"
     ],
     "language": "python",
     "metadata": {},
     "outputs": [
      {
       "metadata": {},
       "output_type": "pyout",
       "prompt_number": 94,
       "text": [
        "nan"
       ]
      }
     ],
     "prompt_number": 94
    },
    {
     "cell_type": "heading",
     "level": 3,
     "metadata": {},
     "source": [
      "Vectorized operations and label alignment"
     ]
    },
    {
     "cell_type": "code",
     "collapsed": false,
     "input": [
      "s + s"
     ],
     "language": "python",
     "metadata": {},
     "outputs": [
      {
       "metadata": {},
       "output_type": "pyout",
       "prompt_number": 95,
       "text": [
        "a     1.099623\n",
        "b     0.661011\n",
        "c     1.142750\n",
        "d    -1.547550\n",
        "e    24.000000\n",
        "dtype: float64"
       ]
      }
     ],
     "prompt_number": 95
    },
    {
     "cell_type": "code",
     "collapsed": false,
     "input": [
      "s * 2"
     ],
     "language": "python",
     "metadata": {},
     "outputs": [
      {
       "metadata": {},
       "output_type": "pyout",
       "prompt_number": 96,
       "text": [
        "a     1.099623\n",
        "b     0.661011\n",
        "c     1.142750\n",
        "d    -1.547550\n",
        "e    24.000000\n",
        "dtype: float64"
       ]
      }
     ],
     "prompt_number": 96
    },
    {
     "cell_type": "code",
     "collapsed": false,
     "input": [
      "np.exp(s)"
     ],
     "language": "python",
     "metadata": {},
     "outputs": [
      {
       "metadata": {},
       "output_type": "pyout",
       "prompt_number": 97,
       "text": [
        "a         1.732927\n",
        "b         1.391671\n",
        "c         1.770700\n",
        "d         0.461269\n",
        "e    162754.791419\n",
        "dtype: float64"
       ]
      }
     ],
     "prompt_number": 97
    },
    {
     "cell_type": "code",
     "collapsed": false,
     "input": [
      "# align data based on label\n",
      "s[1:] + s[:-1]"
     ],
     "language": "python",
     "metadata": {},
     "outputs": [
      {
       "metadata": {},
       "output_type": "pyout",
       "prompt_number": 98,
       "text": [
        "a         NaN\n",
        "b    0.661011\n",
        "c    1.142750\n",
        "d   -1.547550\n",
        "e         NaN\n",
        "dtype: float64"
       ]
      }
     ],
     "prompt_number": 98
    },
    {
     "cell_type": "heading",
     "level": 3,
     "metadata": {},
     "source": [
      "Name attribute"
     ]
    },
    {
     "cell_type": "code",
     "collapsed": false,
     "input": [
      "s = Series(np.random.randn(5), name='something')\n",
      "s.name"
     ],
     "language": "python",
     "metadata": {},
     "outputs": [
      {
       "metadata": {},
       "output_type": "pyout",
       "prompt_number": 99,
       "text": [
        "'something'"
       ]
      }
     ],
     "prompt_number": 99
    },
    {
     "cell_type": "heading",
     "level": 2,
     "metadata": {},
     "source": [
      "DataFrame"
     ]
    },
    {
     "cell_type": "markdown",
     "metadata": {},
     "source": [
      "Accepted init data\n",
      "- Dict of 1D ndarrays, lists, dicts, or Series\n",
      "- 2-D numpy.ndarray\n",
      "- Structured or record ndarray\n",
      "- A Series\n",
      "- Another DataFrame"
     ]
    },
    {
     "cell_type": "code",
     "collapsed": false,
     "input": [
      "# From dict of Series or dicts\n",
      "d = {'one' : Series([1., 2., 3.], index=['a', 'b', 'c']),\n",
      "     'two' : Series([1., 2., 3., 4.], index=['a', 'b', 'c', 'd'])}\n",
      "df = DataFrame(d)\n",
      "df"
     ],
     "language": "python",
     "metadata": {},
     "outputs": [
      {
       "html": [
        "<div style=\"max-height:1000px;max-width:1500px;overflow:auto;\">\n",
        "<table border=\"1\" class=\"dataframe\">\n",
        "  <thead>\n",
        "    <tr style=\"text-align: right;\">\n",
        "      <th></th>\n",
        "      <th>one</th>\n",
        "      <th>two</th>\n",
        "    </tr>\n",
        "  </thead>\n",
        "  <tbody>\n",
        "    <tr>\n",
        "      <th>a</th>\n",
        "      <td>  1</td>\n",
        "      <td> 1</td>\n",
        "    </tr>\n",
        "    <tr>\n",
        "      <th>b</th>\n",
        "      <td>  2</td>\n",
        "      <td> 2</td>\n",
        "    </tr>\n",
        "    <tr>\n",
        "      <th>c</th>\n",
        "      <td>  3</td>\n",
        "      <td> 3</td>\n",
        "    </tr>\n",
        "    <tr>\n",
        "      <th>d</th>\n",
        "      <td>NaN</td>\n",
        "      <td> 4</td>\n",
        "    </tr>\n",
        "  </tbody>\n",
        "</table>\n",
        "</div>"
       ],
       "metadata": {},
       "output_type": "pyout",
       "prompt_number": 100,
       "text": [
        "   one  two\n",
        "a    1    1\n",
        "b    2    2\n",
        "c    3    3\n",
        "d  NaN    4"
       ]
      }
     ],
     "prompt_number": 100
    },
    {
     "cell_type": "code",
     "collapsed": false,
     "input": [
      "DataFrame(d, index=['d', 'b', 'a'])"
     ],
     "language": "python",
     "metadata": {},
     "outputs": [
      {
       "html": [
        "<div style=\"max-height:1000px;max-width:1500px;overflow:auto;\">\n",
        "<table border=\"1\" class=\"dataframe\">\n",
        "  <thead>\n",
        "    <tr style=\"text-align: right;\">\n",
        "      <th></th>\n",
        "      <th>one</th>\n",
        "      <th>two</th>\n",
        "    </tr>\n",
        "  </thead>\n",
        "  <tbody>\n",
        "    <tr>\n",
        "      <th>d</th>\n",
        "      <td>NaN</td>\n",
        "      <td> 4</td>\n",
        "    </tr>\n",
        "    <tr>\n",
        "      <th>b</th>\n",
        "      <td>  2</td>\n",
        "      <td> 2</td>\n",
        "    </tr>\n",
        "    <tr>\n",
        "      <th>a</th>\n",
        "      <td>  1</td>\n",
        "      <td> 1</td>\n",
        "    </tr>\n",
        "  </tbody>\n",
        "</table>\n",
        "</div>"
       ],
       "metadata": {},
       "output_type": "pyout",
       "prompt_number": 101,
       "text": [
        "   one  two\n",
        "d  NaN    4\n",
        "b    2    2\n",
        "a    1    1"
       ]
      }
     ],
     "prompt_number": 101
    },
    {
     "cell_type": "code",
     "collapsed": false,
     "input": [
      "DataFrame(d, index=['d', 'b', 'a'], columns=['two', 'three'])"
     ],
     "language": "python",
     "metadata": {},
     "outputs": [
      {
       "html": [
        "<div style=\"max-height:1000px;max-width:1500px;overflow:auto;\">\n",
        "<table border=\"1\" class=\"dataframe\">\n",
        "  <thead>\n",
        "    <tr style=\"text-align: right;\">\n",
        "      <th></th>\n",
        "      <th>two</th>\n",
        "      <th>three</th>\n",
        "    </tr>\n",
        "  </thead>\n",
        "  <tbody>\n",
        "    <tr>\n",
        "      <th>d</th>\n",
        "      <td> 4</td>\n",
        "      <td> NaN</td>\n",
        "    </tr>\n",
        "    <tr>\n",
        "      <th>b</th>\n",
        "      <td> 2</td>\n",
        "      <td> NaN</td>\n",
        "    </tr>\n",
        "    <tr>\n",
        "      <th>a</th>\n",
        "      <td> 1</td>\n",
        "      <td> NaN</td>\n",
        "    </tr>\n",
        "  </tbody>\n",
        "</table>\n",
        "</div>"
       ],
       "metadata": {},
       "output_type": "pyout",
       "prompt_number": 102,
       "text": [
        "   two three\n",
        "d    4   NaN\n",
        "b    2   NaN\n",
        "a    1   NaN"
       ]
      }
     ],
     "prompt_number": 102
    },
    {
     "cell_type": "code",
     "collapsed": false,
     "input": [
      "df.index"
     ],
     "language": "python",
     "metadata": {},
     "outputs": [
      {
       "metadata": {},
       "output_type": "pyout",
       "prompt_number": 103,
       "text": [
        "Index([u'a', u'b', u'c', u'd'], dtype='object')"
       ]
      }
     ],
     "prompt_number": 103
    },
    {
     "cell_type": "code",
     "collapsed": false,
     "input": [
      "df.columns"
     ],
     "language": "python",
     "metadata": {},
     "outputs": [
      {
       "metadata": {},
       "output_type": "pyout",
       "prompt_number": 104,
       "text": [
        "Index([u'one', u'two'], dtype='object')"
       ]
      }
     ],
     "prompt_number": 104
    },
    {
     "cell_type": "code",
     "collapsed": false,
     "input": [
      "# From dict of ndarrays / lists\n",
      "d = {'one' : [1., 2., 3., 4.],\n",
      "     'two' : [4., 3., 2., 1.]}\n",
      "DataFrame(d)"
     ],
     "language": "python",
     "metadata": {},
     "outputs": [
      {
       "html": [
        "<div style=\"max-height:1000px;max-width:1500px;overflow:auto;\">\n",
        "<table border=\"1\" class=\"dataframe\">\n",
        "  <thead>\n",
        "    <tr style=\"text-align: right;\">\n",
        "      <th></th>\n",
        "      <th>one</th>\n",
        "      <th>two</th>\n",
        "    </tr>\n",
        "  </thead>\n",
        "  <tbody>\n",
        "    <tr>\n",
        "      <th>0</th>\n",
        "      <td> 1</td>\n",
        "      <td> 4</td>\n",
        "    </tr>\n",
        "    <tr>\n",
        "      <th>1</th>\n",
        "      <td> 2</td>\n",
        "      <td> 3</td>\n",
        "    </tr>\n",
        "    <tr>\n",
        "      <th>2</th>\n",
        "      <td> 3</td>\n",
        "      <td> 2</td>\n",
        "    </tr>\n",
        "    <tr>\n",
        "      <th>3</th>\n",
        "      <td> 4</td>\n",
        "      <td> 1</td>\n",
        "    </tr>\n",
        "  </tbody>\n",
        "</table>\n",
        "</div>"
       ],
       "metadata": {},
       "output_type": "pyout",
       "prompt_number": 105,
       "text": [
        "   one  two\n",
        "0    1    4\n",
        "1    2    3\n",
        "2    3    2\n",
        "3    4    1"
       ]
      }
     ],
     "prompt_number": 105
    },
    {
     "cell_type": "code",
     "collapsed": false,
     "input": [
      "DataFrame(d, index=['a', 'b', 'c', 'd'])"
     ],
     "language": "python",
     "metadata": {},
     "outputs": [
      {
       "html": [
        "<div style=\"max-height:1000px;max-width:1500px;overflow:auto;\">\n",
        "<table border=\"1\" class=\"dataframe\">\n",
        "  <thead>\n",
        "    <tr style=\"text-align: right;\">\n",
        "      <th></th>\n",
        "      <th>one</th>\n",
        "      <th>two</th>\n",
        "    </tr>\n",
        "  </thead>\n",
        "  <tbody>\n",
        "    <tr>\n",
        "      <th>a</th>\n",
        "      <td> 1</td>\n",
        "      <td> 4</td>\n",
        "    </tr>\n",
        "    <tr>\n",
        "      <th>b</th>\n",
        "      <td> 2</td>\n",
        "      <td> 3</td>\n",
        "    </tr>\n",
        "    <tr>\n",
        "      <th>c</th>\n",
        "      <td> 3</td>\n",
        "      <td> 2</td>\n",
        "    </tr>\n",
        "    <tr>\n",
        "      <th>d</th>\n",
        "      <td> 4</td>\n",
        "      <td> 1</td>\n",
        "    </tr>\n",
        "  </tbody>\n",
        "</table>\n",
        "</div>"
       ],
       "metadata": {},
       "output_type": "pyout",
       "prompt_number": 106,
       "text": [
        "   one  two\n",
        "a    1    4\n",
        "b    2    3\n",
        "c    3    2\n",
        "d    4    1"
       ]
      }
     ],
     "prompt_number": 106
    },
    {
     "cell_type": "code",
     "collapsed": false,
     "input": [
      "# From structured or record array\n",
      "data = np.zeros((2,), dtype=[('A', 'i4'), ('B', 'f4'), ('C', 'a10')])\n",
      "data"
     ],
     "language": "python",
     "metadata": {},
     "outputs": [
      {
       "metadata": {},
       "output_type": "pyout",
       "prompt_number": 107,
       "text": [
        "array([(0, 0.0, ''), (0, 0.0, '')], \n",
        "      dtype=[('A', '<i4'), ('B', '<f4'), ('C', 'S10')])"
       ]
      }
     ],
     "prompt_number": 107
    },
    {
     "cell_type": "code",
     "collapsed": false,
     "input": [
      "data[:] = [(1,2.,'Hello'), (2, 3., 'World')]\n",
      "data"
     ],
     "language": "python",
     "metadata": {},
     "outputs": [
      {
       "metadata": {},
       "output_type": "pyout",
       "prompt_number": 108,
       "text": [
        "array([(1, 2.0, 'Hello'), (2, 3.0, 'World')], \n",
        "      dtype=[('A', '<i4'), ('B', '<f4'), ('C', 'S10')])"
       ]
      }
     ],
     "prompt_number": 108
    },
    {
     "cell_type": "code",
     "collapsed": false,
     "input": [
      "DataFrame(data)"
     ],
     "language": "python",
     "metadata": {},
     "outputs": [
      {
       "html": [
        "<div style=\"max-height:1000px;max-width:1500px;overflow:auto;\">\n",
        "<table border=\"1\" class=\"dataframe\">\n",
        "  <thead>\n",
        "    <tr style=\"text-align: right;\">\n",
        "      <th></th>\n",
        "      <th>A</th>\n",
        "      <th>B</th>\n",
        "      <th>C</th>\n",
        "    </tr>\n",
        "  </thead>\n",
        "  <tbody>\n",
        "    <tr>\n",
        "      <th>0</th>\n",
        "      <td> 1</td>\n",
        "      <td> 2</td>\n",
        "      <td> Hello</td>\n",
        "    </tr>\n",
        "    <tr>\n",
        "      <th>1</th>\n",
        "      <td> 2</td>\n",
        "      <td> 3</td>\n",
        "      <td> World</td>\n",
        "    </tr>\n",
        "  </tbody>\n",
        "</table>\n",
        "</div>"
       ],
       "metadata": {},
       "output_type": "pyout",
       "prompt_number": 109,
       "text": [
        "   A  B      C\n",
        "0  1  2  Hello\n",
        "1  2  3  World"
       ]
      }
     ],
     "prompt_number": 109
    },
    {
     "cell_type": "code",
     "collapsed": false,
     "input": [
      "DataFrame(data, index=['first', 'second'])"
     ],
     "language": "python",
     "metadata": {},
     "outputs": [
      {
       "html": [
        "<div style=\"max-height:1000px;max-width:1500px;overflow:auto;\">\n",
        "<table border=\"1\" class=\"dataframe\">\n",
        "  <thead>\n",
        "    <tr style=\"text-align: right;\">\n",
        "      <th></th>\n",
        "      <th>A</th>\n",
        "      <th>B</th>\n",
        "      <th>C</th>\n",
        "    </tr>\n",
        "  </thead>\n",
        "  <tbody>\n",
        "    <tr>\n",
        "      <th>first</th>\n",
        "      <td> 1</td>\n",
        "      <td> 2</td>\n",
        "      <td> Hello</td>\n",
        "    </tr>\n",
        "    <tr>\n",
        "      <th>second</th>\n",
        "      <td> 2</td>\n",
        "      <td> 3</td>\n",
        "      <td> World</td>\n",
        "    </tr>\n",
        "  </tbody>\n",
        "</table>\n",
        "</div>"
       ],
       "metadata": {},
       "output_type": "pyout",
       "prompt_number": 110,
       "text": [
        "        A  B      C\n",
        "first   1  2  Hello\n",
        "second  2  3  World"
       ]
      }
     ],
     "prompt_number": 110
    },
    {
     "cell_type": "code",
     "collapsed": false,
     "input": [
      "DataFrame(data, columns=['C', 'A', 'B'])"
     ],
     "language": "python",
     "metadata": {},
     "outputs": [
      {
       "html": [
        "<div style=\"max-height:1000px;max-width:1500px;overflow:auto;\">\n",
        "<table border=\"1\" class=\"dataframe\">\n",
        "  <thead>\n",
        "    <tr style=\"text-align: right;\">\n",
        "      <th></th>\n",
        "      <th>C</th>\n",
        "      <th>A</th>\n",
        "      <th>B</th>\n",
        "    </tr>\n",
        "  </thead>\n",
        "  <tbody>\n",
        "    <tr>\n",
        "      <th>0</th>\n",
        "      <td> Hello</td>\n",
        "      <td> 1</td>\n",
        "      <td> 2</td>\n",
        "    </tr>\n",
        "    <tr>\n",
        "      <th>1</th>\n",
        "      <td> World</td>\n",
        "      <td> 2</td>\n",
        "      <td> 3</td>\n",
        "    </tr>\n",
        "  </tbody>\n",
        "</table>\n",
        "</div>"
       ],
       "metadata": {},
       "output_type": "pyout",
       "prompt_number": 111,
       "text": [
        "       C  A  B\n",
        "0  Hello  1  2\n",
        "1  World  2  3"
       ]
      }
     ],
     "prompt_number": 111
    },
    {
     "cell_type": "code",
     "collapsed": false,
     "input": [
      "# From a list of dicts\n",
      "data2 = [{'a': 1, 'b': 2}, {'a': 5, 'b': 10, 'c': 20}]\n",
      "DataFrame(data2)"
     ],
     "language": "python",
     "metadata": {},
     "outputs": [
      {
       "html": [
        "<div style=\"max-height:1000px;max-width:1500px;overflow:auto;\">\n",
        "<table border=\"1\" class=\"dataframe\">\n",
        "  <thead>\n",
        "    <tr style=\"text-align: right;\">\n",
        "      <th></th>\n",
        "      <th>a</th>\n",
        "      <th>b</th>\n",
        "      <th>c</th>\n",
        "    </tr>\n",
        "  </thead>\n",
        "  <tbody>\n",
        "    <tr>\n",
        "      <th>0</th>\n",
        "      <td> 1</td>\n",
        "      <td>  2</td>\n",
        "      <td>NaN</td>\n",
        "    </tr>\n",
        "    <tr>\n",
        "      <th>1</th>\n",
        "      <td> 5</td>\n",
        "      <td> 10</td>\n",
        "      <td> 20</td>\n",
        "    </tr>\n",
        "  </tbody>\n",
        "</table>\n",
        "</div>"
       ],
       "metadata": {},
       "output_type": "pyout",
       "prompt_number": 112,
       "text": [
        "   a   b   c\n",
        "0  1   2 NaN\n",
        "1  5  10  20"
       ]
      }
     ],
     "prompt_number": 112
    },
    {
     "cell_type": "code",
     "collapsed": false,
     "input": [
      "DataFrame(data2, index=['first', 'second'])"
     ],
     "language": "python",
     "metadata": {},
     "outputs": [
      {
       "html": [
        "<div style=\"max-height:1000px;max-width:1500px;overflow:auto;\">\n",
        "<table border=\"1\" class=\"dataframe\">\n",
        "  <thead>\n",
        "    <tr style=\"text-align: right;\">\n",
        "      <th></th>\n",
        "      <th>a</th>\n",
        "      <th>b</th>\n",
        "      <th>c</th>\n",
        "    </tr>\n",
        "  </thead>\n",
        "  <tbody>\n",
        "    <tr>\n",
        "      <th>first</th>\n",
        "      <td> 1</td>\n",
        "      <td>  2</td>\n",
        "      <td>NaN</td>\n",
        "    </tr>\n",
        "    <tr>\n",
        "      <th>second</th>\n",
        "      <td> 5</td>\n",
        "      <td> 10</td>\n",
        "      <td> 20</td>\n",
        "    </tr>\n",
        "  </tbody>\n",
        "</table>\n",
        "</div>"
       ],
       "metadata": {},
       "output_type": "pyout",
       "prompt_number": 113,
       "text": [
        "        a   b   c\n",
        "first   1   2 NaN\n",
        "second  5  10  20"
       ]
      }
     ],
     "prompt_number": 113
    },
    {
     "cell_type": "code",
     "collapsed": false,
     "input": [
      "DataFrame(data2, columns=['a', 'b'])"
     ],
     "language": "python",
     "metadata": {},
     "outputs": [
      {
       "html": [
        "<div style=\"max-height:1000px;max-width:1500px;overflow:auto;\">\n",
        "<table border=\"1\" class=\"dataframe\">\n",
        "  <thead>\n",
        "    <tr style=\"text-align: right;\">\n",
        "      <th></th>\n",
        "      <th>a</th>\n",
        "      <th>b</th>\n",
        "    </tr>\n",
        "  </thead>\n",
        "  <tbody>\n",
        "    <tr>\n",
        "      <th>0</th>\n",
        "      <td> 1</td>\n",
        "      <td>  2</td>\n",
        "    </tr>\n",
        "    <tr>\n",
        "      <th>1</th>\n",
        "      <td> 5</td>\n",
        "      <td> 10</td>\n",
        "    </tr>\n",
        "  </tbody>\n",
        "</table>\n",
        "</div>"
       ],
       "metadata": {},
       "output_type": "pyout",
       "prompt_number": 114,
       "text": [
        "   a   b\n",
        "0  1   2\n",
        "1  5  10"
       ]
      }
     ],
     "prompt_number": 114
    },
    {
     "cell_type": "code",
     "collapsed": false,
     "input": [
      "# From a dict of tuples for multi=indexed frame\n",
      "DataFrame({('a', 'b'): {('A', 'B'): 1, ('A', 'C'): 2},\n",
      "           ('a', 'a'): {('A', 'C'): 3, ('A', 'B'): 4},\n",
      "           ('a', 'c'): {('A', 'B'): 5, ('A', 'C'): 6},\n",
      "           ('b', 'a'): {('A', 'C'): 7, ('A', 'B'): 8},\n",
      "           ('b', 'b'): {('A', 'D'): 9, ('A', 'B'): 10}})"
     ],
     "language": "python",
     "metadata": {},
     "outputs": [
      {
       "html": [
        "<div style=\"max-height:1000px;max-width:1500px;overflow:auto;\">\n",
        "<table border=\"1\" class=\"dataframe\">\n",
        "  <thead>\n",
        "    <tr>\n",
        "      <th></th>\n",
        "      <th></th>\n",
        "      <th colspan=\"3\" halign=\"left\">a</th>\n",
        "      <th colspan=\"2\" halign=\"left\">b</th>\n",
        "    </tr>\n",
        "    <tr>\n",
        "      <th></th>\n",
        "      <th></th>\n",
        "      <th>a</th>\n",
        "      <th>b</th>\n",
        "      <th>c</th>\n",
        "      <th>a</th>\n",
        "      <th>b</th>\n",
        "    </tr>\n",
        "  </thead>\n",
        "  <tbody>\n",
        "    <tr>\n",
        "      <th rowspan=\"3\" valign=\"top\">A</th>\n",
        "      <th>B</th>\n",
        "      <td>  4</td>\n",
        "      <td>  1</td>\n",
        "      <td>  5</td>\n",
        "      <td>  8</td>\n",
        "      <td> 10</td>\n",
        "    </tr>\n",
        "    <tr>\n",
        "      <th>C</th>\n",
        "      <td>  3</td>\n",
        "      <td>  2</td>\n",
        "      <td>  6</td>\n",
        "      <td>  7</td>\n",
        "      <td>NaN</td>\n",
        "    </tr>\n",
        "    <tr>\n",
        "      <th>D</th>\n",
        "      <td>NaN</td>\n",
        "      <td>NaN</td>\n",
        "      <td>NaN</td>\n",
        "      <td>NaN</td>\n",
        "      <td>  9</td>\n",
        "    </tr>\n",
        "  </tbody>\n",
        "</table>\n",
        "</div>"
       ],
       "metadata": {},
       "output_type": "pyout",
       "prompt_number": 115,
       "text": [
        "      a           b    \n",
        "      a   b   c   a   b\n",
        "A B   4   1   5   8  10\n",
        "  C   3   2   6   7 NaN\n",
        "  D NaN NaN NaN NaN   9"
       ]
      }
     ],
     "prompt_number": 115
    },
    {
     "cell_type": "code",
     "collapsed": false,
     "input": [
      "# From a Series\n",
      "DataFrame(s)"
     ],
     "language": "python",
     "metadata": {},
     "outputs": [
      {
       "html": [
        "<div style=\"max-height:1000px;max-width:1500px;overflow:auto;\">\n",
        "<table border=\"1\" class=\"dataframe\">\n",
        "  <thead>\n",
        "    <tr style=\"text-align: right;\">\n",
        "      <th></th>\n",
        "      <th>something</th>\n",
        "    </tr>\n",
        "  </thead>\n",
        "  <tbody>\n",
        "    <tr>\n",
        "      <th>0</th>\n",
        "      <td>-0.039036</td>\n",
        "    </tr>\n",
        "    <tr>\n",
        "      <th>1</th>\n",
        "      <td>-1.128115</td>\n",
        "    </tr>\n",
        "    <tr>\n",
        "      <th>2</th>\n",
        "      <td> 0.095294</td>\n",
        "    </tr>\n",
        "    <tr>\n",
        "      <th>3</th>\n",
        "      <td> 1.612357</td>\n",
        "    </tr>\n",
        "    <tr>\n",
        "      <th>4</th>\n",
        "      <td>-0.303165</td>\n",
        "    </tr>\n",
        "  </tbody>\n",
        "</table>\n",
        "</div>"
       ],
       "metadata": {},
       "output_type": "pyout",
       "prompt_number": 116,
       "text": [
        "   something\n",
        "0  -0.039036\n",
        "1  -1.128115\n",
        "2   0.095294\n",
        "3   1.612357\n",
        "4  -0.303165"
       ]
      }
     ],
     "prompt_number": 116
    },
    {
     "cell_type": "heading",
     "level": 3,
     "metadata": {},
     "source": [
      "Alternate Constructors"
     ]
    },
    {
     "cell_type": "code",
     "collapsed": false,
     "input": [
      "# DataFrame.from_records\n",
      "DataFrame.from_records(data, index='C')"
     ],
     "language": "python",
     "metadata": {},
     "outputs": [
      {
       "html": [
        "<div style=\"max-height:1000px;max-width:1500px;overflow:auto;\">\n",
        "<table border=\"1\" class=\"dataframe\">\n",
        "  <thead>\n",
        "    <tr style=\"text-align: right;\">\n",
        "      <th></th>\n",
        "      <th>A</th>\n",
        "      <th>B</th>\n",
        "    </tr>\n",
        "    <tr>\n",
        "      <th>C</th>\n",
        "      <th></th>\n",
        "      <th></th>\n",
        "    </tr>\n",
        "  </thead>\n",
        "  <tbody>\n",
        "    <tr>\n",
        "      <th>Hello</th>\n",
        "      <td> 1</td>\n",
        "      <td> 2</td>\n",
        "    </tr>\n",
        "    <tr>\n",
        "      <th>World</th>\n",
        "      <td> 2</td>\n",
        "      <td> 3</td>\n",
        "    </tr>\n",
        "  </tbody>\n",
        "</table>\n",
        "</div>"
       ],
       "metadata": {},
       "output_type": "pyout",
       "prompt_number": 117,
       "text": [
        "       A  B\n",
        "C          \n",
        "Hello  1  2\n",
        "World  2  3"
       ]
      }
     ],
     "prompt_number": 117
    },
    {
     "cell_type": "code",
     "collapsed": false,
     "input": [
      "# DataFrame.from_items\n",
      "DataFrame.from_items([('A', [1, 2, 3]), ('B', [4, 5, 6])])"
     ],
     "language": "python",
     "metadata": {},
     "outputs": [
      {
       "html": [
        "<div style=\"max-height:1000px;max-width:1500px;overflow:auto;\">\n",
        "<table border=\"1\" class=\"dataframe\">\n",
        "  <thead>\n",
        "    <tr style=\"text-align: right;\">\n",
        "      <th></th>\n",
        "      <th>A</th>\n",
        "      <th>B</th>\n",
        "    </tr>\n",
        "  </thead>\n",
        "  <tbody>\n",
        "    <tr>\n",
        "      <th>0</th>\n",
        "      <td> 1</td>\n",
        "      <td> 4</td>\n",
        "    </tr>\n",
        "    <tr>\n",
        "      <th>1</th>\n",
        "      <td> 2</td>\n",
        "      <td> 5</td>\n",
        "    </tr>\n",
        "    <tr>\n",
        "      <th>2</th>\n",
        "      <td> 3</td>\n",
        "      <td> 6</td>\n",
        "    </tr>\n",
        "  </tbody>\n",
        "</table>\n",
        "</div>"
       ],
       "metadata": {},
       "output_type": "pyout",
       "prompt_number": 118,
       "text": [
        "   A  B\n",
        "0  1  4\n",
        "1  2  5\n",
        "2  3  6"
       ]
      }
     ],
     "prompt_number": 118
    },
    {
     "cell_type": "code",
     "collapsed": false,
     "input": [
      "DataFrame.from_items([('A', [1, 2, 3]), ('B', [4, 5, 6])],\n",
      "                     orient='index', columns=['one', 'two', 'three'])"
     ],
     "language": "python",
     "metadata": {},
     "outputs": [
      {
       "html": [
        "<div style=\"max-height:1000px;max-width:1500px;overflow:auto;\">\n",
        "<table border=\"1\" class=\"dataframe\">\n",
        "  <thead>\n",
        "    <tr style=\"text-align: right;\">\n",
        "      <th></th>\n",
        "      <th>one</th>\n",
        "      <th>two</th>\n",
        "      <th>three</th>\n",
        "    </tr>\n",
        "  </thead>\n",
        "  <tbody>\n",
        "    <tr>\n",
        "      <th>A</th>\n",
        "      <td> 1</td>\n",
        "      <td> 2</td>\n",
        "      <td> 3</td>\n",
        "    </tr>\n",
        "    <tr>\n",
        "      <th>B</th>\n",
        "      <td> 4</td>\n",
        "      <td> 5</td>\n",
        "      <td> 6</td>\n",
        "    </tr>\n",
        "  </tbody>\n",
        "</table>\n",
        "</div>"
       ],
       "metadata": {},
       "output_type": "pyout",
       "prompt_number": 119,
       "text": [
        "   one  two  three\n",
        "A    1    2      3\n",
        "B    4    5      6"
       ]
      }
     ],
     "prompt_number": 119
    },
    {
     "cell_type": "heading",
     "level": 3,
     "metadata": {},
     "source": [
      "Column selection, addition, deletion"
     ]
    },
    {
     "cell_type": "code",
     "collapsed": false,
     "input": [
      "df['one']"
     ],
     "language": "python",
     "metadata": {},
     "outputs": [
      {
       "metadata": {},
       "output_type": "pyout",
       "prompt_number": 120,
       "text": [
        "a     1\n",
        "b     2\n",
        "c     3\n",
        "d   NaN\n",
        "Name: one, dtype: float64"
       ]
      }
     ],
     "prompt_number": 120
    },
    {
     "cell_type": "code",
     "collapsed": false,
     "input": [
      "df['three'] = df['one'] * df['two']\n",
      "df['flag'] = df['one'] > 2\n",
      "df"
     ],
     "language": "python",
     "metadata": {},
     "outputs": [
      {
       "html": [
        "<div style=\"max-height:1000px;max-width:1500px;overflow:auto;\">\n",
        "<table border=\"1\" class=\"dataframe\">\n",
        "  <thead>\n",
        "    <tr style=\"text-align: right;\">\n",
        "      <th></th>\n",
        "      <th>one</th>\n",
        "      <th>two</th>\n",
        "      <th>three</th>\n",
        "      <th>flag</th>\n",
        "    </tr>\n",
        "  </thead>\n",
        "  <tbody>\n",
        "    <tr>\n",
        "      <th>a</th>\n",
        "      <td>  1</td>\n",
        "      <td> 1</td>\n",
        "      <td>  1</td>\n",
        "      <td> False</td>\n",
        "    </tr>\n",
        "    <tr>\n",
        "      <th>b</th>\n",
        "      <td>  2</td>\n",
        "      <td> 2</td>\n",
        "      <td>  4</td>\n",
        "      <td> False</td>\n",
        "    </tr>\n",
        "    <tr>\n",
        "      <th>c</th>\n",
        "      <td>  3</td>\n",
        "      <td> 3</td>\n",
        "      <td>  9</td>\n",
        "      <td>  True</td>\n",
        "    </tr>\n",
        "    <tr>\n",
        "      <th>d</th>\n",
        "      <td>NaN</td>\n",
        "      <td> 4</td>\n",
        "      <td>NaN</td>\n",
        "      <td> False</td>\n",
        "    </tr>\n",
        "  </tbody>\n",
        "</table>\n",
        "</div>"
       ],
       "metadata": {},
       "output_type": "pyout",
       "prompt_number": 121,
       "text": [
        "   one  two  three   flag\n",
        "a    1    1      1  False\n",
        "b    2    2      4  False\n",
        "c    3    3      9   True\n",
        "d  NaN    4    NaN  False"
       ]
      }
     ],
     "prompt_number": 121
    },
    {
     "cell_type": "code",
     "collapsed": false,
     "input": [
      "del df['two']\n",
      "three = df.pop('three')\n",
      "df"
     ],
     "language": "python",
     "metadata": {},
     "outputs": [
      {
       "html": [
        "<div style=\"max-height:1000px;max-width:1500px;overflow:auto;\">\n",
        "<table border=\"1\" class=\"dataframe\">\n",
        "  <thead>\n",
        "    <tr style=\"text-align: right;\">\n",
        "      <th></th>\n",
        "      <th>one</th>\n",
        "      <th>flag</th>\n",
        "    </tr>\n",
        "  </thead>\n",
        "  <tbody>\n",
        "    <tr>\n",
        "      <th>a</th>\n",
        "      <td>  1</td>\n",
        "      <td> False</td>\n",
        "    </tr>\n",
        "    <tr>\n",
        "      <th>b</th>\n",
        "      <td>  2</td>\n",
        "      <td> False</td>\n",
        "    </tr>\n",
        "    <tr>\n",
        "      <th>c</th>\n",
        "      <td>  3</td>\n",
        "      <td>  True</td>\n",
        "    </tr>\n",
        "    <tr>\n",
        "      <th>d</th>\n",
        "      <td>NaN</td>\n",
        "      <td> False</td>\n",
        "    </tr>\n",
        "  </tbody>\n",
        "</table>\n",
        "</div>"
       ],
       "metadata": {},
       "output_type": "pyout",
       "prompt_number": 122,
       "text": [
        "   one   flag\n",
        "a    1  False\n",
        "b    2  False\n",
        "c    3   True\n",
        "d  NaN  False"
       ]
      }
     ],
     "prompt_number": 122
    },
    {
     "cell_type": "code",
     "collapsed": false,
     "input": [
      "#del df['k']"
     ],
     "language": "python",
     "metadata": {},
     "outputs": [],
     "prompt_number": 123
    },
    {
     "cell_type": "code",
     "collapsed": false,
     "input": [
      "#df.pop('k')"
     ],
     "language": "python",
     "metadata": {},
     "outputs": [],
     "prompt_number": 124
    },
    {
     "cell_type": "code",
     "collapsed": false,
     "input": [
      "# inserting a scalar value\n",
      "df['foo'] = 'bar'\n",
      "df"
     ],
     "language": "python",
     "metadata": {},
     "outputs": [
      {
       "html": [
        "<div style=\"max-height:1000px;max-width:1500px;overflow:auto;\">\n",
        "<table border=\"1\" class=\"dataframe\">\n",
        "  <thead>\n",
        "    <tr style=\"text-align: right;\">\n",
        "      <th></th>\n",
        "      <th>one</th>\n",
        "      <th>flag</th>\n",
        "      <th>foo</th>\n",
        "    </tr>\n",
        "  </thead>\n",
        "  <tbody>\n",
        "    <tr>\n",
        "      <th>a</th>\n",
        "      <td>  1</td>\n",
        "      <td> False</td>\n",
        "      <td> bar</td>\n",
        "    </tr>\n",
        "    <tr>\n",
        "      <th>b</th>\n",
        "      <td>  2</td>\n",
        "      <td> False</td>\n",
        "      <td> bar</td>\n",
        "    </tr>\n",
        "    <tr>\n",
        "      <th>c</th>\n",
        "      <td>  3</td>\n",
        "      <td>  True</td>\n",
        "      <td> bar</td>\n",
        "    </tr>\n",
        "    <tr>\n",
        "      <th>d</th>\n",
        "      <td>NaN</td>\n",
        "      <td> False</td>\n",
        "      <td> bar</td>\n",
        "    </tr>\n",
        "  </tbody>\n",
        "</table>\n",
        "</div>"
       ],
       "metadata": {},
       "output_type": "pyout",
       "prompt_number": 125,
       "text": [
        "   one   flag  foo\n",
        "a    1  False  bar\n",
        "b    2  False  bar\n",
        "c    3   True  bar\n",
        "d  NaN  False  bar"
       ]
      }
     ],
     "prompt_number": 125
    },
    {
     "cell_type": "code",
     "collapsed": false,
     "input": [
      "# fill NAN for index not found\n",
      "df['one_trunc'] = df['one'][:2]\n",
      "df"
     ],
     "language": "python",
     "metadata": {},
     "outputs": [
      {
       "html": [
        "<div style=\"max-height:1000px;max-width:1500px;overflow:auto;\">\n",
        "<table border=\"1\" class=\"dataframe\">\n",
        "  <thead>\n",
        "    <tr style=\"text-align: right;\">\n",
        "      <th></th>\n",
        "      <th>one</th>\n",
        "      <th>flag</th>\n",
        "      <th>foo</th>\n",
        "      <th>one_trunc</th>\n",
        "    </tr>\n",
        "  </thead>\n",
        "  <tbody>\n",
        "    <tr>\n",
        "      <th>a</th>\n",
        "      <td>  1</td>\n",
        "      <td> False</td>\n",
        "      <td> bar</td>\n",
        "      <td>  1</td>\n",
        "    </tr>\n",
        "    <tr>\n",
        "      <th>b</th>\n",
        "      <td>  2</td>\n",
        "      <td> False</td>\n",
        "      <td> bar</td>\n",
        "      <td>  2</td>\n",
        "    </tr>\n",
        "    <tr>\n",
        "      <th>c</th>\n",
        "      <td>  3</td>\n",
        "      <td>  True</td>\n",
        "      <td> bar</td>\n",
        "      <td>NaN</td>\n",
        "    </tr>\n",
        "    <tr>\n",
        "      <th>d</th>\n",
        "      <td>NaN</td>\n",
        "      <td> False</td>\n",
        "      <td> bar</td>\n",
        "      <td>NaN</td>\n",
        "    </tr>\n",
        "  </tbody>\n",
        "</table>\n",
        "</div>"
       ],
       "metadata": {},
       "output_type": "pyout",
       "prompt_number": 126,
       "text": [
        "   one   flag  foo  one_trunc\n",
        "a    1  False  bar          1\n",
        "b    2  False  bar          2\n",
        "c    3   True  bar        NaN\n",
        "d  NaN  False  bar        NaN"
       ]
      }
     ],
     "prompt_number": 126
    },
    {
     "cell_type": "code",
     "collapsed": false,
     "input": [
      "# insert with specific pos\n",
      "if df.get('bar') is not None:\n",
      "    df.pop('bar')\n",
      "df.insert(1, 'bar', df['one'])\n",
      "df"
     ],
     "language": "python",
     "metadata": {},
     "outputs": [
      {
       "html": [
        "<div style=\"max-height:1000px;max-width:1500px;overflow:auto;\">\n",
        "<table border=\"1\" class=\"dataframe\">\n",
        "  <thead>\n",
        "    <tr style=\"text-align: right;\">\n",
        "      <th></th>\n",
        "      <th>one</th>\n",
        "      <th>bar</th>\n",
        "      <th>flag</th>\n",
        "      <th>foo</th>\n",
        "      <th>one_trunc</th>\n",
        "    </tr>\n",
        "  </thead>\n",
        "  <tbody>\n",
        "    <tr>\n",
        "      <th>a</th>\n",
        "      <td>  1</td>\n",
        "      <td>  1</td>\n",
        "      <td> False</td>\n",
        "      <td> bar</td>\n",
        "      <td>  1</td>\n",
        "    </tr>\n",
        "    <tr>\n",
        "      <th>b</th>\n",
        "      <td>  2</td>\n",
        "      <td>  2</td>\n",
        "      <td> False</td>\n",
        "      <td> bar</td>\n",
        "      <td>  2</td>\n",
        "    </tr>\n",
        "    <tr>\n",
        "      <th>c</th>\n",
        "      <td>  3</td>\n",
        "      <td>  3</td>\n",
        "      <td>  True</td>\n",
        "      <td> bar</td>\n",
        "      <td>NaN</td>\n",
        "    </tr>\n",
        "    <tr>\n",
        "      <th>d</th>\n",
        "      <td>NaN</td>\n",
        "      <td>NaN</td>\n",
        "      <td> False</td>\n",
        "      <td> bar</td>\n",
        "      <td>NaN</td>\n",
        "    </tr>\n",
        "  </tbody>\n",
        "</table>\n",
        "</div>"
       ],
       "metadata": {},
       "output_type": "pyout",
       "prompt_number": 127,
       "text": [
        "   one  bar   flag  foo  one_trunc\n",
        "a    1    1  False  bar          1\n",
        "b    2    2  False  bar          2\n",
        "c    3    3   True  bar        NaN\n",
        "d  NaN  NaN  False  bar        NaN"
       ]
      }
     ],
     "prompt_number": 127
    },
    {
     "cell_type": "heading",
     "level": 3,
     "metadata": {},
     "source": [
      "Indexing / Selection"
     ]
    },
    {
     "cell_type": "markdown",
     "metadata": {},
     "source": [
      "Operation|Syntax|Result\n",
      "-|-|-\n",
      "Select column|df[col]|Series\n",
      "Select row by label|df.loc[label]|Series\n",
      "Select row by integer location|df.iloc[loc]|Series\n",
      "Slice rows|df[5:10]|DataFrame\n",
      "Select rows by bollean vector|df[bool_vec]|DataFrame"
     ]
    },
    {
     "cell_type": "code",
     "collapsed": false,
     "input": [
      "df.loc['b']"
     ],
     "language": "python",
     "metadata": {},
     "outputs": [
      {
       "metadata": {},
       "output_type": "pyout",
       "prompt_number": 128,
       "text": [
        "one              2\n",
        "bar              2\n",
        "flag         False\n",
        "foo            bar\n",
        "one_trunc        2\n",
        "Name: b, dtype: object"
       ]
      }
     ],
     "prompt_number": 128
    },
    {
     "cell_type": "code",
     "collapsed": false,
     "input": [
      "df.iloc[2]"
     ],
     "language": "python",
     "metadata": {},
     "outputs": [
      {
       "metadata": {},
       "output_type": "pyout",
       "prompt_number": 130,
       "text": [
        "one             3\n",
        "bar             3\n",
        "flag         True\n",
        "foo           bar\n",
        "one_trunc     NaN\n",
        "Name: c, dtype: object"
       ]
      }
     ],
     "prompt_number": 130
    },
    {
     "cell_type": "markdown",
     "metadata": {},
     "source": [
      "Data alignment and arithmetic"
     ]
    },
    {
     "cell_type": "code",
     "collapsed": false,
     "input": [
      "df = DataFrame(randn(10, 4), columns=['A', 'B', 'C', 'D'])\n",
      "df2 = DataFrame(randn(7, 3), columns=['A', 'B', 'C'])\n",
      "df + df2"
     ],
     "language": "python",
     "metadata": {},
     "outputs": [
      {
       "html": [
        "<div style=\"max-height:1000px;max-width:1500px;overflow:auto;\">\n",
        "<table border=\"1\" class=\"dataframe\">\n",
        "  <thead>\n",
        "    <tr style=\"text-align: right;\">\n",
        "      <th></th>\n",
        "      <th>A</th>\n",
        "      <th>B</th>\n",
        "      <th>C</th>\n",
        "      <th>D</th>\n",
        "    </tr>\n",
        "  </thead>\n",
        "  <tbody>\n",
        "    <tr>\n",
        "      <th>0</th>\n",
        "      <td> 1.406633</td>\n",
        "      <td>-0.146890</td>\n",
        "      <td>-1.239732</td>\n",
        "      <td>NaN</td>\n",
        "    </tr>\n",
        "    <tr>\n",
        "      <th>1</th>\n",
        "      <td> 2.073000</td>\n",
        "      <td> 1.052876</td>\n",
        "      <td> 0.277868</td>\n",
        "      <td>NaN</td>\n",
        "    </tr>\n",
        "    <tr>\n",
        "      <th>2</th>\n",
        "      <td> 0.654084</td>\n",
        "      <td>-0.295452</td>\n",
        "      <td> 0.299775</td>\n",
        "      <td>NaN</td>\n",
        "    </tr>\n",
        "    <tr>\n",
        "      <th>3</th>\n",
        "      <td> 1.587825</td>\n",
        "      <td> 1.440701</td>\n",
        "      <td>-0.497583</td>\n",
        "      <td>NaN</td>\n",
        "    </tr>\n",
        "    <tr>\n",
        "      <th>4</th>\n",
        "      <td>-1.295674</td>\n",
        "      <td>-0.348759</td>\n",
        "      <td>-1.217330</td>\n",
        "      <td>NaN</td>\n",
        "    </tr>\n",
        "    <tr>\n",
        "      <th>5</th>\n",
        "      <td>-1.831036</td>\n",
        "      <td>-1.185819</td>\n",
        "      <td>-0.227600</td>\n",
        "      <td>NaN</td>\n",
        "    </tr>\n",
        "    <tr>\n",
        "      <th>6</th>\n",
        "      <td>-1.763921</td>\n",
        "      <td>-2.451368</td>\n",
        "      <td> 0.966261</td>\n",
        "      <td>NaN</td>\n",
        "    </tr>\n",
        "    <tr>\n",
        "      <th>7</th>\n",
        "      <td>      NaN</td>\n",
        "      <td>      NaN</td>\n",
        "      <td>      NaN</td>\n",
        "      <td>NaN</td>\n",
        "    </tr>\n",
        "    <tr>\n",
        "      <th>8</th>\n",
        "      <td>      NaN</td>\n",
        "      <td>      NaN</td>\n",
        "      <td>      NaN</td>\n",
        "      <td>NaN</td>\n",
        "    </tr>\n",
        "    <tr>\n",
        "      <th>9</th>\n",
        "      <td>      NaN</td>\n",
        "      <td>      NaN</td>\n",
        "      <td>      NaN</td>\n",
        "      <td>NaN</td>\n",
        "    </tr>\n",
        "  </tbody>\n",
        "</table>\n",
        "</div>"
       ],
       "metadata": {},
       "output_type": "pyout",
       "prompt_number": 133,
       "text": [
        "          A         B         C   D\n",
        "0  1.406633 -0.146890 -1.239732 NaN\n",
        "1  2.073000  1.052876  0.277868 NaN\n",
        "2  0.654084 -0.295452  0.299775 NaN\n",
        "3  1.587825  1.440701 -0.497583 NaN\n",
        "4 -1.295674 -0.348759 -1.217330 NaN\n",
        "5 -1.831036 -1.185819 -0.227600 NaN\n",
        "6 -1.763921 -2.451368  0.966261 NaN\n",
        "7       NaN       NaN       NaN NaN\n",
        "8       NaN       NaN       NaN NaN\n",
        "9       NaN       NaN       NaN NaN"
       ]
      }
     ],
     "prompt_number": 133
    },
    {
     "cell_type": "code",
     "collapsed": false,
     "input": [
      "# broadcasting by Series\n",
      "df - df.iloc[0]"
     ],
     "language": "python",
     "metadata": {},
     "outputs": [
      {
       "html": [
        "<div style=\"max-height:1000px;max-width:1500px;overflow:auto;\">\n",
        "<table border=\"1\" class=\"dataframe\">\n",
        "  <thead>\n",
        "    <tr style=\"text-align: right;\">\n",
        "      <th></th>\n",
        "      <th>A</th>\n",
        "      <th>B</th>\n",
        "      <th>C</th>\n",
        "      <th>D</th>\n",
        "    </tr>\n",
        "  </thead>\n",
        "  <tbody>\n",
        "    <tr>\n",
        "      <th>0</th>\n",
        "      <td> 0.000000</td>\n",
        "      <td> 0.000000</td>\n",
        "      <td> 0.000000</td>\n",
        "      <td> 0.000000</td>\n",
        "    </tr>\n",
        "    <tr>\n",
        "      <th>1</th>\n",
        "      <td>-0.314562</td>\n",
        "      <td> 0.321811</td>\n",
        "      <td> 0.589906</td>\n",
        "      <td> 0.419788</td>\n",
        "    </tr>\n",
        "    <tr>\n",
        "      <th>2</th>\n",
        "      <td>-0.962729</td>\n",
        "      <td>-0.084141</td>\n",
        "      <td>-0.101409</td>\n",
        "      <td> 0.185949</td>\n",
        "    </tr>\n",
        "    <tr>\n",
        "      <th>3</th>\n",
        "      <td>-0.735977</td>\n",
        "      <td> 1.250927</td>\n",
        "      <td> 0.078825</td>\n",
        "      <td> 2.128665</td>\n",
        "    </tr>\n",
        "    <tr>\n",
        "      <th>4</th>\n",
        "      <td>-2.080270</td>\n",
        "      <td>-1.280138</td>\n",
        "      <td> 0.720601</td>\n",
        "      <td>-0.315836</td>\n",
        "    </tr>\n",
        "    <tr>\n",
        "      <th>5</th>\n",
        "      <td>-2.761447</td>\n",
        "      <td>-0.766059</td>\n",
        "      <td> 1.058953</td>\n",
        "      <td> 2.457067</td>\n",
        "    </tr>\n",
        "    <tr>\n",
        "      <th>6</th>\n",
        "      <td>-3.133977</td>\n",
        "      <td>-2.501623</td>\n",
        "      <td> 0.653000</td>\n",
        "      <td>-0.833581</td>\n",
        "    </tr>\n",
        "    <tr>\n",
        "      <th>7</th>\n",
        "      <td>-1.685917</td>\n",
        "      <td> 0.843214</td>\n",
        "      <td>-0.841588</td>\n",
        "      <td>-0.920725</td>\n",
        "    </tr>\n",
        "    <tr>\n",
        "      <th>8</th>\n",
        "      <td>-2.385902</td>\n",
        "      <td>-0.300621</td>\n",
        "      <td> 1.168585</td>\n",
        "      <td> 0.227693</td>\n",
        "    </tr>\n",
        "    <tr>\n",
        "      <th>9</th>\n",
        "      <td>-1.012792</td>\n",
        "      <td>-0.873205</td>\n",
        "      <td> 0.717031</td>\n",
        "      <td> 0.228811</td>\n",
        "    </tr>\n",
        "  </tbody>\n",
        "</table>\n",
        "</div>"
       ],
       "metadata": {},
       "output_type": "pyout",
       "prompt_number": 135,
       "text": [
        "          A         B         C         D\n",
        "0  0.000000  0.000000  0.000000  0.000000\n",
        "1 -0.314562  0.321811  0.589906  0.419788\n",
        "2 -0.962729 -0.084141 -0.101409  0.185949\n",
        "3 -0.735977  1.250927  0.078825  2.128665\n",
        "4 -2.080270 -1.280138  0.720601 -0.315836\n",
        "5 -2.761447 -0.766059  1.058953  2.457067\n",
        "6 -3.133977 -2.501623  0.653000 -0.833581\n",
        "7 -1.685917  0.843214 -0.841588 -0.920725\n",
        "8 -2.385902 -0.300621  1.168585  0.227693\n",
        "9 -1.012792 -0.873205  0.717031  0.228811"
       ]
      }
     ],
     "prompt_number": 135
    },
    {
     "cell_type": "code",
     "collapsed": false,
     "input": [
      "index = date_range('1/1/2000', periods=8)\n",
      "df = DataFrame(randn(8, 3), index=index, columns=list('ABC'))\n",
      "df"
     ],
     "language": "python",
     "metadata": {},
     "outputs": [
      {
       "html": [
        "<div style=\"max-height:1000px;max-width:1500px;overflow:auto;\">\n",
        "<table border=\"1\" class=\"dataframe\">\n",
        "  <thead>\n",
        "    <tr style=\"text-align: right;\">\n",
        "      <th></th>\n",
        "      <th>A</th>\n",
        "      <th>B</th>\n",
        "      <th>C</th>\n",
        "    </tr>\n",
        "  </thead>\n",
        "  <tbody>\n",
        "    <tr>\n",
        "      <th>2000-01-01</th>\n",
        "      <td>-0.870241</td>\n",
        "      <td> 0.730203</td>\n",
        "      <td>-0.456700</td>\n",
        "    </tr>\n",
        "    <tr>\n",
        "      <th>2000-01-02</th>\n",
        "      <td>-0.247310</td>\n",
        "      <td>-0.175765</td>\n",
        "      <td>-0.000043</td>\n",
        "    </tr>\n",
        "    <tr>\n",
        "      <th>2000-01-03</th>\n",
        "      <td> 0.077107</td>\n",
        "      <td> 1.316814</td>\n",
        "      <td>-0.099001</td>\n",
        "    </tr>\n",
        "    <tr>\n",
        "      <th>2000-01-04</th>\n",
        "      <td> 0.638197</td>\n",
        "      <td> 2.165804</td>\n",
        "      <td> 0.373790</td>\n",
        "    </tr>\n",
        "    <tr>\n",
        "      <th>2000-01-05</th>\n",
        "      <td> 1.728844</td>\n",
        "      <td> 1.989912</td>\n",
        "      <td> 1.465534</td>\n",
        "    </tr>\n",
        "    <tr>\n",
        "      <th>2000-01-06</th>\n",
        "      <td> 0.679178</td>\n",
        "      <td>-0.030289</td>\n",
        "      <td> 1.069448</td>\n",
        "    </tr>\n",
        "    <tr>\n",
        "      <th>2000-01-07</th>\n",
        "      <td> 0.314123</td>\n",
        "      <td>-0.173896</td>\n",
        "      <td> 1.605799</td>\n",
        "    </tr>\n",
        "    <tr>\n",
        "      <th>2000-01-08</th>\n",
        "      <td> 0.312996</td>\n",
        "      <td>-0.527431</td>\n",
        "      <td> 0.551551</td>\n",
        "    </tr>\n",
        "  </tbody>\n",
        "</table>\n",
        "</div>"
       ],
       "metadata": {},
       "output_type": "pyout",
       "prompt_number": 166,
       "text": [
        "                   A         B         C\n",
        "2000-01-01 -0.870241  0.730203 -0.456700\n",
        "2000-01-02 -0.247310 -0.175765 -0.000043\n",
        "2000-01-03  0.077107  1.316814 -0.099001\n",
        "2000-01-04  0.638197  2.165804  0.373790\n",
        "2000-01-05  1.728844  1.989912  1.465534\n",
        "2000-01-06  0.679178 -0.030289  1.069448\n",
        "2000-01-07  0.314123 -0.173896  1.605799\n",
        "2000-01-08  0.312996 -0.527431  0.551551"
       ]
      }
     ],
     "prompt_number": 166
    },
    {
     "cell_type": "code",
     "collapsed": false,
     "input": [
      "print df\n",
      "print df['A']\n",
      "df.sub(df['A'], axis=0)"
     ],
     "language": "python",
     "metadata": {},
     "outputs": [
      {
       "output_type": "stream",
       "stream": "stdout",
       "text": [
        "                   A         B         C\n",
        "2000-01-01 -0.870241  0.730203 -0.456700\n",
        "2000-01-02 -0.247310 -0.175765 -0.000043\n",
        "2000-01-03  0.077107  1.316814 -0.099001\n",
        "2000-01-04  0.638197  2.165804  0.373790\n",
        "2000-01-05  1.728844  1.989912  1.465534\n",
        "2000-01-06  0.679178 -0.030289  1.069448\n",
        "2000-01-07  0.314123 -0.173896  1.605799\n",
        "2000-01-08  0.312996 -0.527431  0.551551\n",
        "2000-01-01   -0.870241\n",
        "2000-01-02   -0.247310\n",
        "2000-01-03    0.077107\n",
        "2000-01-04    0.638197\n",
        "2000-01-05    1.728844\n",
        "2000-01-06    0.679178\n",
        "2000-01-07    0.314123\n",
        "2000-01-08    0.312996\n",
        "Freq: D, Name: A, dtype: float64\n"
       ]
      },
      {
       "html": [
        "<div style=\"max-height:1000px;max-width:1500px;overflow:auto;\">\n",
        "<table border=\"1\" class=\"dataframe\">\n",
        "  <thead>\n",
        "    <tr style=\"text-align: right;\">\n",
        "      <th></th>\n",
        "      <th>A</th>\n",
        "      <th>B</th>\n",
        "      <th>C</th>\n",
        "    </tr>\n",
        "  </thead>\n",
        "  <tbody>\n",
        "    <tr>\n",
        "      <th>2000-01-01</th>\n",
        "      <td> 0</td>\n",
        "      <td> 1.600444</td>\n",
        "      <td> 0.413541</td>\n",
        "    </tr>\n",
        "    <tr>\n",
        "      <th>2000-01-02</th>\n",
        "      <td> 0</td>\n",
        "      <td> 0.071546</td>\n",
        "      <td> 0.247267</td>\n",
        "    </tr>\n",
        "    <tr>\n",
        "      <th>2000-01-03</th>\n",
        "      <td> 0</td>\n",
        "      <td> 1.239707</td>\n",
        "      <td>-0.176108</td>\n",
        "    </tr>\n",
        "    <tr>\n",
        "      <th>2000-01-04</th>\n",
        "      <td> 0</td>\n",
        "      <td> 1.527607</td>\n",
        "      <td>-0.264408</td>\n",
        "    </tr>\n",
        "    <tr>\n",
        "      <th>2000-01-05</th>\n",
        "      <td> 0</td>\n",
        "      <td> 0.261068</td>\n",
        "      <td>-0.263310</td>\n",
        "    </tr>\n",
        "    <tr>\n",
        "      <th>2000-01-06</th>\n",
        "      <td> 0</td>\n",
        "      <td>-0.709467</td>\n",
        "      <td> 0.390270</td>\n",
        "    </tr>\n",
        "    <tr>\n",
        "      <th>2000-01-07</th>\n",
        "      <td> 0</td>\n",
        "      <td>-0.488019</td>\n",
        "      <td> 1.291676</td>\n",
        "    </tr>\n",
        "    <tr>\n",
        "      <th>2000-01-08</th>\n",
        "      <td> 0</td>\n",
        "      <td>-0.840427</td>\n",
        "      <td> 0.238555</td>\n",
        "    </tr>\n",
        "  </tbody>\n",
        "</table>\n",
        "</div>"
       ],
       "metadata": {},
       "output_type": "pyout",
       "prompt_number": 169,
       "text": [
        "            A         B         C\n",
        "2000-01-01  0  1.600444  0.413541\n",
        "2000-01-02  0  0.071546  0.247267\n",
        "2000-01-03  0  1.239707 -0.176108\n",
        "2000-01-04  0  1.527607 -0.264408\n",
        "2000-01-05  0  0.261068 -0.263310\n",
        "2000-01-06  0 -0.709467  0.390270\n",
        "2000-01-07  0 -0.488019  1.291676\n",
        "2000-01-08  0 -0.840427  0.238555"
       ]
      }
     ],
     "prompt_number": 169
    },
    {
     "cell_type": "code",
     "collapsed": false,
     "input": [
      "# broadcasting by scalars\n",
      "df * 5 + 2"
     ],
     "language": "python",
     "metadata": {},
     "outputs": [
      {
       "html": [
        "<div style=\"max-height:1000px;max-width:1500px;overflow:auto;\">\n",
        "<table border=\"1\" class=\"dataframe\">\n",
        "  <thead>\n",
        "    <tr style=\"text-align: right;\">\n",
        "      <th></th>\n",
        "      <th>A</th>\n",
        "      <th>B</th>\n",
        "      <th>C</th>\n",
        "    </tr>\n",
        "  </thead>\n",
        "  <tbody>\n",
        "    <tr>\n",
        "      <th>2000-01-01</th>\n",
        "      <td> 1.194577</td>\n",
        "      <td> 8.202133</td>\n",
        "      <td> 8.770267</td>\n",
        "    </tr>\n",
        "    <tr>\n",
        "      <th>2000-01-02</th>\n",
        "      <td> 1.671444</td>\n",
        "      <td> 5.772806</td>\n",
        "      <td>-2.297584</td>\n",
        "    </tr>\n",
        "    <tr>\n",
        "      <th>2000-01-03</th>\n",
        "      <td>-5.442951</td>\n",
        "      <td> 3.383164</td>\n",
        "      <td>-7.486936</td>\n",
        "    </tr>\n",
        "    <tr>\n",
        "      <th>2000-01-04</th>\n",
        "      <td>-3.888149</td>\n",
        "      <td>-0.318617</td>\n",
        "      <td> 5.398450</td>\n",
        "    </tr>\n",
        "    <tr>\n",
        "      <th>2000-01-05</th>\n",
        "      <td>-4.275757</td>\n",
        "      <td>-0.696703</td>\n",
        "      <td> 7.603568</td>\n",
        "    </tr>\n",
        "    <tr>\n",
        "      <th>2000-01-06</th>\n",
        "      <td>-2.335770</td>\n",
        "      <td> 3.738276</td>\n",
        "      <td> 2.008930</td>\n",
        "    </tr>\n",
        "    <tr>\n",
        "      <th>2000-01-07</th>\n",
        "      <td> 3.905469</td>\n",
        "      <td> 5.899782</td>\n",
        "      <td>-3.596197</td>\n",
        "    </tr>\n",
        "    <tr>\n",
        "      <th>2000-01-08</th>\n",
        "      <td>-6.053927</td>\n",
        "      <td> 4.958060</td>\n",
        "      <td> 3.797257</td>\n",
        "    </tr>\n",
        "  </tbody>\n",
        "</table>\n",
        "</div>"
       ],
       "metadata": {},
       "output_type": "pyout",
       "prompt_number": 159,
       "text": [
        "                   A         B         C\n",
        "2000-01-01  1.194577  8.202133  8.770267\n",
        "2000-01-02  1.671444  5.772806 -2.297584\n",
        "2000-01-03 -5.442951  3.383164 -7.486936\n",
        "2000-01-04 -3.888149 -0.318617  5.398450\n",
        "2000-01-05 -4.275757 -0.696703  7.603568\n",
        "2000-01-06 -2.335770  3.738276  2.008930\n",
        "2000-01-07  3.905469  5.899782 -3.596197\n",
        "2000-01-08 -6.053927  4.958060  3.797257"
       ]
      }
     ],
     "prompt_number": 159
    },
    {
     "cell_type": "code",
     "collapsed": false,
     "input": [
      "1/df"
     ],
     "language": "python",
     "metadata": {},
     "outputs": [
      {
       "html": [
        "<div style=\"max-height:1000px;max-width:1500px;overflow:auto;\">\n",
        "<table border=\"1\" class=\"dataframe\">\n",
        "  <thead>\n",
        "    <tr style=\"text-align: right;\">\n",
        "      <th></th>\n",
        "      <th>A</th>\n",
        "      <th>B</th>\n",
        "      <th>C</th>\n",
        "    </tr>\n",
        "  </thead>\n",
        "  <tbody>\n",
        "    <tr>\n",
        "      <th>2000-01-01</th>\n",
        "      <td> -1.149107</td>\n",
        "      <td>  1.369481</td>\n",
        "      <td>    -2.189621</td>\n",
        "    </tr>\n",
        "    <tr>\n",
        "      <th>2000-01-02</th>\n",
        "      <td> -4.043507</td>\n",
        "      <td> -5.689428</td>\n",
        "      <td>-23261.813211</td>\n",
        "    </tr>\n",
        "    <tr>\n",
        "      <th>2000-01-03</th>\n",
        "      <td> 12.968979</td>\n",
        "      <td>  0.759409</td>\n",
        "      <td>   -10.100870</td>\n",
        "    </tr>\n",
        "    <tr>\n",
        "      <th>2000-01-04</th>\n",
        "      <td>  1.566914</td>\n",
        "      <td>  0.461722</td>\n",
        "      <td>     2.675302</td>\n",
        "    </tr>\n",
        "    <tr>\n",
        "      <th>2000-01-05</th>\n",
        "      <td>  0.578421</td>\n",
        "      <td>  0.502535</td>\n",
        "      <td>     0.682345</td>\n",
        "    </tr>\n",
        "    <tr>\n",
        "      <th>2000-01-06</th>\n",
        "      <td>  1.472367</td>\n",
        "      <td>-33.015417</td>\n",
        "      <td>     0.935062</td>\n",
        "    </tr>\n",
        "    <tr>\n",
        "      <th>2000-01-07</th>\n",
        "      <td>  3.183466</td>\n",
        "      <td> -5.750558</td>\n",
        "      <td>     0.622743</td>\n",
        "    </tr>\n",
        "    <tr>\n",
        "      <th>2000-01-08</th>\n",
        "      <td>  3.194924</td>\n",
        "      <td> -1.895984</td>\n",
        "      <td>     1.813069</td>\n",
        "    </tr>\n",
        "  </tbody>\n",
        "</table>\n",
        "</div>"
       ],
       "metadata": {},
       "output_type": "pyout",
       "prompt_number": 170,
       "text": [
        "                    A          B             C\n",
        "2000-01-01  -1.149107   1.369481     -2.189621\n",
        "2000-01-02  -4.043507  -5.689428 -23261.813211\n",
        "2000-01-03  12.968979   0.759409    -10.100870\n",
        "2000-01-04   1.566914   0.461722      2.675302\n",
        "2000-01-05   0.578421   0.502535      0.682345\n",
        "2000-01-06   1.472367 -33.015417      0.935062\n",
        "2000-01-07   3.183466  -5.750558      0.622743\n",
        "2000-01-08   3.194924  -1.895984      1.813069"
       ]
      }
     ],
     "prompt_number": 170
    },
    {
     "cell_type": "code",
     "collapsed": false,
     "input": [
      "df ** 4"
     ],
     "language": "python",
     "metadata": {},
     "outputs": [
      {
       "html": [
        "<div style=\"max-height:1000px;max-width:1500px;overflow:auto;\">\n",
        "<table border=\"1\" class=\"dataframe\">\n",
        "  <thead>\n",
        "    <tr style=\"text-align: right;\">\n",
        "      <th></th>\n",
        "      <th>A</th>\n",
        "      <th>B</th>\n",
        "      <th>C</th>\n",
        "    </tr>\n",
        "  </thead>\n",
        "  <tbody>\n",
        "    <tr>\n",
        "      <th>2000-01-01</th>\n",
        "      <td> 0.573532</td>\n",
        "      <td>  0.284299</td>\n",
        "      <td> 4.350350e-02</td>\n",
        "    </tr>\n",
        "    <tr>\n",
        "      <th>2000-01-02</th>\n",
        "      <td> 0.003741</td>\n",
        "      <td>  0.000954</td>\n",
        "      <td> 3.415276e-18</td>\n",
        "    </tr>\n",
        "    <tr>\n",
        "      <th>2000-01-03</th>\n",
        "      <td> 0.000035</td>\n",
        "      <td>  3.006752</td>\n",
        "      <td> 9.606494e-05</td>\n",
        "    </tr>\n",
        "    <tr>\n",
        "      <th>2000-01-04</th>\n",
        "      <td> 0.165890</td>\n",
        "      <td> 22.002752</td>\n",
        "      <td> 1.952129e-02</td>\n",
        "    </tr>\n",
        "    <tr>\n",
        "      <th>2000-01-05</th>\n",
        "      <td> 8.933536</td>\n",
        "      <td> 15.679627</td>\n",
        "      <td> 4.613003e+00</td>\n",
        "    </tr>\n",
        "    <tr>\n",
        "      <th>2000-01-06</th>\n",
        "      <td> 0.212782</td>\n",
        "      <td>  0.000001</td>\n",
        "      <td> 1.308094e+00</td>\n",
        "    </tr>\n",
        "    <tr>\n",
        "      <th>2000-01-07</th>\n",
        "      <td> 0.009736</td>\n",
        "      <td>  0.000914</td>\n",
        "      <td> 6.649124e+00</td>\n",
        "    </tr>\n",
        "    <tr>\n",
        "      <th>2000-01-08</th>\n",
        "      <td> 0.009597</td>\n",
        "      <td>  0.077386</td>\n",
        "      <td> 9.254280e-02</td>\n",
        "    </tr>\n",
        "  </tbody>\n",
        "</table>\n",
        "</div>"
       ],
       "metadata": {},
       "output_type": "pyout",
       "prompt_number": 171,
       "text": [
        "                   A          B             C\n",
        "2000-01-01  0.573532   0.284299  4.350350e-02\n",
        "2000-01-02  0.003741   0.000954  3.415276e-18\n",
        "2000-01-03  0.000035   3.006752  9.606494e-05\n",
        "2000-01-04  0.165890  22.002752  1.952129e-02\n",
        "2000-01-05  8.933536  15.679627  4.613003e+00\n",
        "2000-01-06  0.212782   0.000001  1.308094e+00\n",
        "2000-01-07  0.009736   0.000914  6.649124e+00\n",
        "2000-01-08  0.009597   0.077386  9.254280e-02"
       ]
      }
     ],
     "prompt_number": 171
    },
    {
     "cell_type": "code",
     "collapsed": false,
     "input": [
      "df1 = DataFrame({'a' : [1, 0, 1], 'b' : [0, 1, 1] }, dtype=bool)\n",
      "df2 = DataFrame({'a' : [0, 1, 1], 'b' : [1, 1, 0] }, dtype=bool)\n",
      "df1 & df2"
     ],
     "language": "python",
     "metadata": {},
     "outputs": [
      {
       "html": [
        "<div style=\"max-height:1000px;max-width:1500px;overflow:auto;\">\n",
        "<table border=\"1\" class=\"dataframe\">\n",
        "  <thead>\n",
        "    <tr style=\"text-align: right;\">\n",
        "      <th></th>\n",
        "      <th>a</th>\n",
        "      <th>b</th>\n",
        "    </tr>\n",
        "  </thead>\n",
        "  <tbody>\n",
        "    <tr>\n",
        "      <th>0</th>\n",
        "      <td> False</td>\n",
        "      <td> False</td>\n",
        "    </tr>\n",
        "    <tr>\n",
        "      <th>1</th>\n",
        "      <td> False</td>\n",
        "      <td>  True</td>\n",
        "    </tr>\n",
        "    <tr>\n",
        "      <th>2</th>\n",
        "      <td>  True</td>\n",
        "      <td> False</td>\n",
        "    </tr>\n",
        "  </tbody>\n",
        "</table>\n",
        "</div>"
       ],
       "metadata": {},
       "output_type": "pyout",
       "prompt_number": 172,
       "text": [
        "       a      b\n",
        "0  False  False\n",
        "1  False   True\n",
        "2   True  False"
       ]
      }
     ],
     "prompt_number": 172
    },
    {
     "cell_type": "code",
     "collapsed": false,
     "input": [
      "df1 | df2"
     ],
     "language": "python",
     "metadata": {},
     "outputs": [
      {
       "html": [
        "<div style=\"max-height:1000px;max-width:1500px;overflow:auto;\">\n",
        "<table border=\"1\" class=\"dataframe\">\n",
        "  <thead>\n",
        "    <tr style=\"text-align: right;\">\n",
        "      <th></th>\n",
        "      <th>a</th>\n",
        "      <th>b</th>\n",
        "    </tr>\n",
        "  </thead>\n",
        "  <tbody>\n",
        "    <tr>\n",
        "      <th>0</th>\n",
        "      <td> True</td>\n",
        "      <td> True</td>\n",
        "    </tr>\n",
        "    <tr>\n",
        "      <th>1</th>\n",
        "      <td> True</td>\n",
        "      <td> True</td>\n",
        "    </tr>\n",
        "    <tr>\n",
        "      <th>2</th>\n",
        "      <td> True</td>\n",
        "      <td> True</td>\n",
        "    </tr>\n",
        "  </tbody>\n",
        "</table>\n",
        "</div>"
       ],
       "metadata": {},
       "output_type": "pyout",
       "prompt_number": 173,
       "text": [
        "      a     b\n",
        "0  True  True\n",
        "1  True  True\n",
        "2  True  True"
       ]
      }
     ],
     "prompt_number": 173
    },
    {
     "cell_type": "code",
     "collapsed": false,
     "input": [
      "df1 ^ df2"
     ],
     "language": "python",
     "metadata": {},
     "outputs": [
      {
       "html": [
        "<div style=\"max-height:1000px;max-width:1500px;overflow:auto;\">\n",
        "<table border=\"1\" class=\"dataframe\">\n",
        "  <thead>\n",
        "    <tr style=\"text-align: right;\">\n",
        "      <th></th>\n",
        "      <th>a</th>\n",
        "      <th>b</th>\n",
        "    </tr>\n",
        "  </thead>\n",
        "  <tbody>\n",
        "    <tr>\n",
        "      <th>0</th>\n",
        "      <td>  True</td>\n",
        "      <td>  True</td>\n",
        "    </tr>\n",
        "    <tr>\n",
        "      <th>1</th>\n",
        "      <td>  True</td>\n",
        "      <td> False</td>\n",
        "    </tr>\n",
        "    <tr>\n",
        "      <th>2</th>\n",
        "      <td> False</td>\n",
        "      <td>  True</td>\n",
        "    </tr>\n",
        "  </tbody>\n",
        "</table>\n",
        "</div>"
       ],
       "metadata": {},
       "output_type": "pyout",
       "prompt_number": 174,
       "text": [
        "       a      b\n",
        "0   True   True\n",
        "1   True  False\n",
        "2  False   True"
       ]
      }
     ],
     "prompt_number": 174
    },
    {
     "cell_type": "code",
     "collapsed": false,
     "input": [
      "-df1"
     ],
     "language": "python",
     "metadata": {},
     "outputs": [
      {
       "html": [
        "<div style=\"max-height:1000px;max-width:1500px;overflow:auto;\">\n",
        "<table border=\"1\" class=\"dataframe\">\n",
        "  <thead>\n",
        "    <tr style=\"text-align: right;\">\n",
        "      <th></th>\n",
        "      <th>a</th>\n",
        "      <th>b</th>\n",
        "    </tr>\n",
        "  </thead>\n",
        "  <tbody>\n",
        "    <tr>\n",
        "      <th>0</th>\n",
        "      <td> False</td>\n",
        "      <td>  True</td>\n",
        "    </tr>\n",
        "    <tr>\n",
        "      <th>1</th>\n",
        "      <td>  True</td>\n",
        "      <td> False</td>\n",
        "    </tr>\n",
        "    <tr>\n",
        "      <th>2</th>\n",
        "      <td> False</td>\n",
        "      <td> False</td>\n",
        "    </tr>\n",
        "  </tbody>\n",
        "</table>\n",
        "</div>"
       ],
       "metadata": {},
       "output_type": "pyout",
       "prompt_number": 175,
       "text": [
        "       a      b\n",
        "0  False   True\n",
        "1   True  False\n",
        "2  False  False"
       ]
      }
     ],
     "prompt_number": 175
    },
    {
     "cell_type": "heading",
     "level": 3,
     "metadata": {},
     "source": [
      "Transposing"
     ]
    },
    {
     "cell_type": "code",
     "collapsed": false,
     "input": [
      "df[:5].T"
     ],
     "language": "python",
     "metadata": {},
     "outputs": [
      {
       "html": [
        "<div style=\"max-height:1000px;max-width:1500px;overflow:auto;\">\n",
        "<table border=\"1\" class=\"dataframe\">\n",
        "  <thead>\n",
        "    <tr style=\"text-align: right;\">\n",
        "      <th></th>\n",
        "      <th>2000-01-01 00:00:00</th>\n",
        "      <th>2000-01-02 00:00:00</th>\n",
        "      <th>2000-01-03 00:00:00</th>\n",
        "      <th>2000-01-04 00:00:00</th>\n",
        "      <th>2000-01-05 00:00:00</th>\n",
        "    </tr>\n",
        "  </thead>\n",
        "  <tbody>\n",
        "    <tr>\n",
        "      <th>A</th>\n",
        "      <td>-0.870241</td>\n",
        "      <td>-0.247310</td>\n",
        "      <td> 0.077107</td>\n",
        "      <td> 0.638197</td>\n",
        "      <td> 1.728844</td>\n",
        "    </tr>\n",
        "    <tr>\n",
        "      <th>B</th>\n",
        "      <td> 0.730203</td>\n",
        "      <td>-0.175765</td>\n",
        "      <td> 1.316814</td>\n",
        "      <td> 2.165804</td>\n",
        "      <td> 1.989912</td>\n",
        "    </tr>\n",
        "    <tr>\n",
        "      <th>C</th>\n",
        "      <td>-0.456700</td>\n",
        "      <td>-0.000043</td>\n",
        "      <td>-0.099001</td>\n",
        "      <td> 0.373790</td>\n",
        "      <td> 1.465534</td>\n",
        "    </tr>\n",
        "  </tbody>\n",
        "</table>\n",
        "</div>"
       ],
       "metadata": {},
       "output_type": "pyout",
       "prompt_number": 176,
       "text": [
        "   2000-01-01  2000-01-02  2000-01-03  2000-01-04  2000-01-05\n",
        "A   -0.870241   -0.247310    0.077107    0.638197    1.728844\n",
        "B    0.730203   -0.175765    1.316814    2.165804    1.989912\n",
        "C   -0.456700   -0.000043   -0.099001    0.373790    1.465534"
       ]
      }
     ],
     "prompt_number": 176
    },
    {
     "cell_type": "heading",
     "level": 3,
     "metadata": {},
     "source": [
      "DataFrame interoperability with NumPy functions"
     ]
    },
    {
     "cell_type": "code",
     "collapsed": false,
     "input": [
      "np.exp(df)"
     ],
     "language": "python",
     "metadata": {},
     "outputs": [
      {
       "html": [
        "<div style=\"max-height:1000px;max-width:1500px;overflow:auto;\">\n",
        "<table border=\"1\" class=\"dataframe\">\n",
        "  <thead>\n",
        "    <tr style=\"text-align: right;\">\n",
        "      <th></th>\n",
        "      <th>A</th>\n",
        "      <th>B</th>\n",
        "      <th>C</th>\n",
        "    </tr>\n",
        "  </thead>\n",
        "  <tbody>\n",
        "    <tr>\n",
        "      <th>2000-01-01</th>\n",
        "      <td> 0.418851</td>\n",
        "      <td> 2.075503</td>\n",
        "      <td> 0.633370</td>\n",
        "    </tr>\n",
        "    <tr>\n",
        "      <th>2000-01-02</th>\n",
        "      <td> 0.780898</td>\n",
        "      <td> 0.838815</td>\n",
        "      <td> 0.999957</td>\n",
        "    </tr>\n",
        "    <tr>\n",
        "      <th>2000-01-03</th>\n",
        "      <td> 1.080158</td>\n",
        "      <td> 3.731513</td>\n",
        "      <td> 0.905741</td>\n",
        "    </tr>\n",
        "    <tr>\n",
        "      <th>2000-01-04</th>\n",
        "      <td> 1.893065</td>\n",
        "      <td> 8.721616</td>\n",
        "      <td> 1.453231</td>\n",
        "    </tr>\n",
        "    <tr>\n",
        "      <th>2000-01-05</th>\n",
        "      <td> 5.634138</td>\n",
        "      <td> 7.314892</td>\n",
        "      <td> 4.329855</td>\n",
        "    </tr>\n",
        "    <tr>\n",
        "      <th>2000-01-06</th>\n",
        "      <td> 1.972257</td>\n",
        "      <td> 0.970165</td>\n",
        "      <td> 2.913771</td>\n",
        "    </tr>\n",
        "    <tr>\n",
        "      <th>2000-01-07</th>\n",
        "      <td> 1.369058</td>\n",
        "      <td> 0.840384</td>\n",
        "      <td> 4.981837</td>\n",
        "    </tr>\n",
        "    <tr>\n",
        "      <th>2000-01-08</th>\n",
        "      <td> 1.367517</td>\n",
        "      <td> 0.590119</td>\n",
        "      <td> 1.735943</td>\n",
        "    </tr>\n",
        "  </tbody>\n",
        "</table>\n",
        "</div>"
       ],
       "metadata": {},
       "output_type": "pyout",
       "prompt_number": 177,
       "text": [
        "                   A         B         C\n",
        "2000-01-01  0.418851  2.075503  0.633370\n",
        "2000-01-02  0.780898  0.838815  0.999957\n",
        "2000-01-03  1.080158  3.731513  0.905741\n",
        "2000-01-04  1.893065  8.721616  1.453231\n",
        "2000-01-05  5.634138  7.314892  4.329855\n",
        "2000-01-06  1.972257  0.970165  2.913771\n",
        "2000-01-07  1.369058  0.840384  4.981837\n",
        "2000-01-08  1.367517  0.590119  1.735943"
       ]
      }
     ],
     "prompt_number": 177
    },
    {
     "cell_type": "code",
     "collapsed": false,
     "input": [
      "np.asarray(df)"
     ],
     "language": "python",
     "metadata": {},
     "outputs": [
      {
       "metadata": {},
       "output_type": "pyout",
       "prompt_number": 178,
       "text": [
        "array([[ -8.70240602e-01,   7.30203384e-01,  -4.56700031e-01],\n",
        "       [ -2.47310099e-01,  -1.75764593e-01,  -4.29889102e-05],\n",
        "       [  7.71070732e-02,   1.31681387e+00,  -9.90013765e-02],\n",
        "       [  6.38197141e-01,   2.16580449e+00,   3.73789537e-01],\n",
        "       [  1.72884416e+00,   1.98991227e+00,   1.46553410e+00],\n",
        "       [  6.79178381e-01,  -3.02888795e-02,   1.06944822e+00],\n",
        "       [  3.14123075e-01,  -1.73896161e-01,   1.60579874e+00],\n",
        "       [  3.12996463e-01,  -5.27430531e-01,   5.51550971e-01]])"
       ]
      }
     ],
     "prompt_number": 178
    },
    {
     "cell_type": "code",
     "collapsed": false,
     "input": [
      "df.T.dot(df)"
     ],
     "language": "python",
     "metadata": {},
     "outputs": [
      {
       "html": [
        "<div style=\"max-height:1000px;max-width:1500px;overflow:auto;\">\n",
        "<table border=\"1\" class=\"dataframe\">\n",
        "  <thead>\n",
        "    <tr style=\"text-align: right;\">\n",
        "      <th></th>\n",
        "      <th>A</th>\n",
        "      <th>B</th>\n",
        "      <th>C</th>\n",
        "    </tr>\n",
        "  </thead>\n",
        "  <tbody>\n",
        "    <tr>\n",
        "      <th>A</th>\n",
        "      <td> 4.878548</td>\n",
        "      <td>  4.091730</td>\n",
        "      <td> 4.565445</td>\n",
        "    </tr>\n",
        "    <tr>\n",
        "      <th>B</th>\n",
        "      <td> 4.091730</td>\n",
        "      <td> 11.257889</td>\n",
        "      <td> 2.659457</td>\n",
        "    </tr>\n",
        "    <tr>\n",
        "      <th>C</th>\n",
        "      <td> 4.565445</td>\n",
        "      <td>  2.659457</td>\n",
        "      <td> 6.532403</td>\n",
        "    </tr>\n",
        "  </tbody>\n",
        "</table>\n",
        "</div>"
       ],
       "metadata": {},
       "output_type": "pyout",
       "prompt_number": 179,
       "text": [
        "          A          B         C\n",
        "A  4.878548   4.091730  4.565445\n",
        "B  4.091730  11.257889  2.659457\n",
        "C  4.565445   2.659457  6.532403"
       ]
      }
     ],
     "prompt_number": 179
    },
    {
     "cell_type": "code",
     "collapsed": false,
     "input": [
      "s1 = Series(np.arange(5, 10))\n",
      "s1.dot(s1)"
     ],
     "language": "python",
     "metadata": {},
     "outputs": [
      {
       "metadata": {},
       "output_type": "pyout",
       "prompt_number": 181,
       "text": [
        "255"
       ]
      }
     ],
     "prompt_number": 181
    },
    {
     "cell_type": "code",
     "collapsed": false,
     "input": [
      "baseball = read_csv('../data/baseball.csv')[:100]\n",
      "print(baseball)\n",
      "baseball.info()"
     ],
     "language": "python",
     "metadata": {},
     "outputs": [
      {
       "output_type": "stream",
       "stream": "stdout",
       "text": [
        "    Unnamed: 0         id  year  stint team   lg   g   ab   r    h ...   rbi  \\\n",
        "0            4  ansonca01  1871      1  RC1  NaN  25  120  29   39 ...    16   \n",
        "1           44  forceda01  1871      1  WS3  NaN  32  162  45   45 ...    29   \n",
        "2           68  mathebo01  1871      1  FW1  NaN  19   89  15   24 ...    10   \n",
        "3           99  startjo01  1871      1  NY2  NaN  33  161  35   58 ...    34   \n",
        "4          102  suttoez01  1871      1  CL1  NaN  29  128  35   45 ...    23   \n",
        "5          106  whitede01  1871      1  CL1  NaN  29  146  40   47 ...    21   \n",
        "6          113   yorkto01  1871      1  TRO  NaN  29  145  36   37 ...    23   \n",
        "7          121  ansonca01  1872      1  PH1  NaN  46  217  60   90 ...    50   \n",
        "8          143  burdoja01  1872      1  BR2  NaN  37  174  26   46 ...    15   \n",
        "9          167  forceda01  1872      1  TRO  NaN  25  130  40   53 ...    16   \n",
        "10         168  forceda01  1872      2  BL1  NaN  19   95  29   41 ...    13   \n",
        "11         186  hinespa01  1872      1  WS4  NaN  11   49   9   12 ...     5   \n",
        "12         209  mathebo01  1872      1  BL1  NaN  50  223  36   50 ...    21   \n",
        "13         226  nelsoca01  1872      1  TRO  NaN   4   20   2    7 ...     4   \n",
        "14         227  nelsoca01  1872      2  BR1  NaN  18   76  12   19 ...     8   \n",
        "15         229  orourji01  1872      1  MID  NaN  23  101  25   31 ...    12   \n",
        "16         249  startjo01  1872      1  NY2  NaN  55  282  62   76 ...    50   \n",
        "17         252  suttoez01  1872      1  CL1  NaN  22  107  30   30 ...    10   \n",
        "18         259  whitede01  1872      1  CL1  NaN  22  109  21   37 ...    22   \n",
        "19         268   yorkto01  1872      1  BL1  NaN  51  248  66   66 ...    41   \n",
        "20         276  ansonca01  1873      1  PH1  NaN  52  254  53  101 ...    36   \n",
        "21         293  burdoja01  1873      1  BR2  NaN  55  245  56   62 ...    36   \n",
        "22         314  forceda01  1873      1  BL1  NaN  49  234  77   86 ...    31   \n",
        "23         318  gerhajo01  1873      1  WS5  NaN  13   56   6   12 ...     7   \n",
        "24         327  hinespa01  1873      1  WS5  NaN  39  181  33   60 ...    29   \n",
        "25         344  mathebo01  1873      1  NY2  NaN  52  223  40   43 ...    13   \n",
        "26         353  nelsoca01  1873      1  NY2  NaN  36  168  28   55 ...    22   \n",
        "27         355  orourji01  1873      1  BS1  NaN  57  280  79   98 ...    48   \n",
        "28         375  snydepo01  1873      1  WS5  NaN  28  108  16   21 ...     4   \n",
        "29         377  startjo01  1873      1  NY2  NaN  53  251  42   67 ...    28   \n",
        "..         ...        ...   ...    ...  ...  ...  ..  ...  ..  ... ...   ...   \n",
        "70         798  hinespa01  1876      1  CHN   NL  64  305  62  101 ...    59   \n",
        "71         801  jonesch01  1876      1  CN1   NL  64  276  40   79 ...    38   \n",
        "72         811  mathebo01  1876      1  NY3   NL  56  218  19   40 ...     9   \n",
        "73         819  morrijo01  1876      1  BSN   NL  66  278  38   73 ...    26   \n",
        "74         824  orourji01  1876      1  BSN   NL  70  312  61  102 ...    43   \n",
        "75         840  snydepo01  1876      1  LS1   NL  56  224  21   44 ...     9   \n",
        "76         844  startjo01  1876      1  NY3   NL  56  264  40   73 ...    21   \n",
        "77         845  suttoez01  1876      1  PHN   NL  54  236  45   70 ...    31   \n",
        "78         853  whitede01  1876      1  CHN   NL  66  303  66  104 ...    60   \n",
        "79         859   yorkto01  1876      1  HAR   NL  67  263  47   68 ...    39   \n",
        "80         863  ansonca01  1877      1  CHN   NL  59  255  52   86 ...    32   \n",
        "81         873  burdoja01  1877      1  HAR   NL  58  277  35   72 ...     9   \n",
        "82         890  forceda01  1877      1  SL3   NL  58  225  24   59 ...    22   \n",
        "83         891  gerhajo01  1877      1  LS1   NL  59  250  41   76 ...    35   \n",
        "84         903  hinespa01  1877      1  CHN   NL  60  261  44   73 ...    23   \n",
        "85         905  jonesch01  1877      1  CN1   NL  17   69  16   21 ...    10   \n",
        "86         906  jonesch01  1877      2  CHN   NL   2    8   1    3 ...     2   \n",
        "87         907  jonesch01  1877      3  CN1   NL  38  163  36   51 ...    26   \n",
        "88         919  mathebo01  1877      1  CN1   NL  15   59   5   10 ...     0   \n",
        "89         926  morrijo01  1877      1  BSN   NL  61  242  47   73 ...    28   \n",
        "90         931  orourji01  1877      1  BSN   NL  61  265  68   96 ...    23   \n",
        "91         943  shaffor01  1877      1  LS1   NL  61  260  38   74 ...    34   \n",
        "92         946  snydepo01  1877      1  LS1   NL  61  248  23   64 ...    28   \n",
        "93         948  startjo01  1877      1  HAR   NL  60  271  55   90 ...    21   \n",
        "94         950  suttoez01  1877      1  BSN   NL  58  253  43   74 ...    39   \n",
        "95         953  whitede01  1877      1  BSN   NL  59  266  51  103 ...    49   \n",
        "96         957   yorkto01  1877      1  HAR   NL  56  237  43   67 ...    37   \n",
        "97         959  ansonca01  1878      1  CHN   NL  60  261  55   89 ...    40   \n",
        "98         960  bennech01  1878      1  ML2   NL  49  184  16   45 ...    12   \n",
        "99         964  burdoja01  1878      1  BSN   NL  60  246  37   64 ...    25   \n",
        "\n",
        "    sb  cs  bb  so  ibb  hbp  sh  sf  gidp  \n",
        "0    6   2   2   1  NaN  NaN NaN NaN   NaN  \n",
        "1    8   0   4   0  NaN  NaN NaN NaN   NaN  \n",
        "2    2   1   2   0  NaN  NaN NaN NaN   NaN  \n",
        "3    4   2   3   0  NaN  NaN NaN NaN   NaN  \n",
        "4    3   1   1   0  NaN  NaN NaN NaN   NaN  \n",
        "5    2   2   4   1  NaN  NaN NaN NaN   NaN  \n",
        "6    2   2   9   1  NaN  NaN NaN NaN   NaN  \n",
        "7    6   6  16   3  NaN  NaN NaN NaN   NaN  \n",
        "8    0   1   1   1  NaN  NaN NaN NaN   NaN  \n",
        "9    2   2   1   0  NaN  NaN NaN NaN   NaN  \n",
        "10   3   0   1   0  NaN  NaN NaN NaN   NaN  \n",
        "11   0   0   0   0  NaN  NaN NaN NaN   NaN  \n",
        "12   1   1   3   2  NaN  NaN NaN NaN   NaN  \n",
        "13   0   0   0   2  NaN  NaN NaN NaN   NaN  \n",
        "14   1   0   2   2  NaN  NaN NaN NaN   NaN  \n",
        "15   1   0   2   0  NaN  NaN NaN NaN   NaN  \n",
        "16   3   3   0   0  NaN  NaN NaN NaN   NaN  \n",
        "17   1   0   1   1  NaN  NaN NaN NaN   NaN  \n",
        "18   0   0   4   1  NaN  NaN NaN NaN   NaN  \n",
        "19   2   1   4   1  NaN  NaN NaN NaN   NaN  \n",
        "20   0   2   5   1  NaN  NaN NaN NaN   NaN  \n",
        "21   3   1   7   4  NaN  NaN NaN NaN   NaN  \n",
        "22   1   0   9   0  NaN  NaN NaN NaN   NaN  \n",
        "23   0   0   0   5  NaN  NaN NaN NaN   NaN  \n",
        "24   0   1   1   1  NaN  NaN NaN NaN   NaN  \n",
        "25   1   1  10   3  NaN  NaN NaN NaN   NaN  \n",
        "26   2   0   1   2  NaN  NaN NaN NaN   NaN  \n",
        "27   4   2  14   1  NaN  NaN NaN NaN   NaN  \n",
        "28   0   1   3   3  NaN  NaN NaN NaN   NaN  \n",
        "29   1   0   4   0  NaN  NaN NaN NaN   NaN  \n",
        "..  ..  ..  ..  ..  ...  ...  ..  ..   ...  \n",
        "70 NaN NaN   1   3  NaN  NaN NaN NaN   NaN  \n",
        "71 NaN NaN   7  17  NaN  NaN NaN NaN   NaN  \n",
        "72 NaN NaN   3   2  NaN  NaN NaN NaN   NaN  \n",
        "73 NaN NaN   3   5  NaN  NaN NaN NaN   NaN  \n",
        "74 NaN NaN  15  17  NaN  NaN NaN NaN   NaN  \n",
        "75 NaN NaN   2   7  NaN  NaN NaN NaN   NaN  \n",
        "76 NaN NaN   1   2  NaN  NaN NaN NaN   NaN  \n",
        "77 NaN NaN   3   2  NaN  NaN NaN NaN   NaN  \n",
        "78 NaN NaN   7   3  NaN  NaN NaN NaN   NaN  \n",
        "79 NaN NaN  10   4  NaN  NaN NaN NaN   NaN  \n",
        "80 NaN NaN   9   3  NaN  NaN NaN NaN   NaN  \n",
        "81 NaN NaN   2  16  NaN  NaN NaN NaN   NaN  \n",
        "82 NaN NaN  11  15  NaN  NaN NaN NaN   NaN  \n",
        "83 NaN NaN   5   8  NaN  NaN NaN NaN   NaN  \n",
        "84 NaN NaN   1   8  NaN  NaN NaN NaN   NaN  \n",
        "85   0   0   4   8    0    0   0   0   NaN  \n",
        "86 NaN NaN   1   0  NaN  NaN NaN NaN   NaN  \n",
        "87 NaN NaN  10  17  NaN  NaN NaN NaN   NaN  \n",
        "88 NaN NaN   1   2  NaN  NaN NaN NaN   NaN  \n",
        "89 NaN NaN   6  15  NaN  NaN NaN NaN   NaN  \n",
        "90 NaN NaN  20   9  NaN  NaN NaN NaN   NaN  \n",
        "91 NaN NaN   9  17  NaN  NaN NaN NaN   NaN  \n",
        "92 NaN NaN   3  14  NaN  NaN NaN NaN   NaN  \n",
        "93 NaN NaN   6   2  NaN  NaN NaN NaN   NaN  \n",
        "94 NaN NaN   4  10  NaN  NaN NaN NaN   NaN  \n",
        "95 NaN NaN   8   3  NaN  NaN NaN NaN   NaN  \n",
        "96 NaN NaN   3  11  NaN  NaN NaN NaN   NaN  \n",
        "97 NaN NaN  13   1  NaN  NaN NaN NaN   NaN  \n",
        "98 NaN NaN  10  26  NaN  NaN NaN NaN   NaN  \n",
        "99 NaN NaN   3  17  NaN  NaN NaN NaN   NaN  \n",
        "\n",
        "[100 rows x 23 columns]\n",
        "<class 'pandas.core.frame.DataFrame'>\n",
        "Int64Index: 100 entries, 0 to 99\n",
        "Data columns (total 23 columns):\n",
        "Unnamed: 0    100 non-null int64\n",
        "id            100 non-null object\n",
        "year          100 non-null int64\n",
        "stint         100 non-null int64\n",
        "team          100 non-null object\n",
        "lg            35 non-null object\n",
        "g             100 non-null int64\n",
        "ab            100 non-null int64\n",
        "r             100 non-null int64\n",
        "h             100 non-null int64\n",
        "X2b           100 non-null int64\n",
        "X3b           100 non-null int64\n",
        "hr            100 non-null int64\n",
        "rbi           100 non-null float64\n",
        "sb            66 non-null float64\n",
        "cs            66 non-null float64\n",
        "bb            100 non-null int64\n",
        "so            100 non-null float64\n",
        "ibb           1 non-null float64\n",
        "hbp           1 non-null float64\n",
        "sh            1 non-null float64\n",
        "sf            1 non-null float64\n",
        "gidp          0 non-null float64\n",
        "dtypes: float64(9), int64(11), object(3)"
       ]
      }
     ],
     "prompt_number": 186
    },
    {
     "cell_type": "code",
     "collapsed": false,
     "input": [
      "print(baseball.iloc[-20:, :12].to_string())"
     ],
     "language": "python",
     "metadata": {},
     "outputs": [
      {
       "output_type": "stream",
       "stream": "stdout",
       "text": [
        "    Unnamed: 0         id  year  stint team  lg   g   ab   r    h  X2b  X3b\n",
        "80         863  ansonca01  1877      1  CHN  NL  59  255  52   86   19    1\n",
        "81         873  burdoja01  1877      1  HAR  NL  58  277  35   72    6    0\n",
        "82         890  forceda01  1877      1  SL3  NL  58  225  24   59    5    3\n",
        "83         891  gerhajo01  1877      1  LS1  NL  59  250  41   76    6    5\n",
        "84         903  hinespa01  1877      1  CHN  NL  60  261  44   73   11    7\n",
        "85         905  jonesch01  1877      1  CN1  NL  17   69  16   21    3    3\n",
        "86         906  jonesch01  1877      2  CHN  NL   2    8   1    3    1    0\n",
        "87         907  jonesch01  1877      3  CN1  NL  38  163  36   51    8    7\n",
        "88         919  mathebo01  1877      1  CN1  NL  15   59   5   10    0    0\n",
        "89         926  morrijo01  1877      1  BSN  NL  61  242  47   73    5    1\n",
        "90         931  orourji01  1877      1  BSN  NL  61  265  68   96   14    4\n",
        "91         943  shaffor01  1877      1  LS1  NL  61  260  38   74    9    5\n",
        "92         946  snydepo01  1877      1  LS1  NL  61  248  23   64    7    2\n",
        "93         948  startjo01  1877      1  HAR  NL  60  271  55   90    3    6\n",
        "94         950  suttoez01  1877      1  BSN  NL  58  253  43   74   10    6\n",
        "95         953  whitede01  1877      1  BSN  NL  59  266  51  103   14   11\n",
        "96         957   yorkto01  1877      1  HAR  NL  56  237  43   67   16    7\n",
        "97         959  ansonca01  1878      1  CHN  NL  60  261  55   89   12    2\n",
        "98         960  bennech01  1878      1  ML2  NL  49  184  16   45    9    0\n",
        "99         964  burdoja01  1878      1  BSN  NL  60  246  37   64   12    6\n"
       ]
      }
     ],
     "prompt_number": 187
    },
    {
     "cell_type": "code",
     "collapsed": false,
     "input": [
      "set_option('display.width', 40)\n",
      "print DataFrame(randn(3, 12))"
     ],
     "language": "python",
     "metadata": {},
     "outputs": [
      {
       "output_type": "stream",
       "stream": "stdout",
       "text": [
        "         0         1         2   \\\n",
        "0 -0.115427 -0.592294 -1.958091   \n",
        "1 -1.207167  0.993472  0.658509   \n",
        "2 -1.277894  0.073884 -0.016433   \n",
        "\n",
        "         3         4         5   \\\n",
        "0 -0.970559  0.333239  0.501003   \n",
        "1  0.419105  0.100044  1.823996   \n",
        "2  0.179750  1.117092  2.070167   \n",
        "\n",
        "         6         7         8   \\\n",
        "0 -0.818379 -0.935125 -3.356308   \n",
        "1 -0.391306 -0.808096 -1.370883   \n",
        "2  0.446693 -0.493745  1.379316   \n",
        "\n",
        "         9         10        11  \n",
        "0 -0.262343  2.504759  0.431831  \n",
        "1 -1.447033 -0.818990  0.424961  \n",
        "2  0.738341  0.959845  0.155642  \n"
       ]
      }
     ],
     "prompt_number": 189
    },
    {
     "cell_type": "heading",
     "level": 3,
     "metadata": {},
     "source": [
      "DataFrame column attribute access and IPython completion"
     ]
    },
    {
     "cell_type": "code",
     "collapsed": false,
     "input": [
      "df = DataFrame({'foo1' : np.random.randn(5),\n",
      "                'foo2' : np.random.randn(5)})\n",
      "df"
     ],
     "language": "python",
     "metadata": {},
     "outputs": [
      {
       "html": [
        "<div style=\"max-height:1000px;max-width:1500px;overflow:auto;\">\n",
        "<table border=\"1\" class=\"dataframe\">\n",
        "  <thead>\n",
        "    <tr style=\"text-align: right;\">\n",
        "      <th></th>\n",
        "      <th>foo1</th>\n",
        "      <th>foo2</th>\n",
        "    </tr>\n",
        "  </thead>\n",
        "  <tbody>\n",
        "    <tr>\n",
        "      <th>0</th>\n",
        "      <td> 0.330852</td>\n",
        "      <td>-1.134628</td>\n",
        "    </tr>\n",
        "    <tr>\n",
        "      <th>1</th>\n",
        "      <td> 0.027443</td>\n",
        "      <td> 1.499474</td>\n",
        "    </tr>\n",
        "    <tr>\n",
        "      <th>2</th>\n",
        "      <td>-0.616967</td>\n",
        "      <td> 0.557473</td>\n",
        "    </tr>\n",
        "    <tr>\n",
        "      <th>3</th>\n",
        "      <td> 1.784774</td>\n",
        "      <td> 1.140014</td>\n",
        "    </tr>\n",
        "    <tr>\n",
        "      <th>4</th>\n",
        "      <td>-0.885482</td>\n",
        "      <td> 0.265236</td>\n",
        "    </tr>\n",
        "  </tbody>\n",
        "</table>\n",
        "</div>"
       ],
       "metadata": {},
       "output_type": "pyout",
       "prompt_number": 190,
       "text": [
        "       foo1      foo2\n",
        "0  0.330852 -1.134628\n",
        "1  0.027443  1.499474\n",
        "2 -0.616967  0.557473\n",
        "3  1.784774  1.140014\n",
        "4 -0.885482  0.265236"
       ]
      }
     ],
     "prompt_number": 190
    },
    {
     "cell_type": "code",
     "collapsed": false,
     "input": [
      "df.foo1"
     ],
     "language": "python",
     "metadata": {},
     "outputs": [
      {
       "metadata": {},
       "output_type": "pyout",
       "prompt_number": 191,
       "text": [
        "0    0.330852\n",
        "1    0.027443\n",
        "2   -0.616967\n",
        "3    1.784774\n",
        "4   -0.885482\n",
        "Name: foo1, dtype: float64"
       ]
      }
     ],
     "prompt_number": 191
    },
    {
     "cell_type": "heading",
     "level": 2,
     "metadata": {},
     "source": [
      "Panel"
     ]
    },
    {
     "cell_type": "code",
     "collapsed": false,
     "input": [
      "wp = Panel(randn(2, 5, 4), items=['Item1', 'Item2'],\n",
      "           major_axis=date_range('1/1/2000', periods=5),\n",
      "           minor_axis=['A', 'B', 'C', 'D'])\n",
      "wp"
     ],
     "language": "python",
     "metadata": {},
     "outputs": [
      {
       "metadata": {},
       "output_type": "pyout",
       "prompt_number": 192,
       "text": [
        "<class 'pandas.core.panel.Panel'>\n",
        "Dimensions: 2 (items) x 5 (major_axis) x 4 (minor_axis)\n",
        "Items axis: Item1 to Item2\n",
        "Major_axis axis: 2000-01-01 00:00:00 to 2000-01-05 00:00:00\n",
        "Minor_axis axis: A to D"
       ]
      }
     ],
     "prompt_number": 192
    },
    {
     "cell_type": "code",
     "collapsed": false,
     "input": [
      "data = {'Item1' : DataFrame(randn(4, 3)),\n",
      "        'Item2' : DataFrame(randn(4, 2))}\n",
      "Panel(data)"
     ],
     "language": "python",
     "metadata": {},
     "outputs": [
      {
       "metadata": {},
       "output_type": "pyout",
       "prompt_number": 194,
       "text": [
        "<class 'pandas.core.panel.Panel'>\n",
        "Dimensions: 2 (items) x 4 (major_axis) x 3 (minor_axis)\n",
        "Items axis: Item1 to Item2\n",
        "Major_axis axis: 0 to 3\n",
        "Minor_axis axis: 0 to 2"
       ]
      }
     ],
     "prompt_number": 194
    },
    {
     "cell_type": "heading",
     "level": 3,
     "metadata": {},
     "source": [
      "From DataFrame using to_panel method"
     ]
    },
    {
     "cell_type": "code",
     "collapsed": false,
     "input": [
      "midx = MultiIndex(levels=[['one', 'two'], ['x', 'y']],\n",
      "                  labels=[[0,0,1,1], [0,1,0,1]])\n",
      "df = DataFrame({'A' : [1, 2, 3, 4], 'B': [5, 6, 7, 8]}, index=midx)\n",
      "df\n"
     ],
     "language": "python",
     "metadata": {},
     "outputs": [
      {
       "html": [
        "<div style=\"max-height:1000px;max-width:1500px;overflow:auto;\">\n",
        "<table border=\"1\" class=\"dataframe\">\n",
        "  <thead>\n",
        "    <tr style=\"text-align: right;\">\n",
        "      <th></th>\n",
        "      <th></th>\n",
        "      <th>A</th>\n",
        "      <th>B</th>\n",
        "    </tr>\n",
        "  </thead>\n",
        "  <tbody>\n",
        "    <tr>\n",
        "      <th rowspan=\"2\" valign=\"top\">one</th>\n",
        "      <th>x</th>\n",
        "      <td> 1</td>\n",
        "      <td> 5</td>\n",
        "    </tr>\n",
        "    <tr>\n",
        "      <th>y</th>\n",
        "      <td> 2</td>\n",
        "      <td> 6</td>\n",
        "    </tr>\n",
        "    <tr>\n",
        "      <th rowspan=\"2\" valign=\"top\">two</th>\n",
        "      <th>x</th>\n",
        "      <td> 3</td>\n",
        "      <td> 7</td>\n",
        "    </tr>\n",
        "    <tr>\n",
        "      <th>y</th>\n",
        "      <td> 4</td>\n",
        "      <td> 8</td>\n",
        "    </tr>\n",
        "  </tbody>\n",
        "</table>\n",
        "</div>"
       ],
       "metadata": {},
       "output_type": "pyout",
       "prompt_number": 199,
       "text": [
        "       A  B\n",
        "one x  1  5\n",
        "    y  2  6\n",
        "two x  3  7\n",
        "    y  4  8"
       ]
      }
     ],
     "prompt_number": 199
    },
    {
     "cell_type": "heading",
     "level": 3,
     "metadata": {},
     "source": [
      "Item selection / addition / deletion"
     ]
    },
    {
     "cell_type": "code",
     "collapsed": false,
     "input": [
      "wp['Item1']"
     ],
     "language": "python",
     "metadata": {},
     "outputs": [
      {
       "html": [
        "<div style=\"max-height:1000px;max-width:1500px;overflow:auto;\">\n",
        "<table border=\"1\" class=\"dataframe\">\n",
        "  <thead>\n",
        "    <tr style=\"text-align: right;\">\n",
        "      <th></th>\n",
        "      <th>A</th>\n",
        "      <th>B</th>\n",
        "      <th>C</th>\n",
        "      <th>D</th>\n",
        "    </tr>\n",
        "  </thead>\n",
        "  <tbody>\n",
        "    <tr>\n",
        "      <th>2000-01-01</th>\n",
        "      <td>-1.309802</td>\n",
        "      <td>-0.778787</td>\n",
        "      <td> 1.290456</td>\n",
        "      <td> 0.325712</td>\n",
        "    </tr>\n",
        "    <tr>\n",
        "      <th>2000-01-02</th>\n",
        "      <td> 0.896860</td>\n",
        "      <td> 0.386897</td>\n",
        "      <td>-0.382802</td>\n",
        "      <td> 0.578764</td>\n",
        "    </tr>\n",
        "    <tr>\n",
        "      <th>2000-01-03</th>\n",
        "      <td> 1.090257</td>\n",
        "      <td>-0.078007</td>\n",
        "      <td>-1.087703</td>\n",
        "      <td> 0.965530</td>\n",
        "    </tr>\n",
        "    <tr>\n",
        "      <th>2000-01-04</th>\n",
        "      <td>-0.689018</td>\n",
        "      <td>-0.597591</td>\n",
        "      <td> 0.099170</td>\n",
        "      <td>-0.198685</td>\n",
        "    </tr>\n",
        "    <tr>\n",
        "      <th>2000-01-05</th>\n",
        "      <td>-2.172986</td>\n",
        "      <td> 0.466145</td>\n",
        "      <td> 0.913486</td>\n",
        "      <td> 0.847665</td>\n",
        "    </tr>\n",
        "  </tbody>\n",
        "</table>\n",
        "</div>"
       ],
       "metadata": {},
       "output_type": "pyout",
       "prompt_number": 200,
       "text": [
        "                   A         B  \\\n",
        "2000-01-01 -1.309802 -0.778787   \n",
        "2000-01-02  0.896860  0.386897   \n",
        "2000-01-03  1.090257 -0.078007   \n",
        "2000-01-04 -0.689018 -0.597591   \n",
        "2000-01-05 -2.172986  0.466145   \n",
        "\n",
        "                   C         D  \n",
        "2000-01-01  1.290456  0.325712  \n",
        "2000-01-02 -0.382802  0.578764  \n",
        "2000-01-03 -1.087703  0.965530  \n",
        "2000-01-04  0.099170 -0.198685  \n",
        "2000-01-05  0.913486  0.847665  "
       ]
      }
     ],
     "prompt_number": 200
    },
    {
     "cell_type": "code",
     "collapsed": false,
     "input": [
      "wp['Item3'] = wp['Item1'] / wp['Item2']\n",
      "wp"
     ],
     "language": "python",
     "metadata": {},
     "outputs": [
      {
       "metadata": {},
       "output_type": "pyout",
       "prompt_number": 202,
       "text": [
        "<class 'pandas.core.panel.Panel'>\n",
        "Dimensions: 3 (items) x 5 (major_axis) x 4 (minor_axis)\n",
        "Items axis: Item1 to Item3\n",
        "Major_axis axis: 2000-01-01 00:00:00 to 2000-01-05 00:00:00\n",
        "Minor_axis axis: A to D"
       ]
      }
     ],
     "prompt_number": 202
    },
    {
     "cell_type": "heading",
     "level": 3,
     "metadata": {},
     "source": [
      "Transposing"
     ]
    },
    {
     "cell_type": "code",
     "collapsed": false,
     "input": [
      "wp.transpose(0, 2, 1)"
     ],
     "language": "python",
     "metadata": {},
     "outputs": [
      {
       "metadata": {},
       "output_type": "pyout",
       "prompt_number": 208,
       "text": [
        "<class 'pandas.core.panel.Panel'>\n",
        "Dimensions: 3 (items) x 4 (major_axis) x 5 (minor_axis)\n",
        "Items axis: Item1 to Item3\n",
        "Major_axis axis: A to D\n",
        "Minor_axis axis: 2000-01-01 00:00:00 to 2000-01-05 00:00:00"
       ]
      }
     ],
     "prompt_number": 208
    },
    {
     "cell_type": "heading",
     "level": 3,
     "metadata": {},
     "source": [
      "Indexing / Selection"
     ]
    },
    {
     "cell_type": "markdown",
     "metadata": {},
     "source": [
      "Operation|Syntax|Result\n",
      "-|-|-\n",
      "Select item|wp[item]|DataFrame\n",
      "Get slice at major_axis label|wp.major_xs(val)|DataFrame\n",
      "Get slice at minor_axis label|wp.minor_xs(val)|DataFrame"
     ]
    },
    {
     "cell_type": "code",
     "collapsed": false,
     "input": [],
     "language": "python",
     "metadata": {},
     "outputs": []
    }
   ],
   "metadata": {}
  }
 ]
}