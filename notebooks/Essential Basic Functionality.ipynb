{
 "metadata": {
  "name": "",
  "signature": "sha256:e75060b751032e6d4eddefe5f4dcf964ec3e0ad108409fb3db63a7dea90f0967"
 },
 "nbformat": 3,
 "nbformat_minor": 0,
 "worksheets": [
  {
   "cells": [
    {
     "cell_type": "heading",
     "level": 1,
     "metadata": {},
     "source": [
      "Essential Basic Functionality http://pandas.pydata.org/pandas-docs/stable/basics.html"
     ]
    },
    {
     "cell_type": "code",
     "collapsed": false,
     "input": [
      "from pandas import *\n",
      "index = date_range('1/1/2000', periods=8)\n",
      "s = Series(randn(5), index=['a', 'b', 'c', 'd', 'e'])\n",
      "df = DataFrame(randn(8, 3), index=index,\n",
      "               columns=['A', 'B', 'C'])\n",
      "wp = Panel(randn(2, 5, 4), items=['Item1', 'Item2'],\n",
      "           major_axis=date_range('1/1/2000', periods=5),\n",
      "           minor_axis=['A', 'B', 'C', 'D'])"
     ],
     "language": "python",
     "metadata": {},
     "outputs": [],
     "prompt_number": 7
    },
    {
     "cell_type": "code",
     "collapsed": false,
     "input": [
      "# Head and tail\n",
      "long_series = Series(randn(1000))\n",
      "print long_series.head()\n",
      "print long_series.tail(3)"
     ],
     "language": "python",
     "metadata": {},
     "outputs": [
      {
       "output_type": "stream",
       "stream": "stdout",
       "text": [
        "0   -1.025334\n",
        "1   -0.780542\n",
        "2    0.468485\n",
        "3    0.232515\n",
        "4    0.614508\n",
        "dtype: float64\n",
        "997    1.693044\n",
        "998    0.797233\n",
        "999   -1.379984\n",
        "dtype: float64\n"
       ]
      }
     ],
     "prompt_number": 9
    },
    {
     "cell_type": "code",
     "collapsed": false,
     "input": [
      "# Raw narray\n",
      "df[:2]\n",
      "df.columns = [x.lower() for x in df.columns]\n",
      "df"
     ],
     "language": "python",
     "metadata": {},
     "outputs": [
      {
       "html": [
        "<div style=\"max-height:1000px;max-width:1500px;overflow:auto;\">\n",
        "<table border=\"1\" class=\"dataframe\">\n",
        "  <thead>\n",
        "    <tr style=\"text-align: right;\">\n",
        "      <th></th>\n",
        "      <th>a</th>\n",
        "      <th>b</th>\n",
        "      <th>c</th>\n",
        "    </tr>\n",
        "  </thead>\n",
        "  <tbody>\n",
        "    <tr>\n",
        "      <th>2000-01-01</th>\n",
        "      <td>-1.840946</td>\n",
        "      <td> 1.173508</td>\n",
        "      <td>-0.271092</td>\n",
        "    </tr>\n",
        "    <tr>\n",
        "      <th>2000-01-02</th>\n",
        "      <td> 2.104375</td>\n",
        "      <td>-1.380252</td>\n",
        "      <td> 0.233606</td>\n",
        "    </tr>\n",
        "    <tr>\n",
        "      <th>2000-01-03</th>\n",
        "      <td>-1.309080</td>\n",
        "      <td>-1.537183</td>\n",
        "      <td>-0.986815</td>\n",
        "    </tr>\n",
        "    <tr>\n",
        "      <th>2000-01-04</th>\n",
        "      <td> 2.033545</td>\n",
        "      <td>-1.486703</td>\n",
        "      <td> 0.141465</td>\n",
        "    </tr>\n",
        "    <tr>\n",
        "      <th>2000-01-05</th>\n",
        "      <td>-1.365525</td>\n",
        "      <td>-0.522539</td>\n",
        "      <td>-1.343485</td>\n",
        "    </tr>\n",
        "    <tr>\n",
        "      <th>2000-01-06</th>\n",
        "      <td>-0.721843</td>\n",
        "      <td> 0.997262</td>\n",
        "      <td>-0.323901</td>\n",
        "    </tr>\n",
        "    <tr>\n",
        "      <th>2000-01-07</th>\n",
        "      <td>-1.414604</td>\n",
        "      <td>-0.651159</td>\n",
        "      <td>-0.121592</td>\n",
        "    </tr>\n",
        "    <tr>\n",
        "      <th>2000-01-08</th>\n",
        "      <td> 1.972163</td>\n",
        "      <td> 0.551981</td>\n",
        "      <td>-0.156716</td>\n",
        "    </tr>\n",
        "  </tbody>\n",
        "</table>\n",
        "</div>"
       ],
       "metadata": {},
       "output_type": "pyout",
       "prompt_number": 11,
       "text": [
        "                   a         b         c\n",
        "2000-01-01 -1.840946  1.173508 -0.271092\n",
        "2000-01-02  2.104375 -1.380252  0.233606\n",
        "2000-01-03 -1.309080 -1.537183 -0.986815\n",
        "2000-01-04  2.033545 -1.486703  0.141465\n",
        "2000-01-05 -1.365525 -0.522539 -1.343485\n",
        "2000-01-06 -0.721843  0.997262 -0.323901\n",
        "2000-01-07 -1.414604 -0.651159 -0.121592\n",
        "2000-01-08  1.972163  0.551981 -0.156716"
       ]
      }
     ],
     "prompt_number": 11
    },
    {
     "cell_type": "code",
     "collapsed": false,
     "input": [
      "s.values"
     ],
     "language": "python",
     "metadata": {},
     "outputs": [
      {
       "metadata": {},
       "output_type": "pyout",
       "prompt_number": 12,
       "text": [
        "array([-0.42917763, -0.29547499, -0.11068184, -1.07331443, -0.22722399])"
       ]
      }
     ],
     "prompt_number": 12
    },
    {
     "cell_type": "code",
     "collapsed": false,
     "input": [
      "wp.values"
     ],
     "language": "python",
     "metadata": {},
     "outputs": [
      {
       "metadata": {},
       "output_type": "pyout",
       "prompt_number": 13,
       "text": [
        "array([[[-1.31659262, -0.2409905 , -0.00418685,  0.04757285],\n",
        "        [ 0.93902684, -0.5955472 , -0.20771417, -1.31195623],\n",
        "        [-0.08411981, -0.49355818,  1.01644416,  0.70498339],\n",
        "        [-0.78260947,  0.21857286,  0.82011789,  0.18848533],\n",
        "        [ 0.49692463,  0.2699934 ,  0.28523805, -0.23474077]],\n",
        "\n",
        "       [[-1.20963691,  0.65187148,  0.22829035,  0.12546959],\n",
        "        [-1.171729  ,  0.34453274, -0.21171898, -1.0208406 ],\n",
        "        [-1.50839529,  1.02324225,  1.0325453 , -0.41935479],\n",
        "        [ 0.72424713,  0.6569115 , -1.33873041, -1.92383777],\n",
        "        [ 0.26815696, -0.32061476,  0.53721512,  0.85838457]]])"
       ]
      }
     ],
     "prompt_number": 13
    },
    {
     "cell_type": "heading",
     "level": 2,
     "metadata": {},
     "source": [
      "Matching / broadcasting behavior"
     ]
    },
    {
     "cell_type": "code",
     "collapsed": false,
     "input": [
      "df = DataFrame({'one' : Series(randn(3), index=['a', 'b', 'c']),\n",
      "                'two' : Series(randn(4), index=['a', 'b', 'c', 'd']),\n",
      "                'three' : Series(randn(3), index=['b', 'c', 'd'])})\n",
      "df"
     ],
     "language": "python",
     "metadata": {},
     "outputs": [
      {
       "html": [
        "<div style=\"max-height:1000px;max-width:1500px;overflow:auto;\">\n",
        "<table border=\"1\" class=\"dataframe\">\n",
        "  <thead>\n",
        "    <tr style=\"text-align: right;\">\n",
        "      <th></th>\n",
        "      <th>one</th>\n",
        "      <th>three</th>\n",
        "      <th>two</th>\n",
        "    </tr>\n",
        "  </thead>\n",
        "  <tbody>\n",
        "    <tr>\n",
        "      <th>a</th>\n",
        "      <td> 0.037538</td>\n",
        "      <td>      NaN</td>\n",
        "      <td> 0.745711</td>\n",
        "    </tr>\n",
        "    <tr>\n",
        "      <th>b</th>\n",
        "      <td> 0.187367</td>\n",
        "      <td> 0.030988</td>\n",
        "      <td> 2.093206</td>\n",
        "    </tr>\n",
        "    <tr>\n",
        "      <th>c</th>\n",
        "      <td>-0.383902</td>\n",
        "      <td> 1.602043</td>\n",
        "      <td>-0.841072</td>\n",
        "    </tr>\n",
        "    <tr>\n",
        "      <th>d</th>\n",
        "      <td>      NaN</td>\n",
        "      <td> 0.246514</td>\n",
        "      <td>-1.312603</td>\n",
        "    </tr>\n",
        "  </tbody>\n",
        "</table>\n",
        "</div>"
       ],
       "metadata": {},
       "output_type": "pyout",
       "prompt_number": 14,
       "text": [
        "        one     three       two\n",
        "a  0.037538       NaN  0.745711\n",
        "b  0.187367  0.030988  2.093206\n",
        "c -0.383902  1.602043 -0.841072\n",
        "d       NaN  0.246514 -1.312603"
       ]
      }
     ],
     "prompt_number": 14
    },
    {
     "cell_type": "code",
     "collapsed": false,
     "input": [
      "row = df.ix[1]\n",
      "column = df[\"two\"]\n",
      "df.sub(row, axis='columns')"
     ],
     "language": "python",
     "metadata": {},
     "outputs": [
      {
       "html": [
        "<div style=\"max-height:1000px;max-width:1500px;overflow:auto;\">\n",
        "<table border=\"1\" class=\"dataframe\">\n",
        "  <thead>\n",
        "    <tr style=\"text-align: right;\">\n",
        "      <th></th>\n",
        "      <th>one</th>\n",
        "      <th>three</th>\n",
        "      <th>two</th>\n",
        "    </tr>\n",
        "  </thead>\n",
        "  <tbody>\n",
        "    <tr>\n",
        "      <th>a</th>\n",
        "      <td>-0.149829</td>\n",
        "      <td>      NaN</td>\n",
        "      <td>-1.347495</td>\n",
        "    </tr>\n",
        "    <tr>\n",
        "      <th>b</th>\n",
        "      <td> 0.000000</td>\n",
        "      <td> 0.000000</td>\n",
        "      <td> 0.000000</td>\n",
        "    </tr>\n",
        "    <tr>\n",
        "      <th>c</th>\n",
        "      <td>-0.571269</td>\n",
        "      <td> 1.571055</td>\n",
        "      <td>-2.934278</td>\n",
        "    </tr>\n",
        "    <tr>\n",
        "      <th>d</th>\n",
        "      <td>      NaN</td>\n",
        "      <td> 0.215526</td>\n",
        "      <td>-3.405809</td>\n",
        "    </tr>\n",
        "  </tbody>\n",
        "</table>\n",
        "</div>"
       ],
       "metadata": {},
       "output_type": "pyout",
       "prompt_number": 17,
       "text": [
        "        one     three       two\n",
        "a -0.149829       NaN -1.347495\n",
        "b  0.000000  0.000000  0.000000\n",
        "c -0.571269  1.571055 -2.934278\n",
        "d       NaN  0.215526 -3.405809"
       ]
      }
     ],
     "prompt_number": 17
    },
    {
     "cell_type": "code",
     "collapsed": false,
     "input": [
      "df.sub(row, axis=1)"
     ],
     "language": "python",
     "metadata": {},
     "outputs": [
      {
       "html": [
        "<div style=\"max-height:1000px;max-width:1500px;overflow:auto;\">\n",
        "<table border=\"1\" class=\"dataframe\">\n",
        "  <thead>\n",
        "    <tr style=\"text-align: right;\">\n",
        "      <th></th>\n",
        "      <th>one</th>\n",
        "      <th>three</th>\n",
        "      <th>two</th>\n",
        "    </tr>\n",
        "  </thead>\n",
        "  <tbody>\n",
        "    <tr>\n",
        "      <th>a</th>\n",
        "      <td>-0.149829</td>\n",
        "      <td>      NaN</td>\n",
        "      <td>-1.347495</td>\n",
        "    </tr>\n",
        "    <tr>\n",
        "      <th>b</th>\n",
        "      <td> 0.000000</td>\n",
        "      <td> 0.000000</td>\n",
        "      <td> 0.000000</td>\n",
        "    </tr>\n",
        "    <tr>\n",
        "      <th>c</th>\n",
        "      <td>-0.571269</td>\n",
        "      <td> 1.571055</td>\n",
        "      <td>-2.934278</td>\n",
        "    </tr>\n",
        "    <tr>\n",
        "      <th>d</th>\n",
        "      <td>      NaN</td>\n",
        "      <td> 0.215526</td>\n",
        "      <td>-3.405809</td>\n",
        "    </tr>\n",
        "  </tbody>\n",
        "</table>\n",
        "</div>"
       ],
       "metadata": {},
       "output_type": "pyout",
       "prompt_number": 19,
       "text": [
        "        one     three       two\n",
        "a -0.149829       NaN -1.347495\n",
        "b  0.000000  0.000000  0.000000\n",
        "c -0.571269  1.571055 -2.934278\n",
        "d       NaN  0.215526 -3.405809"
       ]
      }
     ],
     "prompt_number": 19
    },
    {
     "cell_type": "code",
     "collapsed": false,
     "input": [
      "df.sub(column, axis='index')"
     ],
     "language": "python",
     "metadata": {},
     "outputs": [
      {
       "html": [
        "<div style=\"max-height:1000px;max-width:1500px;overflow:auto;\">\n",
        "<table border=\"1\" class=\"dataframe\">\n",
        "  <thead>\n",
        "    <tr style=\"text-align: right;\">\n",
        "      <th></th>\n",
        "      <th>one</th>\n",
        "      <th>three</th>\n",
        "      <th>two</th>\n",
        "    </tr>\n",
        "  </thead>\n",
        "  <tbody>\n",
        "    <tr>\n",
        "      <th>a</th>\n",
        "      <td>-0.708173</td>\n",
        "      <td>      NaN</td>\n",
        "      <td> 0</td>\n",
        "    </tr>\n",
        "    <tr>\n",
        "      <th>b</th>\n",
        "      <td>-1.905839</td>\n",
        "      <td>-2.062218</td>\n",
        "      <td> 0</td>\n",
        "    </tr>\n",
        "    <tr>\n",
        "      <th>c</th>\n",
        "      <td> 0.457170</td>\n",
        "      <td> 2.443115</td>\n",
        "      <td> 0</td>\n",
        "    </tr>\n",
        "    <tr>\n",
        "      <th>d</th>\n",
        "      <td>      NaN</td>\n",
        "      <td> 1.559117</td>\n",
        "      <td> 0</td>\n",
        "    </tr>\n",
        "  </tbody>\n",
        "</table>\n",
        "</div>"
       ],
       "metadata": {},
       "output_type": "pyout",
       "prompt_number": 20,
       "text": [
        "        one     three  two\n",
        "a -0.708173       NaN    0\n",
        "b -1.905839 -2.062218    0\n",
        "c  0.457170  2.443115    0\n",
        "d       NaN  1.559117    0"
       ]
      }
     ],
     "prompt_number": 20
    },
    {
     "cell_type": "code",
     "collapsed": false,
     "input": [
      "df.sub(column, axis=0)"
     ],
     "language": "python",
     "metadata": {},
     "outputs": [
      {
       "html": [
        "<div style=\"max-height:1000px;max-width:1500px;overflow:auto;\">\n",
        "<table border=\"1\" class=\"dataframe\">\n",
        "  <thead>\n",
        "    <tr style=\"text-align: right;\">\n",
        "      <th></th>\n",
        "      <th>one</th>\n",
        "      <th>three</th>\n",
        "      <th>two</th>\n",
        "    </tr>\n",
        "  </thead>\n",
        "  <tbody>\n",
        "    <tr>\n",
        "      <th>a</th>\n",
        "      <td>-0.708173</td>\n",
        "      <td>      NaN</td>\n",
        "      <td> 0</td>\n",
        "    </tr>\n",
        "    <tr>\n",
        "      <th>b</th>\n",
        "      <td>-1.905839</td>\n",
        "      <td>-2.062218</td>\n",
        "      <td> 0</td>\n",
        "    </tr>\n",
        "    <tr>\n",
        "      <th>c</th>\n",
        "      <td> 0.457170</td>\n",
        "      <td> 2.443115</td>\n",
        "      <td> 0</td>\n",
        "    </tr>\n",
        "    <tr>\n",
        "      <th>d</th>\n",
        "      <td>      NaN</td>\n",
        "      <td> 1.559117</td>\n",
        "      <td> 0</td>\n",
        "    </tr>\n",
        "  </tbody>\n",
        "</table>\n",
        "</div>"
       ],
       "metadata": {},
       "output_type": "pyout",
       "prompt_number": 21,
       "text": [
        "        one     three  two\n",
        "a -0.708173       NaN    0\n",
        "b -1.905839 -2.062218    0\n",
        "c  0.457170  2.443115    0\n",
        "d       NaN  1.559117    0"
       ]
      }
     ],
     "prompt_number": 21
    },
    {
     "cell_type": "code",
     "collapsed": false,
     "input": [
      "dfmi = df.copy()\n",
      "dfmi.index = MultiIndex.from_tuples([(1,'a'),(1,'b'),(1,'c'),(2,'a')],\n",
      "                                    names=['first','second'])\n"
     ],
     "language": "python",
     "metadata": {},
     "outputs": [],
     "prompt_number": 22
    },
    {
     "cell_type": "code",
     "collapsed": false,
     "input": [
      "dfmi.sub(column, axis=0, level='second')"
     ],
     "language": "python",
     "metadata": {},
     "outputs": [
      {
       "html": [
        "<div style=\"max-height:1000px;max-width:1500px;overflow:auto;\">\n",
        "<table border=\"1\" class=\"dataframe\">\n",
        "  <thead>\n",
        "    <tr style=\"text-align: right;\">\n",
        "      <th></th>\n",
        "      <th></th>\n",
        "      <th>one</th>\n",
        "      <th>three</th>\n",
        "      <th>two</th>\n",
        "    </tr>\n",
        "    <tr>\n",
        "      <th>first</th>\n",
        "      <th>second</th>\n",
        "      <th></th>\n",
        "      <th></th>\n",
        "      <th></th>\n",
        "    </tr>\n",
        "  </thead>\n",
        "  <tbody>\n",
        "    <tr>\n",
        "      <th rowspan=\"3\" valign=\"top\">1</th>\n",
        "      <th>a</th>\n",
        "      <td>-0.708173</td>\n",
        "      <td>      NaN</td>\n",
        "      <td> 0.000000</td>\n",
        "    </tr>\n",
        "    <tr>\n",
        "      <th>b</th>\n",
        "      <td>-1.905839</td>\n",
        "      <td>-2.062218</td>\n",
        "      <td> 0.000000</td>\n",
        "    </tr>\n",
        "    <tr>\n",
        "      <th>c</th>\n",
        "      <td> 0.457170</td>\n",
        "      <td> 2.443115</td>\n",
        "      <td> 0.000000</td>\n",
        "    </tr>\n",
        "    <tr>\n",
        "      <th>2</th>\n",
        "      <th>a</th>\n",
        "      <td>      NaN</td>\n",
        "      <td>-0.499197</td>\n",
        "      <td>-2.058314</td>\n",
        "    </tr>\n",
        "  </tbody>\n",
        "</table>\n",
        "</div>"
       ],
       "metadata": {},
       "output_type": "pyout",
       "prompt_number": 23,
       "text": [
        "                   one     three       two\n",
        "first second                              \n",
        "1     a      -0.708173       NaN  0.000000\n",
        "      b      -1.905839 -2.062218  0.000000\n",
        "      c       0.457170  2.443115  0.000000\n",
        "2     a            NaN -0.499197 -2.058314"
       ]
      }
     ],
     "prompt_number": 23
    },
    {
     "cell_type": "code",
     "collapsed": false,
     "input": [
      "# On panel\n",
      "major_mean = wp.mean(axis='major')\n",
      "major_mean"
     ],
     "language": "python",
     "metadata": {},
     "outputs": [
      {
       "html": [
        "<div style=\"max-height:1000px;max-width:1500px;overflow:auto;\">\n",
        "<table border=\"1\" class=\"dataframe\">\n",
        "  <thead>\n",
        "    <tr style=\"text-align: right;\">\n",
        "      <th></th>\n",
        "      <th>Item1</th>\n",
        "      <th>Item2</th>\n",
        "    </tr>\n",
        "  </thead>\n",
        "  <tbody>\n",
        "    <tr>\n",
        "      <th>A</th>\n",
        "      <td>-0.149474</td>\n",
        "      <td>-0.579471</td>\n",
        "    </tr>\n",
        "    <tr>\n",
        "      <th>B</th>\n",
        "      <td>-0.168306</td>\n",
        "      <td> 0.471189</td>\n",
        "    </tr>\n",
        "    <tr>\n",
        "      <th>C</th>\n",
        "      <td> 0.381980</td>\n",
        "      <td> 0.049520</td>\n",
        "    </tr>\n",
        "    <tr>\n",
        "      <th>D</th>\n",
        "      <td>-0.121131</td>\n",
        "      <td>-0.476036</td>\n",
        "    </tr>\n",
        "  </tbody>\n",
        "</table>\n",
        "</div>"
       ],
       "metadata": {},
       "output_type": "pyout",
       "prompt_number": 24,
       "text": [
        "      Item1     Item2\n",
        "A -0.149474 -0.579471\n",
        "B -0.168306  0.471189\n",
        "C  0.381980  0.049520\n",
        "D -0.121131 -0.476036"
       ]
      }
     ],
     "prompt_number": 24
    },
    {
     "cell_type": "code",
     "collapsed": false,
     "input": [
      "wp.sub(major_mean, axis='major').ix[0]"
     ],
     "language": "python",
     "metadata": {},
     "outputs": [
      {
       "html": [
        "<div style=\"max-height:1000px;max-width:1500px;overflow:auto;\">\n",
        "<table border=\"1\" class=\"dataframe\">\n",
        "  <thead>\n",
        "    <tr style=\"text-align: right;\">\n",
        "      <th></th>\n",
        "      <th>A</th>\n",
        "      <th>B</th>\n",
        "      <th>C</th>\n",
        "      <th>D</th>\n",
        "    </tr>\n",
        "  </thead>\n",
        "  <tbody>\n",
        "    <tr>\n",
        "      <th>2000-01-01</th>\n",
        "      <td>-1.167119</td>\n",
        "      <td>-0.072685</td>\n",
        "      <td>-0.386167</td>\n",
        "      <td> 0.168704</td>\n",
        "    </tr>\n",
        "    <tr>\n",
        "      <th>2000-01-02</th>\n",
        "      <td> 1.088501</td>\n",
        "      <td>-0.427241</td>\n",
        "      <td>-0.589694</td>\n",
        "      <td>-1.190825</td>\n",
        "    </tr>\n",
        "    <tr>\n",
        "      <th>2000-01-03</th>\n",
        "      <td> 0.065354</td>\n",
        "      <td>-0.325252</td>\n",
        "      <td> 0.634464</td>\n",
        "      <td> 0.826114</td>\n",
        "    </tr>\n",
        "    <tr>\n",
        "      <th>2000-01-04</th>\n",
        "      <td>-0.633135</td>\n",
        "      <td> 0.386879</td>\n",
        "      <td> 0.438138</td>\n",
        "      <td> 0.309616</td>\n",
        "    </tr>\n",
        "    <tr>\n",
        "      <th>2000-01-05</th>\n",
        "      <td> 0.646399</td>\n",
        "      <td> 0.438299</td>\n",
        "      <td>-0.096742</td>\n",
        "      <td>-0.113610</td>\n",
        "    </tr>\n",
        "  </tbody>\n",
        "</table>\n",
        "</div>"
       ],
       "metadata": {},
       "output_type": "pyout",
       "prompt_number": 35,
       "text": [
        "                   A         B         C         D\n",
        "2000-01-01 -1.167119 -0.072685 -0.386167  0.168704\n",
        "2000-01-02  1.088501 -0.427241 -0.589694 -1.190825\n",
        "2000-01-03  0.065354 -0.325252  0.634464  0.826114\n",
        "2000-01-04 -0.633135  0.386879  0.438138  0.309616\n",
        "2000-01-05  0.646399  0.438299 -0.096742 -0.113610"
       ]
      }
     ],
     "prompt_number": 35
    },
    {
     "cell_type": "heading",
     "level": 2,
     "metadata": {},
     "source": [
      "Missing data / operations with fill values"
     ]
    },
    {
     "cell_type": "code",
     "collapsed": false,
     "input": [
      "from io import *\n",
      "df = read_fwf(BytesIO(\"\"\"        one     three       two\n",
      "a -0.701368       NaN -0.087103\n",
      "b  0.109333 -0.354359  0.637674\n",
      "c -0.231617 -0.148387 -0.002666\n",
      "d       NaN -0.167407  0.104044\"\"\"), index_col=0)\n",
      "df"
     ],
     "language": "python",
     "metadata": {},
     "outputs": [
      {
       "html": [
        "<div style=\"max-height:1000px;max-width:1500px;overflow:auto;\">\n",
        "<table border=\"1\" class=\"dataframe\">\n",
        "  <thead>\n",
        "    <tr style=\"text-align: right;\">\n",
        "      <th></th>\n",
        "      <th>one</th>\n",
        "      <th>three</th>\n",
        "      <th>two</th>\n",
        "    </tr>\n",
        "  </thead>\n",
        "  <tbody>\n",
        "    <tr>\n",
        "      <th>a</th>\n",
        "      <td>-0.701368</td>\n",
        "      <td>      NaN</td>\n",
        "      <td>-0.087103</td>\n",
        "    </tr>\n",
        "    <tr>\n",
        "      <th>b</th>\n",
        "      <td> 0.109333</td>\n",
        "      <td>-0.354359</td>\n",
        "      <td> 0.637674</td>\n",
        "    </tr>\n",
        "    <tr>\n",
        "      <th>c</th>\n",
        "      <td>-0.231617</td>\n",
        "      <td>-0.148387</td>\n",
        "      <td>-0.002666</td>\n",
        "    </tr>\n",
        "    <tr>\n",
        "      <th>d</th>\n",
        "      <td>      NaN</td>\n",
        "      <td>-0.167407</td>\n",
        "      <td> 0.104044</td>\n",
        "    </tr>\n",
        "  </tbody>\n",
        "</table>\n",
        "</div>"
       ],
       "metadata": {},
       "output_type": "pyout",
       "prompt_number": 48,
       "text": [
        "        one     three       two\n",
        "a -0.701368       NaN -0.087103\n",
        "b  0.109333 -0.354359  0.637674\n",
        "c -0.231617 -0.148387 -0.002666\n",
        "d       NaN -0.167407  0.104044"
       ]
      }
     ],
     "prompt_number": 48
    },
    {
     "cell_type": "code",
     "collapsed": false,
     "input": [
      "df2 = read_fwf(BytesIO(\"\"\"        one     three       two\n",
      "a -0.701368  1.000000 -0.087103\n",
      "b  0.109333 -0.354359  0.637674\n",
      "c -0.231617 -0.148387 -0.002666\n",
      "d       NaN -0.167407  0.104044\"\"\"), index_col=0)\n",
      "df2"
     ],
     "language": "python",
     "metadata": {},
     "outputs": [
      {
       "html": [
        "<div style=\"max-height:1000px;max-width:1500px;overflow:auto;\">\n",
        "<table border=\"1\" class=\"dataframe\">\n",
        "  <thead>\n",
        "    <tr style=\"text-align: right;\">\n",
        "      <th></th>\n",
        "      <th>one</th>\n",
        "      <th>three</th>\n",
        "      <th>two</th>\n",
        "    </tr>\n",
        "  </thead>\n",
        "  <tbody>\n",
        "    <tr>\n",
        "      <th>a</th>\n",
        "      <td>-0.701368</td>\n",
        "      <td> 1.000000</td>\n",
        "      <td>-0.087103</td>\n",
        "    </tr>\n",
        "    <tr>\n",
        "      <th>b</th>\n",
        "      <td> 0.109333</td>\n",
        "      <td>-0.354359</td>\n",
        "      <td> 0.637674</td>\n",
        "    </tr>\n",
        "    <tr>\n",
        "      <th>c</th>\n",
        "      <td>-0.231617</td>\n",
        "      <td>-0.148387</td>\n",
        "      <td>-0.002666</td>\n",
        "    </tr>\n",
        "    <tr>\n",
        "      <th>d</th>\n",
        "      <td>      NaN</td>\n",
        "      <td>-0.167407</td>\n",
        "      <td> 0.104044</td>\n",
        "    </tr>\n",
        "  </tbody>\n",
        "</table>\n",
        "</div>"
       ],
       "metadata": {},
       "output_type": "pyout",
       "prompt_number": 50,
       "text": [
        "        one     three       two\n",
        "a -0.701368  1.000000 -0.087103\n",
        "b  0.109333 -0.354359  0.637674\n",
        "c -0.231617 -0.148387 -0.002666\n",
        "d       NaN -0.167407  0.104044"
       ]
      }
     ],
     "prompt_number": 50
    },
    {
     "cell_type": "code",
     "collapsed": false,
     "input": [
      "df + df2"
     ],
     "language": "python",
     "metadata": {},
     "outputs": [
      {
       "html": [
        "<div style=\"max-height:1000px;max-width:1500px;overflow:auto;\">\n",
        "<table border=\"1\" class=\"dataframe\">\n",
        "  <thead>\n",
        "    <tr style=\"text-align: right;\">\n",
        "      <th></th>\n",
        "      <th>one</th>\n",
        "      <th>three</th>\n",
        "      <th>two</th>\n",
        "    </tr>\n",
        "  </thead>\n",
        "  <tbody>\n",
        "    <tr>\n",
        "      <th>a</th>\n",
        "      <td>-1.402736</td>\n",
        "      <td>      NaN</td>\n",
        "      <td>-0.174206</td>\n",
        "    </tr>\n",
        "    <tr>\n",
        "      <th>b</th>\n",
        "      <td> 0.218666</td>\n",
        "      <td>-0.708718</td>\n",
        "      <td> 1.275348</td>\n",
        "    </tr>\n",
        "    <tr>\n",
        "      <th>c</th>\n",
        "      <td>-0.463234</td>\n",
        "      <td>-0.296774</td>\n",
        "      <td>-0.005332</td>\n",
        "    </tr>\n",
        "    <tr>\n",
        "      <th>d</th>\n",
        "      <td>      NaN</td>\n",
        "      <td>-0.334814</td>\n",
        "      <td> 0.208088</td>\n",
        "    </tr>\n",
        "  </tbody>\n",
        "</table>\n",
        "</div>"
       ],
       "metadata": {},
       "output_type": "pyout",
       "prompt_number": 52,
       "text": [
        "        one     three       two\n",
        "a -1.402736       NaN -0.174206\n",
        "b  0.218666 -0.708718  1.275348\n",
        "c -0.463234 -0.296774 -0.005332\n",
        "d       NaN -0.334814  0.208088"
       ]
      }
     ],
     "prompt_number": 52
    },
    {
     "cell_type": "code",
     "collapsed": false,
     "input": [
      "df.add(df2, fill_value=0)"
     ],
     "language": "python",
     "metadata": {},
     "outputs": [
      {
       "html": [
        "<div style=\"max-height:1000px;max-width:1500px;overflow:auto;\">\n",
        "<table border=\"1\" class=\"dataframe\">\n",
        "  <thead>\n",
        "    <tr style=\"text-align: right;\">\n",
        "      <th></th>\n",
        "      <th>one</th>\n",
        "      <th>three</th>\n",
        "      <th>two</th>\n",
        "    </tr>\n",
        "  </thead>\n",
        "  <tbody>\n",
        "    <tr>\n",
        "      <th>a</th>\n",
        "      <td>-1.402736</td>\n",
        "      <td> 1.000000</td>\n",
        "      <td>-0.174206</td>\n",
        "    </tr>\n",
        "    <tr>\n",
        "      <th>b</th>\n",
        "      <td> 0.218666</td>\n",
        "      <td>-0.708718</td>\n",
        "      <td> 1.275348</td>\n",
        "    </tr>\n",
        "    <tr>\n",
        "      <th>c</th>\n",
        "      <td>-0.463234</td>\n",
        "      <td>-0.296774</td>\n",
        "      <td>-0.005332</td>\n",
        "    </tr>\n",
        "    <tr>\n",
        "      <th>d</th>\n",
        "      <td>      NaN</td>\n",
        "      <td>-0.334814</td>\n",
        "      <td> 0.208088</td>\n",
        "    </tr>\n",
        "  </tbody>\n",
        "</table>\n",
        "</div>"
       ],
       "metadata": {},
       "output_type": "pyout",
       "prompt_number": 54,
       "text": [
        "        one     three       two\n",
        "a -1.402736  1.000000 -0.174206\n",
        "b  0.218666 -0.708718  1.275348\n",
        "c -0.463234 -0.296774 -0.005332\n",
        "d       NaN -0.334814  0.208088"
       ]
      }
     ],
     "prompt_number": 54
    },
    {
     "cell_type": "heading",
     "level": 2,
     "metadata": {},
     "source": [
      "Flexible Comparisons"
     ]
    },
    {
     "cell_type": "code",
     "collapsed": false,
     "input": [
      "df.gt(df2)"
     ],
     "language": "python",
     "metadata": {},
     "outputs": [
      {
       "html": [
        "<div style=\"max-height:1000px;max-width:1500px;overflow:auto;\">\n",
        "<table border=\"1\" class=\"dataframe\">\n",
        "  <thead>\n",
        "    <tr style=\"text-align: right;\">\n",
        "      <th></th>\n",
        "      <th>one</th>\n",
        "      <th>three</th>\n",
        "      <th>two</th>\n",
        "    </tr>\n",
        "  </thead>\n",
        "  <tbody>\n",
        "    <tr>\n",
        "      <th>a</th>\n",
        "      <td> False</td>\n",
        "      <td> False</td>\n",
        "      <td> False</td>\n",
        "    </tr>\n",
        "    <tr>\n",
        "      <th>b</th>\n",
        "      <td> False</td>\n",
        "      <td> False</td>\n",
        "      <td> False</td>\n",
        "    </tr>\n",
        "    <tr>\n",
        "      <th>c</th>\n",
        "      <td> False</td>\n",
        "      <td> False</td>\n",
        "      <td> False</td>\n",
        "    </tr>\n",
        "    <tr>\n",
        "      <th>d</th>\n",
        "      <td> False</td>\n",
        "      <td> False</td>\n",
        "      <td> False</td>\n",
        "    </tr>\n",
        "  </tbody>\n",
        "</table>\n",
        "</div>"
       ],
       "metadata": {},
       "output_type": "pyout",
       "prompt_number": 56,
       "text": [
        "     one  three    two\n",
        "a  False  False  False\n",
        "b  False  False  False\n",
        "c  False  False  False\n",
        "d  False  False  False"
       ]
      }
     ],
     "prompt_number": 56
    },
    {
     "cell_type": "code",
     "collapsed": false,
     "input": [
      "df2.ne(df)"
     ],
     "language": "python",
     "metadata": {},
     "outputs": [
      {
       "html": [
        "<div style=\"max-height:1000px;max-width:1500px;overflow:auto;\">\n",
        "<table border=\"1\" class=\"dataframe\">\n",
        "  <thead>\n",
        "    <tr style=\"text-align: right;\">\n",
        "      <th></th>\n",
        "      <th>one</th>\n",
        "      <th>three</th>\n",
        "      <th>two</th>\n",
        "    </tr>\n",
        "  </thead>\n",
        "  <tbody>\n",
        "    <tr>\n",
        "      <th>a</th>\n",
        "      <td> False</td>\n",
        "      <td>  True</td>\n",
        "      <td> False</td>\n",
        "    </tr>\n",
        "    <tr>\n",
        "      <th>b</th>\n",
        "      <td> False</td>\n",
        "      <td> False</td>\n",
        "      <td> False</td>\n",
        "    </tr>\n",
        "    <tr>\n",
        "      <th>c</th>\n",
        "      <td> False</td>\n",
        "      <td> False</td>\n",
        "      <td> False</td>\n",
        "    </tr>\n",
        "    <tr>\n",
        "      <th>d</th>\n",
        "      <td>  True</td>\n",
        "      <td> False</td>\n",
        "      <td> False</td>\n",
        "    </tr>\n",
        "  </tbody>\n",
        "</table>\n",
        "</div>"
       ],
       "metadata": {},
       "output_type": "pyout",
       "prompt_number": 57,
       "text": [
        "     one  three    two\n",
        "a  False   True  False\n",
        "b  False  False  False\n",
        "c  False  False  False\n",
        "d   True  False  False"
       ]
      }
     ],
     "prompt_number": 57
    },
    {
     "cell_type": "heading",
     "level": 2,
     "metadata": {},
     "source": [
      "Boolean Reductions"
     ]
    },
    {
     "cell_type": "code",
     "collapsed": false,
     "input": [
      "(df>0).all()"
     ],
     "language": "python",
     "metadata": {},
     "outputs": [
      {
       "metadata": {},
       "output_type": "pyout",
       "prompt_number": 58,
       "text": [
        "one      False\n",
        "three    False\n",
        "two      False\n",
        "dtype: bool"
       ]
      }
     ],
     "prompt_number": 58
    },
    {
     "cell_type": "code",
     "collapsed": false,
     "input": [
      "(df>0).any()"
     ],
     "language": "python",
     "metadata": {},
     "outputs": [
      {
       "metadata": {},
       "output_type": "pyout",
       "prompt_number": 60,
       "text": [
        "one       True\n",
        "three    False\n",
        "two       True\n",
        "dtype: bool"
       ]
      }
     ],
     "prompt_number": 60
    },
    {
     "cell_type": "code",
     "collapsed": false,
     "input": [
      "(df>0).any().any()"
     ],
     "language": "python",
     "metadata": {},
     "outputs": [
      {
       "metadata": {},
       "output_type": "pyout",
       "prompt_number": 61,
       "text": [
        "True"
       ]
      }
     ],
     "prompt_number": 61
    },
    {
     "cell_type": "code",
     "collapsed": false,
     "input": [
      "df.empty"
     ],
     "language": "python",
     "metadata": {},
     "outputs": [
      {
       "metadata": {},
       "output_type": "pyout",
       "prompt_number": 62,
       "text": [
        "False"
       ]
      }
     ],
     "prompt_number": 62
    },
    {
     "cell_type": "code",
     "collapsed": false,
     "input": [
      "DataFrame(columns=list('ABC')).empty"
     ],
     "language": "python",
     "metadata": {},
     "outputs": [
      {
       "metadata": {},
       "output_type": "pyout",
       "prompt_number": 64,
       "text": [
        "True"
       ]
      }
     ],
     "prompt_number": 64
    },
    {
     "cell_type": "heading",
     "level": 2,
     "metadata": {},
     "source": [
      "Comparing if objects are equivalent"
     ]
    },
    {
     "cell_type": "code",
     "collapsed": false,
     "input": [
      "# NaNs do not compare as equals\n",
      "df+df == df*2\n",
      "(df+df == df*2).all()\n"
     ],
     "language": "python",
     "metadata": {},
     "outputs": [
      {
       "metadata": {},
       "output_type": "pyout",
       "prompt_number": 65,
       "text": [
        "one      False\n",
        "three    False\n",
        "two       True\n",
        "dtype: bool"
       ]
      }
     ],
     "prompt_number": 65
    },
    {
     "cell_type": "heading",
     "level": 2,
     "metadata": {},
     "source": [
      "Combining overlapping data sets"
     ]
    },
    {
     "cell_type": "code",
     "collapsed": false,
     "input": [
      "df1 = DataFrame({'A' : [1., np.nan, 3., 5., np.nan],\n",
      "                 'B' : [np.nan, 2., 3., np.nan, 6.]})\n",
      "df2 = DataFrame({'A' : [5., 2., 4., np.nan, 3., 7.],\n",
      "                 'B' : [np.nan, np.nan, 3., 4., 6., 8.]})\n",
      "df1"
     ],
     "language": "python",
     "metadata": {},
     "outputs": [
      {
       "html": [
        "<div style=\"max-height:1000px;max-width:1500px;overflow:auto;\">\n",
        "<table border=\"1\" class=\"dataframe\">\n",
        "  <thead>\n",
        "    <tr style=\"text-align: right;\">\n",
        "      <th></th>\n",
        "      <th>A</th>\n",
        "      <th>B</th>\n",
        "    </tr>\n",
        "  </thead>\n",
        "  <tbody>\n",
        "    <tr>\n",
        "      <th>0</th>\n",
        "      <td>  1</td>\n",
        "      <td>NaN</td>\n",
        "    </tr>\n",
        "    <tr>\n",
        "      <th>1</th>\n",
        "      <td>NaN</td>\n",
        "      <td>  2</td>\n",
        "    </tr>\n",
        "    <tr>\n",
        "      <th>2</th>\n",
        "      <td>  3</td>\n",
        "      <td>  3</td>\n",
        "    </tr>\n",
        "    <tr>\n",
        "      <th>3</th>\n",
        "      <td>  5</td>\n",
        "      <td>NaN</td>\n",
        "    </tr>\n",
        "    <tr>\n",
        "      <th>4</th>\n",
        "      <td>NaN</td>\n",
        "      <td>  6</td>\n",
        "    </tr>\n",
        "  </tbody>\n",
        "</table>\n",
        "</div>"
       ],
       "metadata": {},
       "output_type": "pyout",
       "prompt_number": 66,
       "text": [
        "    A   B\n",
        "0   1 NaN\n",
        "1 NaN   2\n",
        "2   3   3\n",
        "3   5 NaN\n",
        "4 NaN   6"
       ]
      }
     ],
     "prompt_number": 66
    },
    {
     "cell_type": "code",
     "collapsed": false,
     "input": [
      "df2"
     ],
     "language": "python",
     "metadata": {},
     "outputs": [
      {
       "html": [
        "<div style=\"max-height:1000px;max-width:1500px;overflow:auto;\">\n",
        "<table border=\"1\" class=\"dataframe\">\n",
        "  <thead>\n",
        "    <tr style=\"text-align: right;\">\n",
        "      <th></th>\n",
        "      <th>A</th>\n",
        "      <th>B</th>\n",
        "    </tr>\n",
        "  </thead>\n",
        "  <tbody>\n",
        "    <tr>\n",
        "      <th>0</th>\n",
        "      <td>  5</td>\n",
        "      <td>NaN</td>\n",
        "    </tr>\n",
        "    <tr>\n",
        "      <th>1</th>\n",
        "      <td>  2</td>\n",
        "      <td>NaN</td>\n",
        "    </tr>\n",
        "    <tr>\n",
        "      <th>2</th>\n",
        "      <td>  4</td>\n",
        "      <td>  3</td>\n",
        "    </tr>\n",
        "    <tr>\n",
        "      <th>3</th>\n",
        "      <td>NaN</td>\n",
        "      <td>  4</td>\n",
        "    </tr>\n",
        "    <tr>\n",
        "      <th>4</th>\n",
        "      <td>  3</td>\n",
        "      <td>  6</td>\n",
        "    </tr>\n",
        "    <tr>\n",
        "      <th>5</th>\n",
        "      <td>  7</td>\n",
        "      <td>  8</td>\n",
        "    </tr>\n",
        "  </tbody>\n",
        "</table>\n",
        "</div>"
       ],
       "metadata": {},
       "output_type": "pyout",
       "prompt_number": 67,
       "text": [
        "    A   B\n",
        "0   5 NaN\n",
        "1   2 NaN\n",
        "2   4   3\n",
        "3 NaN   4\n",
        "4   3   6\n",
        "5   7   8"
       ]
      }
     ],
     "prompt_number": 67
    },
    {
     "cell_type": "code",
     "collapsed": false,
     "input": [
      "df1.combine_first(df2)"
     ],
     "language": "python",
     "metadata": {},
     "outputs": [
      {
       "html": [
        "<div style=\"max-height:1000px;max-width:1500px;overflow:auto;\">\n",
        "<table border=\"1\" class=\"dataframe\">\n",
        "  <thead>\n",
        "    <tr style=\"text-align: right;\">\n",
        "      <th></th>\n",
        "      <th>A</th>\n",
        "      <th>B</th>\n",
        "    </tr>\n",
        "  </thead>\n",
        "  <tbody>\n",
        "    <tr>\n",
        "      <th>0</th>\n",
        "      <td> 1</td>\n",
        "      <td>NaN</td>\n",
        "    </tr>\n",
        "    <tr>\n",
        "      <th>1</th>\n",
        "      <td> 2</td>\n",
        "      <td>  2</td>\n",
        "    </tr>\n",
        "    <tr>\n",
        "      <th>2</th>\n",
        "      <td> 3</td>\n",
        "      <td>  3</td>\n",
        "    </tr>\n",
        "    <tr>\n",
        "      <th>3</th>\n",
        "      <td> 5</td>\n",
        "      <td>  4</td>\n",
        "    </tr>\n",
        "    <tr>\n",
        "      <th>4</th>\n",
        "      <td> 3</td>\n",
        "      <td>  6</td>\n",
        "    </tr>\n",
        "    <tr>\n",
        "      <th>5</th>\n",
        "      <td> 7</td>\n",
        "      <td>  8</td>\n",
        "    </tr>\n",
        "  </tbody>\n",
        "</table>\n",
        "</div>"
       ],
       "metadata": {},
       "output_type": "pyout",
       "prompt_number": 68,
       "text": [
        "   A   B\n",
        "0  1 NaN\n",
        "1  2   2\n",
        "2  3   3\n",
        "3  5   4\n",
        "4  3   6\n",
        "5  7   8"
       ]
      }
     ],
     "prompt_number": 68
    },
    {
     "cell_type": "code",
     "collapsed": false,
     "input": [
      "# warp combine to combine_first\n",
      "combiner = lambda x, y: np.where(isnull(x), y, x)\n",
      "df1.combine(df2, combiner)"
     ],
     "language": "python",
     "metadata": {},
     "outputs": [
      {
       "html": [
        "<div style=\"max-height:1000px;max-width:1500px;overflow:auto;\">\n",
        "<table border=\"1\" class=\"dataframe\">\n",
        "  <thead>\n",
        "    <tr style=\"text-align: right;\">\n",
        "      <th></th>\n",
        "      <th>A</th>\n",
        "      <th>B</th>\n",
        "    </tr>\n",
        "  </thead>\n",
        "  <tbody>\n",
        "    <tr>\n",
        "      <th>0</th>\n",
        "      <td> 1</td>\n",
        "      <td>NaN</td>\n",
        "    </tr>\n",
        "    <tr>\n",
        "      <th>1</th>\n",
        "      <td> 2</td>\n",
        "      <td>  2</td>\n",
        "    </tr>\n",
        "    <tr>\n",
        "      <th>2</th>\n",
        "      <td> 3</td>\n",
        "      <td>  3</td>\n",
        "    </tr>\n",
        "    <tr>\n",
        "      <th>3</th>\n",
        "      <td> 5</td>\n",
        "      <td>  4</td>\n",
        "    </tr>\n",
        "    <tr>\n",
        "      <th>4</th>\n",
        "      <td> 3</td>\n",
        "      <td>  6</td>\n",
        "    </tr>\n",
        "    <tr>\n",
        "      <th>5</th>\n",
        "      <td> 7</td>\n",
        "      <td>  8</td>\n",
        "    </tr>\n",
        "  </tbody>\n",
        "</table>\n",
        "</div>"
       ],
       "metadata": {},
       "output_type": "pyout",
       "prompt_number": 69,
       "text": [
        "   A   B\n",
        "0  1 NaN\n",
        "1  2   2\n",
        "2  3   3\n",
        "3  5   4\n",
        "4  3   6\n",
        "5  7   8"
       ]
      }
     ],
     "prompt_number": 69
    },
    {
     "cell_type": "heading",
     "level": 2,
     "metadata": {},
     "source": [
      "Descriptive statistics"
     ]
    },
    {
     "cell_type": "code",
     "collapsed": false,
     "input": [
      "df"
     ],
     "language": "python",
     "metadata": {},
     "outputs": [
      {
       "html": [
        "<div style=\"max-height:1000px;max-width:1500px;overflow:auto;\">\n",
        "<table border=\"1\" class=\"dataframe\">\n",
        "  <thead>\n",
        "    <tr style=\"text-align: right;\">\n",
        "      <th></th>\n",
        "      <th>one</th>\n",
        "      <th>three</th>\n",
        "      <th>two</th>\n",
        "    </tr>\n",
        "  </thead>\n",
        "  <tbody>\n",
        "    <tr>\n",
        "      <th>a</th>\n",
        "      <td>-0.701368</td>\n",
        "      <td>      NaN</td>\n",
        "      <td>-0.087103</td>\n",
        "    </tr>\n",
        "    <tr>\n",
        "      <th>b</th>\n",
        "      <td> 0.109333</td>\n",
        "      <td>-0.354359</td>\n",
        "      <td> 0.637674</td>\n",
        "    </tr>\n",
        "    <tr>\n",
        "      <th>c</th>\n",
        "      <td>-0.231617</td>\n",
        "      <td>-0.148387</td>\n",
        "      <td>-0.002666</td>\n",
        "    </tr>\n",
        "    <tr>\n",
        "      <th>d</th>\n",
        "      <td>      NaN</td>\n",
        "      <td>-0.167407</td>\n",
        "      <td> 0.104044</td>\n",
        "    </tr>\n",
        "  </tbody>\n",
        "</table>\n",
        "</div>"
       ],
       "metadata": {},
       "output_type": "pyout",
       "prompt_number": 71,
       "text": [
        "        one     three       two\n",
        "a -0.701368       NaN -0.087103\n",
        "b  0.109333 -0.354359  0.637674\n",
        "c -0.231617 -0.148387 -0.002666\n",
        "d       NaN -0.167407  0.104044"
       ]
      }
     ],
     "prompt_number": 71
    },
    {
     "cell_type": "code",
     "collapsed": false,
     "input": [
      "df.mean(0)"
     ],
     "language": "python",
     "metadata": {},
     "outputs": [
      {
       "metadata": {},
       "output_type": "pyout",
       "prompt_number": 72,
       "text": [
        "one     -0.274551\n",
        "three   -0.223384\n",
        "two      0.162987\n",
        "dtype: float64"
       ]
      }
     ],
     "prompt_number": 72
    },
    {
     "cell_type": "code",
     "collapsed": false,
     "input": [
      "df.mean(1)"
     ],
     "language": "python",
     "metadata": {},
     "outputs": [
      {
       "metadata": {},
       "output_type": "pyout",
       "prompt_number": 73,
       "text": [
        "a   -0.394236\n",
        "b    0.130883\n",
        "c   -0.127557\n",
        "d   -0.031681\n",
        "dtype: float64"
       ]
      }
     ],
     "prompt_number": 73
    },
    {
     "cell_type": "code",
     "collapsed": false,
     "input": [
      "# Specifiy keep nan\n",
      "df.sum(0, skipna=False)"
     ],
     "language": "python",
     "metadata": {},
     "outputs": [
      {
       "metadata": {},
       "output_type": "pyout",
       "prompt_number": 74,
       "text": [
        "one           NaN\n",
        "three         NaN\n",
        "two      0.651949\n",
        "dtype: float64"
       ]
      }
     ],
     "prompt_number": 74
    },
    {
     "cell_type": "code",
     "collapsed": false,
     "input": [
      "df.sum(axis=1, skipna=False)"
     ],
     "language": "python",
     "metadata": {},
     "outputs": [
      {
       "metadata": {},
       "output_type": "pyout",
       "prompt_number": 75,
       "text": [
        "a         NaN\n",
        "b    0.392648\n",
        "c   -0.382670\n",
        "d         NaN\n",
        "dtype: float64"
       ]
      }
     ],
     "prompt_number": 75
    },
    {
     "cell_type": "code",
     "collapsed": false,
     "input": [
      "ts_stand = (df -df.mean())/df.std()\n",
      "ts_stand.std()"
     ],
     "language": "python",
     "metadata": {},
     "outputs": [
      {
       "metadata": {},
       "output_type": "pyout",
       "prompt_number": 78,
       "text": [
        "one      1\n",
        "three    1\n",
        "two      1\n",
        "dtype: float64"
       ]
      }
     ],
     "prompt_number": 78
    },
    {
     "cell_type": "code",
     "collapsed": false,
     "input": [
      "xs_stand = df.sub(df.mean(1), axis=0).div(df.std(1), axis=0)\n",
      "xs_stand"
     ],
     "language": "python",
     "metadata": {},
     "outputs": [
      {
       "html": [
        "<div style=\"max-height:1000px;max-width:1500px;overflow:auto;\">\n",
        "<table border=\"1\" class=\"dataframe\">\n",
        "  <thead>\n",
        "    <tr style=\"text-align: right;\">\n",
        "      <th></th>\n",
        "      <th>one</th>\n",
        "      <th>three</th>\n",
        "      <th>two</th>\n",
        "    </tr>\n",
        "  </thead>\n",
        "  <tbody>\n",
        "    <tr>\n",
        "      <th>a</th>\n",
        "      <td>-0.707107</td>\n",
        "      <td>      NaN</td>\n",
        "      <td> 0.707107</td>\n",
        "    </tr>\n",
        "    <tr>\n",
        "      <th>b</th>\n",
        "      <td>-0.043415</td>\n",
        "      <td>-0.977586</td>\n",
        "      <td> 1.021000</td>\n",
        "    </tr>\n",
        "    <tr>\n",
        "      <th>c</th>\n",
        "      <td>-0.897938</td>\n",
        "      <td>-0.179745</td>\n",
        "      <td> 1.077683</td>\n",
        "    </tr>\n",
        "    <tr>\n",
        "      <th>d</th>\n",
        "      <td>      NaN</td>\n",
        "      <td>-0.707107</td>\n",
        "      <td> 0.707107</td>\n",
        "    </tr>\n",
        "  </tbody>\n",
        "</table>\n",
        "</div>"
       ],
       "metadata": {},
       "output_type": "pyout",
       "prompt_number": 81,
       "text": [
        "        one     three       two\n",
        "a -0.707107       NaN  0.707107\n",
        "b -0.043415 -0.977586  1.021000\n",
        "c -0.897938 -0.179745  1.077683\n",
        "d       NaN -0.707107  0.707107"
       ]
      }
     ],
     "prompt_number": 81
    },
    {
     "cell_type": "code",
     "collapsed": false,
     "input": [
      "xs_stand.std(1)"
     ],
     "language": "python",
     "metadata": {},
     "outputs": [
      {
       "metadata": {},
       "output_type": "pyout",
       "prompt_number": 90,
       "text": [
        "a    1\n",
        "b    1\n",
        "c    1\n",
        "d    1\n",
        "dtype: float64"
       ]
      }
     ],
     "prompt_number": 90
    },
    {
     "cell_type": "code",
     "collapsed": false,
     "input": [
      "# df.cumsum() preserve the location of nan\n",
      "df.cumsum()"
     ],
     "language": "python",
     "metadata": {},
     "outputs": [
      {
       "html": [
        "<div style=\"max-height:1000px;max-width:1500px;overflow:auto;\">\n",
        "<table border=\"1\" class=\"dataframe\">\n",
        "  <thead>\n",
        "    <tr style=\"text-align: right;\">\n",
        "      <th></th>\n",
        "      <th>one</th>\n",
        "      <th>three</th>\n",
        "      <th>two</th>\n",
        "    </tr>\n",
        "  </thead>\n",
        "  <tbody>\n",
        "    <tr>\n",
        "      <th>a</th>\n",
        "      <td>-0.701368</td>\n",
        "      <td>      NaN</td>\n",
        "      <td>-0.087103</td>\n",
        "    </tr>\n",
        "    <tr>\n",
        "      <th>b</th>\n",
        "      <td>-0.592035</td>\n",
        "      <td>-0.354359</td>\n",
        "      <td> 0.550571</td>\n",
        "    </tr>\n",
        "    <tr>\n",
        "      <th>c</th>\n",
        "      <td>-0.823652</td>\n",
        "      <td>-0.502746</td>\n",
        "      <td> 0.547905</td>\n",
        "    </tr>\n",
        "    <tr>\n",
        "      <th>d</th>\n",
        "      <td>      NaN</td>\n",
        "      <td>-0.670153</td>\n",
        "      <td> 0.651949</td>\n",
        "    </tr>\n",
        "  </tbody>\n",
        "</table>\n",
        "</div>"
       ],
       "metadata": {},
       "output_type": "pyout",
       "prompt_number": 91,
       "text": [
        "        one     three       two\n",
        "a -0.701368       NaN -0.087103\n",
        "b -0.592035 -0.354359  0.550571\n",
        "c -0.823652 -0.502746  0.547905\n",
        "d       NaN -0.670153  0.651949"
       ]
      }
     ],
     "prompt_number": 91
    },
    {
     "cell_type": "code",
     "collapsed": false,
     "input": [
      "# nunique\n",
      "series = Series(randn(500))\n",
      "series[20:500] = np.nan\n",
      "series[10:20]  = 5\n",
      "series.nunique()"
     ],
     "language": "python",
     "metadata": {},
     "outputs": [
      {
       "metadata": {},
       "output_type": "pyout",
       "prompt_number": 92,
       "text": [
        "11"
       ]
      }
     ],
     "prompt_number": 92
    },
    {
     "cell_type": "heading",
     "level": 2,
     "metadata": {},
     "source": [
      "Summarizing data: describe"
     ]
    },
    {
     "cell_type": "code",
     "collapsed": false,
     "input": [
      "series = Series(randn(1000))\n",
      "series[::2] = np.nan\n",
      "series.describe()"
     ],
     "language": "python",
     "metadata": {},
     "outputs": [
      {
       "metadata": {},
       "output_type": "pyout",
       "prompt_number": 93,
       "text": [
        "count    500.000000\n",
        "mean       0.029144\n",
        "std        0.973621\n",
        "min       -2.929957\n",
        "25%       -0.608731\n",
        "50%        0.065653\n",
        "75%        0.748075\n",
        "max        2.447560\n",
        "dtype: float64"
       ]
      }
     ],
     "prompt_number": 93
    },
    {
     "cell_type": "code",
     "collapsed": false,
     "input": [
      "frame = DataFrame(randn(1000, 5), columns=['a', 'b', 'c', 'd', 'e'])\n",
      "frame.ix[::2] = np.nan\n",
      "frame"
     ],
     "language": "python",
     "metadata": {},
     "outputs": [
      {
       "html": [
        "<div style=\"max-height:1000px;max-width:1500px;overflow:auto;\">\n",
        "<table border=\"1\" class=\"dataframe\">\n",
        "  <thead>\n",
        "    <tr style=\"text-align: right;\">\n",
        "      <th></th>\n",
        "      <th>a</th>\n",
        "      <th>b</th>\n",
        "      <th>c</th>\n",
        "      <th>d</th>\n",
        "      <th>e</th>\n",
        "    </tr>\n",
        "  </thead>\n",
        "  <tbody>\n",
        "    <tr>\n",
        "      <th>0  </th>\n",
        "      <td>      NaN</td>\n",
        "      <td>      NaN</td>\n",
        "      <td>      NaN</td>\n",
        "      <td>      NaN</td>\n",
        "      <td>      NaN</td>\n",
        "    </tr>\n",
        "    <tr>\n",
        "      <th>1  </th>\n",
        "      <td>-0.617765</td>\n",
        "      <td> 0.030814</td>\n",
        "      <td>-1.605205</td>\n",
        "      <td>-1.897485</td>\n",
        "      <td> 0.271647</td>\n",
        "    </tr>\n",
        "    <tr>\n",
        "      <th>2  </th>\n",
        "      <td>      NaN</td>\n",
        "      <td>      NaN</td>\n",
        "      <td>      NaN</td>\n",
        "      <td>      NaN</td>\n",
        "      <td>      NaN</td>\n",
        "    </tr>\n",
        "    <tr>\n",
        "      <th>3  </th>\n",
        "      <td>-0.065126</td>\n",
        "      <td>-0.436941</td>\n",
        "      <td>-0.901997</td>\n",
        "      <td> 1.592136</td>\n",
        "      <td> 0.535066</td>\n",
        "    </tr>\n",
        "    <tr>\n",
        "      <th>4  </th>\n",
        "      <td>      NaN</td>\n",
        "      <td>      NaN</td>\n",
        "      <td>      NaN</td>\n",
        "      <td>      NaN</td>\n",
        "      <td>      NaN</td>\n",
        "    </tr>\n",
        "    <tr>\n",
        "      <th>5  </th>\n",
        "      <td> 1.485003</td>\n",
        "      <td>-0.673047</td>\n",
        "      <td>-0.557967</td>\n",
        "      <td> 0.173409</td>\n",
        "      <td>-0.347909</td>\n",
        "    </tr>\n",
        "    <tr>\n",
        "      <th>6  </th>\n",
        "      <td>      NaN</td>\n",
        "      <td>      NaN</td>\n",
        "      <td>      NaN</td>\n",
        "      <td>      NaN</td>\n",
        "      <td>      NaN</td>\n",
        "    </tr>\n",
        "    <tr>\n",
        "      <th>7  </th>\n",
        "      <td> 0.955625</td>\n",
        "      <td>-0.167260</td>\n",
        "      <td> 1.886378</td>\n",
        "      <td>-0.913343</td>\n",
        "      <td>-1.078479</td>\n",
        "    </tr>\n",
        "    <tr>\n",
        "      <th>8  </th>\n",
        "      <td>      NaN</td>\n",
        "      <td>      NaN</td>\n",
        "      <td>      NaN</td>\n",
        "      <td>      NaN</td>\n",
        "      <td>      NaN</td>\n",
        "    </tr>\n",
        "    <tr>\n",
        "      <th>9  </th>\n",
        "      <td>-0.003300</td>\n",
        "      <td> 1.447105</td>\n",
        "      <td> 0.111977</td>\n",
        "      <td>-1.607056</td>\n",
        "      <td> 0.861219</td>\n",
        "    </tr>\n",
        "    <tr>\n",
        "      <th>10 </th>\n",
        "      <td>      NaN</td>\n",
        "      <td>      NaN</td>\n",
        "      <td>      NaN</td>\n",
        "      <td>      NaN</td>\n",
        "      <td>      NaN</td>\n",
        "    </tr>\n",
        "    <tr>\n",
        "      <th>11 </th>\n",
        "      <td>-2.358868</td>\n",
        "      <td>-0.602440</td>\n",
        "      <td>-0.389080</td>\n",
        "      <td>-2.092377</td>\n",
        "      <td>-0.377786</td>\n",
        "    </tr>\n",
        "    <tr>\n",
        "      <th>12 </th>\n",
        "      <td>      NaN</td>\n",
        "      <td>      NaN</td>\n",
        "      <td>      NaN</td>\n",
        "      <td>      NaN</td>\n",
        "      <td>      NaN</td>\n",
        "    </tr>\n",
        "    <tr>\n",
        "      <th>13 </th>\n",
        "      <td> 1.154112</td>\n",
        "      <td>-0.356278</td>\n",
        "      <td>-0.163761</td>\n",
        "      <td> 0.510696</td>\n",
        "      <td> 0.325330</td>\n",
        "    </tr>\n",
        "    <tr>\n",
        "      <th>14 </th>\n",
        "      <td>      NaN</td>\n",
        "      <td>      NaN</td>\n",
        "      <td>      NaN</td>\n",
        "      <td>      NaN</td>\n",
        "      <td>      NaN</td>\n",
        "    </tr>\n",
        "    <tr>\n",
        "      <th>15 </th>\n",
        "      <td> 1.536508</td>\n",
        "      <td>-0.212154</td>\n",
        "      <td> 0.813404</td>\n",
        "      <td>-0.626656</td>\n",
        "      <td> 0.203478</td>\n",
        "    </tr>\n",
        "    <tr>\n",
        "      <th>16 </th>\n",
        "      <td>      NaN</td>\n",
        "      <td>      NaN</td>\n",
        "      <td>      NaN</td>\n",
        "      <td>      NaN</td>\n",
        "      <td>      NaN</td>\n",
        "    </tr>\n",
        "    <tr>\n",
        "      <th>17 </th>\n",
        "      <td>-0.340353</td>\n",
        "      <td> 1.006230</td>\n",
        "      <td>-1.387456</td>\n",
        "      <td>-0.613285</td>\n",
        "      <td> 0.385306</td>\n",
        "    </tr>\n",
        "    <tr>\n",
        "      <th>18 </th>\n",
        "      <td>      NaN</td>\n",
        "      <td>      NaN</td>\n",
        "      <td>      NaN</td>\n",
        "      <td>      NaN</td>\n",
        "      <td>      NaN</td>\n",
        "    </tr>\n",
        "    <tr>\n",
        "      <th>19 </th>\n",
        "      <td> 0.956261</td>\n",
        "      <td>-2.058320</td>\n",
        "      <td> 1.965068</td>\n",
        "      <td> 0.837122</td>\n",
        "      <td> 0.481778</td>\n",
        "    </tr>\n",
        "    <tr>\n",
        "      <th>20 </th>\n",
        "      <td>      NaN</td>\n",
        "      <td>      NaN</td>\n",
        "      <td>      NaN</td>\n",
        "      <td>      NaN</td>\n",
        "      <td>      NaN</td>\n",
        "    </tr>\n",
        "    <tr>\n",
        "      <th>21 </th>\n",
        "      <td> 0.370193</td>\n",
        "      <td>-0.081202</td>\n",
        "      <td>-0.378336</td>\n",
        "      <td> 0.578349</td>\n",
        "      <td>-0.081087</td>\n",
        "    </tr>\n",
        "    <tr>\n",
        "      <th>22 </th>\n",
        "      <td>      NaN</td>\n",
        "      <td>      NaN</td>\n",
        "      <td>      NaN</td>\n",
        "      <td>      NaN</td>\n",
        "      <td>      NaN</td>\n",
        "    </tr>\n",
        "    <tr>\n",
        "      <th>23 </th>\n",
        "      <td>-0.873285</td>\n",
        "      <td>-0.986682</td>\n",
        "      <td> 0.211128</td>\n",
        "      <td> 0.494080</td>\n",
        "      <td>-0.691850</td>\n",
        "    </tr>\n",
        "    <tr>\n",
        "      <th>24 </th>\n",
        "      <td>      NaN</td>\n",
        "      <td>      NaN</td>\n",
        "      <td>      NaN</td>\n",
        "      <td>      NaN</td>\n",
        "      <td>      NaN</td>\n",
        "    </tr>\n",
        "    <tr>\n",
        "      <th>25 </th>\n",
        "      <td> 0.044680</td>\n",
        "      <td> 1.388075</td>\n",
        "      <td> 1.244845</td>\n",
        "      <td>-2.246945</td>\n",
        "      <td>-0.833064</td>\n",
        "    </tr>\n",
        "    <tr>\n",
        "      <th>26 </th>\n",
        "      <td>      NaN</td>\n",
        "      <td>      NaN</td>\n",
        "      <td>      NaN</td>\n",
        "      <td>      NaN</td>\n",
        "      <td>      NaN</td>\n",
        "    </tr>\n",
        "    <tr>\n",
        "      <th>27 </th>\n",
        "      <td> 0.466248</td>\n",
        "      <td>-1.509591</td>\n",
        "      <td>-1.023208</td>\n",
        "      <td> 0.566341</td>\n",
        "      <td>-0.514248</td>\n",
        "    </tr>\n",
        "    <tr>\n",
        "      <th>28 </th>\n",
        "      <td>      NaN</td>\n",
        "      <td>      NaN</td>\n",
        "      <td>      NaN</td>\n",
        "      <td>      NaN</td>\n",
        "      <td>      NaN</td>\n",
        "    </tr>\n",
        "    <tr>\n",
        "      <th>29 </th>\n",
        "      <td> 0.364605</td>\n",
        "      <td>-0.667121</td>\n",
        "      <td> 0.245636</td>\n",
        "      <td>-1.680190</td>\n",
        "      <td>-0.086070</td>\n",
        "    </tr>\n",
        "    <tr>\n",
        "      <th>...</th>\n",
        "      <td>...</td>\n",
        "      <td>...</td>\n",
        "      <td>...</td>\n",
        "      <td>...</td>\n",
        "      <td>...</td>\n",
        "    </tr>\n",
        "    <tr>\n",
        "      <th>970</th>\n",
        "      <td>      NaN</td>\n",
        "      <td>      NaN</td>\n",
        "      <td>      NaN</td>\n",
        "      <td>      NaN</td>\n",
        "      <td>      NaN</td>\n",
        "    </tr>\n",
        "    <tr>\n",
        "      <th>971</th>\n",
        "      <td>-0.290859</td>\n",
        "      <td> 0.770376</td>\n",
        "      <td> 0.201414</td>\n",
        "      <td> 0.195981</td>\n",
        "      <td> 1.558288</td>\n",
        "    </tr>\n",
        "    <tr>\n",
        "      <th>972</th>\n",
        "      <td>      NaN</td>\n",
        "      <td>      NaN</td>\n",
        "      <td>      NaN</td>\n",
        "      <td>      NaN</td>\n",
        "      <td>      NaN</td>\n",
        "    </tr>\n",
        "    <tr>\n",
        "      <th>973</th>\n",
        "      <td> 0.436342</td>\n",
        "      <td>-0.377570</td>\n",
        "      <td>-1.552887</td>\n",
        "      <td>-1.947717</td>\n",
        "      <td> 0.116449</td>\n",
        "    </tr>\n",
        "    <tr>\n",
        "      <th>974</th>\n",
        "      <td>      NaN</td>\n",
        "      <td>      NaN</td>\n",
        "      <td>      NaN</td>\n",
        "      <td>      NaN</td>\n",
        "      <td>      NaN</td>\n",
        "    </tr>\n",
        "    <tr>\n",
        "      <th>975</th>\n",
        "      <td> 0.023615</td>\n",
        "      <td> 0.111003</td>\n",
        "      <td>-0.299425</td>\n",
        "      <td>-0.221553</td>\n",
        "      <td>-0.142955</td>\n",
        "    </tr>\n",
        "    <tr>\n",
        "      <th>976</th>\n",
        "      <td>      NaN</td>\n",
        "      <td>      NaN</td>\n",
        "      <td>      NaN</td>\n",
        "      <td>      NaN</td>\n",
        "      <td>      NaN</td>\n",
        "    </tr>\n",
        "    <tr>\n",
        "      <th>977</th>\n",
        "      <td> 0.146575</td>\n",
        "      <td> 0.138894</td>\n",
        "      <td> 0.329595</td>\n",
        "      <td>-0.274801</td>\n",
        "      <td> 1.424123</td>\n",
        "    </tr>\n",
        "    <tr>\n",
        "      <th>978</th>\n",
        "      <td>      NaN</td>\n",
        "      <td>      NaN</td>\n",
        "      <td>      NaN</td>\n",
        "      <td>      NaN</td>\n",
        "      <td>      NaN</td>\n",
        "    </tr>\n",
        "    <tr>\n",
        "      <th>979</th>\n",
        "      <td>-0.117295</td>\n",
        "      <td>-0.057767</td>\n",
        "      <td>-0.989847</td>\n",
        "      <td> 0.245675</td>\n",
        "      <td>-0.349638</td>\n",
        "    </tr>\n",
        "    <tr>\n",
        "      <th>980</th>\n",
        "      <td>      NaN</td>\n",
        "      <td>      NaN</td>\n",
        "      <td>      NaN</td>\n",
        "      <td>      NaN</td>\n",
        "      <td>      NaN</td>\n",
        "    </tr>\n",
        "    <tr>\n",
        "      <th>981</th>\n",
        "      <td> 0.578122</td>\n",
        "      <td>-0.006859</td>\n",
        "      <td>-0.106867</td>\n",
        "      <td>-0.486118</td>\n",
        "      <td>-0.670407</td>\n",
        "    </tr>\n",
        "    <tr>\n",
        "      <th>982</th>\n",
        "      <td>      NaN</td>\n",
        "      <td>      NaN</td>\n",
        "      <td>      NaN</td>\n",
        "      <td>      NaN</td>\n",
        "      <td>      NaN</td>\n",
        "    </tr>\n",
        "    <tr>\n",
        "      <th>983</th>\n",
        "      <td>-0.550455</td>\n",
        "      <td> 0.943440</td>\n",
        "      <td>-0.349415</td>\n",
        "      <td>-0.303192</td>\n",
        "      <td>-0.474057</td>\n",
        "    </tr>\n",
        "    <tr>\n",
        "      <th>984</th>\n",
        "      <td>      NaN</td>\n",
        "      <td>      NaN</td>\n",
        "      <td>      NaN</td>\n",
        "      <td>      NaN</td>\n",
        "      <td>      NaN</td>\n",
        "    </tr>\n",
        "    <tr>\n",
        "      <th>985</th>\n",
        "      <td> 0.427794</td>\n",
        "      <td>-0.705630</td>\n",
        "      <td> 2.214460</td>\n",
        "      <td>-1.375308</td>\n",
        "      <td> 0.452809</td>\n",
        "    </tr>\n",
        "    <tr>\n",
        "      <th>986</th>\n",
        "      <td>      NaN</td>\n",
        "      <td>      NaN</td>\n",
        "      <td>      NaN</td>\n",
        "      <td>      NaN</td>\n",
        "      <td>      NaN</td>\n",
        "    </tr>\n",
        "    <tr>\n",
        "      <th>987</th>\n",
        "      <td>-0.298898</td>\n",
        "      <td> 0.442867</td>\n",
        "      <td> 0.451972</td>\n",
        "      <td> 2.135313</td>\n",
        "      <td> 0.630138</td>\n",
        "    </tr>\n",
        "    <tr>\n",
        "      <th>988</th>\n",
        "      <td>      NaN</td>\n",
        "      <td>      NaN</td>\n",
        "      <td>      NaN</td>\n",
        "      <td>      NaN</td>\n",
        "      <td>      NaN</td>\n",
        "    </tr>\n",
        "    <tr>\n",
        "      <th>989</th>\n",
        "      <td> 2.067097</td>\n",
        "      <td>-0.363975</td>\n",
        "      <td>-0.453411</td>\n",
        "      <td> 0.076098</td>\n",
        "      <td> 0.479685</td>\n",
        "    </tr>\n",
        "    <tr>\n",
        "      <th>990</th>\n",
        "      <td>      NaN</td>\n",
        "      <td>      NaN</td>\n",
        "      <td>      NaN</td>\n",
        "      <td>      NaN</td>\n",
        "      <td>      NaN</td>\n",
        "    </tr>\n",
        "    <tr>\n",
        "      <th>991</th>\n",
        "      <td> 0.876736</td>\n",
        "      <td>-1.017955</td>\n",
        "      <td> 1.413630</td>\n",
        "      <td> 0.403617</td>\n",
        "      <td> 1.724444</td>\n",
        "    </tr>\n",
        "    <tr>\n",
        "      <th>992</th>\n",
        "      <td>      NaN</td>\n",
        "      <td>      NaN</td>\n",
        "      <td>      NaN</td>\n",
        "      <td>      NaN</td>\n",
        "      <td>      NaN</td>\n",
        "    </tr>\n",
        "    <tr>\n",
        "      <th>993</th>\n",
        "      <td>-0.731487</td>\n",
        "      <td>-2.487501</td>\n",
        "      <td> 0.037487</td>\n",
        "      <td>-1.112038</td>\n",
        "      <td> 0.516624</td>\n",
        "    </tr>\n",
        "    <tr>\n",
        "      <th>994</th>\n",
        "      <td>      NaN</td>\n",
        "      <td>      NaN</td>\n",
        "      <td>      NaN</td>\n",
        "      <td>      NaN</td>\n",
        "      <td>      NaN</td>\n",
        "    </tr>\n",
        "    <tr>\n",
        "      <th>995</th>\n",
        "      <td>-1.012606</td>\n",
        "      <td>-0.812230</td>\n",
        "      <td> 1.620489</td>\n",
        "      <td> 0.454932</td>\n",
        "      <td> 0.043618</td>\n",
        "    </tr>\n",
        "    <tr>\n",
        "      <th>996</th>\n",
        "      <td>      NaN</td>\n",
        "      <td>      NaN</td>\n",
        "      <td>      NaN</td>\n",
        "      <td>      NaN</td>\n",
        "      <td>      NaN</td>\n",
        "    </tr>\n",
        "    <tr>\n",
        "      <th>997</th>\n",
        "      <td>-0.655506</td>\n",
        "      <td> 0.952822</td>\n",
        "      <td>-1.845303</td>\n",
        "      <td>-0.147953</td>\n",
        "      <td>-0.900088</td>\n",
        "    </tr>\n",
        "    <tr>\n",
        "      <th>998</th>\n",
        "      <td>      NaN</td>\n",
        "      <td>      NaN</td>\n",
        "      <td>      NaN</td>\n",
        "      <td>      NaN</td>\n",
        "      <td>      NaN</td>\n",
        "    </tr>\n",
        "    <tr>\n",
        "      <th>999</th>\n",
        "      <td>-1.846790</td>\n",
        "      <td>-0.655668</td>\n",
        "      <td>-0.291764</td>\n",
        "      <td>-0.385018</td>\n",
        "      <td> 0.264692</td>\n",
        "    </tr>\n",
        "  </tbody>\n",
        "</table>\n",
        "<p>1000 rows \u00d7 5 columns</p>\n",
        "</div>"
       ],
       "metadata": {},
       "output_type": "pyout",
       "prompt_number": 96,
       "text": [
        "            a         b         c         d         e\n",
        "0         NaN       NaN       NaN       NaN       NaN\n",
        "1   -0.617765  0.030814 -1.605205 -1.897485  0.271647\n",
        "2         NaN       NaN       NaN       NaN       NaN\n",
        "3   -0.065126 -0.436941 -0.901997  1.592136  0.535066\n",
        "4         NaN       NaN       NaN       NaN       NaN\n",
        "5    1.485003 -0.673047 -0.557967  0.173409 -0.347909\n",
        "6         NaN       NaN       NaN       NaN       NaN\n",
        "7    0.955625 -0.167260  1.886378 -0.913343 -1.078479\n",
        "8         NaN       NaN       NaN       NaN       NaN\n",
        "9   -0.003300  1.447105  0.111977 -1.607056  0.861219\n",
        "10        NaN       NaN       NaN       NaN       NaN\n",
        "11  -2.358868 -0.602440 -0.389080 -2.092377 -0.377786\n",
        "12        NaN       NaN       NaN       NaN       NaN\n",
        "13   1.154112 -0.356278 -0.163761  0.510696  0.325330\n",
        "14        NaN       NaN       NaN       NaN       NaN\n",
        "15   1.536508 -0.212154  0.813404 -0.626656  0.203478\n",
        "16        NaN       NaN       NaN       NaN       NaN\n",
        "17  -0.340353  1.006230 -1.387456 -0.613285  0.385306\n",
        "18        NaN       NaN       NaN       NaN       NaN\n",
        "19   0.956261 -2.058320  1.965068  0.837122  0.481778\n",
        "20        NaN       NaN       NaN       NaN       NaN\n",
        "21   0.370193 -0.081202 -0.378336  0.578349 -0.081087\n",
        "22        NaN       NaN       NaN       NaN       NaN\n",
        "23  -0.873285 -0.986682  0.211128  0.494080 -0.691850\n",
        "24        NaN       NaN       NaN       NaN       NaN\n",
        "25   0.044680  1.388075  1.244845 -2.246945 -0.833064\n",
        "26        NaN       NaN       NaN       NaN       NaN\n",
        "27   0.466248 -1.509591 -1.023208  0.566341 -0.514248\n",
        "28        NaN       NaN       NaN       NaN       NaN\n",
        "29   0.364605 -0.667121  0.245636 -1.680190 -0.086070\n",
        "..        ...       ...       ...       ...       ...\n",
        "970       NaN       NaN       NaN       NaN       NaN\n",
        "971 -0.290859  0.770376  0.201414  0.195981  1.558288\n",
        "972       NaN       NaN       NaN       NaN       NaN\n",
        "973  0.436342 -0.377570 -1.552887 -1.947717  0.116449\n",
        "974       NaN       NaN       NaN       NaN       NaN\n",
        "975  0.023615  0.111003 -0.299425 -0.221553 -0.142955\n",
        "976       NaN       NaN       NaN       NaN       NaN\n",
        "977  0.146575  0.138894  0.329595 -0.274801  1.424123\n",
        "978       NaN       NaN       NaN       NaN       NaN\n",
        "979 -0.117295 -0.057767 -0.989847  0.245675 -0.349638\n",
        "980       NaN       NaN       NaN       NaN       NaN\n",
        "981  0.578122 -0.006859 -0.106867 -0.486118 -0.670407\n",
        "982       NaN       NaN       NaN       NaN       NaN\n",
        "983 -0.550455  0.943440 -0.349415 -0.303192 -0.474057\n",
        "984       NaN       NaN       NaN       NaN       NaN\n",
        "985  0.427794 -0.705630  2.214460 -1.375308  0.452809\n",
        "986       NaN       NaN       NaN       NaN       NaN\n",
        "987 -0.298898  0.442867  0.451972  2.135313  0.630138\n",
        "988       NaN       NaN       NaN       NaN       NaN\n",
        "989  2.067097 -0.363975 -0.453411  0.076098  0.479685\n",
        "990       NaN       NaN       NaN       NaN       NaN\n",
        "991  0.876736 -1.017955  1.413630  0.403617  1.724444\n",
        "992       NaN       NaN       NaN       NaN       NaN\n",
        "993 -0.731487 -2.487501  0.037487 -1.112038  0.516624\n",
        "994       NaN       NaN       NaN       NaN       NaN\n",
        "995 -1.012606 -0.812230  1.620489  0.454932  0.043618\n",
        "996       NaN       NaN       NaN       NaN       NaN\n",
        "997 -0.655506  0.952822 -1.845303 -0.147953 -0.900088\n",
        "998       NaN       NaN       NaN       NaN       NaN\n",
        "999 -1.846790 -0.655668 -0.291764 -0.385018  0.264692\n",
        "\n",
        "[1000 rows x 5 columns]"
       ]
      }
     ],
     "prompt_number": 96
    },
    {
     "cell_type": "code",
     "collapsed": false,
     "input": [
      "frame.describe()"
     ],
     "language": "python",
     "metadata": {},
     "outputs": [
      {
       "html": [
        "<div style=\"max-height:1000px;max-width:1500px;overflow:auto;\">\n",
        "<table border=\"1\" class=\"dataframe\">\n",
        "  <thead>\n",
        "    <tr style=\"text-align: right;\">\n",
        "      <th></th>\n",
        "      <th>a</th>\n",
        "      <th>b</th>\n",
        "      <th>c</th>\n",
        "      <th>d</th>\n",
        "      <th>e</th>\n",
        "    </tr>\n",
        "  </thead>\n",
        "  <tbody>\n",
        "    <tr>\n",
        "      <th>count</th>\n",
        "      <td> 500.000000</td>\n",
        "      <td> 500.000000</td>\n",
        "      <td> 500.000000</td>\n",
        "      <td> 500.000000</td>\n",
        "      <td> 500.000000</td>\n",
        "    </tr>\n",
        "    <tr>\n",
        "      <th>mean</th>\n",
        "      <td>  -0.051310</td>\n",
        "      <td>  -0.074580</td>\n",
        "      <td>   0.048487</td>\n",
        "      <td>  -0.016368</td>\n",
        "      <td>   0.092110</td>\n",
        "    </tr>\n",
        "    <tr>\n",
        "      <th>std</th>\n",
        "      <td>   1.042494</td>\n",
        "      <td>   1.056100</td>\n",
        "      <td>   0.997077</td>\n",
        "      <td>   0.981532</td>\n",
        "      <td>   0.934549</td>\n",
        "    </tr>\n",
        "    <tr>\n",
        "      <th>min</th>\n",
        "      <td>  -3.061750</td>\n",
        "      <td>  -2.715790</td>\n",
        "      <td>  -2.445754</td>\n",
        "      <td>  -2.723364</td>\n",
        "      <td>  -3.165574</td>\n",
        "    </tr>\n",
        "    <tr>\n",
        "      <th>25%</th>\n",
        "      <td>  -0.731774</td>\n",
        "      <td>  -0.800201</td>\n",
        "      <td>  -0.645955</td>\n",
        "      <td>  -0.636668</td>\n",
        "      <td>  -0.572016</td>\n",
        "    </tr>\n",
        "    <tr>\n",
        "      <th>50%</th>\n",
        "      <td>  -0.053633</td>\n",
        "      <td>  -0.124926</td>\n",
        "      <td>   0.072306</td>\n",
        "      <td>   0.026026</td>\n",
        "      <td>   0.117834</td>\n",
        "    </tr>\n",
        "    <tr>\n",
        "      <th>75%</th>\n",
        "      <td>   0.637814</td>\n",
        "      <td>   0.658540</td>\n",
        "      <td>   0.727783</td>\n",
        "      <td>   0.608199</td>\n",
        "      <td>   0.743361</td>\n",
        "    </tr>\n",
        "    <tr>\n",
        "      <th>max</th>\n",
        "      <td>   3.162428</td>\n",
        "      <td>   3.110711</td>\n",
        "      <td>   2.566901</td>\n",
        "      <td>   3.103349</td>\n",
        "      <td>   2.593878</td>\n",
        "    </tr>\n",
        "  </tbody>\n",
        "</table>\n",
        "</div>"
       ],
       "metadata": {},
       "output_type": "pyout",
       "prompt_number": 97,
       "text": [
        "                a           b           c           d           e\n",
        "count  500.000000  500.000000  500.000000  500.000000  500.000000\n",
        "mean    -0.051310   -0.074580    0.048487   -0.016368    0.092110\n",
        "std      1.042494    1.056100    0.997077    0.981532    0.934549\n",
        "min     -3.061750   -2.715790   -2.445754   -2.723364   -3.165574\n",
        "25%     -0.731774   -0.800201   -0.645955   -0.636668   -0.572016\n",
        "50%     -0.053633   -0.124926    0.072306    0.026026    0.117834\n",
        "75%      0.637814    0.658540    0.727783    0.608199    0.743361\n",
        "max      3.162428    3.110711    2.566901    3.103349    2.593878"
       ]
      }
     ],
     "prompt_number": 97
    },
    {
     "cell_type": "code",
     "collapsed": false,
     "input": [
      "# specific percentiles\n",
      "series.describe(percentiles=[.05, .25, .75, .95])"
     ],
     "language": "python",
     "metadata": {},
     "outputs": [
      {
       "metadata": {},
       "output_type": "pyout",
       "prompt_number": 99,
       "text": [
        "count    500.000000\n",
        "mean       0.029144\n",
        "std        0.973621\n",
        "min       -2.929957\n",
        "5%        -1.625946\n",
        "25%       -0.608731\n",
        "50%        0.065653\n",
        "75%        0.748075\n",
        "95%        1.562427\n",
        "max        2.447560\n",
        "dtype: float64"
       ]
      }
     ],
     "prompt_number": 99
    },
    {
     "cell_type": "code",
     "collapsed": false,
     "input": [
      "# Describe non-numerical value\n",
      "s = Series(['a', 'a', 'b', 'b', 'a', 'a', np.nan, 'c', 'd', 'a'])\n",
      "s.describe()"
     ],
     "language": "python",
     "metadata": {},
     "outputs": [
      {
       "metadata": {},
       "output_type": "pyout",
       "prompt_number": 100,
       "text": [
        "count     9\n",
        "unique    4\n",
        "top       a\n",
        "freq      5\n",
        "dtype: object"
       ]
      }
     ],
     "prompt_number": 100
    },
    {
     "cell_type": "heading",
     "level": 2,
     "metadata": {},
     "source": [
      "Index of Min/Max Values"
     ]
    },
    {
     "cell_type": "code",
     "collapsed": false,
     "input": [
      "s1 = Series(randn(5))\n",
      "s1"
     ],
     "language": "python",
     "metadata": {},
     "outputs": [
      {
       "metadata": {},
       "output_type": "pyout",
       "prompt_number": 101,
       "text": [
        "0   -1.334414\n",
        "1   -0.296603\n",
        "2    1.043055\n",
        "3    0.784946\n",
        "4   -0.227536\n",
        "dtype: float64"
       ]
      }
     ],
     "prompt_number": 101
    },
    {
     "cell_type": "code",
     "collapsed": false,
     "input": [
      "s1.idxmin(), s1.idxmax()"
     ],
     "language": "python",
     "metadata": {},
     "outputs": [
      {
       "metadata": {},
       "output_type": "pyout",
       "prompt_number": 103,
       "text": [
        "(0, 2)"
       ]
      }
     ],
     "prompt_number": 103
    },
    {
     "cell_type": "code",
     "collapsed": false,
     "input": [
      "df1 = DataFrame(randn(5,3), columns=['A','B','C'])\n",
      "df1"
     ],
     "language": "python",
     "metadata": {},
     "outputs": [
      {
       "html": [
        "<div style=\"max-height:1000px;max-width:1500px;overflow:auto;\">\n",
        "<table border=\"1\" class=\"dataframe\">\n",
        "  <thead>\n",
        "    <tr style=\"text-align: right;\">\n",
        "      <th></th>\n",
        "      <th>A</th>\n",
        "      <th>B</th>\n",
        "      <th>C</th>\n",
        "    </tr>\n",
        "  </thead>\n",
        "  <tbody>\n",
        "    <tr>\n",
        "      <th>0</th>\n",
        "      <td> 0.502703</td>\n",
        "      <td> 0.732781</td>\n",
        "      <td> 1.612176</td>\n",
        "    </tr>\n",
        "    <tr>\n",
        "      <th>1</th>\n",
        "      <td> 0.599175</td>\n",
        "      <td>-0.076681</td>\n",
        "      <td> 0.688444</td>\n",
        "    </tr>\n",
        "    <tr>\n",
        "      <th>2</th>\n",
        "      <td> 0.488202</td>\n",
        "      <td> 0.183891</td>\n",
        "      <td> 0.868586</td>\n",
        "    </tr>\n",
        "    <tr>\n",
        "      <th>3</th>\n",
        "      <td>-0.808239</td>\n",
        "      <td>-0.462096</td>\n",
        "      <td> 0.028739</td>\n",
        "    </tr>\n",
        "    <tr>\n",
        "      <th>4</th>\n",
        "      <td>-0.299471</td>\n",
        "      <td> 0.396502</td>\n",
        "      <td> 1.394031</td>\n",
        "    </tr>\n",
        "  </tbody>\n",
        "</table>\n",
        "</div>"
       ],
       "metadata": {},
       "output_type": "pyout",
       "prompt_number": 105,
       "text": [
        "          A         B         C\n",
        "0  0.502703  0.732781  1.612176\n",
        "1  0.599175 -0.076681  0.688444\n",
        "2  0.488202  0.183891  0.868586\n",
        "3 -0.808239 -0.462096  0.028739\n",
        "4 -0.299471  0.396502  1.394031"
       ]
      }
     ],
     "prompt_number": 105
    },
    {
     "cell_type": "code",
     "collapsed": false,
     "input": [
      "df1.idxmin(axis=0)"
     ],
     "language": "python",
     "metadata": {},
     "outputs": [
      {
       "metadata": {},
       "output_type": "pyout",
       "prompt_number": 106,
       "text": [
        "A    3\n",
        "B    3\n",
        "C    3\n",
        "dtype: int64"
       ]
      }
     ],
     "prompt_number": 106
    },
    {
     "cell_type": "code",
     "collapsed": false,
     "input": [
      "df1.idxmax(axis=1)"
     ],
     "language": "python",
     "metadata": {},
     "outputs": [
      {
       "metadata": {},
       "output_type": "pyout",
       "prompt_number": 107,
       "text": [
        "0    C\n",
        "1    C\n",
        "2    C\n",
        "3    C\n",
        "4    C\n",
        "dtype: object"
       ]
      }
     ],
     "prompt_number": 107
    },
    {
     "cell_type": "code",
     "collapsed": false,
     "input": [
      "df3 = DataFrame([2, 1, 1, 3, np.nan], columns=['A'], index=list('edcba'))\n",
      "df3"
     ],
     "language": "python",
     "metadata": {},
     "outputs": [
      {
       "html": [
        "<div style=\"max-height:1000px;max-width:1500px;overflow:auto;\">\n",
        "<table border=\"1\" class=\"dataframe\">\n",
        "  <thead>\n",
        "    <tr style=\"text-align: right;\">\n",
        "      <th></th>\n",
        "      <th>A</th>\n",
        "    </tr>\n",
        "  </thead>\n",
        "  <tbody>\n",
        "    <tr>\n",
        "      <th>e</th>\n",
        "      <td>  2</td>\n",
        "    </tr>\n",
        "    <tr>\n",
        "      <th>d</th>\n",
        "      <td>  1</td>\n",
        "    </tr>\n",
        "    <tr>\n",
        "      <th>c</th>\n",
        "      <td>  1</td>\n",
        "    </tr>\n",
        "    <tr>\n",
        "      <th>b</th>\n",
        "      <td>  3</td>\n",
        "    </tr>\n",
        "    <tr>\n",
        "      <th>a</th>\n",
        "      <td>NaN</td>\n",
        "    </tr>\n",
        "  </tbody>\n",
        "</table>\n",
        "</div>"
       ],
       "metadata": {},
       "output_type": "pyout",
       "prompt_number": 108,
       "text": [
        "    A\n",
        "e   2\n",
        "d   1\n",
        "c   1\n",
        "b   3\n",
        "a NaN"
       ]
      }
     ],
     "prompt_number": 108
    },
    {
     "cell_type": "code",
     "collapsed": false,
     "input": [
      "df3['A'].idxmin()"
     ],
     "language": "python",
     "metadata": {},
     "outputs": [
      {
       "metadata": {},
       "output_type": "pyout",
       "prompt_number": 109,
       "text": [
        "'d'"
       ]
      }
     ],
     "prompt_number": 109
    },
    {
     "cell_type": "heading",
     "level": 2,
     "metadata": {},
     "source": [
      "Value counts (histogramming) / Mode"
     ]
    },
    {
     "cell_type": "code",
     "collapsed": false,
     "input": [
      "data = np.random.randint(0, 7, size=50)\n",
      "data"
     ],
     "language": "python",
     "metadata": {},
     "outputs": [
      {
       "metadata": {},
       "output_type": "pyout",
       "prompt_number": 111,
       "text": [
        "array([1, 4, 5, 5, 2, 6, 6, 4, 4, 6, 5, 0, 0, 4, 4, 0, 5, 2, 0, 6, 1, 1, 1,\n",
        "       6, 6, 0, 3, 0, 2, 3, 6, 0, 2, 6, 5, 0, 6, 2, 0, 1, 0, 3, 6, 0, 1, 4,\n",
        "       6, 4, 1, 3])"
       ]
      }
     ],
     "prompt_number": 111
    },
    {
     "cell_type": "code",
     "collapsed": false,
     "input": [
      "s = Series(data)\n",
      "s.value_counts()"
     ],
     "language": "python",
     "metadata": {},
     "outputs": [
      {
       "metadata": {},
       "output_type": "pyout",
       "prompt_number": 115,
       "text": [
        "6    11\n",
        "0    11\n",
        "4     7\n",
        "1     7\n",
        "5     5\n",
        "2     5\n",
        "3     4\n",
        "dtype: int64"
       ]
      }
     ],
     "prompt_number": 115
    },
    {
     "cell_type": "code",
     "collapsed": false,
     "input": [
      "value_counts(data)"
     ],
     "language": "python",
     "metadata": {},
     "outputs": [
      {
       "metadata": {},
       "output_type": "pyout",
       "prompt_number": 123,
       "text": [
        "6    11\n",
        "0    11\n",
        "4     7\n",
        "1     7\n",
        "5     5\n",
        "2     5\n",
        "3     4\n",
        "dtype: int64"
       ]
      }
     ],
     "prompt_number": 123
    },
    {
     "cell_type": "code",
     "collapsed": false,
     "input": [
      "s5 = Series([1, 1, 3, 3, 3, 5, 5, 7, 7, 7])\n",
      "s5.mode()"
     ],
     "language": "python",
     "metadata": {},
     "outputs": [
      {
       "metadata": {},
       "output_type": "pyout",
       "prompt_number": 129,
       "text": [
        "0    3\n",
        "1    7\n",
        "dtype: int64"
       ]
      }
     ],
     "prompt_number": 129
    },
    {
     "cell_type": "code",
     "collapsed": false,
     "input": [
      "df5 = DataFrame({\"A\": np.random.randint(0, 7, size=50),\n",
      "                 \"B\": np.random.randint(-10, 15, size=50)})\n",
      "df5.mode()"
     ],
     "language": "python",
     "metadata": {},
     "outputs": [
      {
       "html": [
        "<div style=\"max-height:1000px;max-width:1500px;overflow:auto;\">\n",
        "<table border=\"1\" class=\"dataframe\">\n",
        "  <thead>\n",
        "    <tr style=\"text-align: right;\">\n",
        "      <th></th>\n",
        "      <th>A</th>\n",
        "      <th>B</th>\n",
        "    </tr>\n",
        "  </thead>\n",
        "  <tbody>\n",
        "    <tr>\n",
        "      <th>0</th>\n",
        "      <td> 6</td>\n",
        "      <td> 4</td>\n",
        "    </tr>\n",
        "  </tbody>\n",
        "</table>\n",
        "</div>"
       ],
       "metadata": {},
       "output_type": "pyout",
       "prompt_number": 132,
       "text": [
        "   A  B\n",
        "0  6  4"
       ]
      }
     ],
     "prompt_number": 132
    },
    {
     "cell_type": "heading",
     "level": 2,
     "metadata": {},
     "source": [
      "Discretization and quantiling"
     ]
    },
    {
     "cell_type": "code",
     "collapsed": false,
     "input": [
      "arr = np.random.randn(20)\n",
      "factor = cut(arr, 4)\n",
      "factor"
     ],
     "language": "python",
     "metadata": {},
     "outputs": [
      {
       "metadata": {},
       "output_type": "pyout",
       "prompt_number": 134,
       "text": [
        "  (-0.134, 0.527]\n",
        "   (0.527, 1.187]\n",
        "   (0.527, 1.187]\n",
        "  (-0.134, 0.527]\n",
        " (-0.798, -0.134]\n",
        " (-0.798, -0.134]\n",
        "  (-0.134, 0.527]\n",
        "  (-0.134, 0.527]\n",
        "   (1.187, 1.848]\n",
        "  (-0.134, 0.527]\n",
        "  (-0.134, 0.527]\n",
        "   (0.527, 1.187]\n",
        "   (0.527, 1.187]\n",
        " (-0.798, -0.134]\n",
        "   (0.527, 1.187]\n",
        "   (1.187, 1.848]\n",
        "  (-0.134, 0.527]\n",
        " (-0.798, -0.134]\n",
        "   (0.527, 1.187]\n",
        " (-0.798, -0.134]\n",
        "Levels (4): Index(['(-0.798, -0.134]', '(-0.134, 0.527]',\n",
        "                   '(0.527, 1.187]', '(1.187, 1.848]'], dtype=object)"
       ]
      }
     ],
     "prompt_number": 134
    },
    {
     "cell_type": "code",
     "collapsed": false,
     "input": [
      "factor = cut(arr, [-5, -1, 0, 1, 5])\n",
      "factor"
     ],
     "language": "python",
     "metadata": {},
     "outputs": [
      {
       "metadata": {},
       "output_type": "pyout",
       "prompt_number": 136,
       "text": [
        " (-1, 0]\n",
        "  (0, 1]\n",
        "  (0, 1]\n",
        " (-1, 0]\n",
        " (-1, 0]\n",
        " (-1, 0]\n",
        " (-1, 0]\n",
        "  (0, 1]\n",
        "  (1, 5]\n",
        "  (0, 1]\n",
        "  (0, 1]\n",
        "  (1, 5]\n",
        "  (0, 1]\n",
        " (-1, 0]\n",
        "  (0, 1]\n",
        "  (1, 5]\n",
        "  (0, 1]\n",
        " (-1, 0]\n",
        "  (1, 5]\n",
        " (-1, 0]\n",
        "Levels (4): Index(['(-5, -1]', '(-1, 0]', '(0, 1]', '(1, 5]'], dtype=object)"
       ]
      }
     ],
     "prompt_number": 136
    },
    {
     "cell_type": "code",
     "collapsed": false,
     "input": [
      "# slice up by qual\n",
      "arr = np.random.randn(30)\n",
      "factor = qcut(arr, [0, .25, .5, .75, 1])\n",
      "factor"
     ],
     "language": "python",
     "metadata": {},
     "outputs": [
      {
       "metadata": {},
       "output_type": "pyout",
       "prompt_number": 138,
       "text": [
        " (-0.665, -0.0585]\n",
        "    (0.776, 2.655]\n",
        " (-0.665, -0.0585]\n",
        "  (-0.0585, 0.776]\n",
        "    (0.776, 2.655]\n",
        "  (-0.0585, 0.776]\n",
        " [-2.0444, -0.665]\n",
        " (-0.665, -0.0585]\n",
        "    (0.776, 2.655]\n",
        "  (-0.0585, 0.776]\n",
        "    (0.776, 2.655]\n",
        " (-0.665, -0.0585]\n",
        " [-2.0444, -0.665]\n",
        " (-0.665, -0.0585]\n",
        "  (-0.0585, 0.776]\n",
        "    (0.776, 2.655]\n",
        "    (0.776, 2.655]\n",
        " [-2.0444, -0.665]\n",
        " [-2.0444, -0.665]\n",
        " [-2.0444, -0.665]\n",
        " (-0.665, -0.0585]\n",
        " [-2.0444, -0.665]\n",
        " (-0.665, -0.0585]\n",
        " [-2.0444, -0.665]\n",
        "    (0.776, 2.655]\n",
        "  (-0.0585, 0.776]\n",
        "  (-0.0585, 0.776]\n",
        "    (0.776, 2.655]\n",
        "  (-0.0585, 0.776]\n",
        " [-2.0444, -0.665]\n",
        "Levels (4): Index(['[-2.0444, -0.665]', '(-0.665, -0.0585]',\n",
        "                   '(-0.0585, 0.776]', '(0.776, 2.655]'], dtype=object)"
       ]
      }
     ],
     "prompt_number": 138
    },
    {
     "cell_type": "code",
     "collapsed": false,
     "input": [
      "value_counts(factor)"
     ],
     "language": "python",
     "metadata": {},
     "outputs": [
      {
       "metadata": {},
       "output_type": "pyout",
       "prompt_number": 139,
       "text": [
        "(0.776, 2.655]       8\n",
        "[-2.0444, -0.665]    8\n",
        "(-0.0585, 0.776]     7\n",
        "(-0.665, -0.0585]    7\n",
        "dtype: int64"
       ]
      }
     ],
     "prompt_number": 139
    }
   ],
   "metadata": {}
  }
 ]
}