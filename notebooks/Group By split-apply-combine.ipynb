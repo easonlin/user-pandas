{
 "metadata": {
  "name": "",
  "signature": "sha256:8d11dec3e211c9b798cc34eeb847bf2cfc83c0c2886c4d3f1a0eab2038a7b8ec"
 },
 "nbformat": 3,
 "nbformat_minor": 0,
 "worksheets": [
  {
   "cells": [
    {
     "cell_type": "heading",
     "level": 1,
     "metadata": {},
     "source": [
      "Group By: split-apply-combine http://pandas.pydata.org/pandas-docs/stable/groupby.html"
     ]
    },
    {
     "cell_type": "code",
     "collapsed": false,
     "input": [
      "from pandas import *\n",
      "from io import *\n",
      "df = DataFrame({'A' : ['foo', 'bar', 'foo', 'bar',\n",
      "                       'foo', 'bar', 'foo', 'foo'],\n",
      "                'B' : ['one', 'one', 'two', 'three',\n",
      "                       'two', 'two', 'one', 'three'],\n",
      "                'C' : randn(8), 'D' : randn(8)})\n",
      "df"
     ],
     "language": "python",
     "metadata": {},
     "outputs": [
      {
       "html": [
        "<div style=\"max-height:1000px;max-width:1500px;overflow:auto;\">\n",
        "<table border=\"1\" class=\"dataframe\">\n",
        "  <thead>\n",
        "    <tr style=\"text-align: right;\">\n",
        "      <th></th>\n",
        "      <th>A</th>\n",
        "      <th>B</th>\n",
        "      <th>C</th>\n",
        "      <th>D</th>\n",
        "    </tr>\n",
        "  </thead>\n",
        "  <tbody>\n",
        "    <tr>\n",
        "      <th>0</th>\n",
        "      <td> foo</td>\n",
        "      <td>   one</td>\n",
        "      <td>-0.221099</td>\n",
        "      <td> 1.030106</td>\n",
        "    </tr>\n",
        "    <tr>\n",
        "      <th>1</th>\n",
        "      <td> bar</td>\n",
        "      <td>   one</td>\n",
        "      <td>-0.043918</td>\n",
        "      <td> 0.172372</td>\n",
        "    </tr>\n",
        "    <tr>\n",
        "      <th>2</th>\n",
        "      <td> foo</td>\n",
        "      <td>   two</td>\n",
        "      <td>-1.197438</td>\n",
        "      <td> 1.774158</td>\n",
        "    </tr>\n",
        "    <tr>\n",
        "      <th>3</th>\n",
        "      <td> bar</td>\n",
        "      <td> three</td>\n",
        "      <td> 1.089987</td>\n",
        "      <td>-0.846492</td>\n",
        "    </tr>\n",
        "    <tr>\n",
        "      <th>4</th>\n",
        "      <td> foo</td>\n",
        "      <td>   two</td>\n",
        "      <td> 0.306855</td>\n",
        "      <td> 0.740500</td>\n",
        "    </tr>\n",
        "    <tr>\n",
        "      <th>5</th>\n",
        "      <td> bar</td>\n",
        "      <td>   two</td>\n",
        "      <td>-0.734306</td>\n",
        "      <td>-0.021936</td>\n",
        "    </tr>\n",
        "    <tr>\n",
        "      <th>6</th>\n",
        "      <td> foo</td>\n",
        "      <td>   one</td>\n",
        "      <td> 0.531201</td>\n",
        "      <td> 0.048640</td>\n",
        "    </tr>\n",
        "    <tr>\n",
        "      <th>7</th>\n",
        "      <td> foo</td>\n",
        "      <td> three</td>\n",
        "      <td> 0.700196</td>\n",
        "      <td> 0.312806</td>\n",
        "    </tr>\n",
        "  </tbody>\n",
        "</table>\n",
        "</div>"
       ],
       "metadata": {},
       "output_type": "pyout",
       "prompt_number": 1,
       "text": [
        "     A      B         C         D\n",
        "0  foo    one -0.221099  1.030106\n",
        "1  bar    one -0.043918  0.172372\n",
        "2  foo    two -1.197438  1.774158\n",
        "3  bar  three  1.089987 -0.846492\n",
        "4  foo    two  0.306855  0.740500\n",
        "5  bar    two -0.734306 -0.021936\n",
        "6  foo    one  0.531201  0.048640\n",
        "7  foo  three  0.700196  0.312806"
       ]
      }
     ],
     "prompt_number": 1
    },
    {
     "cell_type": "code",
     "collapsed": false,
     "input": [
      "# Group by label name\n",
      "grouped = df.groupby('A')\n",
      "grouped = df.groupby(['A', 'B'])"
     ],
     "language": "python",
     "metadata": {},
     "outputs": [],
     "prompt_number": 2
    },
    {
     "cell_type": "code",
     "collapsed": false,
     "input": [
      "def get_letter_type(letter):\n",
      "    if letter.lower() in 'aeiou':\n",
      "        return 'vowel'\n",
      "    else:\n",
      "        return 'consonant'\n",
      "grouped = df.groupby(get_letter_type, axis=1)"
     ],
     "language": "python",
     "metadata": {},
     "outputs": [],
     "prompt_number": 3
    },
    {
     "cell_type": "code",
     "collapsed": false,
     "input": [
      "grouped.groups"
     ],
     "language": "python",
     "metadata": {},
     "outputs": [
      {
       "metadata": {},
       "output_type": "pyout",
       "prompt_number": 4,
       "text": [
        "{'consonant': ['B', 'C', 'D'], 'vowel': ['A']}"
       ]
      }
     ],
     "prompt_number": 4
    },
    {
     "cell_type": "code",
     "collapsed": false,
     "input": [
      "# Deduplicat by groupby\n",
      "lst = [1, 2, 3, 1, 2, 3]\n",
      "s = Series([1, 2, 3, 10, 20, 30], lst)\n",
      "grouped = s.groupby(level=0)"
     ],
     "language": "python",
     "metadata": {},
     "outputs": [],
     "prompt_number": 5
    },
    {
     "cell_type": "code",
     "collapsed": false,
     "input": [
      "grouped.first()"
     ],
     "language": "python",
     "metadata": {},
     "outputs": [
      {
       "metadata": {},
       "output_type": "pyout",
       "prompt_number": 6,
       "text": [
        "1    1\n",
        "2    2\n",
        "3    3\n",
        "dtype: int64"
       ]
      }
     ],
     "prompt_number": 6
    },
    {
     "cell_type": "code",
     "collapsed": false,
     "input": [
      "grouped.last()"
     ],
     "language": "python",
     "metadata": {},
     "outputs": [
      {
       "metadata": {},
       "output_type": "pyout",
       "prompt_number": 7,
       "text": [
        "1    10\n",
        "2    20\n",
        "3    30\n",
        "dtype: int64"
       ]
      }
     ],
     "prompt_number": 7
    },
    {
     "cell_type": "code",
     "collapsed": false,
     "input": [
      "grouped.sum()"
     ],
     "language": "python",
     "metadata": {},
     "outputs": [
      {
       "metadata": {},
       "output_type": "pyout",
       "prompt_number": 8,
       "text": [
        "1    11\n",
        "2    22\n",
        "3    33\n",
        "dtype: int64"
       ]
      }
     ],
     "prompt_number": 8
    },
    {
     "cell_type": "code",
     "collapsed": false,
     "input": [
      "# Creating the GroupBy object only verifies that you\u2019ve passed a valid mapping"
     ],
     "language": "python",
     "metadata": {},
     "outputs": [],
     "prompt_number": 9
    },
    {
     "cell_type": "heading",
     "level": 2,
     "metadata": {},
     "source": [
      "GroupBy object attributes"
     ]
    },
    {
     "cell_type": "code",
     "collapsed": false,
     "input": [
      "df.groupby('A').groups"
     ],
     "language": "python",
     "metadata": {},
     "outputs": [
      {
       "metadata": {},
       "output_type": "pyout",
       "prompt_number": 10,
       "text": [
        "{'bar': [1L, 3L, 5L], 'foo': [0L, 2L, 4L, 6L, 7L]}"
       ]
      }
     ],
     "prompt_number": 10
    },
    {
     "cell_type": "code",
     "collapsed": false,
     "input": [
      "df.groupby(get_letter_type, axis=1).groups"
     ],
     "language": "python",
     "metadata": {},
     "outputs": [
      {
       "metadata": {},
       "output_type": "pyout",
       "prompt_number": 11,
       "text": [
        "{'consonant': ['B', 'C', 'D'], 'vowel': ['A']}"
       ]
      }
     ],
     "prompt_number": 11
    },
    {
     "cell_type": "code",
     "collapsed": false,
     "input": [
      "grouped = df.groupby(['A', 'B'])\n",
      "grouped.groups"
     ],
     "language": "python",
     "metadata": {},
     "outputs": [
      {
       "metadata": {},
       "output_type": "pyout",
       "prompt_number": 12,
       "text": [
        "{('bar', 'one'): [1L],\n",
        " ('bar', 'three'): [3L],\n",
        " ('bar', 'two'): [5L],\n",
        " ('foo', 'one'): [0L, 6L],\n",
        " ('foo', 'three'): [7L],\n",
        " ('foo', 'two'): [2L, 4L]}"
       ]
      }
     ],
     "prompt_number": 12
    },
    {
     "cell_type": "code",
     "collapsed": false,
     "input": [
      "len(grouped)"
     ],
     "language": "python",
     "metadata": {},
     "outputs": [
      {
       "metadata": {},
       "output_type": "pyout",
       "prompt_number": 13,
       "text": [
        "6"
       ]
      }
     ],
     "prompt_number": 13
    },
    {
     "cell_type": "code",
     "collapsed": false,
     "input": [
      "# Specific sort false for performance\n",
      "df2 = DataFrame({'X' : ['B', 'B', 'A', 'A'], 'Y' : [1, 2, 3, 4]})\n",
      "df2.groupby(['X'], sort=True).sum()"
     ],
     "language": "python",
     "metadata": {},
     "outputs": [
      {
       "html": [
        "<div style=\"max-height:1000px;max-width:1500px;overflow:auto;\">\n",
        "<table border=\"1\" class=\"dataframe\">\n",
        "  <thead>\n",
        "    <tr style=\"text-align: right;\">\n",
        "      <th></th>\n",
        "      <th>Y</th>\n",
        "    </tr>\n",
        "    <tr>\n",
        "      <th>X</th>\n",
        "      <th></th>\n",
        "    </tr>\n",
        "  </thead>\n",
        "  <tbody>\n",
        "    <tr>\n",
        "      <th>A</th>\n",
        "      <td> 7</td>\n",
        "    </tr>\n",
        "    <tr>\n",
        "      <th>B</th>\n",
        "      <td> 3</td>\n",
        "    </tr>\n",
        "  </tbody>\n",
        "</table>\n",
        "</div>"
       ],
       "metadata": {},
       "output_type": "pyout",
       "prompt_number": 14,
       "text": [
        "   Y\n",
        "X   \n",
        "A  7\n",
        "B  3"
       ]
      }
     ],
     "prompt_number": 14
    },
    {
     "cell_type": "code",
     "collapsed": false,
     "input": [
      " df2.groupby(['X'], sort=False).sum()"
     ],
     "language": "python",
     "metadata": {},
     "outputs": [
      {
       "html": [
        "<div style=\"max-height:1000px;max-width:1500px;overflow:auto;\">\n",
        "<table border=\"1\" class=\"dataframe\">\n",
        "  <thead>\n",
        "    <tr style=\"text-align: right;\">\n",
        "      <th></th>\n",
        "      <th>Y</th>\n",
        "    </tr>\n",
        "    <tr>\n",
        "      <th>X</th>\n",
        "      <th></th>\n",
        "    </tr>\n",
        "  </thead>\n",
        "  <tbody>\n",
        "    <tr>\n",
        "      <th>B</th>\n",
        "      <td> 3</td>\n",
        "    </tr>\n",
        "    <tr>\n",
        "      <th>A</th>\n",
        "      <td> 7</td>\n",
        "    </tr>\n",
        "  </tbody>\n",
        "</table>\n",
        "</div>"
       ],
       "metadata": {},
       "output_type": "pyout",
       "prompt_number": 15,
       "text": [
        "   Y\n",
        "X   \n",
        "B  3\n",
        "A  7"
       ]
      }
     ],
     "prompt_number": 15
    },
    {
     "cell_type": "code",
     "collapsed": false,
     "input": [
      "df = read_fwf(BytesIO(\"\"\"            gender     height      weight\n",
      "2000-01-01    male  42.849980  157.500553\n",
      "2000-01-02    male  49.607315  177.340407\n",
      "2000-01-03    male  56.293531  171.524640\n",
      "2000-01-04  female  48.421077  144.251986\n",
      "2000-01-05    male  46.556882  152.526206\n",
      "2000-01-06  female  68.448851  168.272968\n",
      "2000-01-07    male  70.757698  136.431469\n",
      "2000-01-08  female  58.909500  176.499753\n",
      "2000-01-09  female  76.435631  174.094104\n",
      "2000-01-10    male  45.306120  177.540920\"\"\"), index_col=0)"
     ],
     "language": "python",
     "metadata": {},
     "outputs": [],
     "prompt_number": 16
    },
    {
     "cell_type": "code",
     "collapsed": false,
     "input": [
      "gb = df.groupby('gender')"
     ],
     "language": "python",
     "metadata": {},
     "outputs": [],
     "prompt_number": 17
    },
    {
     "cell_type": "heading",
     "level": 2,
     "metadata": {},
     "source": [
      "GroupBy with MultiIndex"
     ]
    },
    {
     "cell_type": "code",
     "collapsed": false,
     "input": [
      "s = read_fwf(BytesIO(\"\"\"first  second\n",
      "bar    one      -0.575247\n",
      "bar    two       0.254161\n",
      "baz    one      -1.143704\n",
      "baz    two       0.215897\n",
      "foo    one       1.193555\n",
      "foo    two      -0.077118\n",
      "qux    one      -0.408530\n",
      "qux    two      -0.862495\"\"\"), index_col=[0, 1], squeeze=True)\n",
      "s"
     ],
     "language": "python",
     "metadata": {},
     "outputs": [
      {
       "metadata": {},
       "output_type": "pyout",
       "prompt_number": 18,
       "text": [
        "first  second\n",
        "bar    one      -0.575247\n",
        "       two       0.254161\n",
        "baz    one      -1.143704\n",
        "       two       0.215897\n",
        "foo    one       1.193555\n",
        "       two      -0.077118\n",
        "qux    one      -0.408530\n",
        "       two      -0.862495\n",
        "Name: Unnamed: 2, dtype: float64"
       ]
      }
     ],
     "prompt_number": 18
    },
    {
     "cell_type": "code",
     "collapsed": false,
     "input": [
      "grouped = s.groupby(level=0)\n",
      "grouped.sum()"
     ],
     "language": "python",
     "metadata": {},
     "outputs": [
      {
       "metadata": {},
       "output_type": "pyout",
       "prompt_number": 19,
       "text": [
        "first\n",
        "bar     -0.321086\n",
        "baz     -0.927807\n",
        "foo      1.116437\n",
        "qux     -1.271025\n",
        "Name: Unnamed: 2, dtype: float64"
       ]
      }
     ],
     "prompt_number": 19
    },
    {
     "cell_type": "code",
     "collapsed": false,
     "input": [
      "s.groupby(level='second').sum()"
     ],
     "language": "python",
     "metadata": {},
     "outputs": [
      {
       "metadata": {},
       "output_type": "pyout",
       "prompt_number": 20,
       "text": [
        "second\n",
        "one      -0.933926\n",
        "two      -0.469555\n",
        "Name: Unnamed: 2, dtype: float64"
       ]
      }
     ],
     "prompt_number": 20
    },
    {
     "cell_type": "code",
     "collapsed": false,
     "input": [
      "s.sum(level='second')"
     ],
     "language": "python",
     "metadata": {},
     "outputs": [
      {
       "metadata": {},
       "output_type": "pyout",
       "prompt_number": 21,
       "text": [
        "second\n",
        "one      -0.933926\n",
        "two      -0.469555\n",
        "Name: Unnamed: 2, dtype: float64"
       ]
      }
     ],
     "prompt_number": 21
    },
    {
     "cell_type": "code",
     "collapsed": false,
     "input": [
      "s = read_fwf(BytesIO(\"\"\"first  second  third\n",
      "bar    doo     one      1.346061\n",
      "               two      1.511763\n",
      "baz    bee     one      1.627081\n",
      "               two     -0.990582\n",
      "foo    bop     one     -0.441652\n",
      "               two      1.211526\n",
      "qux    bop     one      0.268520\n",
      "               two      0.024580\"\"\")).ffill().\\\n",
      "    set_index([\"first\", \"second\", \"third\"]).ix[:,0]\n",
      "s"
     ],
     "language": "python",
     "metadata": {},
     "outputs": [
      {
       "metadata": {},
       "output_type": "pyout",
       "prompt_number": 22,
       "text": [
        "first  second  third\n",
        "bar    doo     one      1.346061\n",
        "               two      1.511763\n",
        "baz    bee     one      1.627081\n",
        "               two     -0.990582\n",
        "foo    bop     one     -0.441652\n",
        "               two      1.211526\n",
        "qux    bop     one      0.268520\n",
        "               two      0.024580\n",
        "Name: Unnamed: 3, dtype: float64"
       ]
      }
     ],
     "prompt_number": 22
    },
    {
     "cell_type": "code",
     "collapsed": false,
     "input": [
      "s.groupby(level=['first','second']).sum()"
     ],
     "language": "python",
     "metadata": {},
     "outputs": [
      {
       "metadata": {},
       "output_type": "pyout",
       "prompt_number": 23,
       "text": [
        "first  second\n",
        "bar    doo       2.857824\n",
        "baz    bee       0.636499\n",
        "foo    bop       0.769874\n",
        "qux    bop       0.293100\n",
        "Name: Unnamed: 3, dtype: float64"
       ]
      }
     ],
     "prompt_number": 23
    },
    {
     "cell_type": "heading",
     "level": 2,
     "metadata": {},
     "source": [
      "DataFrame column selection in GroupBy"
     ]
    },
    {
     "cell_type": "code",
     "collapsed": false,
     "input": [
      "df = read_fwf(BytesIO(\"\"\"     A      B         C         D\n",
      "0  foo    one  0.469112 -0.861849\n",
      "1  bar    one -0.282863 -2.104569\n",
      "2  foo    two -1.509059 -0.494929\n",
      "3  bar  three -1.135632  1.071804\n",
      "4  foo    two  1.212112  0.721555\n",
      "5  bar    two -0.173215 -0.706771\n",
      "6  foo    one  0.119209 -1.039575\n",
      "7  foo  three -1.044236  0.271860\"\"\"), index_col=0)\n",
      "grouped = df.groupby(['A'])\n",
      "grouped_C = grouped['C']\n",
      "grouped_D = grouped['D']"
     ],
     "language": "python",
     "metadata": {},
     "outputs": [],
     "prompt_number": 24
    },
    {
     "cell_type": "code",
     "collapsed": false,
     "input": [
      "grouped"
     ],
     "language": "python",
     "metadata": {},
     "outputs": [
      {
       "metadata": {},
       "output_type": "pyout",
       "prompt_number": 25,
       "text": [
        "<pandas.core.groupby.DataFrameGroupBy object at 0x09F2ED30>"
       ]
      }
     ],
     "prompt_number": 25
    },
    {
     "cell_type": "code",
     "collapsed": false,
     "input": [
      "grouped_C"
     ],
     "language": "python",
     "metadata": {},
     "outputs": [
      {
       "metadata": {},
       "output_type": "pyout",
       "prompt_number": 26,
       "text": [
        "<pandas.core.groupby.SeriesGroupBy object at 0x09F2E770>"
       ]
      }
     ],
     "prompt_number": 26
    },
    {
     "cell_type": "code",
     "collapsed": false,
     "input": [
      "grouped_D"
     ],
     "language": "python",
     "metadata": {},
     "outputs": [
      {
       "metadata": {},
       "output_type": "pyout",
       "prompt_number": 27,
       "text": [
        "<pandas.core.groupby.SeriesGroupBy object at 0x09F2EE30>"
       ]
      }
     ],
     "prompt_number": 27
    },
    {
     "cell_type": "code",
     "collapsed": false,
     "input": [
      "# alternative\n",
      "df['C'].groupby(df['A'])"
     ],
     "language": "python",
     "metadata": {},
     "outputs": [
      {
       "metadata": {},
       "output_type": "pyout",
       "prompt_number": 28,
       "text": [
        "<pandas.core.groupby.SeriesGroupBy object at 0x09F2EE50>"
       ]
      }
     ],
     "prompt_number": 28
    },
    {
     "cell_type": "heading",
     "level": 2,
     "metadata": {},
     "source": [
      "Iterating through groups"
     ]
    },
    {
     "cell_type": "code",
     "collapsed": false,
     "input": [
      "grouped = df.groupby('A')\n",
      "for name, group in grouped:\n",
      "    print(name)\n",
      "    print(group)"
     ],
     "language": "python",
     "metadata": {},
     "outputs": [
      {
       "output_type": "stream",
       "stream": "stdout",
       "text": [
        "bar\n",
        "     A      B         C         D\n",
        "1  bar    one -0.282863 -2.104569\n",
        "3  bar  three -1.135632  1.071804\n",
        "5  bar    two -0.173215 -0.706771\n",
        "foo\n",
        "     A      B         C         D\n",
        "0  foo    one  0.469112 -0.861849\n",
        "2  foo    two -1.509059 -0.494929\n",
        "4  foo    two  1.212112  0.721555\n",
        "6  foo    one  0.119209 -1.039575\n",
        "7  foo  three -1.044236  0.271860\n"
       ]
      }
     ],
     "prompt_number": 29
    },
    {
     "cell_type": "code",
     "collapsed": false,
     "input": [
      "# Grouping by multi index\n",
      "for name, group in df.groupby(['A', 'B']):\n",
      "    print name\n",
      "    print group"
     ],
     "language": "python",
     "metadata": {},
     "outputs": [
      {
       "output_type": "stream",
       "stream": "stdout",
       "text": [
        "('bar', 'one')\n",
        "     A    B         C         D\n",
        "1  bar  one -0.282863 -2.104569\n",
        "('bar', 'three')\n",
        "     A      B         C         D\n",
        "3  bar  three -1.135632  1.071804\n",
        "('bar', 'two')\n",
        "     A    B         C         D\n",
        "5  bar  two -0.173215 -0.706771\n",
        "('foo', 'one')\n",
        "     A    B         C         D\n",
        "0  foo  one  0.469112 -0.861849\n",
        "6  foo  one  0.119209 -1.039575\n",
        "('foo', 'three')\n",
        "     A      B         C        D\n",
        "7  foo  three -1.044236  0.27186\n",
        "('foo', 'two')\n",
        "     A    B         C         D\n",
        "2  foo  two -1.509059 -0.494929\n",
        "4  foo  two  1.212112  0.721555\n"
       ]
      }
     ],
     "prompt_number": 30
    },
    {
     "cell_type": "heading",
     "level": 2,
     "metadata": {},
     "source": [
      "Aggregation"
     ]
    },
    {
     "cell_type": "code",
     "collapsed": false,
     "input": [
      "grouped = df.groupby('A')\n",
      "grouped.aggregate(np.sum)"
     ],
     "language": "python",
     "metadata": {},
     "outputs": [
      {
       "html": [
        "<div style=\"max-height:1000px;max-width:1500px;overflow:auto;\">\n",
        "<table border=\"1\" class=\"dataframe\">\n",
        "  <thead>\n",
        "    <tr style=\"text-align: right;\">\n",
        "      <th></th>\n",
        "      <th>C</th>\n",
        "      <th>D</th>\n",
        "    </tr>\n",
        "    <tr>\n",
        "      <th>A</th>\n",
        "      <th></th>\n",
        "      <th></th>\n",
        "    </tr>\n",
        "  </thead>\n",
        "  <tbody>\n",
        "    <tr>\n",
        "      <th>bar</th>\n",
        "      <td>-1.591710</td>\n",
        "      <td>-1.739536</td>\n",
        "    </tr>\n",
        "    <tr>\n",
        "      <th>foo</th>\n",
        "      <td>-0.752862</td>\n",
        "      <td>-1.402938</td>\n",
        "    </tr>\n",
        "  </tbody>\n",
        "</table>\n",
        "</div>"
       ],
       "metadata": {},
       "output_type": "pyout",
       "prompt_number": 31,
       "text": [
        "            C         D\n",
        "A                      \n",
        "bar -1.591710 -1.739536\n",
        "foo -0.752862 -1.402938"
       ]
      }
     ],
     "prompt_number": 31
    },
    {
     "cell_type": "code",
     "collapsed": false,
     "input": [
      "grouped = df.groupby(['A', 'B'])\n",
      "grouped.aggregate(np.sum)"
     ],
     "language": "python",
     "metadata": {},
     "outputs": [
      {
       "html": [
        "<div style=\"max-height:1000px;max-width:1500px;overflow:auto;\">\n",
        "<table border=\"1\" class=\"dataframe\">\n",
        "  <thead>\n",
        "    <tr style=\"text-align: right;\">\n",
        "      <th></th>\n",
        "      <th></th>\n",
        "      <th>C</th>\n",
        "      <th>D</th>\n",
        "    </tr>\n",
        "    <tr>\n",
        "      <th>A</th>\n",
        "      <th>B</th>\n",
        "      <th></th>\n",
        "      <th></th>\n",
        "    </tr>\n",
        "  </thead>\n",
        "  <tbody>\n",
        "    <tr>\n",
        "      <th rowspan=\"3\" valign=\"top\">bar</th>\n",
        "      <th>one</th>\n",
        "      <td>-0.282863</td>\n",
        "      <td>-2.104569</td>\n",
        "    </tr>\n",
        "    <tr>\n",
        "      <th>three</th>\n",
        "      <td>-1.135632</td>\n",
        "      <td> 1.071804</td>\n",
        "    </tr>\n",
        "    <tr>\n",
        "      <th>two</th>\n",
        "      <td>-0.173215</td>\n",
        "      <td>-0.706771</td>\n",
        "    </tr>\n",
        "    <tr>\n",
        "      <th rowspan=\"3\" valign=\"top\">foo</th>\n",
        "      <th>one</th>\n",
        "      <td> 0.588321</td>\n",
        "      <td>-1.901424</td>\n",
        "    </tr>\n",
        "    <tr>\n",
        "      <th>three</th>\n",
        "      <td>-1.044236</td>\n",
        "      <td> 0.271860</td>\n",
        "    </tr>\n",
        "    <tr>\n",
        "      <th>two</th>\n",
        "      <td>-0.296947</td>\n",
        "      <td> 0.226626</td>\n",
        "    </tr>\n",
        "  </tbody>\n",
        "</table>\n",
        "</div>"
       ],
       "metadata": {},
       "output_type": "pyout",
       "prompt_number": 32,
       "text": [
        "                  C         D\n",
        "A   B                        \n",
        "bar one   -0.282863 -2.104569\n",
        "    three -1.135632  1.071804\n",
        "    two   -0.173215 -0.706771\n",
        "foo one    0.588321 -1.901424\n",
        "    three -1.044236  0.271860\n",
        "    two   -0.296947  0.226626"
       ]
      }
     ],
     "prompt_number": 32
    },
    {
     "cell_type": "code",
     "collapsed": false,
     "input": [
      "# Specific don't use group name as index\n",
      "grouped = df.groupby(['A', 'B'], as_index=False)\n",
      "print grouped.aggregate(np.sum)\n",
      "df.groupby('A', as_index=False).sum()"
     ],
     "language": "python",
     "metadata": {},
     "outputs": [
      {
       "output_type": "stream",
       "stream": "stdout",
       "text": [
        "     A      B         C         D\n",
        "0  bar    one -0.282863 -2.104569\n",
        "1  bar  three -1.135632  1.071804\n",
        "2  bar    two -0.173215 -0.706771\n",
        "3  foo    one  0.588321 -1.901424\n",
        "4  foo  three -1.044236  0.271860\n",
        "5  foo    two -0.296947  0.226626\n"
       ]
      },
      {
       "html": [
        "<div style=\"max-height:1000px;max-width:1500px;overflow:auto;\">\n",
        "<table border=\"1\" class=\"dataframe\">\n",
        "  <thead>\n",
        "    <tr style=\"text-align: right;\">\n",
        "      <th></th>\n",
        "      <th>A</th>\n",
        "      <th>C</th>\n",
        "      <th>D</th>\n",
        "    </tr>\n",
        "  </thead>\n",
        "  <tbody>\n",
        "    <tr>\n",
        "      <th>0</th>\n",
        "      <td> bar</td>\n",
        "      <td>-1.591710</td>\n",
        "      <td>-1.739536</td>\n",
        "    </tr>\n",
        "    <tr>\n",
        "      <th>1</th>\n",
        "      <td> foo</td>\n",
        "      <td>-0.752862</td>\n",
        "      <td>-1.402938</td>\n",
        "    </tr>\n",
        "  </tbody>\n",
        "</table>\n",
        "</div>"
       ],
       "metadata": {},
       "output_type": "pyout",
       "prompt_number": 33,
       "text": [
        "     A         C         D\n",
        "0  bar -1.591710 -1.739536\n",
        "1  foo -0.752862 -1.402938"
       ]
      }
     ],
     "prompt_number": 33
    },
    {
     "cell_type": "code",
     "collapsed": false,
     "input": [
      "# Specific don't use group name by reset_index\n",
      "df.groupby(['A', 'B']).sum().reset_index()"
     ],
     "language": "python",
     "metadata": {},
     "outputs": [
      {
       "html": [
        "<div style=\"max-height:1000px;max-width:1500px;overflow:auto;\">\n",
        "<table border=\"1\" class=\"dataframe\">\n",
        "  <thead>\n",
        "    <tr style=\"text-align: right;\">\n",
        "      <th></th>\n",
        "      <th>A</th>\n",
        "      <th>B</th>\n",
        "      <th>C</th>\n",
        "      <th>D</th>\n",
        "    </tr>\n",
        "  </thead>\n",
        "  <tbody>\n",
        "    <tr>\n",
        "      <th>0</th>\n",
        "      <td> bar</td>\n",
        "      <td>   one</td>\n",
        "      <td>-0.282863</td>\n",
        "      <td>-2.104569</td>\n",
        "    </tr>\n",
        "    <tr>\n",
        "      <th>1</th>\n",
        "      <td> bar</td>\n",
        "      <td> three</td>\n",
        "      <td>-1.135632</td>\n",
        "      <td> 1.071804</td>\n",
        "    </tr>\n",
        "    <tr>\n",
        "      <th>2</th>\n",
        "      <td> bar</td>\n",
        "      <td>   two</td>\n",
        "      <td>-0.173215</td>\n",
        "      <td>-0.706771</td>\n",
        "    </tr>\n",
        "    <tr>\n",
        "      <th>3</th>\n",
        "      <td> foo</td>\n",
        "      <td>   one</td>\n",
        "      <td> 0.588321</td>\n",
        "      <td>-1.901424</td>\n",
        "    </tr>\n",
        "    <tr>\n",
        "      <th>4</th>\n",
        "      <td> foo</td>\n",
        "      <td> three</td>\n",
        "      <td>-1.044236</td>\n",
        "      <td> 0.271860</td>\n",
        "    </tr>\n",
        "    <tr>\n",
        "      <th>5</th>\n",
        "      <td> foo</td>\n",
        "      <td>   two</td>\n",
        "      <td>-0.296947</td>\n",
        "      <td> 0.226626</td>\n",
        "    </tr>\n",
        "  </tbody>\n",
        "</table>\n",
        "</div>"
       ],
       "metadata": {},
       "output_type": "pyout",
       "prompt_number": 36,
       "text": [
        "     A      B         C         D\n",
        "0  bar    one -0.282863 -2.104569\n",
        "1  bar  three -1.135632  1.071804\n",
        "2  bar    two -0.173215 -0.706771\n",
        "3  foo    one  0.588321 -1.901424\n",
        "4  foo  three -1.044236  0.271860\n",
        "5  foo    two -0.296947  0.226626"
       ]
      }
     ],
     "prompt_number": 36
    },
    {
     "cell_type": "code",
     "collapsed": false,
     "input": [
      "# Get group size\n",
      "grouped.size()"
     ],
     "language": "python",
     "metadata": {},
     "outputs": [
      {
       "metadata": {},
       "output_type": "pyout",
       "prompt_number": 37,
       "text": [
        "A    B    \n",
        "bar  one      1\n",
        "     three    1\n",
        "     two      1\n",
        "foo  one      2\n",
        "     three    1\n",
        "     two      2\n",
        "dtype: int64"
       ]
      }
     ],
     "prompt_number": 37
    },
    {
     "cell_type": "code",
     "collapsed": false,
     "input": [
      "# Get group describtion\n",
      "grouped.describe()"
     ],
     "language": "python",
     "metadata": {},
     "outputs": [
      {
       "html": [
        "<div style=\"max-height:1000px;max-width:1500px;overflow:auto;\">\n",
        "<table border=\"1\" class=\"dataframe\">\n",
        "  <thead>\n",
        "    <tr style=\"text-align: right;\">\n",
        "      <th></th>\n",
        "      <th></th>\n",
        "      <th>C</th>\n",
        "      <th>D</th>\n",
        "    </tr>\n",
        "  </thead>\n",
        "  <tbody>\n",
        "    <tr>\n",
        "      <th rowspan=\"8\" valign=\"top\">0</th>\n",
        "      <th>count</th>\n",
        "      <td> 1.000000</td>\n",
        "      <td> 1.000000</td>\n",
        "    </tr>\n",
        "    <tr>\n",
        "      <th>mean</th>\n",
        "      <td>-0.282863</td>\n",
        "      <td>-2.104569</td>\n",
        "    </tr>\n",
        "    <tr>\n",
        "      <th>std</th>\n",
        "      <td>      NaN</td>\n",
        "      <td>      NaN</td>\n",
        "    </tr>\n",
        "    <tr>\n",
        "      <th>min</th>\n",
        "      <td>-0.282863</td>\n",
        "      <td>-2.104569</td>\n",
        "    </tr>\n",
        "    <tr>\n",
        "      <th>25%</th>\n",
        "      <td>-0.282863</td>\n",
        "      <td>-2.104569</td>\n",
        "    </tr>\n",
        "    <tr>\n",
        "      <th>50%</th>\n",
        "      <td>-0.282863</td>\n",
        "      <td>-2.104569</td>\n",
        "    </tr>\n",
        "    <tr>\n",
        "      <th>75%</th>\n",
        "      <td>-0.282863</td>\n",
        "      <td>-2.104569</td>\n",
        "    </tr>\n",
        "    <tr>\n",
        "      <th>max</th>\n",
        "      <td>-0.282863</td>\n",
        "      <td>-2.104569</td>\n",
        "    </tr>\n",
        "    <tr>\n",
        "      <th rowspan=\"8\" valign=\"top\">1</th>\n",
        "      <th>count</th>\n",
        "      <td> 1.000000</td>\n",
        "      <td> 1.000000</td>\n",
        "    </tr>\n",
        "    <tr>\n",
        "      <th>mean</th>\n",
        "      <td>-1.135632</td>\n",
        "      <td> 1.071804</td>\n",
        "    </tr>\n",
        "    <tr>\n",
        "      <th>std</th>\n",
        "      <td>      NaN</td>\n",
        "      <td>      NaN</td>\n",
        "    </tr>\n",
        "    <tr>\n",
        "      <th>min</th>\n",
        "      <td>-1.135632</td>\n",
        "      <td> 1.071804</td>\n",
        "    </tr>\n",
        "    <tr>\n",
        "      <th>25%</th>\n",
        "      <td>-1.135632</td>\n",
        "      <td> 1.071804</td>\n",
        "    </tr>\n",
        "    <tr>\n",
        "      <th>50%</th>\n",
        "      <td>-1.135632</td>\n",
        "      <td> 1.071804</td>\n",
        "    </tr>\n",
        "    <tr>\n",
        "      <th>75%</th>\n",
        "      <td>-1.135632</td>\n",
        "      <td> 1.071804</td>\n",
        "    </tr>\n",
        "    <tr>\n",
        "      <th>max</th>\n",
        "      <td>-1.135632</td>\n",
        "      <td> 1.071804</td>\n",
        "    </tr>\n",
        "    <tr>\n",
        "      <th rowspan=\"8\" valign=\"top\">2</th>\n",
        "      <th>count</th>\n",
        "      <td> 1.000000</td>\n",
        "      <td> 1.000000</td>\n",
        "    </tr>\n",
        "    <tr>\n",
        "      <th>mean</th>\n",
        "      <td>-0.173215</td>\n",
        "      <td>-0.706771</td>\n",
        "    </tr>\n",
        "    <tr>\n",
        "      <th>std</th>\n",
        "      <td>      NaN</td>\n",
        "      <td>      NaN</td>\n",
        "    </tr>\n",
        "    <tr>\n",
        "      <th>min</th>\n",
        "      <td>-0.173215</td>\n",
        "      <td>-0.706771</td>\n",
        "    </tr>\n",
        "    <tr>\n",
        "      <th>25%</th>\n",
        "      <td>-0.173215</td>\n",
        "      <td>-0.706771</td>\n",
        "    </tr>\n",
        "    <tr>\n",
        "      <th>50%</th>\n",
        "      <td>-0.173215</td>\n",
        "      <td>-0.706771</td>\n",
        "    </tr>\n",
        "    <tr>\n",
        "      <th>75%</th>\n",
        "      <td>-0.173215</td>\n",
        "      <td>-0.706771</td>\n",
        "    </tr>\n",
        "    <tr>\n",
        "      <th>max</th>\n",
        "      <td>-0.173215</td>\n",
        "      <td>-0.706771</td>\n",
        "    </tr>\n",
        "    <tr>\n",
        "      <th rowspan=\"8\" valign=\"top\">3</th>\n",
        "      <th>count</th>\n",
        "      <td> 2.000000</td>\n",
        "      <td> 2.000000</td>\n",
        "    </tr>\n",
        "    <tr>\n",
        "      <th>mean</th>\n",
        "      <td> 0.294160</td>\n",
        "      <td>-0.950712</td>\n",
        "    </tr>\n",
        "    <tr>\n",
        "      <th>std</th>\n",
        "      <td> 0.247419</td>\n",
        "      <td> 0.125671</td>\n",
        "    </tr>\n",
        "    <tr>\n",
        "      <th>min</th>\n",
        "      <td> 0.119209</td>\n",
        "      <td>-1.039575</td>\n",
        "    </tr>\n",
        "    <tr>\n",
        "      <th>25%</th>\n",
        "      <td> 0.206685</td>\n",
        "      <td>-0.995143</td>\n",
        "    </tr>\n",
        "    <tr>\n",
        "      <th>50%</th>\n",
        "      <td> 0.294160</td>\n",
        "      <td>-0.950712</td>\n",
        "    </tr>\n",
        "    <tr>\n",
        "      <th>75%</th>\n",
        "      <td> 0.381636</td>\n",
        "      <td>-0.906281</td>\n",
        "    </tr>\n",
        "    <tr>\n",
        "      <th>max</th>\n",
        "      <td> 0.469112</td>\n",
        "      <td>-0.861849</td>\n",
        "    </tr>\n",
        "    <tr>\n",
        "      <th rowspan=\"8\" valign=\"top\">4</th>\n",
        "      <th>count</th>\n",
        "      <td> 1.000000</td>\n",
        "      <td> 1.000000</td>\n",
        "    </tr>\n",
        "    <tr>\n",
        "      <th>mean</th>\n",
        "      <td>-1.044236</td>\n",
        "      <td> 0.271860</td>\n",
        "    </tr>\n",
        "    <tr>\n",
        "      <th>std</th>\n",
        "      <td>      NaN</td>\n",
        "      <td>      NaN</td>\n",
        "    </tr>\n",
        "    <tr>\n",
        "      <th>min</th>\n",
        "      <td>-1.044236</td>\n",
        "      <td> 0.271860</td>\n",
        "    </tr>\n",
        "    <tr>\n",
        "      <th>25%</th>\n",
        "      <td>-1.044236</td>\n",
        "      <td> 0.271860</td>\n",
        "    </tr>\n",
        "    <tr>\n",
        "      <th>50%</th>\n",
        "      <td>-1.044236</td>\n",
        "      <td> 0.271860</td>\n",
        "    </tr>\n",
        "    <tr>\n",
        "      <th>75%</th>\n",
        "      <td>-1.044236</td>\n",
        "      <td> 0.271860</td>\n",
        "    </tr>\n",
        "    <tr>\n",
        "      <th>max</th>\n",
        "      <td>-1.044236</td>\n",
        "      <td> 0.271860</td>\n",
        "    </tr>\n",
        "    <tr>\n",
        "      <th rowspan=\"8\" valign=\"top\">5</th>\n",
        "      <th>count</th>\n",
        "      <td> 2.000000</td>\n",
        "      <td> 2.000000</td>\n",
        "    </tr>\n",
        "    <tr>\n",
        "      <th>mean</th>\n",
        "      <td>-0.148473</td>\n",
        "      <td> 0.113313</td>\n",
        "    </tr>\n",
        "    <tr>\n",
        "      <th>std</th>\n",
        "      <td> 1.924158</td>\n",
        "      <td> 0.860184</td>\n",
        "    </tr>\n",
        "    <tr>\n",
        "      <th>min</th>\n",
        "      <td>-1.509059</td>\n",
        "      <td>-0.494929</td>\n",
        "    </tr>\n",
        "    <tr>\n",
        "      <th>25%</th>\n",
        "      <td>-0.828766</td>\n",
        "      <td>-0.190808</td>\n",
        "    </tr>\n",
        "    <tr>\n",
        "      <th>50%</th>\n",
        "      <td>-0.148473</td>\n",
        "      <td> 0.113313</td>\n",
        "    </tr>\n",
        "    <tr>\n",
        "      <th>75%</th>\n",
        "      <td> 0.531819</td>\n",
        "      <td> 0.417434</td>\n",
        "    </tr>\n",
        "    <tr>\n",
        "      <th>max</th>\n",
        "      <td> 1.212112</td>\n",
        "      <td> 0.721555</td>\n",
        "    </tr>\n",
        "  </tbody>\n",
        "</table>\n",
        "</div>"
       ],
       "metadata": {},
       "output_type": "pyout",
       "prompt_number": 38,
       "text": [
        "                C         D\n",
        "0 count  1.000000  1.000000\n",
        "  mean  -0.282863 -2.104569\n",
        "  std         NaN       NaN\n",
        "  min   -0.282863 -2.104569\n",
        "  25%   -0.282863 -2.104569\n",
        "  50%   -0.282863 -2.104569\n",
        "  75%   -0.282863 -2.104569\n",
        "  max   -0.282863 -2.104569\n",
        "1 count  1.000000  1.000000\n",
        "  mean  -1.135632  1.071804\n",
        "  std         NaN       NaN\n",
        "  min   -1.135632  1.071804\n",
        "  25%   -1.135632  1.071804\n",
        "  50%   -1.135632  1.071804\n",
        "  75%   -1.135632  1.071804\n",
        "  max   -1.135632  1.071804\n",
        "2 count  1.000000  1.000000\n",
        "  mean  -0.173215 -0.706771\n",
        "  std         NaN       NaN\n",
        "  min   -0.173215 -0.706771\n",
        "  25%   -0.173215 -0.706771\n",
        "  50%   -0.173215 -0.706771\n",
        "  75%   -0.173215 -0.706771\n",
        "  max   -0.173215 -0.706771\n",
        "3 count  2.000000  2.000000\n",
        "  mean   0.294160 -0.950712\n",
        "  std    0.247419  0.125671\n",
        "  min    0.119209 -1.039575\n",
        "  25%    0.206685 -0.995143\n",
        "  50%    0.294160 -0.950712\n",
        "  75%    0.381636 -0.906281\n",
        "  max    0.469112 -0.861849\n",
        "4 count  1.000000  1.000000\n",
        "  mean  -1.044236  0.271860\n",
        "  std         NaN       NaN\n",
        "  min   -1.044236  0.271860\n",
        "  25%   -1.044236  0.271860\n",
        "  50%   -1.044236  0.271860\n",
        "  75%   -1.044236  0.271860\n",
        "  max   -1.044236  0.271860\n",
        "5 count  2.000000  2.000000\n",
        "  mean  -0.148473  0.113313\n",
        "  std    1.924158  0.860184\n",
        "  min   -1.509059 -0.494929\n",
        "  25%   -0.828766 -0.190808\n",
        "  50%   -0.148473  0.113313\n",
        "  75%    0.531819  0.417434\n",
        "  max    1.212112  0.721555"
       ]
      }
     ],
     "prompt_number": 38
    },
    {
     "cell_type": "code",
     "collapsed": false,
     "input": [
      "# Applying multiple functions at once\n",
      "grouped = df.groupby('A')\n",
      "grouped['C'].agg([np.sum, np.mean, np.std])"
     ],
     "language": "python",
     "metadata": {},
     "outputs": [
      {
       "html": [
        "<div style=\"max-height:1000px;max-width:1500px;overflow:auto;\">\n",
        "<table border=\"1\" class=\"dataframe\">\n",
        "  <thead>\n",
        "    <tr style=\"text-align: right;\">\n",
        "      <th></th>\n",
        "      <th>sum</th>\n",
        "      <th>mean</th>\n",
        "      <th>std</th>\n",
        "    </tr>\n",
        "    <tr>\n",
        "      <th>A</th>\n",
        "      <th></th>\n",
        "      <th></th>\n",
        "      <th></th>\n",
        "    </tr>\n",
        "  </thead>\n",
        "  <tbody>\n",
        "    <tr>\n",
        "      <th>bar</th>\n",
        "      <td>-1.591710</td>\n",
        "      <td>-0.530570</td>\n",
        "      <td> 0.526859</td>\n",
        "    </tr>\n",
        "    <tr>\n",
        "      <th>foo</th>\n",
        "      <td>-0.752862</td>\n",
        "      <td>-0.150572</td>\n",
        "      <td> 1.113308</td>\n",
        "    </tr>\n",
        "  </tbody>\n",
        "</table>\n",
        "</div>"
       ],
       "metadata": {},
       "output_type": "pyout",
       "prompt_number": 40,
       "text": [
        "          sum      mean       std\n",
        "A                                \n",
        "bar -1.591710 -0.530570  0.526859\n",
        "foo -0.752862 -0.150572  1.113308"
       ]
      }
     ],
     "prompt_number": 40
    },
    {
     "cell_type": "code",
     "collapsed": false,
     "input": [
      "# Specific column name\n",
      "grouped['D'].agg({'result1' : np.sum,\n",
      "                  'result2' : np.mean})"
     ],
     "language": "python",
     "metadata": {},
     "outputs": [
      {
       "html": [
        "<div style=\"max-height:1000px;max-width:1500px;overflow:auto;\">\n",
        "<table border=\"1\" class=\"dataframe\">\n",
        "  <thead>\n",
        "    <tr style=\"text-align: right;\">\n",
        "      <th></th>\n",
        "      <th>result2</th>\n",
        "      <th>result1</th>\n",
        "    </tr>\n",
        "    <tr>\n",
        "      <th>A</th>\n",
        "      <th></th>\n",
        "      <th></th>\n",
        "    </tr>\n",
        "  </thead>\n",
        "  <tbody>\n",
        "    <tr>\n",
        "      <th>bar</th>\n",
        "      <td>-0.579845</td>\n",
        "      <td>-1.739536</td>\n",
        "    </tr>\n",
        "    <tr>\n",
        "      <th>foo</th>\n",
        "      <td>-0.280588</td>\n",
        "      <td>-1.402938</td>\n",
        "    </tr>\n",
        "  </tbody>\n",
        "</table>\n",
        "</div>"
       ],
       "metadata": {},
       "output_type": "pyout",
       "prompt_number": 42,
       "text": [
        "      result2   result1\n",
        "A                      \n",
        "bar -0.579845 -1.739536\n",
        "foo -0.280588 -1.402938"
       ]
      }
     ],
     "prompt_number": 42
    },
    {
     "cell_type": "code",
     "collapsed": false,
     "input": [
      "# Applying on multi columns as a hierarchical index\n",
      "grouped.agg([np.sum, np.mean, np.std])"
     ],
     "language": "python",
     "metadata": {},
     "outputs": [
      {
       "html": [
        "<div style=\"max-height:1000px;max-width:1500px;overflow:auto;\">\n",
        "<table border=\"1\" class=\"dataframe\">\n",
        "  <thead>\n",
        "    <tr>\n",
        "      <th></th>\n",
        "      <th colspan=\"3\" halign=\"left\">C</th>\n",
        "      <th colspan=\"3\" halign=\"left\">D</th>\n",
        "    </tr>\n",
        "    <tr>\n",
        "      <th></th>\n",
        "      <th>sum</th>\n",
        "      <th>mean</th>\n",
        "      <th>std</th>\n",
        "      <th>sum</th>\n",
        "      <th>mean</th>\n",
        "      <th>std</th>\n",
        "    </tr>\n",
        "    <tr>\n",
        "      <th>A</th>\n",
        "      <th></th>\n",
        "      <th></th>\n",
        "      <th></th>\n",
        "      <th></th>\n",
        "      <th></th>\n",
        "      <th></th>\n",
        "    </tr>\n",
        "  </thead>\n",
        "  <tbody>\n",
        "    <tr>\n",
        "      <th>bar</th>\n",
        "      <td>-1.591710</td>\n",
        "      <td>-0.530570</td>\n",
        "      <td> 0.526859</td>\n",
        "      <td>-1.739536</td>\n",
        "      <td>-0.579845</td>\n",
        "      <td> 1.591986</td>\n",
        "    </tr>\n",
        "    <tr>\n",
        "      <th>foo</th>\n",
        "      <td>-0.752862</td>\n",
        "      <td>-0.150572</td>\n",
        "      <td> 1.113308</td>\n",
        "      <td>-1.402938</td>\n",
        "      <td>-0.280588</td>\n",
        "      <td> 0.753219</td>\n",
        "    </tr>\n",
        "  </tbody>\n",
        "</table>\n",
        "</div>"
       ],
       "metadata": {},
       "output_type": "pyout",
       "prompt_number": 43,
       "text": [
        "            C                             D                    \n",
        "          sum      mean       std       sum      mean       std\n",
        "A                                                              \n",
        "bar -1.591710 -0.530570  0.526859 -1.739536 -0.579845  1.591986\n",
        "foo -0.752862 -0.150572  1.113308 -1.402938 -0.280588  0.753219"
       ]
      }
     ],
     "prompt_number": 43
    },
    {
     "cell_type": "code",
     "collapsed": false,
     "input": [
      "# Applying on specific columns\n",
      "grouped.agg({'C' : np.sum,\n",
      "             'D' : lambda x: np.std(x, ddof=1)})"
     ],
     "language": "python",
     "metadata": {},
     "outputs": [
      {
       "html": [
        "<div style=\"max-height:1000px;max-width:1500px;overflow:auto;\">\n",
        "<table border=\"1\" class=\"dataframe\">\n",
        "  <thead>\n",
        "    <tr style=\"text-align: right;\">\n",
        "      <th></th>\n",
        "      <th>C</th>\n",
        "      <th>D</th>\n",
        "    </tr>\n",
        "    <tr>\n",
        "      <th>A</th>\n",
        "      <th></th>\n",
        "      <th></th>\n",
        "    </tr>\n",
        "  </thead>\n",
        "  <tbody>\n",
        "    <tr>\n",
        "      <th>bar</th>\n",
        "      <td>-1.591710</td>\n",
        "      <td> 1.591986</td>\n",
        "    </tr>\n",
        "    <tr>\n",
        "      <th>foo</th>\n",
        "      <td>-0.752862</td>\n",
        "      <td> 0.753219</td>\n",
        "    </tr>\n",
        "  </tbody>\n",
        "</table>\n",
        "</div>"
       ],
       "metadata": {},
       "output_type": "pyout",
       "prompt_number": 44,
       "text": [
        "            C         D\n",
        "A                      \n",
        "bar -1.591710  1.591986\n",
        "foo -0.752862  0.753219"
       ]
      }
     ],
     "prompt_number": 44
    },
    {
     "cell_type": "code",
     "collapsed": false,
     "input": [
      "# Specific function by string\n",
      "grouped.agg({'C' : 'sum', 'D' : 'std'})"
     ],
     "language": "python",
     "metadata": {},
     "outputs": [
      {
       "html": [
        "<div style=\"max-height:1000px;max-width:1500px;overflow:auto;\">\n",
        "<table border=\"1\" class=\"dataframe\">\n",
        "  <thead>\n",
        "    <tr style=\"text-align: right;\">\n",
        "      <th></th>\n",
        "      <th>C</th>\n",
        "      <th>D</th>\n",
        "    </tr>\n",
        "    <tr>\n",
        "      <th>A</th>\n",
        "      <th></th>\n",
        "      <th></th>\n",
        "    </tr>\n",
        "  </thead>\n",
        "  <tbody>\n",
        "    <tr>\n",
        "      <th>bar</th>\n",
        "      <td>-1.591710</td>\n",
        "      <td> 1.591986</td>\n",
        "    </tr>\n",
        "    <tr>\n",
        "      <th>foo</th>\n",
        "      <td>-0.752862</td>\n",
        "      <td> 0.753219</td>\n",
        "    </tr>\n",
        "  </tbody>\n",
        "</table>\n",
        "</div>"
       ],
       "metadata": {},
       "output_type": "pyout",
       "prompt_number": 45,
       "text": [
        "            C         D\n",
        "A                      \n",
        "bar -1.591710  1.591986\n",
        "foo -0.752862  0.753219"
       ]
      }
     ],
     "prompt_number": 45
    },
    {
     "cell_type": "heading",
     "level": 2,
     "metadata": {},
     "source": [
      "Dispatching to instance methods"
     ]
    },
    {
     "cell_type": "code",
     "collapsed": false,
     "input": [
      "from pandas import *\n",
      "from io import BytesIO\n",
      "df = read_fwf(BytesIO(\"\"\"     A      B         C         D\n",
      "0  foo    one  0.469112 -0.861849\n",
      "1  bar    one -0.282863 -2.104569\n",
      "2  foo    two -1.509059 -0.494929\n",
      "3  bar  three -1.135632  1.071804\n",
      "4  foo    two  1.212112  0.721555\n",
      "5  bar    two -0.173215 -0.706771\n",
      "6  foo    one  0.119209 -1.039575\n",
      "7  foo  three -1.044236  0.271860\"\"\"),index_col=0)\n",
      "df"
     ],
     "language": "python",
     "metadata": {},
     "outputs": [
      {
       "html": [
        "<div style=\"max-height:1000px;max-width:1500px;overflow:auto;\">\n",
        "<table border=\"1\" class=\"dataframe\">\n",
        "  <thead>\n",
        "    <tr style=\"text-align: right;\">\n",
        "      <th></th>\n",
        "      <th>A</th>\n",
        "      <th>B</th>\n",
        "      <th>C</th>\n",
        "      <th>D</th>\n",
        "    </tr>\n",
        "  </thead>\n",
        "  <tbody>\n",
        "    <tr>\n",
        "      <th>0</th>\n",
        "      <td> foo</td>\n",
        "      <td>   one</td>\n",
        "      <td> 0.469112</td>\n",
        "      <td>-0.861849</td>\n",
        "    </tr>\n",
        "    <tr>\n",
        "      <th>1</th>\n",
        "      <td> bar</td>\n",
        "      <td>   one</td>\n",
        "      <td>-0.282863</td>\n",
        "      <td>-2.104569</td>\n",
        "    </tr>\n",
        "    <tr>\n",
        "      <th>2</th>\n",
        "      <td> foo</td>\n",
        "      <td>   two</td>\n",
        "      <td>-1.509059</td>\n",
        "      <td>-0.494929</td>\n",
        "    </tr>\n",
        "    <tr>\n",
        "      <th>3</th>\n",
        "      <td> bar</td>\n",
        "      <td> three</td>\n",
        "      <td>-1.135632</td>\n",
        "      <td> 1.071804</td>\n",
        "    </tr>\n",
        "    <tr>\n",
        "      <th>4</th>\n",
        "      <td> foo</td>\n",
        "      <td>   two</td>\n",
        "      <td> 1.212112</td>\n",
        "      <td> 0.721555</td>\n",
        "    </tr>\n",
        "    <tr>\n",
        "      <th>5</th>\n",
        "      <td> bar</td>\n",
        "      <td>   two</td>\n",
        "      <td>-0.173215</td>\n",
        "      <td>-0.706771</td>\n",
        "    </tr>\n",
        "    <tr>\n",
        "      <th>6</th>\n",
        "      <td> foo</td>\n",
        "      <td>   one</td>\n",
        "      <td> 0.119209</td>\n",
        "      <td>-1.039575</td>\n",
        "    </tr>\n",
        "    <tr>\n",
        "      <th>7</th>\n",
        "      <td> foo</td>\n",
        "      <td> three</td>\n",
        "      <td>-1.044236</td>\n",
        "      <td> 0.271860</td>\n",
        "    </tr>\n",
        "  </tbody>\n",
        "</table>\n",
        "</div>"
       ],
       "metadata": {},
       "output_type": "pyout",
       "prompt_number": 3,
       "text": [
        "     A      B         C         D\n",
        "0  foo    one  0.469112 -0.861849\n",
        "1  bar    one -0.282863 -2.104569\n",
        "2  foo    two -1.509059 -0.494929\n",
        "3  bar  three -1.135632  1.071804\n",
        "4  foo    two  1.212112  0.721555\n",
        "5  bar    two -0.173215 -0.706771\n",
        "6  foo    one  0.119209 -1.039575\n",
        "7  foo  three -1.044236  0.271860"
       ]
      }
     ],
     "prompt_number": 3
    },
    {
     "cell_type": "code",
     "collapsed": false,
     "input": [
      "grouped = df.groupby('A')\n",
      "print grouped.agg(lambda x: x.std())\n",
      "grouped.std()"
     ],
     "language": "python",
     "metadata": {},
     "outputs": [
      {
       "output_type": "stream",
       "stream": "stdout",
       "text": [
        "      B         C         D\n",
        "A                          \n",
        "bar NaN  0.526859  1.591986\n",
        "foo NaN  1.113308  0.753219\n"
       ]
      },
      {
       "html": [
        "<div style=\"max-height:1000px;max-width:1500px;overflow:auto;\">\n",
        "<table border=\"1\" class=\"dataframe\">\n",
        "  <thead>\n",
        "    <tr style=\"text-align: right;\">\n",
        "      <th></th>\n",
        "      <th>C</th>\n",
        "      <th>D</th>\n",
        "    </tr>\n",
        "    <tr>\n",
        "      <th>A</th>\n",
        "      <th></th>\n",
        "      <th></th>\n",
        "    </tr>\n",
        "  </thead>\n",
        "  <tbody>\n",
        "    <tr>\n",
        "      <th>bar</th>\n",
        "      <td> 0.526859</td>\n",
        "      <td> 1.591986</td>\n",
        "    </tr>\n",
        "    <tr>\n",
        "      <th>foo</th>\n",
        "      <td> 1.113308</td>\n",
        "      <td> 0.753219</td>\n",
        "    </tr>\n",
        "  </tbody>\n",
        "</table>\n",
        "</div>"
       ],
       "metadata": {},
       "output_type": "pyout",
       "prompt_number": 5,
       "text": [
        "            C         D\n",
        "A                      \n",
        "bar  0.526859  1.591986\n",
        "foo  1.113308  0.753219"
       ]
      }
     ],
     "prompt_number": 5
    },
    {
     "cell_type": "code",
     "collapsed": false,
     "input": [
      "tsdf = DataFrame(randn(1000, 3),\n",
      "                 index=date_range('1/1/2000', periods=1000),\n",
      "                 columns=['A', 'B', 'C'])\n",
      "tsdf.ix[::2] = np.nan\n",
      "grouped = tsdf.groupby(lambda x: x.year)\n",
      "grouped.fillna(method='pad')"
     ],
     "language": "python",
     "metadata": {},
     "outputs": [
      {
       "html": [
        "<div style=\"max-height:1000px;max-width:1500px;overflow:auto;\">\n",
        "<table border=\"1\" class=\"dataframe\">\n",
        "  <thead>\n",
        "    <tr style=\"text-align: right;\">\n",
        "      <th></th>\n",
        "      <th>A</th>\n",
        "      <th>B</th>\n",
        "      <th>C</th>\n",
        "    </tr>\n",
        "  </thead>\n",
        "  <tbody>\n",
        "    <tr>\n",
        "      <th>2000-01-01</th>\n",
        "      <td>      NaN</td>\n",
        "      <td>      NaN</td>\n",
        "      <td>      NaN</td>\n",
        "    </tr>\n",
        "    <tr>\n",
        "      <th>2000-01-02</th>\n",
        "      <td>-0.841979</td>\n",
        "      <td> 0.453155</td>\n",
        "      <td> 0.369856</td>\n",
        "    </tr>\n",
        "    <tr>\n",
        "      <th>2000-01-03</th>\n",
        "      <td>-0.841979</td>\n",
        "      <td> 0.453155</td>\n",
        "      <td> 0.369856</td>\n",
        "    </tr>\n",
        "    <tr>\n",
        "      <th>2000-01-04</th>\n",
        "      <td> 0.708335</td>\n",
        "      <td>-0.273685</td>\n",
        "      <td>-0.537825</td>\n",
        "    </tr>\n",
        "    <tr>\n",
        "      <th>2000-01-05</th>\n",
        "      <td> 0.708335</td>\n",
        "      <td>-0.273685</td>\n",
        "      <td>-0.537825</td>\n",
        "    </tr>\n",
        "    <tr>\n",
        "      <th>2000-01-06</th>\n",
        "      <td> 1.508054</td>\n",
        "      <td> 0.957292</td>\n",
        "      <td> 1.878290</td>\n",
        "    </tr>\n",
        "    <tr>\n",
        "      <th>2000-01-07</th>\n",
        "      <td> 1.508054</td>\n",
        "      <td> 0.957292</td>\n",
        "      <td> 1.878290</td>\n",
        "    </tr>\n",
        "    <tr>\n",
        "      <th>2000-01-08</th>\n",
        "      <td>-1.412434</td>\n",
        "      <td>-0.045667</td>\n",
        "      <td> 1.523502</td>\n",
        "    </tr>\n",
        "    <tr>\n",
        "      <th>2000-01-09</th>\n",
        "      <td>-1.412434</td>\n",
        "      <td>-0.045667</td>\n",
        "      <td> 1.523502</td>\n",
        "    </tr>\n",
        "    <tr>\n",
        "      <th>2000-01-10</th>\n",
        "      <td>-0.772143</td>\n",
        "      <td> 0.872540</td>\n",
        "      <td>-0.090602</td>\n",
        "    </tr>\n",
        "    <tr>\n",
        "      <th>2000-01-11</th>\n",
        "      <td>-0.772143</td>\n",
        "      <td> 0.872540</td>\n",
        "      <td>-0.090602</td>\n",
        "    </tr>\n",
        "    <tr>\n",
        "      <th>2000-01-12</th>\n",
        "      <td> 1.263298</td>\n",
        "      <td> 0.768181</td>\n",
        "      <td>-0.503670</td>\n",
        "    </tr>\n",
        "    <tr>\n",
        "      <th>2000-01-13</th>\n",
        "      <td> 1.263298</td>\n",
        "      <td> 0.768181</td>\n",
        "      <td>-0.503670</td>\n",
        "    </tr>\n",
        "    <tr>\n",
        "      <th>2000-01-14</th>\n",
        "      <td>-0.790832</td>\n",
        "      <td> 1.045701</td>\n",
        "      <td>-1.256374</td>\n",
        "    </tr>\n",
        "    <tr>\n",
        "      <th>2000-01-15</th>\n",
        "      <td>-0.790832</td>\n",
        "      <td> 1.045701</td>\n",
        "      <td>-1.256374</td>\n",
        "    </tr>\n",
        "    <tr>\n",
        "      <th>2000-01-16</th>\n",
        "      <td>-1.639864</td>\n",
        "      <td>-0.708384</td>\n",
        "      <td>-0.282166</td>\n",
        "    </tr>\n",
        "    <tr>\n",
        "      <th>2000-01-17</th>\n",
        "      <td>-1.639864</td>\n",
        "      <td>-0.708384</td>\n",
        "      <td>-0.282166</td>\n",
        "    </tr>\n",
        "    <tr>\n",
        "      <th>2000-01-18</th>\n",
        "      <td> 0.795187</td>\n",
        "      <td> 0.961728</td>\n",
        "      <td> 1.030113</td>\n",
        "    </tr>\n",
        "    <tr>\n",
        "      <th>2000-01-19</th>\n",
        "      <td> 0.795187</td>\n",
        "      <td> 0.961728</td>\n",
        "      <td> 1.030113</td>\n",
        "    </tr>\n",
        "    <tr>\n",
        "      <th>2000-01-20</th>\n",
        "      <td> 0.718731</td>\n",
        "      <td> 3.262934</td>\n",
        "      <td> 1.171562</td>\n",
        "    </tr>\n",
        "    <tr>\n",
        "      <th>2000-01-21</th>\n",
        "      <td> 0.718731</td>\n",
        "      <td> 3.262934</td>\n",
        "      <td> 1.171562</td>\n",
        "    </tr>\n",
        "    <tr>\n",
        "      <th>2000-01-22</th>\n",
        "      <td> 1.818314</td>\n",
        "      <td>-1.025384</td>\n",
        "      <td> 0.161744</td>\n",
        "    </tr>\n",
        "    <tr>\n",
        "      <th>2000-01-23</th>\n",
        "      <td> 1.818314</td>\n",
        "      <td>-1.025384</td>\n",
        "      <td> 0.161744</td>\n",
        "    </tr>\n",
        "    <tr>\n",
        "      <th>2000-01-24</th>\n",
        "      <td>-0.892306</td>\n",
        "      <td> 0.782009</td>\n",
        "      <td> 1.241902</td>\n",
        "    </tr>\n",
        "    <tr>\n",
        "      <th>2000-01-25</th>\n",
        "      <td>-0.892306</td>\n",
        "      <td> 0.782009</td>\n",
        "      <td> 1.241902</td>\n",
        "    </tr>\n",
        "    <tr>\n",
        "      <th>2000-01-26</th>\n",
        "      <td> 0.872122</td>\n",
        "      <td> 1.853470</td>\n",
        "      <td> 1.124933</td>\n",
        "    </tr>\n",
        "    <tr>\n",
        "      <th>2000-01-27</th>\n",
        "      <td> 0.872122</td>\n",
        "      <td> 1.853470</td>\n",
        "      <td> 1.124933</td>\n",
        "    </tr>\n",
        "    <tr>\n",
        "      <th>2000-01-28</th>\n",
        "      <td> 0.399685</td>\n",
        "      <td>-0.459916</td>\n",
        "      <td> 1.460372</td>\n",
        "    </tr>\n",
        "    <tr>\n",
        "      <th>2000-01-29</th>\n",
        "      <td> 0.399685</td>\n",
        "      <td>-0.459916</td>\n",
        "      <td> 1.460372</td>\n",
        "    </tr>\n",
        "    <tr>\n",
        "      <th>2000-01-30</th>\n",
        "      <td> 1.026736</td>\n",
        "      <td>-0.275270</td>\n",
        "      <td> 0.162409</td>\n",
        "    </tr>\n",
        "    <tr>\n",
        "      <th>...</th>\n",
        "      <td>...</td>\n",
        "      <td>...</td>\n",
        "      <td>...</td>\n",
        "    </tr>\n",
        "    <tr>\n",
        "      <th>2002-08-28</th>\n",
        "      <td>-0.555422</td>\n",
        "      <td> 0.367870</td>\n",
        "      <td>-0.392288</td>\n",
        "    </tr>\n",
        "    <tr>\n",
        "      <th>2002-08-29</th>\n",
        "      <td>-0.697472</td>\n",
        "      <td> 0.278617</td>\n",
        "      <td> 0.446896</td>\n",
        "    </tr>\n",
        "    <tr>\n",
        "      <th>2002-08-30</th>\n",
        "      <td>-0.697472</td>\n",
        "      <td> 0.278617</td>\n",
        "      <td> 0.446896</td>\n",
        "    </tr>\n",
        "    <tr>\n",
        "      <th>2002-08-31</th>\n",
        "      <td>-1.559507</td>\n",
        "      <td> 0.112321</td>\n",
        "      <td> 1.509743</td>\n",
        "    </tr>\n",
        "    <tr>\n",
        "      <th>2002-09-01</th>\n",
        "      <td>-1.559507</td>\n",
        "      <td> 0.112321</td>\n",
        "      <td> 1.509743</td>\n",
        "    </tr>\n",
        "    <tr>\n",
        "      <th>2002-09-02</th>\n",
        "      <td>-1.417682</td>\n",
        "      <td> 0.772704</td>\n",
        "      <td> 0.850559</td>\n",
        "    </tr>\n",
        "    <tr>\n",
        "      <th>2002-09-03</th>\n",
        "      <td>-1.417682</td>\n",
        "      <td> 0.772704</td>\n",
        "      <td> 0.850559</td>\n",
        "    </tr>\n",
        "    <tr>\n",
        "      <th>2002-09-04</th>\n",
        "      <td> 0.758773</td>\n",
        "      <td> 0.280797</td>\n",
        "      <td>-1.285613</td>\n",
        "    </tr>\n",
        "    <tr>\n",
        "      <th>2002-09-05</th>\n",
        "      <td> 0.758773</td>\n",
        "      <td> 0.280797</td>\n",
        "      <td>-1.285613</td>\n",
        "    </tr>\n",
        "    <tr>\n",
        "      <th>2002-09-06</th>\n",
        "      <td> 1.708253</td>\n",
        "      <td>-0.291204</td>\n",
        "      <td> 0.581649</td>\n",
        "    </tr>\n",
        "    <tr>\n",
        "      <th>2002-09-07</th>\n",
        "      <td> 1.708253</td>\n",
        "      <td>-0.291204</td>\n",
        "      <td> 0.581649</td>\n",
        "    </tr>\n",
        "    <tr>\n",
        "      <th>2002-09-08</th>\n",
        "      <td> 1.901817</td>\n",
        "      <td>-1.926926</td>\n",
        "      <td> 1.716901</td>\n",
        "    </tr>\n",
        "    <tr>\n",
        "      <th>2002-09-09</th>\n",
        "      <td> 1.901817</td>\n",
        "      <td>-1.926926</td>\n",
        "      <td> 1.716901</td>\n",
        "    </tr>\n",
        "    <tr>\n",
        "      <th>2002-09-10</th>\n",
        "      <td>-0.714560</td>\n",
        "      <td> 0.159472</td>\n",
        "      <td>-0.742508</td>\n",
        "    </tr>\n",
        "    <tr>\n",
        "      <th>2002-09-11</th>\n",
        "      <td>-0.714560</td>\n",
        "      <td> 0.159472</td>\n",
        "      <td>-0.742508</td>\n",
        "    </tr>\n",
        "    <tr>\n",
        "      <th>2002-09-12</th>\n",
        "      <td>-1.183898</td>\n",
        "      <td>-0.775009</td>\n",
        "      <td>-1.371643</td>\n",
        "    </tr>\n",
        "    <tr>\n",
        "      <th>2002-09-13</th>\n",
        "      <td>-1.183898</td>\n",
        "      <td>-0.775009</td>\n",
        "      <td>-1.371643</td>\n",
        "    </tr>\n",
        "    <tr>\n",
        "      <th>2002-09-14</th>\n",
        "      <td>-1.231198</td>\n",
        "      <td> 1.083104</td>\n",
        "      <td> 0.240744</td>\n",
        "    </tr>\n",
        "    <tr>\n",
        "      <th>2002-09-15</th>\n",
        "      <td>-1.231198</td>\n",
        "      <td> 1.083104</td>\n",
        "      <td> 0.240744</td>\n",
        "    </tr>\n",
        "    <tr>\n",
        "      <th>2002-09-16</th>\n",
        "      <td>-0.779794</td>\n",
        "      <td>-0.406889</td>\n",
        "      <td> 1.684702</td>\n",
        "    </tr>\n",
        "    <tr>\n",
        "      <th>2002-09-17</th>\n",
        "      <td>-0.779794</td>\n",
        "      <td>-0.406889</td>\n",
        "      <td> 1.684702</td>\n",
        "    </tr>\n",
        "    <tr>\n",
        "      <th>2002-09-18</th>\n",
        "      <td>-2.206495</td>\n",
        "      <td> 0.390922</td>\n",
        "      <td> 0.214278</td>\n",
        "    </tr>\n",
        "    <tr>\n",
        "      <th>2002-09-19</th>\n",
        "      <td>-2.206495</td>\n",
        "      <td> 0.390922</td>\n",
        "      <td> 0.214278</td>\n",
        "    </tr>\n",
        "    <tr>\n",
        "      <th>2002-09-20</th>\n",
        "      <td>-0.644953</td>\n",
        "      <td> 0.808032</td>\n",
        "      <td> 0.549599</td>\n",
        "    </tr>\n",
        "    <tr>\n",
        "      <th>2002-09-21</th>\n",
        "      <td>-0.644953</td>\n",
        "      <td> 0.808032</td>\n",
        "      <td> 0.549599</td>\n",
        "    </tr>\n",
        "    <tr>\n",
        "      <th>2002-09-22</th>\n",
        "      <td>-0.945668</td>\n",
        "      <td> 0.400495</td>\n",
        "      <td>-0.805452</td>\n",
        "    </tr>\n",
        "    <tr>\n",
        "      <th>2002-09-23</th>\n",
        "      <td>-0.945668</td>\n",
        "      <td> 0.400495</td>\n",
        "      <td>-0.805452</td>\n",
        "    </tr>\n",
        "    <tr>\n",
        "      <th>2002-09-24</th>\n",
        "      <td> 0.426109</td>\n",
        "      <td>-0.497541</td>\n",
        "      <td> 0.685163</td>\n",
        "    </tr>\n",
        "    <tr>\n",
        "      <th>2002-09-25</th>\n",
        "      <td> 0.426109</td>\n",
        "      <td>-0.497541</td>\n",
        "      <td> 0.685163</td>\n",
        "    </tr>\n",
        "    <tr>\n",
        "      <th>2002-09-26</th>\n",
        "      <td>-1.233516</td>\n",
        "      <td>-0.441134</td>\n",
        "      <td> 0.183938</td>\n",
        "    </tr>\n",
        "  </tbody>\n",
        "</table>\n",
        "<p>1000 rows \u00d7 3 columns</p>\n",
        "</div>"
       ],
       "metadata": {},
       "output_type": "pyout",
       "prompt_number": 6,
       "text": [
        "                   A         B         C\n",
        "2000-01-01       NaN       NaN       NaN\n",
        "2000-01-02 -0.841979  0.453155  0.369856\n",
        "2000-01-03 -0.841979  0.453155  0.369856\n",
        "2000-01-04  0.708335 -0.273685 -0.537825\n",
        "2000-01-05  0.708335 -0.273685 -0.537825\n",
        "2000-01-06  1.508054  0.957292  1.878290\n",
        "2000-01-07  1.508054  0.957292  1.878290\n",
        "2000-01-08 -1.412434 -0.045667  1.523502\n",
        "2000-01-09 -1.412434 -0.045667  1.523502\n",
        "2000-01-10 -0.772143  0.872540 -0.090602\n",
        "2000-01-11 -0.772143  0.872540 -0.090602\n",
        "2000-01-12  1.263298  0.768181 -0.503670\n",
        "2000-01-13  1.263298  0.768181 -0.503670\n",
        "2000-01-14 -0.790832  1.045701 -1.256374\n",
        "2000-01-15 -0.790832  1.045701 -1.256374\n",
        "2000-01-16 -1.639864 -0.708384 -0.282166\n",
        "2000-01-17 -1.639864 -0.708384 -0.282166\n",
        "2000-01-18  0.795187  0.961728  1.030113\n",
        "2000-01-19  0.795187  0.961728  1.030113\n",
        "2000-01-20  0.718731  3.262934  1.171562\n",
        "2000-01-21  0.718731  3.262934  1.171562\n",
        "2000-01-22  1.818314 -1.025384  0.161744\n",
        "2000-01-23  1.818314 -1.025384  0.161744\n",
        "2000-01-24 -0.892306  0.782009  1.241902\n",
        "2000-01-25 -0.892306  0.782009  1.241902\n",
        "2000-01-26  0.872122  1.853470  1.124933\n",
        "2000-01-27  0.872122  1.853470  1.124933\n",
        "2000-01-28  0.399685 -0.459916  1.460372\n",
        "2000-01-29  0.399685 -0.459916  1.460372\n",
        "2000-01-30  1.026736 -0.275270  0.162409\n",
        "...              ...       ...       ...\n",
        "2002-08-28 -0.555422  0.367870 -0.392288\n",
        "2002-08-29 -0.697472  0.278617  0.446896\n",
        "2002-08-30 -0.697472  0.278617  0.446896\n",
        "2002-08-31 -1.559507  0.112321  1.509743\n",
        "2002-09-01 -1.559507  0.112321  1.509743\n",
        "2002-09-02 -1.417682  0.772704  0.850559\n",
        "2002-09-03 -1.417682  0.772704  0.850559\n",
        "2002-09-04  0.758773  0.280797 -1.285613\n",
        "2002-09-05  0.758773  0.280797 -1.285613\n",
        "2002-09-06  1.708253 -0.291204  0.581649\n",
        "2002-09-07  1.708253 -0.291204  0.581649\n",
        "2002-09-08  1.901817 -1.926926  1.716901\n",
        "2002-09-09  1.901817 -1.926926  1.716901\n",
        "2002-09-10 -0.714560  0.159472 -0.742508\n",
        "2002-09-11 -0.714560  0.159472 -0.742508\n",
        "2002-09-12 -1.183898 -0.775009 -1.371643\n",
        "2002-09-13 -1.183898 -0.775009 -1.371643\n",
        "2002-09-14 -1.231198  1.083104  0.240744\n",
        "2002-09-15 -1.231198  1.083104  0.240744\n",
        "2002-09-16 -0.779794 -0.406889  1.684702\n",
        "2002-09-17 -0.779794 -0.406889  1.684702\n",
        "2002-09-18 -2.206495  0.390922  0.214278\n",
        "2002-09-19 -2.206495  0.390922  0.214278\n",
        "2002-09-20 -0.644953  0.808032  0.549599\n",
        "2002-09-21 -0.644953  0.808032  0.549599\n",
        "2002-09-22 -0.945668  0.400495 -0.805452\n",
        "2002-09-23 -0.945668  0.400495 -0.805452\n",
        "2002-09-24  0.426109 -0.497541  0.685163\n",
        "2002-09-25  0.426109 -0.497541  0.685163\n",
        "2002-09-26 -1.233516 -0.441134  0.183938\n",
        "\n",
        "[1000 rows x 3 columns]"
       ]
      }
     ],
     "prompt_number": 6
    },
    {
     "cell_type": "code",
     "collapsed": false,
     "input": [
      "s = Series([9, 8, 7, 5, 19, 1, 4.2, 3.3])\n",
      "g = Series(list('abababab'))\n",
      "gb = s.groupby(g)\n",
      "gb.nlargest(3)"
     ],
     "language": "python",
     "metadata": {},
     "outputs": [
      {
       "metadata": {},
       "output_type": "pyout",
       "prompt_number": 7,
       "text": [
        "a  4    19.0\n",
        "   0     9.0\n",
        "   2     7.0\n",
        "b  1     8.0\n",
        "   3     5.0\n",
        "   7     3.3\n",
        "dtype: float64"
       ]
      }
     ],
     "prompt_number": 7
    },
    {
     "cell_type": "code",
     "collapsed": false,
     "input": [
      "gb.nsmallest(3)"
     ],
     "language": "python",
     "metadata": {},
     "outputs": [
      {
       "metadata": {},
       "output_type": "pyout",
       "prompt_number": 9,
       "text": [
        "a  6    4.2\n",
        "   2    7.0\n",
        "   0    9.0\n",
        "b  5    1.0\n",
        "   7    3.3\n",
        "   3    5.0\n",
        "dtype: float64"
       ]
      }
     ],
     "prompt_number": 9
    },
    {
     "cell_type": "code",
     "collapsed": false,
     "input": [
      "# Flexible apply\n",
      "read_fwf(BytesIO(\"\"\"     A      B         C         D\n",
      "0  foo    one -0.919854 -1.131345\n",
      "1  bar    one -0.042379 -0.089329\n",
      "2  foo    two  1.247642  0.337863\n",
      "3  bar  three -0.009920 -0.945867\n",
      "4  foo    two  0.290213 -0.932132\n",
      "5  bar    two  0.495767  1.956030\n",
      "6  foo    one  0.362949  0.017587\n",
      "7  foo  three  1.548106 -0.016692\"\"\"), index_col=0)\n",
      "grouped = df.groupby('A')\n",
      "grouped['C'].apply(lambda x: x.describe())"
     ],
     "language": "python",
     "metadata": {},
     "outputs": [
      {
       "metadata": {},
       "output_type": "pyout",
       "prompt_number": 10,
       "text": [
        "A         \n",
        "bar  count    3.000000\n",
        "     mean    -0.530570\n",
        "     std      0.526859\n",
        "     min     -1.135632\n",
        "     25%     -0.709248\n",
        "     50%     -0.282863\n",
        "     75%     -0.228039\n",
        "     max     -0.173215\n",
        "foo  count    5.000000\n",
        "     mean    -0.150572\n",
        "     std      1.113308\n",
        "     min     -1.509059\n",
        "     25%     -1.044236\n",
        "     50%      0.119209\n",
        "     75%      0.469112\n",
        "     max      1.212112\n",
        "dtype: float64"
       ]
      }
     ],
     "prompt_number": 10
    },
    {
     "cell_type": "code",
     "collapsed": false,
     "input": [
      "# change dimension\n",
      "grouped = df.groupby('A')['C']\n",
      "def f(group):\n",
      "    return DataFrame({'original' : group,\n",
      "                      'demeaned' : group - group.mean()})\n",
      "grouped.apply(f)"
     ],
     "language": "python",
     "metadata": {},
     "outputs": [
      {
       "html": [
        "<div style=\"max-height:1000px;max-width:1500px;overflow:auto;\">\n",
        "<table border=\"1\" class=\"dataframe\">\n",
        "  <thead>\n",
        "    <tr style=\"text-align: right;\">\n",
        "      <th></th>\n",
        "      <th>demeaned</th>\n",
        "      <th>original</th>\n",
        "    </tr>\n",
        "  </thead>\n",
        "  <tbody>\n",
        "    <tr>\n",
        "      <th>0</th>\n",
        "      <td> 0.619684</td>\n",
        "      <td> 0.469112</td>\n",
        "    </tr>\n",
        "    <tr>\n",
        "      <th>1</th>\n",
        "      <td> 0.247707</td>\n",
        "      <td>-0.282863</td>\n",
        "    </tr>\n",
        "    <tr>\n",
        "      <th>2</th>\n",
        "      <td>-1.358487</td>\n",
        "      <td>-1.509059</td>\n",
        "    </tr>\n",
        "    <tr>\n",
        "      <th>3</th>\n",
        "      <td>-0.605062</td>\n",
        "      <td>-1.135632</td>\n",
        "    </tr>\n",
        "    <tr>\n",
        "      <th>4</th>\n",
        "      <td> 1.362684</td>\n",
        "      <td> 1.212112</td>\n",
        "    </tr>\n",
        "    <tr>\n",
        "      <th>5</th>\n",
        "      <td> 0.357355</td>\n",
        "      <td>-0.173215</td>\n",
        "    </tr>\n",
        "    <tr>\n",
        "      <th>6</th>\n",
        "      <td> 0.269781</td>\n",
        "      <td> 0.119209</td>\n",
        "    </tr>\n",
        "    <tr>\n",
        "      <th>7</th>\n",
        "      <td>-0.893664</td>\n",
        "      <td>-1.044236</td>\n",
        "    </tr>\n",
        "  </tbody>\n",
        "</table>\n",
        "</div>"
       ],
       "metadata": {},
       "output_type": "pyout",
       "prompt_number": 11,
       "text": [
        "   demeaned  original\n",
        "0  0.619684  0.469112\n",
        "1  0.247707 -0.282863\n",
        "2 -1.358487 -1.509059\n",
        "3 -0.605062 -1.135632\n",
        "4  1.362684  1.212112\n",
        "5  0.357355 -0.173215\n",
        "6  0.269781  0.119209\n",
        "7 -0.893664 -1.044236"
       ]
      }
     ],
     "prompt_number": 11
    },
    {
     "cell_type": "code",
     "collapsed": false,
     "input": [
      "# upcast the result to a DataFrame\n",
      "def f(x):\n",
      "    print x\n",
      "    return Series([x, x**2], index=['x', 'x^s'])\n",
      "print s\n",
      "s.apply(f)"
     ],
     "language": "python",
     "metadata": {},
     "outputs": [
      {
       "output_type": "stream",
       "stream": "stdout",
       "text": [
        "0     9.0\n",
        "1     8.0\n",
        "2     7.0\n",
        "3     5.0\n",
        "4    19.0\n",
        "5     1.0\n",
        "6     4.2\n",
        "7     3.3\n",
        "dtype: float64\n",
        "9.0\n",
        "8.0\n",
        "7.0\n",
        "5.0\n",
        "19.0\n",
        "1.0\n",
        "4.2\n",
        "3.3\n"
       ]
      },
      {
       "html": [
        "<div style=\"max-height:1000px;max-width:1500px;overflow:auto;\">\n",
        "<table border=\"1\" class=\"dataframe\">\n",
        "  <thead>\n",
        "    <tr style=\"text-align: right;\">\n",
        "      <th></th>\n",
        "      <th>x</th>\n",
        "      <th>x^s</th>\n",
        "    </tr>\n",
        "  </thead>\n",
        "  <tbody>\n",
        "    <tr>\n",
        "      <th>0</th>\n",
        "      <td>  9.0</td>\n",
        "      <td>  81.00</td>\n",
        "    </tr>\n",
        "    <tr>\n",
        "      <th>1</th>\n",
        "      <td>  8.0</td>\n",
        "      <td>  64.00</td>\n",
        "    </tr>\n",
        "    <tr>\n",
        "      <th>2</th>\n",
        "      <td>  7.0</td>\n",
        "      <td>  49.00</td>\n",
        "    </tr>\n",
        "    <tr>\n",
        "      <th>3</th>\n",
        "      <td>  5.0</td>\n",
        "      <td>  25.00</td>\n",
        "    </tr>\n",
        "    <tr>\n",
        "      <th>4</th>\n",
        "      <td> 19.0</td>\n",
        "      <td> 361.00</td>\n",
        "    </tr>\n",
        "    <tr>\n",
        "      <th>5</th>\n",
        "      <td>  1.0</td>\n",
        "      <td>   1.00</td>\n",
        "    </tr>\n",
        "    <tr>\n",
        "      <th>6</th>\n",
        "      <td>  4.2</td>\n",
        "      <td>  17.64</td>\n",
        "    </tr>\n",
        "    <tr>\n",
        "      <th>7</th>\n",
        "      <td>  3.3</td>\n",
        "      <td>  10.89</td>\n",
        "    </tr>\n",
        "  </tbody>\n",
        "</table>\n",
        "</div>"
       ],
       "metadata": {},
       "output_type": "pyout",
       "prompt_number": 15,
       "text": [
        "      x     x^s\n",
        "0   9.0   81.00\n",
        "1   8.0   64.00\n",
        "2   7.0   49.00\n",
        "3   5.0   25.00\n",
        "4  19.0  361.00\n",
        "5   1.0    1.00\n",
        "6   4.2   17.64\n",
        "7   3.3   10.89"
       ]
      }
     ],
     "prompt_number": 15
    },
    {
     "cell_type": "code",
     "collapsed": false,
     "input": [
      "# NOTE: Apply twice in DataFrame Group\n",
      "d = DataFrame({\"a\":[\"x\", \"y\"], \"b\":[1,2]})\n",
      "def ident(df):\n",
      "    print df\n",
      "    print df.__class__\n",
      "    return df\n",
      "d.groupby('a').apply(ident)"
     ],
     "language": "python",
     "metadata": {},
     "outputs": [
      {
       "output_type": "stream",
       "stream": "stdout",
       "text": [
        "   a  b\n",
        "0  x  1\n",
        "<class 'pandas.core.frame.DataFrame'>\n",
        "   a  b\n",
        "0  x  1\n",
        "<class 'pandas.core.frame.DataFrame'>\n",
        "   a  b\n",
        "1  y  2\n",
        "<class 'pandas.core.frame.DataFrame'>\n"
       ]
      },
      {
       "html": [
        "<div style=\"max-height:1000px;max-width:1500px;overflow:auto;\">\n",
        "<table border=\"1\" class=\"dataframe\">\n",
        "  <thead>\n",
        "    <tr style=\"text-align: right;\">\n",
        "      <th></th>\n",
        "      <th>a</th>\n",
        "      <th>b</th>\n",
        "    </tr>\n",
        "  </thead>\n",
        "  <tbody>\n",
        "    <tr>\n",
        "      <th>0</th>\n",
        "      <td> x</td>\n",
        "      <td> 1</td>\n",
        "    </tr>\n",
        "    <tr>\n",
        "      <th>1</th>\n",
        "      <td> y</td>\n",
        "      <td> 2</td>\n",
        "    </tr>\n",
        "  </tbody>\n",
        "</table>\n",
        "</div>"
       ],
       "metadata": {},
       "output_type": "pyout",
       "prompt_number": 18,
       "text": [
        "   a  b\n",
        "0  x  1\n",
        "1  y  2"
       ]
      }
     ],
     "prompt_number": 18
    },
    {
     "cell_type": "code",
     "collapsed": false,
     "input": [
      "# Automatic exclusion of \u201cnuisance\u201d columns\n",
      "# troublesome columns will be dropped\n",
      "print df\n",
      "df.groupby('A').std()"
     ],
     "language": "python",
     "metadata": {},
     "outputs": [
      {
       "output_type": "stream",
       "stream": "stdout",
       "text": [
        "     A      B         C         D\n",
        "0  foo    one  0.469112 -0.861849\n",
        "1  bar    one -0.282863 -2.104569\n",
        "2  foo    two -1.509059 -0.494929\n",
        "3  bar  three -1.135632  1.071804\n",
        "4  foo    two  1.212112  0.721555\n",
        "5  bar    two -0.173215 -0.706771\n",
        "6  foo    one  0.119209 -1.039575\n",
        "7  foo  three -1.044236  0.271860\n"
       ]
      },
      {
       "html": [
        "<div style=\"max-height:1000px;max-width:1500px;overflow:auto;\">\n",
        "<table border=\"1\" class=\"dataframe\">\n",
        "  <thead>\n",
        "    <tr style=\"text-align: right;\">\n",
        "      <th></th>\n",
        "      <th>C</th>\n",
        "      <th>D</th>\n",
        "    </tr>\n",
        "    <tr>\n",
        "      <th>A</th>\n",
        "      <th></th>\n",
        "      <th></th>\n",
        "    </tr>\n",
        "  </thead>\n",
        "  <tbody>\n",
        "    <tr>\n",
        "      <th>bar</th>\n",
        "      <td> 0.526859</td>\n",
        "      <td> 1.591986</td>\n",
        "    </tr>\n",
        "    <tr>\n",
        "      <th>foo</th>\n",
        "      <td> 1.113308</td>\n",
        "      <td> 0.753219</td>\n",
        "    </tr>\n",
        "  </tbody>\n",
        "</table>\n",
        "</div>"
       ],
       "metadata": {},
       "output_type": "pyout",
       "prompt_number": 22,
       "text": [
        "            C         D\n",
        "A                      \n",
        "bar  0.526859  1.591986\n",
        "foo  1.113308  0.753219"
       ]
      }
     ],
     "prompt_number": 22
    },
    {
     "cell_type": "code",
     "collapsed": false,
     "input": [
      "# There wourld never be NA-Group\n",
      "df2 = df.iloc[[1,2,3,5]]\n",
      "df2 = df2.reindex(df.index)\n",
      "print df2\n",
      "df2.groupby('A').groups"
     ],
     "language": "python",
     "metadata": {},
     "outputs": [
      {
       "output_type": "stream",
       "stream": "stdout",
       "text": [
        "     A      B         C         D\n",
        "0  NaN    NaN       NaN       NaN\n",
        "1  bar    one -0.282863 -2.104569\n",
        "2  foo    two -1.509059 -0.494929\n",
        "3  bar  three -1.135632  1.071804\n",
        "4  NaN    NaN       NaN       NaN\n",
        "5  bar    two -0.173215 -0.706771\n",
        "6  NaN    NaN       NaN       NaN\n",
        "7  NaN    NaN       NaN       NaN\n"
       ]
      },
      {
       "metadata": {},
       "output_type": "pyout",
       "prompt_number": 38,
       "text": [
        "{'bar': [1L, 3L, 5L], 'foo': [2L]}"
       ]
      }
     ],
     "prompt_number": 38
    },
    {
     "cell_type": "code",
     "collapsed": false,
     "input": [
      "# Grouping with ordered factors\n",
      "data = Series(np.random.randn(100))\n",
      "factor = qcut(data, [0, .25, .5, .75, 1.])\n",
      "data.groupby(factor).mean()"
     ],
     "language": "python",
     "metadata": {},
     "outputs": [
      {
       "metadata": {},
       "output_type": "pyout",
       "prompt_number": 39,
       "text": [
        "[-2.471, -0.662]   -1.303097\n",
        "(-0.662, -0.112]   -0.371032\n",
        "(-0.112, 0.589]     0.257261\n",
        "(0.589, 2.795]      1.133044\n",
        "dtype: float64"
       ]
      }
     ],
     "prompt_number": 39
    },
    {
     "cell_type": "code",
     "collapsed": false,
     "input": [
      "# Grouping with a Grouper specification\n",
      "import datetime as DT\n",
      "df = DataFrame({\n",
      "       'Branch' : 'A A A A A A A B'.split(),\n",
      "       'Buyer': 'Carl Mark Carl Carl Joe Joe Joe Carl'.split(),\n",
      "       'Quantity': [1,3,5,1,8,1,9,3],\n",
      "       'Date' : [\n",
      "             DT.datetime(2013,1,1,13,0),\n",
      "             DT.datetime(2013,1,1,13,5),\n",
      "             DT.datetime(2013,10,1,20,0),\n",
      "             DT.datetime(2013,10,2,10,0),\n",
      "             DT.datetime(2013,10,1,20,0),\n",
      "             DT.datetime(2013,10,2,10,0),\n",
      "             DT.datetime(2013,12,2,12,0),\n",
      "             DT.datetime(2013,12,2,14,0),\n",
      "             ]})\n",
      "df"
     ],
     "language": "python",
     "metadata": {},
     "outputs": [
      {
       "html": [
        "<div style=\"max-height:1000px;max-width:1500px;overflow:auto;\">\n",
        "<table border=\"1\" class=\"dataframe\">\n",
        "  <thead>\n",
        "    <tr style=\"text-align: right;\">\n",
        "      <th></th>\n",
        "      <th>Branch</th>\n",
        "      <th>Buyer</th>\n",
        "      <th>Date</th>\n",
        "      <th>Quantity</th>\n",
        "    </tr>\n",
        "  </thead>\n",
        "  <tbody>\n",
        "    <tr>\n",
        "      <th>0</th>\n",
        "      <td> A</td>\n",
        "      <td> Carl</td>\n",
        "      <td>2013-01-01 13:00:00</td>\n",
        "      <td> 1</td>\n",
        "    </tr>\n",
        "    <tr>\n",
        "      <th>1</th>\n",
        "      <td> A</td>\n",
        "      <td> Mark</td>\n",
        "      <td>2013-01-01 13:05:00</td>\n",
        "      <td> 3</td>\n",
        "    </tr>\n",
        "    <tr>\n",
        "      <th>2</th>\n",
        "      <td> A</td>\n",
        "      <td> Carl</td>\n",
        "      <td>2013-10-01 20:00:00</td>\n",
        "      <td> 5</td>\n",
        "    </tr>\n",
        "    <tr>\n",
        "      <th>3</th>\n",
        "      <td> A</td>\n",
        "      <td> Carl</td>\n",
        "      <td>2013-10-02 10:00:00</td>\n",
        "      <td> 1</td>\n",
        "    </tr>\n",
        "    <tr>\n",
        "      <th>4</th>\n",
        "      <td> A</td>\n",
        "      <td>  Joe</td>\n",
        "      <td>2013-10-01 20:00:00</td>\n",
        "      <td> 8</td>\n",
        "    </tr>\n",
        "    <tr>\n",
        "      <th>5</th>\n",
        "      <td> A</td>\n",
        "      <td>  Joe</td>\n",
        "      <td>2013-10-02 10:00:00</td>\n",
        "      <td> 1</td>\n",
        "    </tr>\n",
        "    <tr>\n",
        "      <th>6</th>\n",
        "      <td> A</td>\n",
        "      <td>  Joe</td>\n",
        "      <td>2013-12-02 12:00:00</td>\n",
        "      <td> 9</td>\n",
        "    </tr>\n",
        "    <tr>\n",
        "      <th>7</th>\n",
        "      <td> B</td>\n",
        "      <td> Carl</td>\n",
        "      <td>2013-12-02 14:00:00</td>\n",
        "      <td> 3</td>\n",
        "    </tr>\n",
        "  </tbody>\n",
        "</table>\n",
        "</div>"
       ],
       "metadata": {},
       "output_type": "pyout",
       "prompt_number": 55,
       "text": [
        "  Branch Buyer                Date  Quantity\n",
        "0      A  Carl 2013-01-01 13:00:00         1\n",
        "1      A  Mark 2013-01-01 13:05:00         3\n",
        "2      A  Carl 2013-10-01 20:00:00         5\n",
        "3      A  Carl 2013-10-02 10:00:00         1\n",
        "4      A   Joe 2013-10-01 20:00:00         8\n",
        "5      A   Joe 2013-10-02 10:00:00         1\n",
        "6      A   Joe 2013-12-02 12:00:00         9\n",
        "7      B  Carl 2013-12-02 14:00:00         3"
       ]
      }
     ],
     "prompt_number": 55
    },
    {
     "cell_type": "code",
     "collapsed": false,
     "input": [
      "# resampling by groupby\n",
      "df.groupby([Grouper(freq='1M',key='Date'),'Buyer']).sum()"
     ],
     "language": "python",
     "metadata": {},
     "outputs": [
      {
       "html": [
        "<div style=\"max-height:1000px;max-width:1500px;overflow:auto;\">\n",
        "<table border=\"1\" class=\"dataframe\">\n",
        "  <thead>\n",
        "    <tr style=\"text-align: right;\">\n",
        "      <th></th>\n",
        "      <th></th>\n",
        "      <th>Quantity</th>\n",
        "    </tr>\n",
        "    <tr>\n",
        "      <th>Date</th>\n",
        "      <th>Buyer</th>\n",
        "      <th></th>\n",
        "    </tr>\n",
        "  </thead>\n",
        "  <tbody>\n",
        "    <tr>\n",
        "      <th rowspan=\"2\" valign=\"top\">2013-01-31</th>\n",
        "      <th>Carl</th>\n",
        "      <td> 1</td>\n",
        "    </tr>\n",
        "    <tr>\n",
        "      <th>Mark</th>\n",
        "      <td> 3</td>\n",
        "    </tr>\n",
        "    <tr>\n",
        "      <th rowspan=\"2\" valign=\"top\">2013-10-31</th>\n",
        "      <th>Carl</th>\n",
        "      <td> 6</td>\n",
        "    </tr>\n",
        "    <tr>\n",
        "      <th>Joe</th>\n",
        "      <td> 9</td>\n",
        "    </tr>\n",
        "    <tr>\n",
        "      <th rowspan=\"2\" valign=\"top\">2013-12-31</th>\n",
        "      <th>Carl</th>\n",
        "      <td> 3</td>\n",
        "    </tr>\n",
        "    <tr>\n",
        "      <th>Joe</th>\n",
        "      <td> 9</td>\n",
        "    </tr>\n",
        "  </tbody>\n",
        "</table>\n",
        "</div>"
       ],
       "metadata": {},
       "output_type": "pyout",
       "prompt_number": 46,
       "text": [
        "                  Quantity\n",
        "Date       Buyer          \n",
        "2013-01-31 Carl          1\n",
        "           Mark          3\n",
        "2013-10-31 Carl          6\n",
        "           Joe           9\n",
        "2013-12-31 Carl          3\n",
        "           Joe           9"
       ]
      }
     ],
     "prompt_number": 46
    },
    {
     "cell_type": "code",
     "collapsed": false,
     "input": [
      "# Grouper by column upon ambigous index and column name \n",
      "df1 = df.set_index('Date')\n",
      "df1['Date'] = df1.index + offsets.MonthEnd(2)\n",
      "df1.groupby([Grouper(freq='6M',key='Date'),'Buyer']).sum()"
     ],
     "language": "python",
     "metadata": {},
     "outputs": [
      {
       "html": [
        "<div style=\"max-height:1000px;max-width:1500px;overflow:auto;\">\n",
        "<table border=\"1\" class=\"dataframe\">\n",
        "  <thead>\n",
        "    <tr style=\"text-align: right;\">\n",
        "      <th></th>\n",
        "      <th></th>\n",
        "      <th>Quantity</th>\n",
        "    </tr>\n",
        "    <tr>\n",
        "      <th>Date</th>\n",
        "      <th>Buyer</th>\n",
        "      <th></th>\n",
        "    </tr>\n",
        "  </thead>\n",
        "  <tbody>\n",
        "    <tr>\n",
        "      <th rowspan=\"2\" valign=\"top\">2013-02-28</th>\n",
        "      <th>Carl</th>\n",
        "      <td>  1</td>\n",
        "    </tr>\n",
        "    <tr>\n",
        "      <th>Mark</th>\n",
        "      <td>  3</td>\n",
        "    </tr>\n",
        "    <tr>\n",
        "      <th rowspan=\"2\" valign=\"top\">2014-02-28</th>\n",
        "      <th>Carl</th>\n",
        "      <td>  9</td>\n",
        "    </tr>\n",
        "    <tr>\n",
        "      <th>Joe</th>\n",
        "      <td> 18</td>\n",
        "    </tr>\n",
        "  </tbody>\n",
        "</table>\n",
        "</div>"
       ],
       "metadata": {},
       "output_type": "pyout",
       "prompt_number": 57,
       "text": [
        "                  Quantity\n",
        "Date       Buyer          \n",
        "2013-02-28 Carl          1\n",
        "           Mark          3\n",
        "2014-02-28 Carl          9\n",
        "           Joe          18"
       ]
      }
     ],
     "prompt_number": 57
    },
    {
     "cell_type": "code",
     "collapsed": false,
     "input": [
      "# Grouper by index name upon ambigous index and column name\n",
      "df1.groupby([Grouper(freq='6M',level='Date'),'Buyer']).sum()"
     ],
     "language": "python",
     "metadata": {},
     "outputs": [
      {
       "html": [
        "<div style=\"max-height:1000px;max-width:1500px;overflow:auto;\">\n",
        "<table border=\"1\" class=\"dataframe\">\n",
        "  <thead>\n",
        "    <tr style=\"text-align: right;\">\n",
        "      <th></th>\n",
        "      <th></th>\n",
        "      <th>Quantity</th>\n",
        "    </tr>\n",
        "    <tr>\n",
        "      <th>Date</th>\n",
        "      <th>Buyer</th>\n",
        "      <th></th>\n",
        "    </tr>\n",
        "  </thead>\n",
        "  <tbody>\n",
        "    <tr>\n",
        "      <th rowspan=\"2\" valign=\"top\">2013-01-31</th>\n",
        "      <th>Carl</th>\n",
        "      <td>  1</td>\n",
        "    </tr>\n",
        "    <tr>\n",
        "      <th>Mark</th>\n",
        "      <td>  3</td>\n",
        "    </tr>\n",
        "    <tr>\n",
        "      <th rowspan=\"2\" valign=\"top\">2014-01-31</th>\n",
        "      <th>Carl</th>\n",
        "      <td>  9</td>\n",
        "    </tr>\n",
        "    <tr>\n",
        "      <th>Joe</th>\n",
        "      <td> 18</td>\n",
        "    </tr>\n",
        "  </tbody>\n",
        "</table>\n",
        "</div>"
       ],
       "metadata": {},
       "output_type": "pyout",
       "prompt_number": 60,
       "text": [
        "                  Quantity\n",
        "Date       Buyer          \n",
        "2013-01-31 Carl          1\n",
        "           Mark          3\n",
        "2014-01-31 Carl          9\n",
        "           Joe          18"
       ]
      }
     ],
     "prompt_number": 60
    },
    {
     "cell_type": "heading",
     "level": 2,
     "metadata": {},
     "source": [
      "Taking the first rows of each group"
     ]
    },
    {
     "cell_type": "code",
     "collapsed": false,
     "input": [
      "df = DataFrame([[1, 2], [1, 4], [5, 6]], columns=['A', 'B'])\n",
      "df"
     ],
     "language": "python",
     "metadata": {},
     "outputs": [
      {
       "html": [
        "<div style=\"max-height:1000px;max-width:1500px;overflow:auto;\">\n",
        "<table border=\"1\" class=\"dataframe\">\n",
        "  <thead>\n",
        "    <tr style=\"text-align: right;\">\n",
        "      <th></th>\n",
        "      <th>A</th>\n",
        "      <th>B</th>\n",
        "    </tr>\n",
        "  </thead>\n",
        "  <tbody>\n",
        "    <tr>\n",
        "      <th>0</th>\n",
        "      <td> 1</td>\n",
        "      <td> 2</td>\n",
        "    </tr>\n",
        "    <tr>\n",
        "      <th>1</th>\n",
        "      <td> 1</td>\n",
        "      <td> 4</td>\n",
        "    </tr>\n",
        "    <tr>\n",
        "      <th>2</th>\n",
        "      <td> 5</td>\n",
        "      <td> 6</td>\n",
        "    </tr>\n",
        "  </tbody>\n",
        "</table>\n",
        "</div>"
       ],
       "metadata": {},
       "output_type": "pyout",
       "prompt_number": 61,
       "text": [
        "   A  B\n",
        "0  1  2\n",
        "1  1  4\n",
        "2  5  6"
       ]
      }
     ],
     "prompt_number": 61
    },
    {
     "cell_type": "code",
     "collapsed": false,
     "input": [
      "g = df.groupby('A')\n",
      "g.head(1)"
     ],
     "language": "python",
     "metadata": {},
     "outputs": [
      {
       "html": [
        "<div style=\"max-height:1000px;max-width:1500px;overflow:auto;\">\n",
        "<table border=\"1\" class=\"dataframe\">\n",
        "  <thead>\n",
        "    <tr style=\"text-align: right;\">\n",
        "      <th></th>\n",
        "      <th>A</th>\n",
        "      <th>B</th>\n",
        "    </tr>\n",
        "  </thead>\n",
        "  <tbody>\n",
        "    <tr>\n",
        "      <th>0</th>\n",
        "      <td> 1</td>\n",
        "      <td> 2</td>\n",
        "    </tr>\n",
        "    <tr>\n",
        "      <th>2</th>\n",
        "      <td> 5</td>\n",
        "      <td> 6</td>\n",
        "    </tr>\n",
        "  </tbody>\n",
        "</table>\n",
        "</div>"
       ],
       "metadata": {},
       "output_type": "pyout",
       "prompt_number": 62,
       "text": [
        "   A  B\n",
        "0  1  2\n",
        "2  5  6"
       ]
      }
     ],
     "prompt_number": 62
    },
    {
     "cell_type": "code",
     "collapsed": false,
     "input": [
      "g.tail(1)"
     ],
     "language": "python",
     "metadata": {},
     "outputs": [
      {
       "html": [
        "<div style=\"max-height:1000px;max-width:1500px;overflow:auto;\">\n",
        "<table border=\"1\" class=\"dataframe\">\n",
        "  <thead>\n",
        "    <tr style=\"text-align: right;\">\n",
        "      <th></th>\n",
        "      <th>A</th>\n",
        "      <th>B</th>\n",
        "    </tr>\n",
        "  </thead>\n",
        "  <tbody>\n",
        "    <tr>\n",
        "      <th>1</th>\n",
        "      <td> 1</td>\n",
        "      <td> 4</td>\n",
        "    </tr>\n",
        "    <tr>\n",
        "      <th>2</th>\n",
        "      <td> 5</td>\n",
        "      <td> 6</td>\n",
        "    </tr>\n",
        "  </tbody>\n",
        "</table>\n",
        "</div>"
       ],
       "metadata": {},
       "output_type": "pyout",
       "prompt_number": 63,
       "text": [
        "   A  B\n",
        "1  1  4\n",
        "2  5  6"
       ]
      }
     ],
     "prompt_number": 63
    },
    {
     "cell_type": "code",
     "collapsed": false,
     "input": [
      "# Taking the nth row of each group\n",
      "df = DataFrame([[1, np.nan], [1, 4], [5, 6]], columns=['A', 'B'])\n",
      "g = df.groupby('A')\n",
      "g.nth(0)"
     ],
     "language": "python",
     "metadata": {},
     "outputs": [
      {
       "html": [
        "<div style=\"max-height:1000px;max-width:1500px;overflow:auto;\">\n",
        "<table border=\"1\" class=\"dataframe\">\n",
        "  <thead>\n",
        "    <tr style=\"text-align: right;\">\n",
        "      <th></th>\n",
        "      <th>B</th>\n",
        "    </tr>\n",
        "    <tr>\n",
        "      <th>A</th>\n",
        "      <th></th>\n",
        "    </tr>\n",
        "  </thead>\n",
        "  <tbody>\n",
        "    <tr>\n",
        "      <th>1</th>\n",
        "      <td>NaN</td>\n",
        "    </tr>\n",
        "    <tr>\n",
        "      <th>5</th>\n",
        "      <td>  6</td>\n",
        "    </tr>\n",
        "  </tbody>\n",
        "</table>\n",
        "</div>"
       ],
       "metadata": {},
       "output_type": "pyout",
       "prompt_number": 64,
       "text": [
        "    B\n",
        "A    \n",
        "1 NaN\n",
        "5   6"
       ]
      }
     ],
     "prompt_number": 64
    },
    {
     "cell_type": "code",
     "collapsed": false,
     "input": [
      "g.nth(-1)"
     ],
     "language": "python",
     "metadata": {},
     "outputs": [
      {
       "html": [
        "<div style=\"max-height:1000px;max-width:1500px;overflow:auto;\">\n",
        "<table border=\"1\" class=\"dataframe\">\n",
        "  <thead>\n",
        "    <tr style=\"text-align: right;\">\n",
        "      <th></th>\n",
        "      <th>B</th>\n",
        "    </tr>\n",
        "    <tr>\n",
        "      <th>A</th>\n",
        "      <th></th>\n",
        "    </tr>\n",
        "  </thead>\n",
        "  <tbody>\n",
        "    <tr>\n",
        "      <th>1</th>\n",
        "      <td> 4</td>\n",
        "    </tr>\n",
        "    <tr>\n",
        "      <th>5</th>\n",
        "      <td> 6</td>\n",
        "    </tr>\n",
        "  </tbody>\n",
        "</table>\n",
        "</div>"
       ],
       "metadata": {},
       "output_type": "pyout",
       "prompt_number": 66,
       "text": [
        "   B\n",
        "A   \n",
        "1  4\n",
        "5  6"
       ]
      }
     ],
     "prompt_number": 66
    },
    {
     "cell_type": "code",
     "collapsed": false,
     "input": [
      "g.nth(1)"
     ],
     "language": "python",
     "metadata": {},
     "outputs": [
      {
       "html": [
        "<div style=\"max-height:1000px;max-width:1500px;overflow:auto;\">\n",
        "<table border=\"1\" class=\"dataframe\">\n",
        "  <thead>\n",
        "    <tr style=\"text-align: right;\">\n",
        "      <th></th>\n",
        "      <th>B</th>\n",
        "    </tr>\n",
        "    <tr>\n",
        "      <th>A</th>\n",
        "      <th></th>\n",
        "    </tr>\n",
        "  </thead>\n",
        "  <tbody>\n",
        "    <tr>\n",
        "      <th>1</th>\n",
        "      <td> 4</td>\n",
        "    </tr>\n",
        "  </tbody>\n",
        "</table>\n",
        "</div>"
       ],
       "metadata": {},
       "output_type": "pyout",
       "prompt_number": 68,
       "text": [
        "   B\n",
        "A   \n",
        "1  4"
       ]
      }
     ],
     "prompt_number": 68
    },
    {
     "cell_type": "code",
     "collapsed": false,
     "input": [
      "# nth(0) is the same as g.first()\n",
      "g.nth(0, dropna='any')"
     ],
     "language": "python",
     "metadata": {},
     "outputs": [
      {
       "html": [
        "<div style=\"max-height:1000px;max-width:1500px;overflow:auto;\">\n",
        "<table border=\"1\" class=\"dataframe\">\n",
        "  <thead>\n",
        "    <tr style=\"text-align: right;\">\n",
        "      <th></th>\n",
        "      <th>B</th>\n",
        "    </tr>\n",
        "    <tr>\n",
        "      <th>A</th>\n",
        "      <th></th>\n",
        "    </tr>\n",
        "  </thead>\n",
        "  <tbody>\n",
        "    <tr>\n",
        "      <th>1</th>\n",
        "      <td> 4</td>\n",
        "    </tr>\n",
        "    <tr>\n",
        "      <th>5</th>\n",
        "      <td> 6</td>\n",
        "    </tr>\n",
        "  </tbody>\n",
        "</table>\n",
        "</div>"
       ],
       "metadata": {},
       "output_type": "pyout",
       "prompt_number": 69,
       "text": [
        "   B\n",
        "A   \n",
        "1  4\n",
        "5  6"
       ]
      }
     ],
     "prompt_number": 69
    },
    {
     "cell_type": "heading",
     "level": 2,
     "metadata": {},
     "source": [
      "Enumerate group items"
     ]
    },
    {
     "cell_type": "code",
     "collapsed": false,
     "input": [
      "df = DataFrame(list('aaabba'), columns=['A'])\n",
      "df"
     ],
     "language": "python",
     "metadata": {},
     "outputs": [
      {
       "html": [
        "<div style=\"max-height:1000px;max-width:1500px;overflow:auto;\">\n",
        "<table border=\"1\" class=\"dataframe\">\n",
        "  <thead>\n",
        "    <tr style=\"text-align: right;\">\n",
        "      <th></th>\n",
        "      <th>A</th>\n",
        "    </tr>\n",
        "  </thead>\n",
        "  <tbody>\n",
        "    <tr>\n",
        "      <th>0</th>\n",
        "      <td> a</td>\n",
        "    </tr>\n",
        "    <tr>\n",
        "      <th>1</th>\n",
        "      <td> a</td>\n",
        "    </tr>\n",
        "    <tr>\n",
        "      <th>2</th>\n",
        "      <td> a</td>\n",
        "    </tr>\n",
        "    <tr>\n",
        "      <th>3</th>\n",
        "      <td> b</td>\n",
        "    </tr>\n",
        "    <tr>\n",
        "      <th>4</th>\n",
        "      <td> b</td>\n",
        "    </tr>\n",
        "    <tr>\n",
        "      <th>5</th>\n",
        "      <td> a</td>\n",
        "    </tr>\n",
        "  </tbody>\n",
        "</table>\n",
        "</div>"
       ],
       "metadata": {},
       "output_type": "pyout",
       "prompt_number": 76,
       "text": [
        "   A\n",
        "0  a\n",
        "1  a\n",
        "2  a\n",
        "3  b\n",
        "4  b\n",
        "5  a"
       ]
      }
     ],
     "prompt_number": 76
    },
    {
     "cell_type": "code",
     "collapsed": false,
     "input": [
      "df.groupby('A').cumcount()"
     ],
     "language": "python",
     "metadata": {},
     "outputs": [
      {
       "metadata": {},
       "output_type": "pyout",
       "prompt_number": 73,
       "text": [
        "0    0\n",
        "1    1\n",
        "2    2\n",
        "3    0\n",
        "4    1\n",
        "5    3\n",
        "dtype: int64"
       ]
      }
     ],
     "prompt_number": 73
    },
    {
     "cell_type": "code",
     "collapsed": false,
     "input": [
      "df.groupby('A').cumcount(ascending=False)  # kwarg only"
     ],
     "language": "python",
     "metadata": {},
     "outputs": [
      {
       "metadata": {},
       "output_type": "pyout",
       "prompt_number": 75,
       "text": [
        "0    3\n",
        "1    2\n",
        "2    1\n",
        "3    1\n",
        "4    0\n",
        "5    0\n",
        "dtype: int64"
       ]
      }
     ],
     "prompt_number": 75
    },
    {
     "cell_type": "heading",
     "level": 2,
     "metadata": {},
     "source": [
      "Plotting"
     ]
    },
    {
     "cell_type": "code",
     "collapsed": false,
     "input": [
      "np.random.seed(1234)\n",
      "df = DataFrame(np.random.randn(10, 2))\n",
      "print df\n",
      "df['g'] = np.random.choice(['A', 'B'], size=10)\n",
      "print df\n",
      "df.loc[df['g'] == 'B', 1] += 3\n",
      "print df\n"
     ],
     "language": "python",
     "metadata": {},
     "outputs": [
      {
       "output_type": "stream",
       "stream": "stdout",
       "text": [
        "          0         1\n",
        "0  0.471435 -1.190976\n",
        "1  1.432707 -0.312652\n",
        "2 -0.720589  0.887163\n",
        "3  0.859588 -0.636524\n",
        "4  0.015696 -2.242685\n",
        "5  1.150036  0.991946\n",
        "6  0.953324 -2.021255\n",
        "7 -0.334077  0.002118\n",
        "8  0.405453  0.289092\n",
        "9  1.321158 -1.546906\n",
        "          0         1  g\n",
        "0  0.471435 -1.190976  B\n",
        "1  1.432707 -0.312652  A\n",
        "2 -0.720589  0.887163  B\n",
        "3  0.859588 -0.636524  A\n",
        "4  0.015696 -2.242685  B\n",
        "5  1.150036  0.991946  A\n",
        "6  0.953324 -2.021255  B\n",
        "7 -0.334077  0.002118  B\n",
        "8  0.405453  0.289092  B\n",
        "9  1.321158 -1.546906  B\n",
        "          0         1  g\n",
        "0  0.471435  1.809024  B\n",
        "1  1.432707 -0.312652  A\n",
        "2 -0.720589  3.887163  B\n",
        "3  0.859588 -0.636524  A\n",
        "4  0.015696  0.757315  B\n",
        "5  1.150036  0.991946  A\n",
        "6  0.953324  0.978745  B\n",
        "7 -0.334077  3.002118  B\n",
        "8  0.405453  3.289092  B\n",
        "9  1.321158  1.453094  B\n"
       ]
      }
     ],
     "prompt_number": 78
    },
    {
     "cell_type": "code",
     "collapsed": false,
     "input": [
      "df.groupby('g').boxplot()"
     ],
     "language": "python",
     "metadata": {},
     "outputs": [
      {
       "output_type": "stream",
       "stream": "stderr",
       "text": [
        "C:\\Python27\\lib\\site-packages\\pandas\\tools\\plotting.py:2380: FutureWarning: \n",
        "The default value for 'return_type' will change to 'axes' in a future release.\n",
        " To use the future behavior now, set return_type='axes'.\n",
        " To keep the previous behavior and silence this warning, set return_type='dict'.\n",
        "  warnings.warn(msg, FutureWarning)\n"
       ]
      },
      {
       "metadata": {},
       "output_type": "pyout",
       "prompt_number": 79,
       "text": [
        "OrderedDict([('A', {'medians': [<matplotlib.lines.Line2D object at 0x0A40B950>, <matplotlib.lines.Line2D object at 0x0A419870>], 'fliers': [<matplotlib.lines.Line2D object at 0x0A40BD30>, <matplotlib.lines.Line2D object at 0x0A412310>, <matplotlib.lines.Line2D object at 0x0A419C50>, <matplotlib.lines.Line2D object at 0x0A422210>], 'whiskers': [<matplotlib.lines.Line2D object at 0x0A332BD0>, <matplotlib.lines.Line2D object at 0x0A332DB0>, <matplotlib.lines.Line2D object at 0x0A4126D0>, <matplotlib.lines.Line2D object at 0x0A4128D0>], 'boxes': [<matplotlib.lines.Line2D object at 0x0A40B590>, <matplotlib.lines.Line2D object at 0x0A419490>], 'caps': [<matplotlib.lines.Line2D object at 0x0A40B1F0>, <matplotlib.lines.Line2D object at 0x0A32DFD0>, <matplotlib.lines.Line2D object at 0x0A412CB0>, <matplotlib.lines.Line2D object at 0x0A4190B0>]}), ('B', {'medians': [<matplotlib.lines.Line2D object at 0x0A428810>, <matplotlib.lines.Line2D object at 0x0A438730>], 'fliers': [<matplotlib.lines.Line2D object at 0x0A428BF0>, <matplotlib.lines.Line2D object at 0x0A4301D0>, <matplotlib.lines.Line2D object at 0x0A438B10>, <matplotlib.lines.Line2D object at 0x0A4570D0>], 'whiskers': [<matplotlib.lines.Line2D object at 0x0A4226B0>, <matplotlib.lines.Line2D object at 0x0A422830>, <matplotlib.lines.Line2D object at 0x0A430590>, <matplotlib.lines.Line2D object at 0x0A430790>], 'boxes': [<matplotlib.lines.Line2D object at 0x0A428430>, <matplotlib.lines.Line2D object at 0x0A438350>], 'caps': [<matplotlib.lines.Line2D object at 0x0A422C50>, <matplotlib.lines.Line2D object at 0x0A428050>, <matplotlib.lines.Line2D object at 0x0A430B70>, <matplotlib.lines.Line2D object at 0x0A430F50>]})])"
       ]
      },
      {
       "metadata": {},
       "output_type": "display_data",
       "png": "[encoded data removed]",
       "text": [
        "<matplotlib.figure.Figure at 0xa220870>"
       ]
      }
     ],
     "prompt_number": 79
    },
    {
     "cell_type": "heading",
     "level": 2,
     "metadata": {},
     "source": [
      "Regrouping by factor"
     ]
    },
    {
     "cell_type": "code",
     "collapsed": false,
     "input": [
      "df = DataFrame({'a':[1,0,0], 'b':[0,1,0], 'c':[1,0,0], 'd':[2,3,4]})\n",
      "df"
     ],
     "language": "python",
     "metadata": {},
     "outputs": [
      {
       "html": [
        "<div style=\"max-height:1000px;max-width:1500px;overflow:auto;\">\n",
        "<table border=\"1\" class=\"dataframe\">\n",
        "  <thead>\n",
        "    <tr style=\"text-align: right;\">\n",
        "      <th></th>\n",
        "      <th>a</th>\n",
        "      <th>b</th>\n",
        "      <th>c</th>\n",
        "      <th>d</th>\n",
        "    </tr>\n",
        "  </thead>\n",
        "  <tbody>\n",
        "    <tr>\n",
        "      <th>0</th>\n",
        "      <td> 1</td>\n",
        "      <td> 0</td>\n",
        "      <td> 1</td>\n",
        "      <td> 2</td>\n",
        "    </tr>\n",
        "    <tr>\n",
        "      <th>1</th>\n",
        "      <td> 0</td>\n",
        "      <td> 1</td>\n",
        "      <td> 0</td>\n",
        "      <td> 3</td>\n",
        "    </tr>\n",
        "    <tr>\n",
        "      <th>2</th>\n",
        "      <td> 0</td>\n",
        "      <td> 0</td>\n",
        "      <td> 0</td>\n",
        "      <td> 4</td>\n",
        "    </tr>\n",
        "  </tbody>\n",
        "</table>\n",
        "</div>"
       ],
       "metadata": {},
       "output_type": "pyout",
       "prompt_number": 81,
       "text": [
        "   a  b  c  d\n",
        "0  1  0  1  2\n",
        "1  0  1  0  3\n",
        "2  0  0  0  4"
       ]
      }
     ],
     "prompt_number": 81
    },
    {
     "cell_type": "code",
     "collapsed": false,
     "input": [
      "df.groupby(df.sum(), axis=1).sum()"
     ],
     "language": "python",
     "metadata": {},
     "outputs": [
      {
       "html": [
        "<div style=\"max-height:1000px;max-width:1500px;overflow:auto;\">\n",
        "<table border=\"1\" class=\"dataframe\">\n",
        "  <thead>\n",
        "    <tr style=\"text-align: right;\">\n",
        "      <th></th>\n",
        "      <th>1</th>\n",
        "      <th>9</th>\n",
        "    </tr>\n",
        "  </thead>\n",
        "  <tbody>\n",
        "    <tr>\n",
        "      <th>0</th>\n",
        "      <td> 2</td>\n",
        "      <td> 2</td>\n",
        "    </tr>\n",
        "    <tr>\n",
        "      <th>1</th>\n",
        "      <td> 1</td>\n",
        "      <td> 3</td>\n",
        "    </tr>\n",
        "    <tr>\n",
        "      <th>2</th>\n",
        "      <td> 0</td>\n",
        "      <td> 4</td>\n",
        "    </tr>\n",
        "  </tbody>\n",
        "</table>\n",
        "</div>"
       ],
       "metadata": {},
       "output_type": "pyout",
       "prompt_number": 83,
       "text": [
        "   1  9\n",
        "0  2  2\n",
        "1  1  3\n",
        "2  0  4"
       ]
      }
     ],
     "prompt_number": 83
    },
    {
     "cell_type": "heading",
     "level": 2,
     "metadata": {},
     "source": [
      "Returning a Series to propogate names"
     ]
    },
    {
     "cell_type": "code",
     "collapsed": false,
     "input": [
      "df = DataFrame({\n",
      "     'a':  [0, 0, 0, 0, 1, 1, 1, 1, 2, 2, 2, 2],\n",
      "     'b':  [0, 0, 1, 1, 0, 0, 1, 1, 0, 0, 1, 1],\n",
      "     'c':  [1, 0, 1, 0, 1, 0, 1, 0, 1, 0, 1, 0],\n",
      "     'd':  [0, 0, 0, 1, 0, 0, 0, 1, 0, 0, 0, 1],\n",
      "     })\n",
      "df"
     ],
     "language": "python",
     "metadata": {},
     "outputs": [
      {
       "html": [
        "<div style=\"max-height:1000px;max-width:1500px;overflow:auto;\">\n",
        "<table border=\"1\" class=\"dataframe\">\n",
        "  <thead>\n",
        "    <tr style=\"text-align: right;\">\n",
        "      <th></th>\n",
        "      <th>a</th>\n",
        "      <th>b</th>\n",
        "      <th>c</th>\n",
        "      <th>d</th>\n",
        "    </tr>\n",
        "  </thead>\n",
        "  <tbody>\n",
        "    <tr>\n",
        "      <th>0 </th>\n",
        "      <td> 0</td>\n",
        "      <td> 0</td>\n",
        "      <td> 1</td>\n",
        "      <td> 0</td>\n",
        "    </tr>\n",
        "    <tr>\n",
        "      <th>1 </th>\n",
        "      <td> 0</td>\n",
        "      <td> 0</td>\n",
        "      <td> 0</td>\n",
        "      <td> 0</td>\n",
        "    </tr>\n",
        "    <tr>\n",
        "      <th>2 </th>\n",
        "      <td> 0</td>\n",
        "      <td> 1</td>\n",
        "      <td> 1</td>\n",
        "      <td> 0</td>\n",
        "    </tr>\n",
        "    <tr>\n",
        "      <th>3 </th>\n",
        "      <td> 0</td>\n",
        "      <td> 1</td>\n",
        "      <td> 0</td>\n",
        "      <td> 1</td>\n",
        "    </tr>\n",
        "    <tr>\n",
        "      <th>4 </th>\n",
        "      <td> 1</td>\n",
        "      <td> 0</td>\n",
        "      <td> 1</td>\n",
        "      <td> 0</td>\n",
        "    </tr>\n",
        "    <tr>\n",
        "      <th>5 </th>\n",
        "      <td> 1</td>\n",
        "      <td> 0</td>\n",
        "      <td> 0</td>\n",
        "      <td> 0</td>\n",
        "    </tr>\n",
        "    <tr>\n",
        "      <th>6 </th>\n",
        "      <td> 1</td>\n",
        "      <td> 1</td>\n",
        "      <td> 1</td>\n",
        "      <td> 0</td>\n",
        "    </tr>\n",
        "    <tr>\n",
        "      <th>7 </th>\n",
        "      <td> 1</td>\n",
        "      <td> 1</td>\n",
        "      <td> 0</td>\n",
        "      <td> 1</td>\n",
        "    </tr>\n",
        "    <tr>\n",
        "      <th>8 </th>\n",
        "      <td> 2</td>\n",
        "      <td> 0</td>\n",
        "      <td> 1</td>\n",
        "      <td> 0</td>\n",
        "    </tr>\n",
        "    <tr>\n",
        "      <th>9 </th>\n",
        "      <td> 2</td>\n",
        "      <td> 0</td>\n",
        "      <td> 0</td>\n",
        "      <td> 0</td>\n",
        "    </tr>\n",
        "    <tr>\n",
        "      <th>10</th>\n",
        "      <td> 2</td>\n",
        "      <td> 1</td>\n",
        "      <td> 1</td>\n",
        "      <td> 0</td>\n",
        "    </tr>\n",
        "    <tr>\n",
        "      <th>11</th>\n",
        "      <td> 2</td>\n",
        "      <td> 1</td>\n",
        "      <td> 0</td>\n",
        "      <td> 1</td>\n",
        "    </tr>\n",
        "  </tbody>\n",
        "</table>\n",
        "</div>"
       ],
       "metadata": {},
       "output_type": "pyout",
       "prompt_number": 86,
       "text": [
        "    a  b  c  d\n",
        "0   0  0  1  0\n",
        "1   0  0  0  0\n",
        "2   0  1  1  0\n",
        "3   0  1  0  1\n",
        "4   1  0  1  0\n",
        "5   1  0  0  0\n",
        "6   1  1  1  0\n",
        "7   1  1  0  1\n",
        "8   2  0  1  0\n",
        "9   2  0  0  0\n",
        "10  2  1  1  0\n",
        "11  2  1  0  1"
       ]
      }
     ],
     "prompt_number": 86
    },
    {
     "cell_type": "code",
     "collapsed": false,
     "input": [
      "def compute_metrics(x):\n",
      "    result = {'b_sum': x['b'].sum(), 'c_mean': x['c'].mean()}\n",
      "    return Series(result, name='metrics')\n",
      "result = df.groupby('a').apply(compute_metrics)\n",
      "result"
     ],
     "language": "python",
     "metadata": {},
     "outputs": [
      {
       "html": [
        "<div style=\"max-height:1000px;max-width:1500px;overflow:auto;\">\n",
        "<table border=\"1\" class=\"dataframe\">\n",
        "  <thead>\n",
        "    <tr style=\"text-align: right;\">\n",
        "      <th>metrics</th>\n",
        "      <th>b_sum</th>\n",
        "      <th>c_mean</th>\n",
        "    </tr>\n",
        "    <tr>\n",
        "      <th>a</th>\n",
        "      <th></th>\n",
        "      <th></th>\n",
        "    </tr>\n",
        "  </thead>\n",
        "  <tbody>\n",
        "    <tr>\n",
        "      <th>0</th>\n",
        "      <td> 2</td>\n",
        "      <td> 0.5</td>\n",
        "    </tr>\n",
        "    <tr>\n",
        "      <th>1</th>\n",
        "      <td> 2</td>\n",
        "      <td> 0.5</td>\n",
        "    </tr>\n",
        "    <tr>\n",
        "      <th>2</th>\n",
        "      <td> 2</td>\n",
        "      <td> 0.5</td>\n",
        "    </tr>\n",
        "  </tbody>\n",
        "</table>\n",
        "</div>"
       ],
       "metadata": {},
       "output_type": "pyout",
       "prompt_number": 88,
       "text": [
        "metrics  b_sum  c_mean\n",
        "a                     \n",
        "0            2     0.5\n",
        "1            2     0.5\n",
        "2            2     0.5"
       ]
      }
     ],
     "prompt_number": 88
    },
    {
     "cell_type": "code",
     "collapsed": false,
     "input": [
      "result.stack()"
     ],
     "language": "python",
     "metadata": {},
     "outputs": [
      {
       "metadata": {},
       "output_type": "pyout",
       "prompt_number": 89,
       "text": [
        "a  metrics\n",
        "0  b_sum      2.0\n",
        "   c_mean     0.5\n",
        "1  b_sum      2.0\n",
        "   c_mean     0.5\n",
        "2  b_sum      2.0\n",
        "   c_mean     0.5\n",
        "dtype: float64"
       ]
      }
     ],
     "prompt_number": 89
    }
   ],
   "metadata": {}
  }
 ]
}