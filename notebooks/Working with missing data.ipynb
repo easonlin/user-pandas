{
 "metadata": {
  "name": "",
  "signature": "sha256:1cfe4527c9acc5f50ddc2b60d14dbbe896ba09f5f1ecb69a054c52617add69ae"
 },
 "nbformat": 3,
 "nbformat_minor": 0,
 "worksheets": [
  {
   "cells": [
    {
     "cell_type": "heading",
     "level": 1,
     "metadata": {},
     "source": [
      "Working with missing data http://pandas.pydata.org/pandas-docs/stable/missing_data.html"
     ]
    },
    {
     "cell_type": "code",
     "collapsed": false,
     "input": [
      "from pandas import *\n",
      "df = DataFrame(randn(5, 3), index=['a', 'c', 'e', 'f', 'h'],\n",
      "               columns=['one', 'two', 'three'])"
     ],
     "language": "python",
     "metadata": {},
     "outputs": [],
     "prompt_number": 1
    },
    {
     "cell_type": "code",
     "collapsed": false,
     "input": [
      "df['four'] = 'bar'\n",
      "df['five'] = df['one'] > 0\n",
      "df"
     ],
     "language": "python",
     "metadata": {},
     "outputs": [
      {
       "html": [
        "<div style=\"max-height:1000px;max-width:1500px;overflow:auto;\">\n",
        "<table border=\"1\" class=\"dataframe\">\n",
        "  <thead>\n",
        "    <tr style=\"text-align: right;\">\n",
        "      <th></th>\n",
        "      <th>one</th>\n",
        "      <th>two</th>\n",
        "      <th>three</th>\n",
        "      <th>four</th>\n",
        "      <th>five</th>\n",
        "    </tr>\n",
        "  </thead>\n",
        "  <tbody>\n",
        "    <tr>\n",
        "      <th>a</th>\n",
        "      <td> 0.192251</td>\n",
        "      <td>-0.121606</td>\n",
        "      <td> 0.400702</td>\n",
        "      <td> bar</td>\n",
        "      <td>  True</td>\n",
        "    </tr>\n",
        "    <tr>\n",
        "      <th>c</th>\n",
        "      <td> 1.014274</td>\n",
        "      <td>-0.421422</td>\n",
        "      <td> 0.794539</td>\n",
        "      <td> bar</td>\n",
        "      <td>  True</td>\n",
        "    </tr>\n",
        "    <tr>\n",
        "      <th>e</th>\n",
        "      <td> 0.396125</td>\n",
        "      <td>-0.806258</td>\n",
        "      <td> 1.018637</td>\n",
        "      <td> bar</td>\n",
        "      <td>  True</td>\n",
        "    </tr>\n",
        "    <tr>\n",
        "      <th>f</th>\n",
        "      <td>-0.415619</td>\n",
        "      <td> 0.056410</td>\n",
        "      <td> 1.324948</td>\n",
        "      <td> bar</td>\n",
        "      <td> False</td>\n",
        "    </tr>\n",
        "    <tr>\n",
        "      <th>h</th>\n",
        "      <td> 0.043938</td>\n",
        "      <td> 0.701381</td>\n",
        "      <td> 0.847375</td>\n",
        "      <td> bar</td>\n",
        "      <td>  True</td>\n",
        "    </tr>\n",
        "  </tbody>\n",
        "</table>\n",
        "</div>"
       ],
       "metadata": {},
       "output_type": "pyout",
       "prompt_number": 2,
       "text": [
        "        one       two     three four   five\n",
        "a  0.192251 -0.121606  0.400702  bar   True\n",
        "c  1.014274 -0.421422  0.794539  bar   True\n",
        "e  0.396125 -0.806258  1.018637  bar   True\n",
        "f -0.415619  0.056410  1.324948  bar  False\n",
        "h  0.043938  0.701381  0.847375  bar   True"
       ]
      }
     ],
     "prompt_number": 2
    },
    {
     "cell_type": "code",
     "collapsed": false,
     "input": [
      "df2 = df.reindex(['a', 'b', 'c', 'd', 'e', 'f', 'g', 'h'])\n",
      "df2"
     ],
     "language": "python",
     "metadata": {},
     "outputs": [
      {
       "html": [
        "<div style=\"max-height:1000px;max-width:1500px;overflow:auto;\">\n",
        "<table border=\"1\" class=\"dataframe\">\n",
        "  <thead>\n",
        "    <tr style=\"text-align: right;\">\n",
        "      <th></th>\n",
        "      <th>one</th>\n",
        "      <th>two</th>\n",
        "      <th>three</th>\n",
        "      <th>four</th>\n",
        "      <th>five</th>\n",
        "    </tr>\n",
        "  </thead>\n",
        "  <tbody>\n",
        "    <tr>\n",
        "      <th>a</th>\n",
        "      <td> 0.192251</td>\n",
        "      <td>-0.121606</td>\n",
        "      <td> 0.400702</td>\n",
        "      <td> bar</td>\n",
        "      <td>  True</td>\n",
        "    </tr>\n",
        "    <tr>\n",
        "      <th>b</th>\n",
        "      <td>      NaN</td>\n",
        "      <td>      NaN</td>\n",
        "      <td>      NaN</td>\n",
        "      <td> NaN</td>\n",
        "      <td>   NaN</td>\n",
        "    </tr>\n",
        "    <tr>\n",
        "      <th>c</th>\n",
        "      <td> 1.014274</td>\n",
        "      <td>-0.421422</td>\n",
        "      <td> 0.794539</td>\n",
        "      <td> bar</td>\n",
        "      <td>  True</td>\n",
        "    </tr>\n",
        "    <tr>\n",
        "      <th>d</th>\n",
        "      <td>      NaN</td>\n",
        "      <td>      NaN</td>\n",
        "      <td>      NaN</td>\n",
        "      <td> NaN</td>\n",
        "      <td>   NaN</td>\n",
        "    </tr>\n",
        "    <tr>\n",
        "      <th>e</th>\n",
        "      <td> 0.396125</td>\n",
        "      <td>-0.806258</td>\n",
        "      <td> 1.018637</td>\n",
        "      <td> bar</td>\n",
        "      <td>  True</td>\n",
        "    </tr>\n",
        "    <tr>\n",
        "      <th>f</th>\n",
        "      <td>-0.415619</td>\n",
        "      <td> 0.056410</td>\n",
        "      <td> 1.324948</td>\n",
        "      <td> bar</td>\n",
        "      <td> False</td>\n",
        "    </tr>\n",
        "    <tr>\n",
        "      <th>g</th>\n",
        "      <td>      NaN</td>\n",
        "      <td>      NaN</td>\n",
        "      <td>      NaN</td>\n",
        "      <td> NaN</td>\n",
        "      <td>   NaN</td>\n",
        "    </tr>\n",
        "    <tr>\n",
        "      <th>h</th>\n",
        "      <td> 0.043938</td>\n",
        "      <td> 0.701381</td>\n",
        "      <td> 0.847375</td>\n",
        "      <td> bar</td>\n",
        "      <td>  True</td>\n",
        "    </tr>\n",
        "  </tbody>\n",
        "</table>\n",
        "</div>"
       ],
       "metadata": {},
       "output_type": "pyout",
       "prompt_number": 3,
       "text": [
        "        one       two     three four   five\n",
        "a  0.192251 -0.121606  0.400702  bar   True\n",
        "b       NaN       NaN       NaN  NaN    NaN\n",
        "c  1.014274 -0.421422  0.794539  bar   True\n",
        "d       NaN       NaN       NaN  NaN    NaN\n",
        "e  0.396125 -0.806258  1.018637  bar   True\n",
        "f -0.415619  0.056410  1.324948  bar  False\n",
        "g       NaN       NaN       NaN  NaN    NaN\n",
        "h  0.043938  0.701381  0.847375  bar   True"
       ]
      }
     ],
     "prompt_number": 3
    },
    {
     "cell_type": "heading",
     "level": 2,
     "metadata": {},
     "source": [
      "isnull"
     ]
    },
    {
     "cell_type": "code",
     "collapsed": false,
     "input": [
      "df2['one']\n",
      "isnull(df2['one'])"
     ],
     "language": "python",
     "metadata": {},
     "outputs": [
      {
       "metadata": {},
       "output_type": "pyout",
       "prompt_number": 4,
       "text": [
        "a    False\n",
        "b     True\n",
        "c    False\n",
        "d     True\n",
        "e    False\n",
        "f    False\n",
        "g     True\n",
        "h    False\n",
        "Name: one, dtype: bool"
       ]
      }
     ],
     "prompt_number": 4
    },
    {
     "cell_type": "code",
     "collapsed": false,
     "input": [
      "df2['four'].notnull()"
     ],
     "language": "python",
     "metadata": {},
     "outputs": [
      {
       "metadata": {},
       "output_type": "pyout",
       "prompt_number": 5,
       "text": [
        "a     True\n",
        "b    False\n",
        "c     True\n",
        "d    False\n",
        "e     True\n",
        "f     True\n",
        "g    False\n",
        "h     True\n",
        "Name: four, dtype: bool"
       ]
      }
     ],
     "prompt_number": 5
    },
    {
     "cell_type": "heading",
     "level": 2,
     "metadata": {},
     "source": [
      "Datetime with NAT"
     ]
    },
    {
     "cell_type": "code",
     "collapsed": false,
     "input": [
      "df2 = df.copy()\n",
      "df2['timestamp'] = Timestamp('20120101')\n",
      "df2.ix[['a','c','h'],['one','timestamp']] = np.nan\n",
      "df2"
     ],
     "language": "python",
     "metadata": {},
     "outputs": [
      {
       "html": [
        "<div style=\"max-height:1000px;max-width:1500px;overflow:auto;\">\n",
        "<table border=\"1\" class=\"dataframe\">\n",
        "  <thead>\n",
        "    <tr style=\"text-align: right;\">\n",
        "      <th></th>\n",
        "      <th>one</th>\n",
        "      <th>two</th>\n",
        "      <th>three</th>\n",
        "      <th>four</th>\n",
        "      <th>five</th>\n",
        "      <th>timestamp</th>\n",
        "    </tr>\n",
        "  </thead>\n",
        "  <tbody>\n",
        "    <tr>\n",
        "      <th>a</th>\n",
        "      <td>      NaN</td>\n",
        "      <td>-0.121606</td>\n",
        "      <td> 0.400702</td>\n",
        "      <td> bar</td>\n",
        "      <td>  True</td>\n",
        "      <td>       NaT</td>\n",
        "    </tr>\n",
        "    <tr>\n",
        "      <th>c</th>\n",
        "      <td>      NaN</td>\n",
        "      <td>-0.421422</td>\n",
        "      <td> 0.794539</td>\n",
        "      <td> bar</td>\n",
        "      <td>  True</td>\n",
        "      <td>       NaT</td>\n",
        "    </tr>\n",
        "    <tr>\n",
        "      <th>e</th>\n",
        "      <td> 0.396125</td>\n",
        "      <td>-0.806258</td>\n",
        "      <td> 1.018637</td>\n",
        "      <td> bar</td>\n",
        "      <td>  True</td>\n",
        "      <td>2012-01-01</td>\n",
        "    </tr>\n",
        "    <tr>\n",
        "      <th>f</th>\n",
        "      <td>-0.415619</td>\n",
        "      <td> 0.056410</td>\n",
        "      <td> 1.324948</td>\n",
        "      <td> bar</td>\n",
        "      <td> False</td>\n",
        "      <td>2012-01-01</td>\n",
        "    </tr>\n",
        "    <tr>\n",
        "      <th>h</th>\n",
        "      <td>      NaN</td>\n",
        "      <td> 0.701381</td>\n",
        "      <td> 0.847375</td>\n",
        "      <td> bar</td>\n",
        "      <td>  True</td>\n",
        "      <td>       NaT</td>\n",
        "    </tr>\n",
        "  </tbody>\n",
        "</table>\n",
        "</div>"
       ],
       "metadata": {},
       "output_type": "pyout",
       "prompt_number": 6,
       "text": [
        "        one       two     three four   five  timestamp\n",
        "a       NaN -0.121606  0.400702  bar   True        NaT\n",
        "c       NaN -0.421422  0.794539  bar   True        NaT\n",
        "e  0.396125 -0.806258  1.018637  bar   True 2012-01-01\n",
        "f -0.415619  0.056410  1.324948  bar  False 2012-01-01\n",
        "h       NaN  0.701381  0.847375  bar   True        NaT"
       ]
      }
     ],
     "prompt_number": 6
    },
    {
     "cell_type": "code",
     "collapsed": false,
     "input": [
      "df2.get_dtype_counts()"
     ],
     "language": "python",
     "metadata": {},
     "outputs": [
      {
       "metadata": {},
       "output_type": "pyout",
       "prompt_number": 9,
       "text": [
        "bool              1\n",
        "datetime64[ns]    1\n",
        "float64           3\n",
        "object            1\n",
        "dtype: int64"
       ]
      }
     ],
     "prompt_number": 9
    },
    {
     "cell_type": "heading",
     "level": 2,
     "metadata": {},
     "source": [
      "Calculation"
     ]
    },
    {
     "cell_type": "code",
     "collapsed": false,
     "input": [
      "from io import BytesIO\n",
      "a = \"\"\"        one       two\n",
      "a       NaN -0.015601\n",
      "c       NaN -0.557697\n",
      "e  1.337122 -1.531095\n",
      "f -0.571329 -0.026671\n",
      "h -0.571329 -0.058216\"\"\"\n",
      "a = read_fwf(BytesIO(a),index_col=0)\n",
      "a"
     ],
     "language": "python",
     "metadata": {},
     "outputs": [
      {
       "html": [
        "<div style=\"max-height:1000px;max-width:1500px;overflow:auto;\">\n",
        "<table border=\"1\" class=\"dataframe\">\n",
        "  <thead>\n",
        "    <tr style=\"text-align: right;\">\n",
        "      <th></th>\n",
        "      <th>one</th>\n",
        "      <th>two</th>\n",
        "    </tr>\n",
        "  </thead>\n",
        "  <tbody>\n",
        "    <tr>\n",
        "      <th>a</th>\n",
        "      <td>      NaN</td>\n",
        "      <td>-0.015601</td>\n",
        "    </tr>\n",
        "    <tr>\n",
        "      <th>c</th>\n",
        "      <td>      NaN</td>\n",
        "      <td>-0.557697</td>\n",
        "    </tr>\n",
        "    <tr>\n",
        "      <th>e</th>\n",
        "      <td> 1.337122</td>\n",
        "      <td>-1.531095</td>\n",
        "    </tr>\n",
        "    <tr>\n",
        "      <th>f</th>\n",
        "      <td>-0.571329</td>\n",
        "      <td>-0.026671</td>\n",
        "    </tr>\n",
        "    <tr>\n",
        "      <th>h</th>\n",
        "      <td>-0.571329</td>\n",
        "      <td>-0.058216</td>\n",
        "    </tr>\n",
        "  </tbody>\n",
        "</table>\n",
        "</div>"
       ],
       "metadata": {},
       "output_type": "pyout",
       "prompt_number": 10,
       "text": [
        "        one       two\n",
        "a       NaN -0.015601\n",
        "c       NaN -0.557697\n",
        "e  1.337122 -1.531095\n",
        "f -0.571329 -0.026671\n",
        "h -0.571329 -0.058216"
       ]
      }
     ],
     "prompt_number": 10
    },
    {
     "cell_type": "code",
     "collapsed": false,
     "input": [
      "b = \"\"\"        one       two     three\n",
      "a       NaN -0.015601 -1.150641\n",
      "c       NaN -0.557697  0.381353\n",
      "e  1.337122 -1.531095  1.331458\n",
      "f -0.571329 -0.026671 -1.085663\n",
      "h       NaN -0.058216 -0.486768\"\"\"\n",
      "b = read_fwf(BytesIO(b),index_col=0)\n",
      "b"
     ],
     "language": "python",
     "metadata": {},
     "outputs": [
      {
       "html": [
        "<div style=\"max-height:1000px;max-width:1500px;overflow:auto;\">\n",
        "<table border=\"1\" class=\"dataframe\">\n",
        "  <thead>\n",
        "    <tr style=\"text-align: right;\">\n",
        "      <th></th>\n",
        "      <th>one</th>\n",
        "      <th>two</th>\n",
        "      <th>three</th>\n",
        "    </tr>\n",
        "  </thead>\n",
        "  <tbody>\n",
        "    <tr>\n",
        "      <th>a</th>\n",
        "      <td>      NaN</td>\n",
        "      <td>-0.015601</td>\n",
        "      <td>-1.150641</td>\n",
        "    </tr>\n",
        "    <tr>\n",
        "      <th>c</th>\n",
        "      <td>      NaN</td>\n",
        "      <td>-0.557697</td>\n",
        "      <td> 0.381353</td>\n",
        "    </tr>\n",
        "    <tr>\n",
        "      <th>e</th>\n",
        "      <td> 1.337122</td>\n",
        "      <td>-1.531095</td>\n",
        "      <td> 1.331458</td>\n",
        "    </tr>\n",
        "    <tr>\n",
        "      <th>f</th>\n",
        "      <td>-0.571329</td>\n",
        "      <td>-0.026671</td>\n",
        "      <td>-1.085663</td>\n",
        "    </tr>\n",
        "    <tr>\n",
        "      <th>h</th>\n",
        "      <td>      NaN</td>\n",
        "      <td>-0.058216</td>\n",
        "      <td>-0.486768</td>\n",
        "    </tr>\n",
        "  </tbody>\n",
        "</table>\n",
        "</div>"
       ],
       "metadata": {},
       "output_type": "pyout",
       "prompt_number": 11,
       "text": [
        "        one       two     three\n",
        "a       NaN -0.015601 -1.150641\n",
        "c       NaN -0.557697  0.381353\n",
        "e  1.337122 -1.531095  1.331458\n",
        "f -0.571329 -0.026671 -1.085663\n",
        "h       NaN -0.058216 -0.486768"
       ]
      }
     ],
     "prompt_number": 11
    },
    {
     "cell_type": "code",
     "collapsed": false,
     "input": [
      "a + b"
     ],
     "language": "python",
     "metadata": {},
     "outputs": [
      {
       "html": [
        "<div style=\"max-height:1000px;max-width:1500px;overflow:auto;\">\n",
        "<table border=\"1\" class=\"dataframe\">\n",
        "  <thead>\n",
        "    <tr style=\"text-align: right;\">\n",
        "      <th></th>\n",
        "      <th>one</th>\n",
        "      <th>three</th>\n",
        "      <th>two</th>\n",
        "    </tr>\n",
        "  </thead>\n",
        "  <tbody>\n",
        "    <tr>\n",
        "      <th>a</th>\n",
        "      <td>      NaN</td>\n",
        "      <td>NaN</td>\n",
        "      <td>-0.031202</td>\n",
        "    </tr>\n",
        "    <tr>\n",
        "      <th>c</th>\n",
        "      <td>      NaN</td>\n",
        "      <td>NaN</td>\n",
        "      <td>-1.115394</td>\n",
        "    </tr>\n",
        "    <tr>\n",
        "      <th>e</th>\n",
        "      <td> 2.674244</td>\n",
        "      <td>NaN</td>\n",
        "      <td>-3.062190</td>\n",
        "    </tr>\n",
        "    <tr>\n",
        "      <th>f</th>\n",
        "      <td>-1.142658</td>\n",
        "      <td>NaN</td>\n",
        "      <td>-0.053342</td>\n",
        "    </tr>\n",
        "    <tr>\n",
        "      <th>h</th>\n",
        "      <td>      NaN</td>\n",
        "      <td>NaN</td>\n",
        "      <td>-0.116432</td>\n",
        "    </tr>\n",
        "  </tbody>\n",
        "</table>\n",
        "</div>"
       ],
       "metadata": {},
       "output_type": "pyout",
       "prompt_number": 12,
       "text": [
        "        one  three       two\n",
        "a       NaN    NaN -0.031202\n",
        "c       NaN    NaN -1.115394\n",
        "e  2.674244    NaN -3.062190\n",
        "f -1.142658    NaN -0.053342\n",
        "h       NaN    NaN -0.116432"
       ]
      }
     ],
     "prompt_number": 12
    },
    {
     "cell_type": "code",
     "collapsed": false,
     "input": [
      "# sum with nan data\n",
      "df['one'].sum()"
     ],
     "language": "python",
     "metadata": {},
     "outputs": [
      {
       "metadata": {},
       "output_type": "pyout",
       "prompt_number": 13,
       "text": [
        "1.2309685475288676"
       ]
      }
     ],
     "prompt_number": 13
    },
    {
     "cell_type": "code",
     "collapsed": false,
     "input": [
      "# mean with nan data\n",
      "df.mean(1)"
     ],
     "language": "python",
     "metadata": {},
     "outputs": [
      {
       "metadata": {},
       "output_type": "pyout",
       "prompt_number": 14,
       "text": [
        "a    0.367837\n",
        "c    0.596848\n",
        "e    0.402126\n",
        "f    0.241435\n",
        "h    0.648173\n",
        "dtype: float64"
       ]
      }
     ],
     "prompt_number": 14
    },
    {
     "cell_type": "code",
     "collapsed": false,
     "input": [
      "#cumsum with nan data\n",
      "df.cumsum()"
     ],
     "language": "python",
     "metadata": {},
     "outputs": [
      {
       "html": [
        "<div style=\"max-height:1000px;max-width:1500px;overflow:auto;\">\n",
        "<table border=\"1\" class=\"dataframe\">\n",
        "  <thead>\n",
        "    <tr style=\"text-align: right;\">\n",
        "      <th></th>\n",
        "      <th>one</th>\n",
        "      <th>two</th>\n",
        "      <th>three</th>\n",
        "      <th>four</th>\n",
        "      <th>five</th>\n",
        "    </tr>\n",
        "  </thead>\n",
        "  <tbody>\n",
        "    <tr>\n",
        "      <th>a</th>\n",
        "      <td> 0.1922507</td>\n",
        "      <td>-0.1216062</td>\n",
        "      <td> 0.4007024</td>\n",
        "      <td>             bar</td>\n",
        "      <td> True</td>\n",
        "    </tr>\n",
        "    <tr>\n",
        "      <th>c</th>\n",
        "      <td>  1.206524</td>\n",
        "      <td>-0.5430278</td>\n",
        "      <td>  1.195241</td>\n",
        "      <td>          barbar</td>\n",
        "      <td>    2</td>\n",
        "    </tr>\n",
        "    <tr>\n",
        "      <th>e</th>\n",
        "      <td>   1.60265</td>\n",
        "      <td> -1.349286</td>\n",
        "      <td>  2.213879</td>\n",
        "      <td>       barbarbar</td>\n",
        "      <td>    3</td>\n",
        "    </tr>\n",
        "    <tr>\n",
        "      <th>f</th>\n",
        "      <td>  1.187031</td>\n",
        "      <td> -1.292876</td>\n",
        "      <td>  3.538827</td>\n",
        "      <td>    barbarbarbar</td>\n",
        "      <td>    3</td>\n",
        "    </tr>\n",
        "    <tr>\n",
        "      <th>h</th>\n",
        "      <td>  1.230969</td>\n",
        "      <td>-0.5914949</td>\n",
        "      <td>  4.386202</td>\n",
        "      <td> barbarbarbarbar</td>\n",
        "      <td>    4</td>\n",
        "    </tr>\n",
        "  </tbody>\n",
        "</table>\n",
        "</div>"
       ],
       "metadata": {},
       "output_type": "pyout",
       "prompt_number": 15,
       "text": [
        "         one        two      three             four  five\n",
        "a  0.1922507 -0.1216062  0.4007024              bar  True\n",
        "c   1.206524 -0.5430278   1.195241           barbar     2\n",
        "e    1.60265  -1.349286   2.213879        barbarbar     3\n",
        "f   1.187031  -1.292876   3.538827     barbarbarbar     3\n",
        "h   1.230969 -0.5914949   4.386202  barbarbarbarbar     4"
       ]
      }
     ],
     "prompt_number": 15
    },
    {
     "cell_type": "code",
     "collapsed": false,
     "input": [
      "df"
     ],
     "language": "python",
     "metadata": {},
     "outputs": [
      {
       "html": [
        "<div style=\"max-height:1000px;max-width:1500px;overflow:auto;\">\n",
        "<table border=\"1\" class=\"dataframe\">\n",
        "  <thead>\n",
        "    <tr style=\"text-align: right;\">\n",
        "      <th></th>\n",
        "      <th>one</th>\n",
        "      <th>two</th>\n",
        "      <th>three</th>\n",
        "      <th>four</th>\n",
        "      <th>five</th>\n",
        "    </tr>\n",
        "  </thead>\n",
        "  <tbody>\n",
        "    <tr>\n",
        "      <th>a</th>\n",
        "      <td> 0.192251</td>\n",
        "      <td>-0.121606</td>\n",
        "      <td> 0.400702</td>\n",
        "      <td> bar</td>\n",
        "      <td>  True</td>\n",
        "    </tr>\n",
        "    <tr>\n",
        "      <th>c</th>\n",
        "      <td> 1.014274</td>\n",
        "      <td>-0.421422</td>\n",
        "      <td> 0.794539</td>\n",
        "      <td> bar</td>\n",
        "      <td>  True</td>\n",
        "    </tr>\n",
        "    <tr>\n",
        "      <th>e</th>\n",
        "      <td> 0.396125</td>\n",
        "      <td>-0.806258</td>\n",
        "      <td> 1.018637</td>\n",
        "      <td> bar</td>\n",
        "      <td>  True</td>\n",
        "    </tr>\n",
        "    <tr>\n",
        "      <th>f</th>\n",
        "      <td>-0.415619</td>\n",
        "      <td> 0.056410</td>\n",
        "      <td> 1.324948</td>\n",
        "      <td> bar</td>\n",
        "      <td> False</td>\n",
        "    </tr>\n",
        "    <tr>\n",
        "      <th>h</th>\n",
        "      <td> 0.043938</td>\n",
        "      <td> 0.701381</td>\n",
        "      <td> 0.847375</td>\n",
        "      <td> bar</td>\n",
        "      <td>  True</td>\n",
        "    </tr>\n",
        "  </tbody>\n",
        "</table>\n",
        "</div>"
       ],
       "metadata": {},
       "output_type": "pyout",
       "prompt_number": 16,
       "text": [
        "        one       two     three four   five\n",
        "a  0.192251 -0.121606  0.400702  bar   True\n",
        "c  1.014274 -0.421422  0.794539  bar   True\n",
        "e  0.396125 -0.806258  1.018637  bar   True\n",
        "f -0.415619  0.056410  1.324948  bar  False\n",
        "h  0.043938  0.701381  0.847375  bar   True"
       ]
      }
     ],
     "prompt_number": 16
    },
    {
     "cell_type": "heading",
     "level": 2,
     "metadata": {},
     "source": [
      "Group with nan data"
     ]
    },
    {
     "cell_type": "code",
     "collapsed": false,
     "input": [
      "import numpy as np\n",
      "df2 = df.copy()\n",
      "df2['four']['a'] = 'foo'\n",
      "df2['four']['e'] = np.nan\n",
      "groups = df2.groupby(\"four\").groups\n",
      "groups.get('tmp', [])\n"
     ],
     "language": "python",
     "metadata": {},
     "outputs": [
      {
       "metadata": {},
       "output_type": "pyout",
       "prompt_number": 17,
       "text": [
        "[]"
       ]
      }
     ],
     "prompt_number": 17
    },
    {
     "cell_type": "code",
     "collapsed": false,
     "input": [
      "groups.get('bar', [])"
     ],
     "language": "python",
     "metadata": {},
     "outputs": [
      {
       "metadata": {},
       "output_type": "pyout",
       "prompt_number": 18,
       "text": [
        "['c', 'f', 'h']"
       ]
      }
     ],
     "prompt_number": 18
    },
    {
     "cell_type": "heading",
     "level": 2,
     "metadata": {},
     "source": [
      "Filling missing values: fillna"
     ]
    },
    {
     "cell_type": "code",
     "collapsed": false,
     "input": [
      "# Replace NA with scalar value\n",
      "df2 = read_fwf(BytesIO(\n",
      "\"\"\"        one       two     three four   five  timestamp\n",
      "a       NaN -0.015601 -1.150641  bar  False        NaT\n",
      "c       NaN -0.557697  0.381353  bar  False        NaT\n",
      "e  1.337122 -1.531095  1.331458  bar   True 2012-01-01\n",
      "f -0.571329 -0.026671 -1.085663  bar  False 2012-01-01\n",
      "h       NaN -0.058216 -0.486768  bar  False        NaT\"\"\"), index_col=0)\n",
      "df2"
     ],
     "language": "python",
     "metadata": {},
     "outputs": [
      {
       "html": [
        "<div style=\"max-height:1000px;max-width:1500px;overflow:auto;\">\n",
        "<table border=\"1\" class=\"dataframe\">\n",
        "  <thead>\n",
        "    <tr style=\"text-align: right;\">\n",
        "      <th></th>\n",
        "      <th>one</th>\n",
        "      <th>two</th>\n",
        "      <th>three</th>\n",
        "      <th>four</th>\n",
        "      <th>five</th>\n",
        "      <th>timestamp</th>\n",
        "    </tr>\n",
        "  </thead>\n",
        "  <tbody>\n",
        "    <tr>\n",
        "      <th>a</th>\n",
        "      <td>      NaN</td>\n",
        "      <td>-0.015601</td>\n",
        "      <td>-1.150641</td>\n",
        "      <td> bar</td>\n",
        "      <td> False</td>\n",
        "      <td>        NaT</td>\n",
        "    </tr>\n",
        "    <tr>\n",
        "      <th>c</th>\n",
        "      <td>      NaN</td>\n",
        "      <td>-0.557697</td>\n",
        "      <td> 0.381353</td>\n",
        "      <td> bar</td>\n",
        "      <td> False</td>\n",
        "      <td>        NaT</td>\n",
        "    </tr>\n",
        "    <tr>\n",
        "      <th>e</th>\n",
        "      <td> 1.337122</td>\n",
        "      <td>-1.531095</td>\n",
        "      <td> 1.331458</td>\n",
        "      <td> bar</td>\n",
        "      <td>  True</td>\n",
        "      <td> 2012-01-01</td>\n",
        "    </tr>\n",
        "    <tr>\n",
        "      <th>f</th>\n",
        "      <td>-0.571329</td>\n",
        "      <td>-0.026671</td>\n",
        "      <td>-1.085663</td>\n",
        "      <td> bar</td>\n",
        "      <td> False</td>\n",
        "      <td> 2012-01-01</td>\n",
        "    </tr>\n",
        "    <tr>\n",
        "      <th>h</th>\n",
        "      <td>      NaN</td>\n",
        "      <td>-0.058216</td>\n",
        "      <td>-0.486768</td>\n",
        "      <td> bar</td>\n",
        "      <td> False</td>\n",
        "      <td>        NaT</td>\n",
        "    </tr>\n",
        "  </tbody>\n",
        "</table>\n",
        "</div>"
       ],
       "metadata": {},
       "output_type": "pyout",
       "prompt_number": 19,
       "text": [
        "        one       two     three four   five   timestamp\n",
        "a       NaN -0.015601 -1.150641  bar  False         NaT\n",
        "c       NaN -0.557697  0.381353  bar  False         NaT\n",
        "e  1.337122 -1.531095  1.331458  bar   True  2012-01-01\n",
        "f -0.571329 -0.026671 -1.085663  bar  False  2012-01-01\n",
        "h       NaN -0.058216 -0.486768  bar  False         NaT"
       ]
      }
     ],
     "prompt_number": 19
    },
    {
     "cell_type": "code",
     "collapsed": false,
     "input": [
      "df2.fillna(0)"
     ],
     "language": "python",
     "metadata": {},
     "outputs": [
      {
       "html": [
        "<div style=\"max-height:1000px;max-width:1500px;overflow:auto;\">\n",
        "<table border=\"1\" class=\"dataframe\">\n",
        "  <thead>\n",
        "    <tr style=\"text-align: right;\">\n",
        "      <th></th>\n",
        "      <th>one</th>\n",
        "      <th>two</th>\n",
        "      <th>three</th>\n",
        "      <th>four</th>\n",
        "      <th>five</th>\n",
        "      <th>timestamp</th>\n",
        "    </tr>\n",
        "  </thead>\n",
        "  <tbody>\n",
        "    <tr>\n",
        "      <th>a</th>\n",
        "      <td> 0.000000</td>\n",
        "      <td>-0.015601</td>\n",
        "      <td>-1.150641</td>\n",
        "      <td> bar</td>\n",
        "      <td> False</td>\n",
        "      <td>        NaT</td>\n",
        "    </tr>\n",
        "    <tr>\n",
        "      <th>c</th>\n",
        "      <td> 0.000000</td>\n",
        "      <td>-0.557697</td>\n",
        "      <td> 0.381353</td>\n",
        "      <td> bar</td>\n",
        "      <td> False</td>\n",
        "      <td>        NaT</td>\n",
        "    </tr>\n",
        "    <tr>\n",
        "      <th>e</th>\n",
        "      <td> 1.337122</td>\n",
        "      <td>-1.531095</td>\n",
        "      <td> 1.331458</td>\n",
        "      <td> bar</td>\n",
        "      <td>  True</td>\n",
        "      <td> 2012-01-01</td>\n",
        "    </tr>\n",
        "    <tr>\n",
        "      <th>f</th>\n",
        "      <td>-0.571329</td>\n",
        "      <td>-0.026671</td>\n",
        "      <td>-1.085663</td>\n",
        "      <td> bar</td>\n",
        "      <td> False</td>\n",
        "      <td> 2012-01-01</td>\n",
        "    </tr>\n",
        "    <tr>\n",
        "      <th>h</th>\n",
        "      <td> 0.000000</td>\n",
        "      <td>-0.058216</td>\n",
        "      <td>-0.486768</td>\n",
        "      <td> bar</td>\n",
        "      <td> False</td>\n",
        "      <td>        NaT</td>\n",
        "    </tr>\n",
        "  </tbody>\n",
        "</table>\n",
        "</div>"
       ],
       "metadata": {},
       "output_type": "pyout",
       "prompt_number": 20,
       "text": [
        "        one       two     three four   five   timestamp\n",
        "a  0.000000 -0.015601 -1.150641  bar  False         NaT\n",
        "c  0.000000 -0.557697  0.381353  bar  False         NaT\n",
        "e  1.337122 -1.531095  1.331458  bar   True  2012-01-01\n",
        "f -0.571329 -0.026671 -1.085663  bar  False  2012-01-01\n",
        "h  0.000000 -0.058216 -0.486768  bar  False         NaT"
       ]
      }
     ],
     "prompt_number": 20
    },
    {
     "cell_type": "code",
     "collapsed": false,
     "input": [
      "df2['four'].fillna('missing')"
     ],
     "language": "python",
     "metadata": {},
     "outputs": [
      {
       "metadata": {},
       "output_type": "pyout",
       "prompt_number": 21,
       "text": [
        "a    bar\n",
        "c    bar\n",
        "e    bar\n",
        "f    bar\n",
        "h    bar\n",
        "Name: four, dtype: object"
       ]
      }
     ],
     "prompt_number": 21
    },
    {
     "cell_type": "code",
     "collapsed": false,
     "input": [
      "# Fill gaps forward\n",
      "print df2\n",
      "df2.fillna(method='pad')"
     ],
     "language": "python",
     "metadata": {},
     "outputs": [
      {
       "output_type": "stream",
       "stream": "stdout",
       "text": [
        "        one       two     three four   five   timestamp\n",
        "a       NaN -0.015601 -1.150641  bar  False         NaT\n",
        "c       NaN -0.557697  0.381353  bar  False         NaT\n",
        "e  1.337122 -1.531095  1.331458  bar   True  2012-01-01\n",
        "f -0.571329 -0.026671 -1.085663  bar  False  2012-01-01\n",
        "h       NaN -0.058216 -0.486768  bar  False         NaT\n"
       ]
      },
      {
       "html": [
        "<div style=\"max-height:1000px;max-width:1500px;overflow:auto;\">\n",
        "<table border=\"1\" class=\"dataframe\">\n",
        "  <thead>\n",
        "    <tr style=\"text-align: right;\">\n",
        "      <th></th>\n",
        "      <th>one</th>\n",
        "      <th>two</th>\n",
        "      <th>three</th>\n",
        "      <th>four</th>\n",
        "      <th>five</th>\n",
        "      <th>timestamp</th>\n",
        "    </tr>\n",
        "  </thead>\n",
        "  <tbody>\n",
        "    <tr>\n",
        "      <th>a</th>\n",
        "      <td>      NaN</td>\n",
        "      <td>-0.015601</td>\n",
        "      <td>-1.150641</td>\n",
        "      <td> bar</td>\n",
        "      <td> False</td>\n",
        "      <td>        NaT</td>\n",
        "    </tr>\n",
        "    <tr>\n",
        "      <th>c</th>\n",
        "      <td>      NaN</td>\n",
        "      <td>-0.557697</td>\n",
        "      <td> 0.381353</td>\n",
        "      <td> bar</td>\n",
        "      <td> False</td>\n",
        "      <td>        NaT</td>\n",
        "    </tr>\n",
        "    <tr>\n",
        "      <th>e</th>\n",
        "      <td> 1.337122</td>\n",
        "      <td>-1.531095</td>\n",
        "      <td> 1.331458</td>\n",
        "      <td> bar</td>\n",
        "      <td>  True</td>\n",
        "      <td> 2012-01-01</td>\n",
        "    </tr>\n",
        "    <tr>\n",
        "      <th>f</th>\n",
        "      <td>-0.571329</td>\n",
        "      <td>-0.026671</td>\n",
        "      <td>-1.085663</td>\n",
        "      <td> bar</td>\n",
        "      <td> False</td>\n",
        "      <td> 2012-01-01</td>\n",
        "    </tr>\n",
        "    <tr>\n",
        "      <th>h</th>\n",
        "      <td>-0.571329</td>\n",
        "      <td>-0.058216</td>\n",
        "      <td>-0.486768</td>\n",
        "      <td> bar</td>\n",
        "      <td> False</td>\n",
        "      <td>        NaT</td>\n",
        "    </tr>\n",
        "  </tbody>\n",
        "</table>\n",
        "</div>"
       ],
       "metadata": {},
       "output_type": "pyout",
       "prompt_number": 22,
       "text": [
        "        one       two     three four   five   timestamp\n",
        "a       NaN -0.015601 -1.150641  bar  False         NaT\n",
        "c       NaN -0.557697  0.381353  bar  False         NaT\n",
        "e  1.337122 -1.531095  1.331458  bar   True  2012-01-01\n",
        "f -0.571329 -0.026671 -1.085663  bar  False  2012-01-01\n",
        "h -0.571329 -0.058216 -0.486768  bar  False         NaT"
       ]
      }
     ],
     "prompt_number": 22
    },
    {
     "cell_type": "code",
     "collapsed": false,
     "input": [
      "# Limit the amount of filling\n",
      "df = read_fwf(BytesIO(\"\"\"   one       two     three\n",
      "a  NaN -0.015601 -1.150641\n",
      "c  NaN -0.557697  0.381353\n",
      "e  NaN       NaN       NaN\n",
      "f  NaN       NaN       NaN\n",
      "h  NaN -0.058216 -0.486768\"\"\"), index_col=0)\n",
      "df.fillna(method = 'pad', limit=1)"
     ],
     "language": "python",
     "metadata": {},
     "outputs": [
      {
       "html": [
        "<div style=\"max-height:1000px;max-width:1500px;overflow:auto;\">\n",
        "<table border=\"1\" class=\"dataframe\">\n",
        "  <thead>\n",
        "    <tr style=\"text-align: right;\">\n",
        "      <th></th>\n",
        "      <th>one</th>\n",
        "      <th>two</th>\n",
        "      <th>three</th>\n",
        "    </tr>\n",
        "  </thead>\n",
        "  <tbody>\n",
        "    <tr>\n",
        "      <th>a</th>\n",
        "      <td>NaN</td>\n",
        "      <td>-0.015601</td>\n",
        "      <td>-1.150641</td>\n",
        "    </tr>\n",
        "    <tr>\n",
        "      <th>c</th>\n",
        "      <td>NaN</td>\n",
        "      <td>-0.557697</td>\n",
        "      <td> 0.381353</td>\n",
        "    </tr>\n",
        "    <tr>\n",
        "      <th>e</th>\n",
        "      <td>NaN</td>\n",
        "      <td>-0.557697</td>\n",
        "      <td> 0.381353</td>\n",
        "    </tr>\n",
        "    <tr>\n",
        "      <th>f</th>\n",
        "      <td>NaN</td>\n",
        "      <td>      NaN</td>\n",
        "      <td>      NaN</td>\n",
        "    </tr>\n",
        "    <tr>\n",
        "      <th>h</th>\n",
        "      <td>NaN</td>\n",
        "      <td>-0.058216</td>\n",
        "      <td>-0.486768</td>\n",
        "    </tr>\n",
        "  </tbody>\n",
        "</table>\n",
        "</div>"
       ],
       "metadata": {},
       "output_type": "pyout",
       "prompt_number": 23,
       "text": [
        "   one       two     three\n",
        "a  NaN -0.015601 -1.150641\n",
        "c  NaN -0.557697  0.381353\n",
        "e  NaN -0.557697  0.381353\n",
        "f  NaN       NaN       NaN\n",
        "h  NaN -0.058216 -0.486768"
       ]
      }
     ],
     "prompt_number": 23
    },
    {
     "cell_type": "code",
     "collapsed": false,
     "input": [
      "# Fill with PandasObject\n",
      "dff = DataFrame(np.random.randn(10,3),columns=list('ABC'))\n",
      "dff.iloc[3:5,0] = np.nan\n",
      "dff.iloc[4:6,1] = np.nan\n",
      "dff.iloc[5:8,2] = np.nan\n",
      "dff"
     ],
     "language": "python",
     "metadata": {},
     "outputs": [
      {
       "html": [
        "<div style=\"max-height:1000px;max-width:1500px;overflow:auto;\">\n",
        "<table border=\"1\" class=\"dataframe\">\n",
        "  <thead>\n",
        "    <tr style=\"text-align: right;\">\n",
        "      <th></th>\n",
        "      <th>A</th>\n",
        "      <th>B</th>\n",
        "      <th>C</th>\n",
        "    </tr>\n",
        "  </thead>\n",
        "  <tbody>\n",
        "    <tr>\n",
        "      <th>0</th>\n",
        "      <td> 1.903680</td>\n",
        "      <td> 0.337590</td>\n",
        "      <td> 0.289416</td>\n",
        "    </tr>\n",
        "    <tr>\n",
        "      <th>1</th>\n",
        "      <td>-1.265421</td>\n",
        "      <td> 0.913501</td>\n",
        "      <td>-1.825761</td>\n",
        "    </tr>\n",
        "    <tr>\n",
        "      <th>2</th>\n",
        "      <td> 0.619406</td>\n",
        "      <td> 0.252241</td>\n",
        "      <td> 1.264095</td>\n",
        "    </tr>\n",
        "    <tr>\n",
        "      <th>3</th>\n",
        "      <td>      NaN</td>\n",
        "      <td>-0.994523</td>\n",
        "      <td> 0.451917</td>\n",
        "    </tr>\n",
        "    <tr>\n",
        "      <th>4</th>\n",
        "      <td>      NaN</td>\n",
        "      <td>      NaN</td>\n",
        "      <td>-1.827240</td>\n",
        "    </tr>\n",
        "    <tr>\n",
        "      <th>5</th>\n",
        "      <td>-1.386230</td>\n",
        "      <td>      NaN</td>\n",
        "      <td>      NaN</td>\n",
        "    </tr>\n",
        "    <tr>\n",
        "      <th>6</th>\n",
        "      <td> 0.424521</td>\n",
        "      <td> 0.192839</td>\n",
        "      <td>      NaN</td>\n",
        "    </tr>\n",
        "    <tr>\n",
        "      <th>7</th>\n",
        "      <td>-0.225116</td>\n",
        "      <td> 0.140889</td>\n",
        "      <td>      NaN</td>\n",
        "    </tr>\n",
        "    <tr>\n",
        "      <th>8</th>\n",
        "      <td>-0.776246</td>\n",
        "      <td> 0.568788</td>\n",
        "      <td> 2.254548</td>\n",
        "    </tr>\n",
        "    <tr>\n",
        "      <th>9</th>\n",
        "      <td>-0.259905</td>\n",
        "      <td>-0.303212</td>\n",
        "      <td> 1.244618</td>\n",
        "    </tr>\n",
        "  </tbody>\n",
        "</table>\n",
        "</div>"
       ],
       "metadata": {},
       "output_type": "pyout",
       "prompt_number": 24,
       "text": [
        "          A         B         C\n",
        "0  1.903680  0.337590  0.289416\n",
        "1 -1.265421  0.913501 -1.825761\n",
        "2  0.619406  0.252241  1.264095\n",
        "3       NaN -0.994523  0.451917\n",
        "4       NaN       NaN -1.827240\n",
        "5 -1.386230       NaN       NaN\n",
        "6  0.424521  0.192839       NaN\n",
        "7 -0.225116  0.140889       NaN\n",
        "8 -0.776246  0.568788  2.254548\n",
        "9 -0.259905 -0.303212  1.244618"
       ]
      }
     ],
     "prompt_number": 24
    },
    {
     "cell_type": "code",
     "collapsed": false,
     "input": [
      "dff.fillna(dff.mean())"
     ],
     "language": "python",
     "metadata": {},
     "outputs": [
      {
       "html": [
        "<div style=\"max-height:1000px;max-width:1500px;overflow:auto;\">\n",
        "<table border=\"1\" class=\"dataframe\">\n",
        "  <thead>\n",
        "    <tr style=\"text-align: right;\">\n",
        "      <th></th>\n",
        "      <th>A</th>\n",
        "      <th>B</th>\n",
        "      <th>C</th>\n",
        "    </tr>\n",
        "  </thead>\n",
        "  <tbody>\n",
        "    <tr>\n",
        "      <th>0</th>\n",
        "      <td> 1.903680</td>\n",
        "      <td> 0.337590</td>\n",
        "      <td> 0.289416</td>\n",
        "    </tr>\n",
        "    <tr>\n",
        "      <th>1</th>\n",
        "      <td>-1.265421</td>\n",
        "      <td> 0.913501</td>\n",
        "      <td>-1.825761</td>\n",
        "    </tr>\n",
        "    <tr>\n",
        "      <th>2</th>\n",
        "      <td> 0.619406</td>\n",
        "      <td> 0.252241</td>\n",
        "      <td> 1.264095</td>\n",
        "    </tr>\n",
        "    <tr>\n",
        "      <th>3</th>\n",
        "      <td>-0.120664</td>\n",
        "      <td>-0.994523</td>\n",
        "      <td> 0.451917</td>\n",
        "    </tr>\n",
        "    <tr>\n",
        "      <th>4</th>\n",
        "      <td>-0.120664</td>\n",
        "      <td> 0.138514</td>\n",
        "      <td>-1.827240</td>\n",
        "    </tr>\n",
        "    <tr>\n",
        "      <th>5</th>\n",
        "      <td>-1.386230</td>\n",
        "      <td> 0.138514</td>\n",
        "      <td> 0.264513</td>\n",
        "    </tr>\n",
        "    <tr>\n",
        "      <th>6</th>\n",
        "      <td> 0.424521</td>\n",
        "      <td> 0.192839</td>\n",
        "      <td> 0.264513</td>\n",
        "    </tr>\n",
        "    <tr>\n",
        "      <th>7</th>\n",
        "      <td>-0.225116</td>\n",
        "      <td> 0.140889</td>\n",
        "      <td> 0.264513</td>\n",
        "    </tr>\n",
        "    <tr>\n",
        "      <th>8</th>\n",
        "      <td>-0.776246</td>\n",
        "      <td> 0.568788</td>\n",
        "      <td> 2.254548</td>\n",
        "    </tr>\n",
        "    <tr>\n",
        "      <th>9</th>\n",
        "      <td>-0.259905</td>\n",
        "      <td>-0.303212</td>\n",
        "      <td> 1.244618</td>\n",
        "    </tr>\n",
        "  </tbody>\n",
        "</table>\n",
        "</div>"
       ],
       "metadata": {},
       "output_type": "pyout",
       "prompt_number": 25,
       "text": [
        "          A         B         C\n",
        "0  1.903680  0.337590  0.289416\n",
        "1 -1.265421  0.913501 -1.825761\n",
        "2  0.619406  0.252241  1.264095\n",
        "3 -0.120664 -0.994523  0.451917\n",
        "4 -0.120664  0.138514 -1.827240\n",
        "5 -1.386230  0.138514  0.264513\n",
        "6  0.424521  0.192839  0.264513\n",
        "7 -0.225116  0.140889  0.264513\n",
        "8 -0.776246  0.568788  2.254548\n",
        "9 -0.259905 -0.303212  1.244618"
       ]
      }
     ],
     "prompt_number": 25
    },
    {
     "cell_type": "code",
     "collapsed": false,
     "input": [
      "dff.mean()"
     ],
     "language": "python",
     "metadata": {},
     "outputs": [
      {
       "metadata": {},
       "output_type": "pyout",
       "prompt_number": 26,
       "text": [
        "A   -0.120664\n",
        "B    0.138514\n",
        "C    0.264513\n",
        "dtype: float64"
       ]
      }
     ],
     "prompt_number": 26
    },
    {
     "cell_type": "code",
     "collapsed": false,
     "input": [
      "dff.fillna(dff.mean()['B': 'C'])"
     ],
     "language": "python",
     "metadata": {},
     "outputs": [
      {
       "html": [
        "<div style=\"max-height:1000px;max-width:1500px;overflow:auto;\">\n",
        "<table border=\"1\" class=\"dataframe\">\n",
        "  <thead>\n",
        "    <tr style=\"text-align: right;\">\n",
        "      <th></th>\n",
        "      <th>A</th>\n",
        "      <th>B</th>\n",
        "      <th>C</th>\n",
        "    </tr>\n",
        "  </thead>\n",
        "  <tbody>\n",
        "    <tr>\n",
        "      <th>0</th>\n",
        "      <td> 1.903680</td>\n",
        "      <td> 0.337590</td>\n",
        "      <td> 0.289416</td>\n",
        "    </tr>\n",
        "    <tr>\n",
        "      <th>1</th>\n",
        "      <td>-1.265421</td>\n",
        "      <td> 0.913501</td>\n",
        "      <td>-1.825761</td>\n",
        "    </tr>\n",
        "    <tr>\n",
        "      <th>2</th>\n",
        "      <td> 0.619406</td>\n",
        "      <td> 0.252241</td>\n",
        "      <td> 1.264095</td>\n",
        "    </tr>\n",
        "    <tr>\n",
        "      <th>3</th>\n",
        "      <td>      NaN</td>\n",
        "      <td>-0.994523</td>\n",
        "      <td> 0.451917</td>\n",
        "    </tr>\n",
        "    <tr>\n",
        "      <th>4</th>\n",
        "      <td>      NaN</td>\n",
        "      <td> 0.138514</td>\n",
        "      <td>-1.827240</td>\n",
        "    </tr>\n",
        "    <tr>\n",
        "      <th>5</th>\n",
        "      <td>-1.386230</td>\n",
        "      <td> 0.138514</td>\n",
        "      <td> 0.264513</td>\n",
        "    </tr>\n",
        "    <tr>\n",
        "      <th>6</th>\n",
        "      <td> 0.424521</td>\n",
        "      <td> 0.192839</td>\n",
        "      <td> 0.264513</td>\n",
        "    </tr>\n",
        "    <tr>\n",
        "      <th>7</th>\n",
        "      <td>-0.225116</td>\n",
        "      <td> 0.140889</td>\n",
        "      <td> 0.264513</td>\n",
        "    </tr>\n",
        "    <tr>\n",
        "      <th>8</th>\n",
        "      <td>-0.776246</td>\n",
        "      <td> 0.568788</td>\n",
        "      <td> 2.254548</td>\n",
        "    </tr>\n",
        "    <tr>\n",
        "      <th>9</th>\n",
        "      <td>-0.259905</td>\n",
        "      <td>-0.303212</td>\n",
        "      <td> 1.244618</td>\n",
        "    </tr>\n",
        "  </tbody>\n",
        "</table>\n",
        "</div>"
       ],
       "metadata": {},
       "output_type": "pyout",
       "prompt_number": 27,
       "text": [
        "          A         B         C\n",
        "0  1.903680  0.337590  0.289416\n",
        "1 -1.265421  0.913501 -1.825761\n",
        "2  0.619406  0.252241  1.264095\n",
        "3       NaN -0.994523  0.451917\n",
        "4       NaN  0.138514 -1.827240\n",
        "5 -1.386230  0.138514  0.264513\n",
        "6  0.424521  0.192839  0.264513\n",
        "7 -0.225116  0.140889  0.264513\n",
        "8 -0.776246  0.568788  2.254548\n",
        "9 -0.259905 -0.303212  1.244618"
       ]
      }
     ],
     "prompt_number": 27
    },
    {
     "cell_type": "heading",
     "level": 2,
     "metadata": {},
     "source": [
      "Dropping axis labals with missing data"
     ]
    },
    {
     "cell_type": "code",
     "collapsed": false,
     "input": [
      "from pandas import *\n",
      "from io import *\n",
      "df = read_fwf(BytesIO(\"\"\"   one       two     three\n",
      "a  NaN -0.015601 -1.150641\n",
      "c  NaN -0.557697  0.381353\n",
      "e  NaN  0.000000  0.000000\n",
      "f  NaN  0.000000  0.000000\n",
      "h  NaN -0.058216 -0.486768\"\"\"), index_col=0)\n",
      "df.dropna(0)"
     ],
     "language": "python",
     "metadata": {},
     "outputs": [
      {
       "html": [
        "<div style=\"max-height:1000px;max-width:1500px;overflow:auto;\">\n",
        "<table border=\"1\" class=\"dataframe\">\n",
        "  <thead>\n",
        "    <tr style=\"text-align: right;\">\n",
        "      <th></th>\n",
        "      <th>one</th>\n",
        "      <th>two</th>\n",
        "      <th>three</th>\n",
        "    </tr>\n",
        "  </thead>\n",
        "  <tbody>\n",
        "  </tbody>\n",
        "</table>\n",
        "</div>"
       ],
       "metadata": {},
       "output_type": "pyout",
       "prompt_number": 28,
       "text": [
        "Empty DataFrame\n",
        "Columns: [one, two, three]\n",
        "Index: []"
       ]
      }
     ],
     "prompt_number": 28
    },
    {
     "cell_type": "code",
     "collapsed": false,
     "input": [
      "df.dropna(1)"
     ],
     "language": "python",
     "metadata": {},
     "outputs": [
      {
       "html": [
        "<div style=\"max-height:1000px;max-width:1500px;overflow:auto;\">\n",
        "<table border=\"1\" class=\"dataframe\">\n",
        "  <thead>\n",
        "    <tr style=\"text-align: right;\">\n",
        "      <th></th>\n",
        "      <th>two</th>\n",
        "      <th>three</th>\n",
        "    </tr>\n",
        "  </thead>\n",
        "  <tbody>\n",
        "    <tr>\n",
        "      <th>a</th>\n",
        "      <td>-0.015601</td>\n",
        "      <td>-1.150641</td>\n",
        "    </tr>\n",
        "    <tr>\n",
        "      <th>c</th>\n",
        "      <td>-0.557697</td>\n",
        "      <td> 0.381353</td>\n",
        "    </tr>\n",
        "    <tr>\n",
        "      <th>e</th>\n",
        "      <td> 0.000000</td>\n",
        "      <td> 0.000000</td>\n",
        "    </tr>\n",
        "    <tr>\n",
        "      <th>f</th>\n",
        "      <td> 0.000000</td>\n",
        "      <td> 0.000000</td>\n",
        "    </tr>\n",
        "    <tr>\n",
        "      <th>h</th>\n",
        "      <td>-0.058216</td>\n",
        "      <td>-0.486768</td>\n",
        "    </tr>\n",
        "  </tbody>\n",
        "</table>\n",
        "</div>"
       ],
       "metadata": {},
       "output_type": "pyout",
       "prompt_number": 29,
       "text": [
        "        two     three\n",
        "a -0.015601 -1.150641\n",
        "c -0.557697  0.381353\n",
        "e  0.000000  0.000000\n",
        "f  0.000000  0.000000\n",
        "h -0.058216 -0.486768"
       ]
      }
     ],
     "prompt_number": 29
    },
    {
     "cell_type": "heading",
     "level": 2,
     "metadata": {},
     "source": [
      "interpolation"
     ]
    },
    {
     "cell_type": "code",
     "collapsed": false,
     "input": [
      "import numpy as np\n",
      "ts = Series(randn(10), date_range('1/1/2014', periods=10, freq='H'))\n",
      "ts[2:3] = np.nan\n",
      "ts"
     ],
     "language": "python",
     "metadata": {},
     "outputs": [
      {
       "metadata": {},
       "output_type": "pyout",
       "prompt_number": 30,
       "text": [
        "2014-01-01 00:00:00   -0.571135\n",
        "2014-01-01 01:00:00   -0.322106\n",
        "2014-01-01 02:00:00         NaN\n",
        "2014-01-01 03:00:00    0.002067\n",
        "2014-01-01 04:00:00    0.398959\n",
        "2014-01-01 05:00:00    0.175804\n",
        "2014-01-01 06:00:00   -0.300540\n",
        "2014-01-01 07:00:00    0.380335\n",
        "2014-01-01 08:00:00    1.116760\n",
        "2014-01-01 09:00:00    1.637126\n",
        "Freq: H, dtype: float64"
       ]
      }
     ],
     "prompt_number": 30
    },
    {
     "cell_type": "code",
     "collapsed": false,
     "input": [
      "ts.count()"
     ],
     "language": "python",
     "metadata": {},
     "outputs": [
      {
       "metadata": {},
       "output_type": "pyout",
       "prompt_number": 31,
       "text": [
        "9"
       ]
      }
     ],
     "prompt_number": 31
    },
    {
     "cell_type": "code",
     "collapsed": false,
     "input": [
      "ts.interpolate()"
     ],
     "language": "python",
     "metadata": {},
     "outputs": [
      {
       "metadata": {},
       "output_type": "pyout",
       "prompt_number": 32,
       "text": [
        "2014-01-01 00:00:00   -0.571135\n",
        "2014-01-01 01:00:00   -0.322106\n",
        "2014-01-01 02:00:00   -0.160020\n",
        "2014-01-01 03:00:00    0.002067\n",
        "2014-01-01 04:00:00    0.398959\n",
        "2014-01-01 05:00:00    0.175804\n",
        "2014-01-01 06:00:00   -0.300540\n",
        "2014-01-01 07:00:00    0.380335\n",
        "2014-01-01 08:00:00    1.116760\n",
        "2014-01-01 09:00:00    1.637126\n",
        "Freq: H, dtype: float64"
       ]
      }
     ],
     "prompt_number": 32
    },
    {
     "cell_type": "code",
     "collapsed": false,
     "input": [
      "ts.interpolate().count()"
     ],
     "language": "python",
     "metadata": {},
     "outputs": [
      {
       "metadata": {},
       "output_type": "pyout",
       "prompt_number": 33,
       "text": [
        "10"
       ]
      }
     ],
     "prompt_number": 33
    },
    {
     "cell_type": "code",
     "collapsed": false,
     "input": [
      "ts.interpolate().plot()"
     ],
     "language": "python",
     "metadata": {},
     "outputs": [
      {
       "metadata": {},
       "output_type": "pyout",
       "prompt_number": 34,
       "text": [
        "<matplotlib.axes.AxesSubplot at 0x9dc8150>"
       ]
      },
      {
       "metadata": {},
       "output_type": "display_data",
       "png": "[encoded data removed]",
       "text": [
        "<matplotlib.figure.Figure at 0x9d96690>"
       ]
      }
     ],
     "prompt_number": 34
    },
    {
     "cell_type": "code",
     "collapsed": false,
     "input": [
      "ts2 = read_fwf(BytesIO(\"\"\"2000-01-31    0.469112\n",
      "2000-02-29         NaN\n",
      "2002-07-31   -5.689738\n",
      "2005-01-31         NaN\n",
      "2008-04-30   -8.916232\"\"\"), index_col=0, header=None, squeeze=True, parse_dates=True)\n",
      "ts2"
     ],
     "language": "python",
     "metadata": {},
     "outputs": [
      {
       "metadata": {},
       "output_type": "pyout",
       "prompt_number": 35,
       "text": [
        "0\n",
        "2000-01-31    0.469112\n",
        "2000-02-29         NaN\n",
        "2002-07-31   -5.689738\n",
        "2005-01-31         NaN\n",
        "2008-04-30   -8.916232\n",
        "Name: 1, dtype: float64"
       ]
      }
     ],
     "prompt_number": 35
    },
    {
     "cell_type": "code",
     "collapsed": false,
     "input": [
      "ts2.interpolate()"
     ],
     "language": "python",
     "metadata": {},
     "outputs": [
      {
       "metadata": {},
       "output_type": "pyout",
       "prompt_number": 36,
       "text": [
        "0\n",
        "2000-01-31    0.469112\n",
        "2000-02-29   -2.610313\n",
        "2002-07-31   -5.689738\n",
        "2005-01-31   -7.302985\n",
        "2008-04-30   -8.916232\n",
        "Name: 1, dtype: float64"
       ]
      }
     ],
     "prompt_number": 36
    },
    {
     "cell_type": "code",
     "collapsed": false,
     "input": [
      "# interpolate by datetimeindex\n",
      "ts2.interpolate(method='time')"
     ],
     "language": "python",
     "metadata": {},
     "outputs": [
      {
       "metadata": {},
       "output_type": "pyout",
       "prompt_number": 37,
       "text": [
        "0\n",
        "2000-01-31    0.469112\n",
        "2000-02-29    0.273271\n",
        "2002-07-31   -5.689738\n",
        "2005-01-31   -7.095568\n",
        "2008-04-30   -8.916232\n",
        "Name: 1, dtype: float64"
       ]
      }
     ],
     "prompt_number": 37
    },
    {
     "cell_type": "code",
     "collapsed": false,
     "input": [
      "ser = read_fwf(BytesIO(\"\"\"0      0\n",
      "1    NaN\n",
      "10    10\"\"\"), index_col=0, header=None, squeeze=True)\n",
      "ser"
     ],
     "language": "python",
     "metadata": {},
     "outputs": [
      {
       "metadata": {},
       "output_type": "pyout",
       "prompt_number": 38,
       "text": [
        "0\n",
        "0      0\n",
        "1    NaN\n",
        "10    10\n",
        "Name: 1, dtype: float64"
       ]
      }
     ],
     "prompt_number": 38
    },
    {
     "cell_type": "code",
     "collapsed": false,
     "input": [
      "ser.interpolate()"
     ],
     "language": "python",
     "metadata": {},
     "outputs": [
      {
       "metadata": {},
       "output_type": "pyout",
       "prompt_number": 39,
       "text": [
        "0\n",
        "0      0\n",
        "1      5\n",
        "10    10\n",
        "Name: 1, dtype: float64"
       ]
      }
     ],
     "prompt_number": 39
    },
    {
     "cell_type": "code",
     "collapsed": false,
     "input": [
      "# interpolate by float index\n",
      "ser.interpolate(method='values')"
     ],
     "language": "python",
     "metadata": {},
     "outputs": [
      {
       "metadata": {},
       "output_type": "pyout",
       "prompt_number": 40,
       "text": [
        "0\n",
        "0      0\n",
        "1      1\n",
        "10    10\n",
        "Name: 1, dtype: float64"
       ]
      }
     ],
     "prompt_number": 40
    },
    {
     "cell_type": "code",
     "collapsed": false,
     "input": [
      "# interpolate on DataFrame\n",
      "df = DataFrame({'A': [1, 2.1, np.nan, 4.7, 5.6, 6.8],\n",
      "                'B': [.25, np.nan, np.nan, 4, 12.2, 14.4]})\n",
      "df"
     ],
     "language": "python",
     "metadata": {},
     "outputs": [
      {
       "html": [
        "<div style=\"max-height:1000px;max-width:1500px;overflow:auto;\">\n",
        "<table border=\"1\" class=\"dataframe\">\n",
        "  <thead>\n",
        "    <tr style=\"text-align: right;\">\n",
        "      <th></th>\n",
        "      <th>A</th>\n",
        "      <th>B</th>\n",
        "    </tr>\n",
        "  </thead>\n",
        "  <tbody>\n",
        "    <tr>\n",
        "      <th>0</th>\n",
        "      <td> 1.0</td>\n",
        "      <td>  0.25</td>\n",
        "    </tr>\n",
        "    <tr>\n",
        "      <th>1</th>\n",
        "      <td> 2.1</td>\n",
        "      <td>   NaN</td>\n",
        "    </tr>\n",
        "    <tr>\n",
        "      <th>2</th>\n",
        "      <td> NaN</td>\n",
        "      <td>   NaN</td>\n",
        "    </tr>\n",
        "    <tr>\n",
        "      <th>3</th>\n",
        "      <td> 4.7</td>\n",
        "      <td>  4.00</td>\n",
        "    </tr>\n",
        "    <tr>\n",
        "      <th>4</th>\n",
        "      <td> 5.6</td>\n",
        "      <td> 12.20</td>\n",
        "    </tr>\n",
        "    <tr>\n",
        "      <th>5</th>\n",
        "      <td> 6.8</td>\n",
        "      <td> 14.40</td>\n",
        "    </tr>\n",
        "  </tbody>\n",
        "</table>\n",
        "</div>"
       ],
       "metadata": {},
       "output_type": "pyout",
       "prompt_number": 41,
       "text": [
        "     A      B\n",
        "0  1.0   0.25\n",
        "1  2.1    NaN\n",
        "2  NaN    NaN\n",
        "3  4.7   4.00\n",
        "4  5.6  12.20\n",
        "5  6.8  14.40"
       ]
      }
     ],
     "prompt_number": 41
    },
    {
     "cell_type": "code",
     "collapsed": false,
     "input": [
      "df.interpolate()"
     ],
     "language": "python",
     "metadata": {},
     "outputs": [
      {
       "html": [
        "<div style=\"max-height:1000px;max-width:1500px;overflow:auto;\">\n",
        "<table border=\"1\" class=\"dataframe\">\n",
        "  <thead>\n",
        "    <tr style=\"text-align: right;\">\n",
        "      <th></th>\n",
        "      <th>A</th>\n",
        "      <th>B</th>\n",
        "    </tr>\n",
        "  </thead>\n",
        "  <tbody>\n",
        "    <tr>\n",
        "      <th>0</th>\n",
        "      <td> 1.0</td>\n",
        "      <td>  0.25</td>\n",
        "    </tr>\n",
        "    <tr>\n",
        "      <th>1</th>\n",
        "      <td> 2.1</td>\n",
        "      <td>  1.50</td>\n",
        "    </tr>\n",
        "    <tr>\n",
        "      <th>2</th>\n",
        "      <td> 3.4</td>\n",
        "      <td>  2.75</td>\n",
        "    </tr>\n",
        "    <tr>\n",
        "      <th>3</th>\n",
        "      <td> 4.7</td>\n",
        "      <td>  4.00</td>\n",
        "    </tr>\n",
        "    <tr>\n",
        "      <th>4</th>\n",
        "      <td> 5.6</td>\n",
        "      <td> 12.20</td>\n",
        "    </tr>\n",
        "    <tr>\n",
        "      <th>5</th>\n",
        "      <td> 6.8</td>\n",
        "      <td> 14.40</td>\n",
        "    </tr>\n",
        "  </tbody>\n",
        "</table>\n",
        "</div>"
       ],
       "metadata": {},
       "output_type": "pyout",
       "prompt_number": 42,
       "text": [
        "     A      B\n",
        "0  1.0   0.25\n",
        "1  2.1   1.50\n",
        "2  3.4   2.75\n",
        "3  4.7   4.00\n",
        "4  5.6  12.20\n",
        "5  6.8  14.40"
       ]
      }
     ],
     "prompt_number": 42
    },
    {
     "cell_type": "code",
     "collapsed": false,
     "input": [
      "# interpolate on increasing data\n",
      "df.interpolate(method='barycentric')"
     ],
     "language": "python",
     "metadata": {},
     "outputs": [
      {
       "html": [
        "<div style=\"max-height:1000px;max-width:1500px;overflow:auto;\">\n",
        "<table border=\"1\" class=\"dataframe\">\n",
        "  <thead>\n",
        "    <tr style=\"text-align: right;\">\n",
        "      <th></th>\n",
        "      <th>A</th>\n",
        "      <th>B</th>\n",
        "    </tr>\n",
        "  </thead>\n",
        "  <tbody>\n",
        "    <tr>\n",
        "      <th>0</th>\n",
        "      <td> 1.00</td>\n",
        "      <td>  0.250</td>\n",
        "    </tr>\n",
        "    <tr>\n",
        "      <th>1</th>\n",
        "      <td> 2.10</td>\n",
        "      <td> -7.660</td>\n",
        "    </tr>\n",
        "    <tr>\n",
        "      <th>2</th>\n",
        "      <td> 3.53</td>\n",
        "      <td> -4.515</td>\n",
        "    </tr>\n",
        "    <tr>\n",
        "      <th>3</th>\n",
        "      <td> 4.70</td>\n",
        "      <td>  4.000</td>\n",
        "    </tr>\n",
        "    <tr>\n",
        "      <th>4</th>\n",
        "      <td> 5.60</td>\n",
        "      <td> 12.200</td>\n",
        "    </tr>\n",
        "    <tr>\n",
        "      <th>5</th>\n",
        "      <td> 6.80</td>\n",
        "      <td> 14.400</td>\n",
        "    </tr>\n",
        "  </tbody>\n",
        "</table>\n",
        "</div>"
       ],
       "metadata": {},
       "output_type": "pyout",
       "prompt_number": 43,
       "text": [
        "      A       B\n",
        "0  1.00   0.250\n",
        "1  2.10  -7.660\n",
        "2  3.53  -4.515\n",
        "3  4.70   4.000\n",
        "4  5.60  12.200\n",
        "5  6.80  14.400"
       ]
      }
     ],
     "prompt_number": 43
    },
    {
     "cell_type": "code",
     "collapsed": false,
     "input": [
      "# barycentric fomular\n",
      "v = 0\n",
      "df2 = df.iloc[[0,1,3,4,5]]\n",
      "for id, value in df2.iterrows():\n",
      "    k = value.get('A')\n",
      "    for id2, value2 in df2.iterrows():\n",
      "        if id != id2:\n",
      "            id2 = float(id2)\n",
      "            k *= (2 - id2) / (id - id2)\n",
      "    v += k\n",
      "print v"
     ],
     "language": "python",
     "metadata": {},
     "outputs": [
      {
       "output_type": "stream",
       "stream": "stdout",
       "text": [
        "3.53\n"
       ]
      }
     ],
     "prompt_number": 44
    },
    {
     "cell_type": "code",
     "collapsed": false,
     "input": [
      "# interpolate by spline with order 2\n",
      "df.interpolate(method=\"spline\", order=2)"
     ],
     "language": "python",
     "metadata": {},
     "outputs": [
      {
       "html": [
        "<div style=\"max-height:1000px;max-width:1500px;overflow:auto;\">\n",
        "<table border=\"1\" class=\"dataframe\">\n",
        "  <thead>\n",
        "    <tr style=\"text-align: right;\">\n",
        "      <th></th>\n",
        "      <th>A</th>\n",
        "      <th>B</th>\n",
        "    </tr>\n",
        "  </thead>\n",
        "  <tbody>\n",
        "    <tr>\n",
        "      <th>0</th>\n",
        "      <td> 1.000000</td>\n",
        "      <td>  0.250000</td>\n",
        "    </tr>\n",
        "    <tr>\n",
        "      <th>1</th>\n",
        "      <td> 2.100000</td>\n",
        "      <td> -0.428598</td>\n",
        "    </tr>\n",
        "    <tr>\n",
        "      <th>2</th>\n",
        "      <td> 3.404545</td>\n",
        "      <td>  1.206900</td>\n",
        "    </tr>\n",
        "    <tr>\n",
        "      <th>3</th>\n",
        "      <td> 4.700000</td>\n",
        "      <td>  4.000000</td>\n",
        "    </tr>\n",
        "    <tr>\n",
        "      <th>4</th>\n",
        "      <td> 5.600000</td>\n",
        "      <td> 12.200000</td>\n",
        "    </tr>\n",
        "    <tr>\n",
        "      <th>5</th>\n",
        "      <td> 6.800000</td>\n",
        "      <td> 14.400000</td>\n",
        "    </tr>\n",
        "  </tbody>\n",
        "</table>\n",
        "</div>"
       ],
       "metadata": {},
       "output_type": "pyout",
       "prompt_number": 46,
       "text": [
        "          A          B\n",
        "0  1.000000   0.250000\n",
        "1  2.100000  -0.428598\n",
        "2  3.404545   1.206900\n",
        "3  4.700000   4.000000\n",
        "4  5.600000  12.200000\n",
        "5  6.800000  14.400000"
       ]
      }
     ],
     "prompt_number": 46
    },
    {
     "cell_type": "code",
     "collapsed": false,
     "input": [
      "# interpolate by polynomial\n",
      "df.interpolate(method='polynomial', order=2)"
     ],
     "language": "python",
     "metadata": {},
     "outputs": [
      {
       "html": [
        "<div style=\"max-height:1000px;max-width:1500px;overflow:auto;\">\n",
        "<table border=\"1\" class=\"dataframe\">\n",
        "  <thead>\n",
        "    <tr style=\"text-align: right;\">\n",
        "      <th></th>\n",
        "      <th>A</th>\n",
        "      <th>B</th>\n",
        "    </tr>\n",
        "  </thead>\n",
        "  <tbody>\n",
        "    <tr>\n",
        "      <th>0</th>\n",
        "      <td> 1.000000</td>\n",
        "      <td>  0.250000</td>\n",
        "    </tr>\n",
        "    <tr>\n",
        "      <th>1</th>\n",
        "      <td> 2.100000</td>\n",
        "      <td> -4.161538</td>\n",
        "    </tr>\n",
        "    <tr>\n",
        "      <th>2</th>\n",
        "      <td> 3.547059</td>\n",
        "      <td> -2.911538</td>\n",
        "    </tr>\n",
        "    <tr>\n",
        "      <th>3</th>\n",
        "      <td> 4.700000</td>\n",
        "      <td>  4.000000</td>\n",
        "    </tr>\n",
        "    <tr>\n",
        "      <th>4</th>\n",
        "      <td> 5.600000</td>\n",
        "      <td> 12.200000</td>\n",
        "    </tr>\n",
        "    <tr>\n",
        "      <th>5</th>\n",
        "      <td> 6.800000</td>\n",
        "      <td> 14.400000</td>\n",
        "    </tr>\n",
        "  </tbody>\n",
        "</table>\n",
        "</div>"
       ],
       "metadata": {},
       "output_type": "pyout",
       "prompt_number": 48,
       "text": [
        "          A          B\n",
        "0  1.000000   0.250000\n",
        "1  2.100000  -4.161538\n",
        "2  3.547059  -2.911538\n",
        "3  4.700000   4.000000\n",
        "4  5.600000  12.200000\n",
        "5  6.800000  14.400000"
       ]
      }
     ],
     "prompt_number": 48
    },
    {
     "cell_type": "code",
     "collapsed": false,
     "input": [
      "# Compare interpolate method\n",
      "np.random.seed(2)\n",
      "ser = Series(np.arange(1, 10.1, .25)**2 + np.random.randn(37))\n",
      "bad = np.array([4, 13, 14, 15, 16, 17, 18, 20, 29])\n",
      "ser[bad] = np.nan\n",
      "methods = ['linear', 'quadratic', 'cubic']\n",
      "df = DataFrame({m: ser.interpolate(method=m) for m in methods})\n",
      "df.plot()\n"
     ],
     "language": "python",
     "metadata": {},
     "outputs": [
      {
       "metadata": {},
       "output_type": "pyout",
       "prompt_number": 54,
       "text": [
        "<matplotlib.axes.AxesSubplot at 0xa4b0990>"
       ]
      },
      {
       "metadata": {},
       "output_type": "display_data",
       "png": "[encoded data removed]",
       "text": [
        "<matplotlib.figure.Figure at 0xa396070>"
       ]
      }
     ],
     "prompt_number": 54
    },
    {
     "cell_type": "heading",
     "level": 2,
     "metadata": {},
     "source": [
      "Predict by interpolate"
     ]
    },
    {
     "cell_type": "code",
     "collapsed": false,
     "input": [
      "ser = Series(np.sort(np.random.uniform(size=100)))\n",
      "new_index = ser.index + Index([49.25, 49.5, 49.75, 50.25, 50.5, 50.75])\n",
      "interp_s = ser.reindex(new_index).interpolate(method='pchip')\n",
      "interp_s[49:51]"
     ],
     "language": "python",
     "metadata": {},
     "outputs": [
      {
       "metadata": {},
       "output_type": "pyout",
       "prompt_number": 57,
       "text": [
        "49.00    0.461739\n",
        "49.25    0.462407\n",
        "49.50    0.462862\n",
        "49.75    0.463184\n",
        "50.00    0.463449\n",
        "50.25    0.463652\n",
        "50.50    0.463789\n",
        "50.75    0.463947\n",
        "51.00    0.464212\n",
        "dtype: float64"
       ]
      }
     ],
     "prompt_number": 57
    },
    {
     "cell_type": "code",
     "collapsed": false,
     "input": [
      "# interpolate limit\n",
      "ser = Series([1, 3, np.nan, np.nan, np.nan, 11])\n",
      "ser.interpolate(limit=2)"
     ],
     "language": "python",
     "metadata": {},
     "outputs": [
      {
       "metadata": {},
       "output_type": "pyout",
       "prompt_number": 61,
       "text": [
        "0     1\n",
        "1     3\n",
        "2     5\n",
        "3     7\n",
        "4   NaN\n",
        "5    11\n",
        "dtype: float64"
       ]
      }
     ],
     "prompt_number": 61
    },
    {
     "cell_type": "heading",
     "level": 2,
     "metadata": {},
     "source": [
      "Replace value"
     ]
    },
    {
     "cell_type": "code",
     "collapsed": false,
     "input": [
      "ser = Series([0., 1., 2., 3., 4.])\n",
      "ser.replace(0, 5)"
     ],
     "language": "python",
     "metadata": {},
     "outputs": [
      {
       "metadata": {},
       "output_type": "pyout",
       "prompt_number": 63,
       "text": [
        "0    5\n",
        "1    1\n",
        "2    2\n",
        "3    3\n",
        "4    4\n",
        "dtype: float64"
       ]
      }
     ],
     "prompt_number": 63
    },
    {
     "cell_type": "code",
     "collapsed": false,
     "input": [
      "ser.replace([1,2,3,4], [4,3,2,1])"
     ],
     "language": "python",
     "metadata": {},
     "outputs": [
      {
       "metadata": {},
       "output_type": "pyout",
       "prompt_number": 66,
       "text": [
        "0    0\n",
        "1    4\n",
        "2    3\n",
        "3    2\n",
        "4    1\n",
        "dtype: float64"
       ]
      }
     ],
     "prompt_number": 66
    },
    {
     "cell_type": "code",
     "collapsed": false,
     "input": [
      "ser.replace({0:10,1:100})"
     ],
     "language": "python",
     "metadata": {},
     "outputs": [
      {
       "metadata": {},
       "output_type": "pyout",
       "prompt_number": 68,
       "text": [
        "0     10\n",
        "1    100\n",
        "2      2\n",
        "3      3\n",
        "4      4\n",
        "dtype: float64"
       ]
      }
     ],
     "prompt_number": 68
    },
    {
     "cell_type": "code",
     "collapsed": false,
     "input": [
      "# replace individual value\n",
      "df = DataFrame({'a': [0, 1, 2, 3, 4], 'b': [5, 6, 7, 8, 9]})\n",
      "df.replace({'a': 0, 'b': 5}, 100)"
     ],
     "language": "python",
     "metadata": {},
     "outputs": [
      {
       "html": [
        "<div style=\"max-height:1000px;max-width:1500px;overflow:auto;\">\n",
        "<table border=\"1\" class=\"dataframe\">\n",
        "  <thead>\n",
        "    <tr style=\"text-align: right;\">\n",
        "      <th></th>\n",
        "      <th>a</th>\n",
        "      <th>b</th>\n",
        "    </tr>\n",
        "  </thead>\n",
        "  <tbody>\n",
        "    <tr>\n",
        "      <th>0</th>\n",
        "      <td> 100</td>\n",
        "      <td> 100</td>\n",
        "    </tr>\n",
        "    <tr>\n",
        "      <th>1</th>\n",
        "      <td>   1</td>\n",
        "      <td>   6</td>\n",
        "    </tr>\n",
        "    <tr>\n",
        "      <th>2</th>\n",
        "      <td>   2</td>\n",
        "      <td>   7</td>\n",
        "    </tr>\n",
        "    <tr>\n",
        "      <th>3</th>\n",
        "      <td>   3</td>\n",
        "      <td>   8</td>\n",
        "    </tr>\n",
        "    <tr>\n",
        "      <th>4</th>\n",
        "      <td>   4</td>\n",
        "      <td>   9</td>\n",
        "    </tr>\n",
        "  </tbody>\n",
        "</table>\n",
        "</div>"
       ],
       "metadata": {},
       "output_type": "pyout",
       "prompt_number": 70,
       "text": [
        "     a    b\n",
        "0  100  100\n",
        "1    1    6\n",
        "2    2    7\n",
        "3    3    8\n",
        "4    4    9"
       ]
      }
     ],
     "prompt_number": 70
    },
    {
     "cell_type": "code",
     "collapsed": false,
     "input": [
      "# interpolate in replace function\n",
      "ser.replace([1, 2, 3], method='pad')"
     ],
     "language": "python",
     "metadata": {},
     "outputs": [
      {
       "metadata": {},
       "output_type": "pyout",
       "prompt_number": 72,
       "text": [
        "0    0\n",
        "1    0\n",
        "2    0\n",
        "3    0\n",
        "4    4\n",
        "dtype: float64"
       ]
      }
     ],
     "prompt_number": 72
    },
    {
     "cell_type": "code",
     "collapsed": false,
     "input": [
      "# replace . with nan\n",
      "d = {'a': list(range(4)), 'b': list('ab..'), 'c': ['a', 'b', nan, 'd']}\n",
      "df = DataFrame(d)\n",
      "df.replace('.', np.nan)"
     ],
     "language": "python",
     "metadata": {},
     "outputs": [
      {
       "html": [
        "<div style=\"max-height:1000px;max-width:1500px;overflow:auto;\">\n",
        "<table border=\"1\" class=\"dataframe\">\n",
        "  <thead>\n",
        "    <tr style=\"text-align: right;\">\n",
        "      <th></th>\n",
        "      <th>a</th>\n",
        "      <th>b</th>\n",
        "      <th>c</th>\n",
        "    </tr>\n",
        "  </thead>\n",
        "  <tbody>\n",
        "    <tr>\n",
        "      <th>0</th>\n",
        "      <td> 0</td>\n",
        "      <td>   a</td>\n",
        "      <td>   a</td>\n",
        "    </tr>\n",
        "    <tr>\n",
        "      <th>1</th>\n",
        "      <td> 1</td>\n",
        "      <td>   b</td>\n",
        "      <td>   b</td>\n",
        "    </tr>\n",
        "    <tr>\n",
        "      <th>2</th>\n",
        "      <td> 2</td>\n",
        "      <td> NaN</td>\n",
        "      <td> NaN</td>\n",
        "    </tr>\n",
        "    <tr>\n",
        "      <th>3</th>\n",
        "      <td> 3</td>\n",
        "      <td> NaN</td>\n",
        "      <td>   d</td>\n",
        "    </tr>\n",
        "  </tbody>\n",
        "</table>\n",
        "</div>"
       ],
       "metadata": {},
       "output_type": "pyout",
       "prompt_number": 84,
       "text": [
        "   a    b    c\n",
        "0  0    a    a\n",
        "1  1    b    b\n",
        "2  2  NaN  NaN\n",
        "3  3  NaN    d"
       ]
      }
     ],
     "prompt_number": 84
    },
    {
     "cell_type": "heading",
     "level": 2,
     "metadata": {},
     "source": [
      "Regex replacement"
     ]
    },
    {
     "cell_type": "code",
     "collapsed": false,
     "input": [
      "df['b'][1] = \" . \"\n",
      "df.replace(r'\\s*\\.\\s*', nan, regex=True)"
     ],
     "language": "python",
     "metadata": {},
     "outputs": [
      {
       "html": [
        "<div style=\"max-height:1000px;max-width:1500px;overflow:auto;\">\n",
        "<table border=\"1\" class=\"dataframe\">\n",
        "  <thead>\n",
        "    <tr style=\"text-align: right;\">\n",
        "      <th></th>\n",
        "      <th>a</th>\n",
        "      <th>b</th>\n",
        "      <th>c</th>\n",
        "    </tr>\n",
        "  </thead>\n",
        "  <tbody>\n",
        "    <tr>\n",
        "      <th>0</th>\n",
        "      <td> 0</td>\n",
        "      <td>   a</td>\n",
        "      <td>   a</td>\n",
        "    </tr>\n",
        "    <tr>\n",
        "      <th>1</th>\n",
        "      <td> 1</td>\n",
        "      <td> NaN</td>\n",
        "      <td>   b</td>\n",
        "    </tr>\n",
        "    <tr>\n",
        "      <th>2</th>\n",
        "      <td> 2</td>\n",
        "      <td> NaN</td>\n",
        "      <td> NaN</td>\n",
        "    </tr>\n",
        "    <tr>\n",
        "      <th>3</th>\n",
        "      <td> 3</td>\n",
        "      <td> NaN</td>\n",
        "      <td>   d</td>\n",
        "    </tr>\n",
        "  </tbody>\n",
        "</table>\n",
        "</div>"
       ],
       "metadata": {},
       "output_type": "pyout",
       "prompt_number": 85,
       "text": [
        "   a    b    c\n",
        "0  0    a    a\n",
        "1  1  NaN    b\n",
        "2  2  NaN  NaN\n",
        "3  3  NaN    d"
       ]
      }
     ],
     "prompt_number": 85
    },
    {
     "cell_type": "code",
     "collapsed": false,
     "input": [
      "df.replace(['a', '.'], ['b', nan])"
     ],
     "language": "python",
     "metadata": {},
     "outputs": [
      {
       "html": [
        "<div style=\"max-height:1000px;max-width:1500px;overflow:auto;\">\n",
        "<table border=\"1\" class=\"dataframe\">\n",
        "  <thead>\n",
        "    <tr style=\"text-align: right;\">\n",
        "      <th></th>\n",
        "      <th>a</th>\n",
        "      <th>b</th>\n",
        "      <th>c</th>\n",
        "    </tr>\n",
        "  </thead>\n",
        "  <tbody>\n",
        "    <tr>\n",
        "      <th>0</th>\n",
        "      <td> 0</td>\n",
        "      <td>   b</td>\n",
        "      <td>   b</td>\n",
        "    </tr>\n",
        "    <tr>\n",
        "      <th>1</th>\n",
        "      <td> 1</td>\n",
        "      <td>  . </td>\n",
        "      <td>   b</td>\n",
        "    </tr>\n",
        "    <tr>\n",
        "      <th>2</th>\n",
        "      <td> 2</td>\n",
        "      <td> NaN</td>\n",
        "      <td> NaN</td>\n",
        "    </tr>\n",
        "    <tr>\n",
        "      <th>3</th>\n",
        "      <td> 3</td>\n",
        "      <td> NaN</td>\n",
        "      <td>   d</td>\n",
        "    </tr>\n",
        "  </tbody>\n",
        "</table>\n",
        "</div>"
       ],
       "metadata": {},
       "output_type": "pyout",
       "prompt_number": 87,
       "text": [
        "   a    b    c\n",
        "0  0    b    b\n",
        "1  1   .     b\n",
        "2  2  NaN  NaN\n",
        "3  3  NaN    d"
       ]
      }
     ],
     "prompt_number": 87
    },
    {
     "cell_type": "code",
     "collapsed": false,
     "input": [
      "df.replace([r'\\.', r'(a)'], ['dot', '\\1stuff'], regex=True)"
     ],
     "language": "python",
     "metadata": {},
     "outputs": [
      {
       "html": [
        "<div style=\"max-height:1000px;max-width:1500px;overflow:auto;\">\n",
        "<table border=\"1\" class=\"dataframe\">\n",
        "  <thead>\n",
        "    <tr style=\"text-align: right;\">\n",
        "      <th></th>\n",
        "      <th>a</th>\n",
        "      <th>b</th>\n",
        "      <th>c</th>\n",
        "    </tr>\n",
        "  </thead>\n",
        "  <tbody>\n",
        "    <tr>\n",
        "      <th>0</th>\n",
        "      <td> 0</td>\n",
        "      <td> \u0001stuff</td>\n",
        "      <td> \u0001stuff</td>\n",
        "    </tr>\n",
        "    <tr>\n",
        "      <th>1</th>\n",
        "      <td> 1</td>\n",
        "      <td>   dot </td>\n",
        "      <td>      b</td>\n",
        "    </tr>\n",
        "    <tr>\n",
        "      <th>2</th>\n",
        "      <td> 2</td>\n",
        "      <td>    dot</td>\n",
        "      <td>    NaN</td>\n",
        "    </tr>\n",
        "    <tr>\n",
        "      <th>3</th>\n",
        "      <td> 3</td>\n",
        "      <td>    dot</td>\n",
        "      <td>      d</td>\n",
        "    </tr>\n",
        "  </tbody>\n",
        "</table>\n",
        "</div>"
       ],
       "metadata": {},
       "output_type": "pyout",
       "prompt_number": 88,
       "text": [
        "   a       b       c\n",
        "0  0  \u0001stuff  \u0001stuff\n",
        "1  1    dot        b\n",
        "2  2     dot     NaN\n",
        "3  3     dot       d"
       ]
      }
     ],
     "prompt_number": 88
    },
    {
     "cell_type": "code",
     "collapsed": false,
     "input": [
      "# Specific columns\n",
      "df.replace({'b': r'\\s*\\.\\s*'}, {'b': nan}, regex=True)"
     ],
     "language": "python",
     "metadata": {},
     "outputs": [
      {
       "html": [
        "<div style=\"max-height:1000px;max-width:1500px;overflow:auto;\">\n",
        "<table border=\"1\" class=\"dataframe\">\n",
        "  <thead>\n",
        "    <tr style=\"text-align: right;\">\n",
        "      <th></th>\n",
        "      <th>a</th>\n",
        "      <th>b</th>\n",
        "      <th>c</th>\n",
        "    </tr>\n",
        "  </thead>\n",
        "  <tbody>\n",
        "    <tr>\n",
        "      <th>0</th>\n",
        "      <td> 0</td>\n",
        "      <td>   a</td>\n",
        "      <td>   a</td>\n",
        "    </tr>\n",
        "    <tr>\n",
        "      <th>1</th>\n",
        "      <td> 1</td>\n",
        "      <td> NaN</td>\n",
        "      <td>   b</td>\n",
        "    </tr>\n",
        "    <tr>\n",
        "      <th>2</th>\n",
        "      <td> 2</td>\n",
        "      <td> NaN</td>\n",
        "      <td> NaN</td>\n",
        "    </tr>\n",
        "    <tr>\n",
        "      <th>3</th>\n",
        "      <td> 3</td>\n",
        "      <td> NaN</td>\n",
        "      <td>   d</td>\n",
        "    </tr>\n",
        "  </tbody>\n",
        "</table>\n",
        "</div>"
       ],
       "metadata": {},
       "output_type": "pyout",
       "prompt_number": 90,
       "text": [
        "   a    b    c\n",
        "0  0    a    a\n",
        "1  1  NaN    b\n",
        "2  2  NaN  NaN\n",
        "3  3  NaN    d"
       ]
      }
     ],
     "prompt_number": 90
    },
    {
     "cell_type": "code",
     "collapsed": false,
     "input": [
      "df.replace({'b': {'b': r''}}, regex=True)"
     ],
     "language": "python",
     "metadata": {},
     "outputs": [
      {
       "html": [
        "<div style=\"max-height:1000px;max-width:1500px;overflow:auto;\">\n",
        "<table border=\"1\" class=\"dataframe\">\n",
        "  <thead>\n",
        "    <tr style=\"text-align: right;\">\n",
        "      <th></th>\n",
        "      <th>a</th>\n",
        "      <th>b</th>\n",
        "      <th>c</th>\n",
        "    </tr>\n",
        "  </thead>\n",
        "  <tbody>\n",
        "    <tr>\n",
        "      <th>0</th>\n",
        "      <td> 0</td>\n",
        "      <td>   a</td>\n",
        "      <td>   a</td>\n",
        "    </tr>\n",
        "    <tr>\n",
        "      <th>1</th>\n",
        "      <td> 1</td>\n",
        "      <td>  . </td>\n",
        "      <td>   b</td>\n",
        "    </tr>\n",
        "    <tr>\n",
        "      <th>2</th>\n",
        "      <td> 2</td>\n",
        "      <td>   .</td>\n",
        "      <td> NaN</td>\n",
        "    </tr>\n",
        "    <tr>\n",
        "      <th>3</th>\n",
        "      <td> 3</td>\n",
        "      <td>   .</td>\n",
        "      <td>   d</td>\n",
        "    </tr>\n",
        "  </tbody>\n",
        "</table>\n",
        "</div>"
       ],
       "metadata": {},
       "output_type": "pyout",
       "prompt_number": 92,
       "text": [
        "   a    b    c\n",
        "0  0    a    a\n",
        "1  1   .     b\n",
        "2  2    .  NaN\n",
        "3  3    .    d"
       ]
      }
     ],
     "prompt_number": 92
    },
    {
     "cell_type": "code",
     "collapsed": false,
     "input": [
      "df.replace(regex={'b': {r'\\s*\\.\\s*': nan}})"
     ],
     "language": "python",
     "metadata": {},
     "outputs": [
      {
       "html": [
        "<div style=\"max-height:1000px;max-width:1500px;overflow:auto;\">\n",
        "<table border=\"1\" class=\"dataframe\">\n",
        "  <thead>\n",
        "    <tr style=\"text-align: right;\">\n",
        "      <th></th>\n",
        "      <th>a</th>\n",
        "      <th>b</th>\n",
        "      <th>c</th>\n",
        "    </tr>\n",
        "  </thead>\n",
        "  <tbody>\n",
        "    <tr>\n",
        "      <th>0</th>\n",
        "      <td> 0</td>\n",
        "      <td>   a</td>\n",
        "      <td>   a</td>\n",
        "    </tr>\n",
        "    <tr>\n",
        "      <th>1</th>\n",
        "      <td> 1</td>\n",
        "      <td> NaN</td>\n",
        "      <td>   b</td>\n",
        "    </tr>\n",
        "    <tr>\n",
        "      <th>2</th>\n",
        "      <td> 2</td>\n",
        "      <td> NaN</td>\n",
        "      <td> NaN</td>\n",
        "    </tr>\n",
        "    <tr>\n",
        "      <th>3</th>\n",
        "      <td> 3</td>\n",
        "      <td> NaN</td>\n",
        "      <td>   d</td>\n",
        "    </tr>\n",
        "  </tbody>\n",
        "</table>\n",
        "</div>"
       ],
       "metadata": {},
       "output_type": "pyout",
       "prompt_number": 94,
       "text": [
        "   a    b    c\n",
        "0  0    a    a\n",
        "1  1  NaN    b\n",
        "2  2  NaN  NaN\n",
        "3  3  NaN    d"
       ]
      }
     ],
     "prompt_number": 94
    },
    {
     "cell_type": "code",
     "collapsed": false,
     "input": [
      "# regex group\n",
      "df.replace({'b': r'\\s*(\\.)\\s*'}, {'b': r'\\1ty'}, regex=True)"
     ],
     "language": "python",
     "metadata": {},
     "outputs": [
      {
       "html": [
        "<div style=\"max-height:1000px;max-width:1500px;overflow:auto;\">\n",
        "<table border=\"1\" class=\"dataframe\">\n",
        "  <thead>\n",
        "    <tr style=\"text-align: right;\">\n",
        "      <th></th>\n",
        "      <th>a</th>\n",
        "      <th>b</th>\n",
        "      <th>c</th>\n",
        "    </tr>\n",
        "  </thead>\n",
        "  <tbody>\n",
        "    <tr>\n",
        "      <th>0</th>\n",
        "      <td> 0</td>\n",
        "      <td>   a</td>\n",
        "      <td>   a</td>\n",
        "    </tr>\n",
        "    <tr>\n",
        "      <th>1</th>\n",
        "      <td> 1</td>\n",
        "      <td> .ty</td>\n",
        "      <td>   b</td>\n",
        "    </tr>\n",
        "    <tr>\n",
        "      <th>2</th>\n",
        "      <td> 2</td>\n",
        "      <td> .ty</td>\n",
        "      <td> NaN</td>\n",
        "    </tr>\n",
        "    <tr>\n",
        "      <th>3</th>\n",
        "      <td> 3</td>\n",
        "      <td> .ty</td>\n",
        "      <td>   d</td>\n",
        "    </tr>\n",
        "  </tbody>\n",
        "</table>\n",
        "</div>"
       ],
       "metadata": {},
       "output_type": "pyout",
       "prompt_number": 96,
       "text": [
        "   a    b    c\n",
        "0  0    a    a\n",
        "1  1  .ty    b\n",
        "2  2  .ty  NaN\n",
        "3  3  .ty    d"
       ]
      }
     ],
     "prompt_number": 96
    },
    {
     "cell_type": "code",
     "collapsed": false,
     "input": [
      "# regex replace by a scalar\n",
      "df.replace([r'\\s*\\.\\s*', r'a|b'], nan, regex=True)"
     ],
     "language": "python",
     "metadata": {},
     "outputs": [
      {
       "html": [
        "<div style=\"max-height:1000px;max-width:1500px;overflow:auto;\">\n",
        "<table border=\"1\" class=\"dataframe\">\n",
        "  <thead>\n",
        "    <tr style=\"text-align: right;\">\n",
        "      <th></th>\n",
        "      <th>a</th>\n",
        "      <th>b</th>\n",
        "      <th>c</th>\n",
        "    </tr>\n",
        "  </thead>\n",
        "  <tbody>\n",
        "    <tr>\n",
        "      <th>0</th>\n",
        "      <td> 0</td>\n",
        "      <td>NaN</td>\n",
        "      <td> NaN</td>\n",
        "    </tr>\n",
        "    <tr>\n",
        "      <th>1</th>\n",
        "      <td> 1</td>\n",
        "      <td>NaN</td>\n",
        "      <td> NaN</td>\n",
        "    </tr>\n",
        "    <tr>\n",
        "      <th>2</th>\n",
        "      <td> 2</td>\n",
        "      <td>NaN</td>\n",
        "      <td> NaN</td>\n",
        "    </tr>\n",
        "    <tr>\n",
        "      <th>3</th>\n",
        "      <td> 3</td>\n",
        "      <td>NaN</td>\n",
        "      <td>   d</td>\n",
        "    </tr>\n",
        "  </tbody>\n",
        "</table>\n",
        "</div>"
       ],
       "metadata": {},
       "output_type": "pyout",
       "prompt_number": 98,
       "text": [
        "   a   b    c\n",
        "0  0 NaN  NaN\n",
        "1  1 NaN  NaN\n",
        "2  2 NaN  NaN\n",
        "3  3 NaN    d"
       ]
      }
     ],
     "prompt_number": 98
    },
    {
     "cell_type": "heading",
     "level": 2,
     "metadata": {},
     "source": [
      "Numeric replacement"
     ]
    },
    {
     "cell_type": "code",
     "collapsed": false,
     "input": [
      "df = DataFrame(randn(10, 2))\n",
      "df[rand(df.shape[0]) > 0.5] = 1.5\n",
      "df.replace(1.5, nan)"
     ],
     "language": "python",
     "metadata": {},
     "outputs": [
      {
       "html": [
        "<div style=\"max-height:1000px;max-width:1500px;overflow:auto;\">\n",
        "<table border=\"1\" class=\"dataframe\">\n",
        "  <thead>\n",
        "    <tr style=\"text-align: right;\">\n",
        "      <th></th>\n",
        "      <th>0</th>\n",
        "      <th>1</th>\n",
        "    </tr>\n",
        "  </thead>\n",
        "  <tbody>\n",
        "    <tr>\n",
        "      <th>0</th>\n",
        "      <td>-0.721880</td>\n",
        "      <td>-0.173071</td>\n",
        "    </tr>\n",
        "    <tr>\n",
        "      <th>1</th>\n",
        "      <td>      NaN</td>\n",
        "      <td>      NaN</td>\n",
        "    </tr>\n",
        "    <tr>\n",
        "      <th>2</th>\n",
        "      <td>      NaN</td>\n",
        "      <td>      NaN</td>\n",
        "    </tr>\n",
        "    <tr>\n",
        "      <th>3</th>\n",
        "      <td>-0.681531</td>\n",
        "      <td> 0.180067</td>\n",
        "    </tr>\n",
        "    <tr>\n",
        "      <th>4</th>\n",
        "      <td>-0.066931</td>\n",
        "      <td>-0.787750</td>\n",
        "    </tr>\n",
        "    <tr>\n",
        "      <th>5</th>\n",
        "      <td>      NaN</td>\n",
        "      <td>      NaN</td>\n",
        "    </tr>\n",
        "    <tr>\n",
        "      <th>6</th>\n",
        "      <td>      NaN</td>\n",
        "      <td>      NaN</td>\n",
        "    </tr>\n",
        "    <tr>\n",
        "      <th>7</th>\n",
        "      <td>      NaN</td>\n",
        "      <td>      NaN</td>\n",
        "    </tr>\n",
        "    <tr>\n",
        "      <th>8</th>\n",
        "      <td>      NaN</td>\n",
        "      <td>      NaN</td>\n",
        "    </tr>\n",
        "    <tr>\n",
        "      <th>9</th>\n",
        "      <td>      NaN</td>\n",
        "      <td>      NaN</td>\n",
        "    </tr>\n",
        "  </tbody>\n",
        "</table>\n",
        "</div>"
       ],
       "metadata": {},
       "output_type": "pyout",
       "prompt_number": 100,
       "text": [
        "          0         1\n",
        "0 -0.721880 -0.173071\n",
        "1       NaN       NaN\n",
        "2       NaN       NaN\n",
        "3 -0.681531  0.180067\n",
        "4 -0.066931 -0.787750\n",
        "5       NaN       NaN\n",
        "6       NaN       NaN\n",
        "7       NaN       NaN\n",
        "8       NaN       NaN\n",
        "9       NaN       NaN"
       ]
      }
     ],
     "prompt_number": 100
    },
    {
     "cell_type": "code",
     "collapsed": false,
     "input": [
      "# Replacing more than one value via lists works as well\n",
      "df00 = df.values[0, 0]\n",
      "df.replace([1.5, df00], [nan, 'a'])"
     ],
     "language": "python",
     "metadata": {},
     "outputs": [
      {
       "html": [
        "<div style=\"max-height:1000px;max-width:1500px;overflow:auto;\">\n",
        "<table border=\"1\" class=\"dataframe\">\n",
        "  <thead>\n",
        "    <tr style=\"text-align: right;\">\n",
        "      <th></th>\n",
        "      <th>0</th>\n",
        "      <th>1</th>\n",
        "    </tr>\n",
        "  </thead>\n",
        "  <tbody>\n",
        "    <tr>\n",
        "      <th>0</th>\n",
        "      <td>          a</td>\n",
        "      <td>-0.173071</td>\n",
        "    </tr>\n",
        "    <tr>\n",
        "      <th>1</th>\n",
        "      <td>        NaN</td>\n",
        "      <td>      NaN</td>\n",
        "    </tr>\n",
        "    <tr>\n",
        "      <th>2</th>\n",
        "      <td>        NaN</td>\n",
        "      <td>      NaN</td>\n",
        "    </tr>\n",
        "    <tr>\n",
        "      <th>3</th>\n",
        "      <td> -0.6815306</td>\n",
        "      <td> 0.180067</td>\n",
        "    </tr>\n",
        "    <tr>\n",
        "      <th>4</th>\n",
        "      <td>-0.06693104</td>\n",
        "      <td>-0.787750</td>\n",
        "    </tr>\n",
        "    <tr>\n",
        "      <th>5</th>\n",
        "      <td>        NaN</td>\n",
        "      <td>      NaN</td>\n",
        "    </tr>\n",
        "    <tr>\n",
        "      <th>6</th>\n",
        "      <td>        NaN</td>\n",
        "      <td>      NaN</td>\n",
        "    </tr>\n",
        "    <tr>\n",
        "      <th>7</th>\n",
        "      <td>        NaN</td>\n",
        "      <td>      NaN</td>\n",
        "    </tr>\n",
        "    <tr>\n",
        "      <th>8</th>\n",
        "      <td>        NaN</td>\n",
        "      <td>      NaN</td>\n",
        "    </tr>\n",
        "    <tr>\n",
        "      <th>9</th>\n",
        "      <td>        NaN</td>\n",
        "      <td>      NaN</td>\n",
        "    </tr>\n",
        "  </tbody>\n",
        "</table>\n",
        "</div>"
       ],
       "metadata": {},
       "output_type": "pyout",
       "prompt_number": 101,
       "text": [
        "            0         1\n",
        "0           a -0.173071\n",
        "1         NaN       NaN\n",
        "2         NaN       NaN\n",
        "3  -0.6815306  0.180067\n",
        "4 -0.06693104 -0.787750\n",
        "5         NaN       NaN\n",
        "6         NaN       NaN\n",
        "7         NaN       NaN\n",
        "8         NaN       NaN\n",
        "9         NaN       NaN"
       ]
      }
     ],
     "prompt_number": 101
    },
    {
     "cell_type": "heading",
     "level": 2,
     "metadata": {},
     "source": [
      "Missing data casting rules and indexing"
     ]
    },
    {
     "cell_type": "code",
     "collapsed": false,
     "input": [
      "s = Series(randn(5), index=[0, 2, 4, 6, 7])\n",
      "s > 0"
     ],
     "language": "python",
     "metadata": {},
     "outputs": [
      {
       "metadata": {},
       "output_type": "pyout",
       "prompt_number": 104,
       "text": [
        "0     True\n",
        "2     True\n",
        "4    False\n",
        "6    False\n",
        "7     True\n",
        "dtype: bool"
       ]
      }
     ],
     "prompt_number": 104
    },
    {
     "cell_type": "code",
     "collapsed": false,
     "input": [
      "(s > 0).dtype"
     ],
     "language": "python",
     "metadata": {},
     "outputs": [
      {
       "metadata": {},
       "output_type": "pyout",
       "prompt_number": 106,
       "text": [
        "dtype('bool')"
       ]
      }
     ],
     "prompt_number": 106
    },
    {
     "cell_type": "code",
     "collapsed": false,
     "input": [
      "crit = (s > 0).reindex(list(range(8)))\n",
      "crit"
     ],
     "language": "python",
     "metadata": {},
     "outputs": [
      {
       "metadata": {},
       "output_type": "pyout",
       "prompt_number": 108,
       "text": [
        "0     True\n",
        "1      NaN\n",
        "2     True\n",
        "3      NaN\n",
        "4    False\n",
        "5      NaN\n",
        "6    False\n",
        "7     True\n",
        "dtype: object"
       ]
      }
     ],
     "prompt_number": 108
    },
    {
     "cell_type": "code",
     "collapsed": false,
     "input": [
      "crit.dtype"
     ],
     "language": "python",
     "metadata": {},
     "outputs": [
      {
       "metadata": {},
       "output_type": "pyout",
       "prompt_number": 110,
       "text": [
        "dtype('O')"
       ]
      }
     ],
     "prompt_number": 110
    },
    {
     "cell_type": "code",
     "collapsed": false,
     "input": [
      "reindexed = s.reindex(list(range(8))).fillna(0)\n",
      "reindexed"
     ],
     "language": "python",
     "metadata": {},
     "outputs": [
      {
       "metadata": {},
       "output_type": "pyout",
       "prompt_number": 113,
       "text": [
        "0    0.194169\n",
        "1    0.000000\n",
        "2    0.586204\n",
        "3    0.000000\n",
        "4   -0.020387\n",
        "5    0.000000\n",
        "6   -0.414409\n",
        "7    0.067313\n",
        "dtype: float64"
       ]
      }
     ],
     "prompt_number": 113
    },
    {
     "cell_type": "code",
     "collapsed": false,
     "input": [
      "print crit.fillna(False)\n",
      "reindexed = s[crit.fillna(False)]\n",
      "reindexed"
     ],
     "language": "python",
     "metadata": {},
     "outputs": [
      {
       "output_type": "stream",
       "stream": "stdout",
       "text": [
        "0     True\n",
        "1    False\n",
        "2     True\n",
        "3    False\n",
        "4    False\n",
        "5    False\n",
        "6    False\n",
        "7     True\n",
        "dtype: bool\n"
       ]
      },
      {
       "metadata": {},
       "output_type": "pyout",
       "prompt_number": 121,
       "text": [
        "0    0.194169\n",
        "2    0.586204\n",
        "7    0.067313\n",
        "dtype: float64"
       ]
      }
     ],
     "prompt_number": 121
    },
    {
     "cell_type": "code",
     "collapsed": false,
     "input": [
      "print crit.fillna(True)\n",
      "reindexed = s[crit.fillna(True)]\n",
      "reindexed"
     ],
     "language": "python",
     "metadata": {},
     "outputs": [
      {
       "output_type": "stream",
       "stream": "stdout",
       "text": [
        "0     True\n",
        "1     True\n",
        "2     True\n",
        "3     True\n",
        "4    False\n",
        "5     True\n",
        "6    False\n",
        "7     True\n",
        "dtype: bool\n"
       ]
      },
      {
       "metadata": {},
       "output_type": "pyout",
       "prompt_number": 122,
       "text": [
        "0    0.194169\n",
        "2    0.586204\n",
        "7    0.067313\n",
        "dtype: float64"
       ]
      }
     ],
     "prompt_number": 122
    }
   ],
   "metadata": {}
  }
 ]
}