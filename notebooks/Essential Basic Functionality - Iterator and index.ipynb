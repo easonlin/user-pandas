{
 "metadata": {
  "name": "",
  "signature": "sha256:1c26e570b20a71c2c2cb45b09525dcde75e222868798acb2d9c7fb0cbe97b534"
 },
 "nbformat": 3,
 "nbformat_minor": 0,
 "worksheets": [
  {
   "cells": [
    {
     "cell_type": "heading",
     "level": 1,
     "metadata": {},
     "source": [
      "Essential Basic Functionality - Part3 http://pandas.pydata.org/pandas-docs/stable/basics.html"
     ]
    },
    {
     "cell_type": "code",
     "collapsed": false,
     "input": [
      "from pandas import *\n",
      "from io import *\n",
      "s = Series(randn(5), index=['a', 'b', 'c', 'd', 'e'])\n",
      "df = read_fwf(BytesIO(\"\"\"        one     three       two\n",
      "a -0.701368       NaN -0.087103\n",
      "b  0.109333 -0.354359  0.637674\n",
      "c -0.231617 -0.148387 -0.002666\n",
      "d       NaN -0.167407  0.104044\"\"\"), index_col=0)\n",
      "df"
     ],
     "language": "python",
     "metadata": {},
     "outputs": [
      {
       "html": [
        "<div style=\"max-height:1000px;max-width:1500px;overflow:auto;\">\n",
        "<table border=\"1\" class=\"dataframe\">\n",
        "  <thead>\n",
        "    <tr style=\"text-align: right;\">\n",
        "      <th></th>\n",
        "      <th>one</th>\n",
        "      <th>three</th>\n",
        "      <th>two</th>\n",
        "    </tr>\n",
        "  </thead>\n",
        "  <tbody>\n",
        "    <tr>\n",
        "      <th>a</th>\n",
        "      <td>-0.701368</td>\n",
        "      <td>      NaN</td>\n",
        "      <td>-0.087103</td>\n",
        "    </tr>\n",
        "    <tr>\n",
        "      <th>b</th>\n",
        "      <td> 0.109333</td>\n",
        "      <td>-0.354359</td>\n",
        "      <td> 0.637674</td>\n",
        "    </tr>\n",
        "    <tr>\n",
        "      <th>c</th>\n",
        "      <td>-0.231617</td>\n",
        "      <td>-0.148387</td>\n",
        "      <td>-0.002666</td>\n",
        "    </tr>\n",
        "    <tr>\n",
        "      <th>d</th>\n",
        "      <td>      NaN</td>\n",
        "      <td>-0.167407</td>\n",
        "      <td> 0.104044</td>\n",
        "    </tr>\n",
        "  </tbody>\n",
        "</table>\n",
        "</div>"
       ],
       "metadata": {},
       "output_type": "pyout",
       "prompt_number": 1,
       "text": [
        "        one     three       two\n",
        "a -0.701368       NaN -0.087103\n",
        "b  0.109333 -0.354359  0.637674\n",
        "c -0.231617 -0.148387 -0.002666\n",
        "d       NaN -0.167407  0.104044"
       ]
      }
     ],
     "prompt_number": 1
    },
    {
     "cell_type": "code",
     "collapsed": false,
     "input": [
      "df.reindex(index=['c', 'f', 'b'], columns=['three', 'two', 'one'])"
     ],
     "language": "python",
     "metadata": {},
     "outputs": [
      {
       "html": [
        "<div style=\"max-height:1000px;max-width:1500px;overflow:auto;\">\n",
        "<table border=\"1\" class=\"dataframe\">\n",
        "  <thead>\n",
        "    <tr style=\"text-align: right;\">\n",
        "      <th></th>\n",
        "      <th>three</th>\n",
        "      <th>two</th>\n",
        "      <th>one</th>\n",
        "    </tr>\n",
        "  </thead>\n",
        "  <tbody>\n",
        "    <tr>\n",
        "      <th>c</th>\n",
        "      <td>-0.148387</td>\n",
        "      <td>-0.002666</td>\n",
        "      <td>-0.231617</td>\n",
        "    </tr>\n",
        "    <tr>\n",
        "      <th>f</th>\n",
        "      <td>      NaN</td>\n",
        "      <td>      NaN</td>\n",
        "      <td>      NaN</td>\n",
        "    </tr>\n",
        "    <tr>\n",
        "      <th>b</th>\n",
        "      <td>-0.354359</td>\n",
        "      <td> 0.637674</td>\n",
        "      <td> 0.109333</td>\n",
        "    </tr>\n",
        "  </tbody>\n",
        "</table>\n",
        "</div>"
       ],
       "metadata": {},
       "output_type": "pyout",
       "prompt_number": 2,
       "text": [
        "      three       two       one\n",
        "c -0.148387 -0.002666 -0.231617\n",
        "f       NaN       NaN       NaN\n",
        "b -0.354359  0.637674  0.109333"
       ]
      }
     ],
     "prompt_number": 2
    },
    {
     "cell_type": "code",
     "collapsed": false,
     "input": [
      "rs = s.reindex(df.index)\n",
      "rs"
     ],
     "language": "python",
     "metadata": {},
     "outputs": [
      {
       "metadata": {},
       "output_type": "pyout",
       "prompt_number": 4,
       "text": [
        "a    0.641073\n",
        "b    2.116126\n",
        "c    1.724921\n",
        "d   -0.087880\n",
        "dtype: float64"
       ]
      }
     ],
     "prompt_number": 4
    },
    {
     "cell_type": "code",
     "collapsed": false,
     "input": [
      "# Shared index between objects\n",
      "rs.index is df.index"
     ],
     "language": "python",
     "metadata": {},
     "outputs": [
      {
       "metadata": {},
       "output_type": "pyout",
       "prompt_number": 6,
       "text": [
        "True"
       ]
      }
     ],
     "prompt_number": 6
    },
    {
     "cell_type": "heading",
     "level": 2,
     "metadata": {},
     "source": [
      "Reindexing to align with another object"
     ]
    },
    {
     "cell_type": "code",
     "collapsed": false,
     "input": [
      "df2 = read_fwf(BytesIO(\"\"\"        one       two\n",
      "a -0.701368 -0.087103\n",
      "b  0.109333  0.637674\n",
      "c -0.231617 -0.002666\"\"\"), index_col=0)\n",
      "df2"
     ],
     "language": "python",
     "metadata": {},
     "outputs": [
      {
       "html": [
        "<div style=\"max-height:1000px;max-width:1500px;overflow:auto;\">\n",
        "<table border=\"1\" class=\"dataframe\">\n",
        "  <thead>\n",
        "    <tr style=\"text-align: right;\">\n",
        "      <th></th>\n",
        "      <th>one</th>\n",
        "      <th>two</th>\n",
        "    </tr>\n",
        "  </thead>\n",
        "  <tbody>\n",
        "    <tr>\n",
        "      <th>a</th>\n",
        "      <td>-0.701368</td>\n",
        "      <td>-0.087103</td>\n",
        "    </tr>\n",
        "    <tr>\n",
        "      <th>b</th>\n",
        "      <td> 0.109333</td>\n",
        "      <td> 0.637674</td>\n",
        "    </tr>\n",
        "    <tr>\n",
        "      <th>c</th>\n",
        "      <td>-0.231617</td>\n",
        "      <td>-0.002666</td>\n",
        "    </tr>\n",
        "  </tbody>\n",
        "</table>\n",
        "</div>"
       ],
       "metadata": {},
       "output_type": "pyout",
       "prompt_number": 7,
       "text": [
        "        one       two\n",
        "a -0.701368 -0.087103\n",
        "b  0.109333  0.637674\n",
        "c -0.231617 -0.002666"
       ]
      }
     ],
     "prompt_number": 7
    },
    {
     "cell_type": "code",
     "collapsed": false,
     "input": [
      "df3 = read_fwf(BytesIO(\"\"\"        one       two\n",
      "a -0.426817 -0.269738\n",
      "b  0.383883  0.455039\n",
      "c  0.042934 -0.185301\"\"\"), index_col=0)\n",
      "df3"
     ],
     "language": "python",
     "metadata": {},
     "outputs": [
      {
       "html": [
        "<div style=\"max-height:1000px;max-width:1500px;overflow:auto;\">\n",
        "<table border=\"1\" class=\"dataframe\">\n",
        "  <thead>\n",
        "    <tr style=\"text-align: right;\">\n",
        "      <th></th>\n",
        "      <th>one</th>\n",
        "      <th>two</th>\n",
        "    </tr>\n",
        "  </thead>\n",
        "  <tbody>\n",
        "    <tr>\n",
        "      <th>a</th>\n",
        "      <td>-0.426817</td>\n",
        "      <td>-0.269738</td>\n",
        "    </tr>\n",
        "    <tr>\n",
        "      <th>b</th>\n",
        "      <td> 0.383883</td>\n",
        "      <td> 0.455039</td>\n",
        "    </tr>\n",
        "    <tr>\n",
        "      <th>c</th>\n",
        "      <td> 0.042934</td>\n",
        "      <td>-0.185301</td>\n",
        "    </tr>\n",
        "  </tbody>\n",
        "</table>\n",
        "</div>"
       ],
       "metadata": {},
       "output_type": "pyout",
       "prompt_number": 8,
       "text": [
        "        one       two\n",
        "a -0.426817 -0.269738\n",
        "b  0.383883  0.455039\n",
        "c  0.042934 -0.185301"
       ]
      }
     ],
     "prompt_number": 8
    },
    {
     "cell_type": "code",
     "collapsed": false,
     "input": [
      "df.reindex_like(df2)"
     ],
     "language": "python",
     "metadata": {},
     "outputs": [
      {
       "html": [
        "<div style=\"max-height:1000px;max-width:1500px;overflow:auto;\">\n",
        "<table border=\"1\" class=\"dataframe\">\n",
        "  <thead>\n",
        "    <tr style=\"text-align: right;\">\n",
        "      <th></th>\n",
        "      <th>one</th>\n",
        "      <th>two</th>\n",
        "    </tr>\n",
        "  </thead>\n",
        "  <tbody>\n",
        "    <tr>\n",
        "      <th>a</th>\n",
        "      <td>-0.701368</td>\n",
        "      <td>-0.087103</td>\n",
        "    </tr>\n",
        "    <tr>\n",
        "      <th>b</th>\n",
        "      <td> 0.109333</td>\n",
        "      <td> 0.637674</td>\n",
        "    </tr>\n",
        "    <tr>\n",
        "      <th>c</th>\n",
        "      <td>-0.231617</td>\n",
        "      <td>-0.002666</td>\n",
        "    </tr>\n",
        "  </tbody>\n",
        "</table>\n",
        "</div>"
       ],
       "metadata": {},
       "output_type": "pyout",
       "prompt_number": 9,
       "text": [
        "        one       two\n",
        "a -0.701368 -0.087103\n",
        "b  0.109333  0.637674\n",
        "c -0.231617 -0.002666"
       ]
      }
     ],
     "prompt_number": 9
    },
    {
     "cell_type": "code",
     "collapsed": false,
     "input": [
      "df2.index is df.index"
     ],
     "language": "python",
     "metadata": {},
     "outputs": [
      {
       "metadata": {},
       "output_type": "pyout",
       "prompt_number": 10,
       "text": [
        "False"
       ]
      }
     ],
     "prompt_number": 10
    },
    {
     "cell_type": "code",
     "collapsed": false,
     "input": [
      "df.reindex_like(df2).index is df2.index"
     ],
     "language": "python",
     "metadata": {},
     "outputs": [
      {
       "metadata": {},
       "output_type": "pyout",
       "prompt_number": 12,
       "text": [
        "True"
       ]
      }
     ],
     "prompt_number": 12
    },
    {
     "cell_type": "heading",
     "level": 2,
     "metadata": {},
     "source": [
      "Aligning objects with each other with align"
     ]
    },
    {
     "cell_type": "code",
     "collapsed": false,
     "input": [
      "s = Series(randn(5), index=['a', 'b', 'c', 'd', 'e'])\n",
      "s1 = s[:4]\n",
      "s2 = s[1:]\n",
      "s1.align(s2)"
     ],
     "language": "python",
     "metadata": {},
     "outputs": [
      {
       "metadata": {},
       "output_type": "pyout",
       "prompt_number": 13,
       "text": [
        "(a   -1.151802\n",
        " b   -0.781645\n",
        " c   -0.025455\n",
        " d   -0.428863\n",
        " e         NaN\n",
        " dtype: float64, a         NaN\n",
        " b   -0.781645\n",
        " c   -0.025455\n",
        " d   -0.428863\n",
        " e   -0.387511\n",
        " dtype: float64)"
       ]
      }
     ],
     "prompt_number": 13
    },
    {
     "cell_type": "code",
     "collapsed": false,
     "input": [
      "s1.align(s2, join='inner')"
     ],
     "language": "python",
     "metadata": {},
     "outputs": [
      {
       "metadata": {},
       "output_type": "pyout",
       "prompt_number": 14,
       "text": [
        "(b   -0.781645\n",
        " c   -0.025455\n",
        " d   -0.428863\n",
        " dtype: float64, b   -0.781645\n",
        " c   -0.025455\n",
        " d   -0.428863\n",
        " dtype: float64)"
       ]
      }
     ],
     "prompt_number": 14
    },
    {
     "cell_type": "code",
     "collapsed": false,
     "input": [
      "s1.align(s2, join='left')"
     ],
     "language": "python",
     "metadata": {},
     "outputs": [
      {
       "metadata": {},
       "output_type": "pyout",
       "prompt_number": 15,
       "text": [
        "(a   -1.151802\n",
        " b   -0.781645\n",
        " c   -0.025455\n",
        " d   -0.428863\n",
        " dtype: float64, a         NaN\n",
        " b   -0.781645\n",
        " c   -0.025455\n",
        " d   -0.428863\n",
        " dtype: float64)"
       ]
      }
     ],
     "prompt_number": 15
    },
    {
     "cell_type": "code",
     "collapsed": false,
     "input": [
      "# For DataFrames, the join method will be applied to both the index and the columns\n",
      "df.align(df2, join='inner')"
     ],
     "language": "python",
     "metadata": {},
     "outputs": [
      {
       "metadata": {},
       "output_type": "pyout",
       "prompt_number": 16,
       "text": [
        "(        one       two\n",
        " a -0.701368 -0.087103\n",
        " b  0.109333  0.637674\n",
        " c -0.231617 -0.002666,         one       two\n",
        " a -0.701368 -0.087103\n",
        " b  0.109333  0.637674\n",
        " c -0.231617 -0.002666)"
       ]
      }
     ],
     "prompt_number": 16
    },
    {
     "cell_type": "code",
     "collapsed": false,
     "input": [
      "# Only align on axis 0\n",
      "df.align(df2, join='inner', axis=0)"
     ],
     "language": "python",
     "metadata": {},
     "outputs": [
      {
       "metadata": {},
       "output_type": "pyout",
       "prompt_number": 17,
       "text": [
        "(        one     three       two\n",
        " a -0.701368       NaN -0.087103\n",
        " b  0.109333 -0.354359  0.637674\n",
        " c -0.231617 -0.148387 -0.002666,         one       two\n",
        " a -0.701368 -0.087103\n",
        " b  0.109333  0.637674\n",
        " c -0.231617 -0.002666)"
       ]
      }
     ],
     "prompt_number": 17
    },
    {
     "cell_type": "code",
     "collapsed": false,
     "input": [
      "# align Series to DataFrame\n",
      "df.align(df2.ix[0], axis=1)"
     ],
     "language": "python",
     "metadata": {},
     "outputs": [
      {
       "metadata": {},
       "output_type": "pyout",
       "prompt_number": 19,
       "text": [
        "(        one     three       two\n",
        " a -0.701368       NaN -0.087103\n",
        " b  0.109333 -0.354359  0.637674\n",
        " c -0.231617 -0.148387 -0.002666\n",
        " d       NaN -0.167407  0.104044, one     -0.701368\n",
        " three         NaN\n",
        " two     -0.087103\n",
        " Name: a, dtype: float64)"
       ]
      }
     ],
     "prompt_number": 19
    },
    {
     "cell_type": "heading",
     "level": 2,
     "metadata": {},
     "source": [
      "Filling while reindexing"
     ]
    },
    {
     "cell_type": "code",
     "collapsed": false,
     "input": [
      "rng = date_range('1/3/2000', periods=8)\n",
      "ts = Series(randn(8), index=rng)\n",
      "ts2 = ts[[0, 3, 6]]\n",
      "ts"
     ],
     "language": "python",
     "metadata": {},
     "outputs": [
      {
       "metadata": {},
       "output_type": "pyout",
       "prompt_number": 20,
       "text": [
        "2000-01-03    0.224021\n",
        "2000-01-04    1.451182\n",
        "2000-01-05    0.596972\n",
        "2000-01-06   -0.406773\n",
        "2000-01-07   -1.019711\n",
        "2000-01-08   -2.207263\n",
        "2000-01-09    1.572490\n",
        "2000-01-10    0.264949\n",
        "Freq: D, dtype: float64"
       ]
      }
     ],
     "prompt_number": 20
    },
    {
     "cell_type": "code",
     "collapsed": false,
     "input": [
      "ts2"
     ],
     "language": "python",
     "metadata": {},
     "outputs": [
      {
       "metadata": {},
       "output_type": "pyout",
       "prompt_number": 21,
       "text": [
        "2000-01-03    0.224021\n",
        "2000-01-06   -0.406773\n",
        "2000-01-09    1.572490\n",
        "dtype: float64"
       ]
      }
     ],
     "prompt_number": 21
    },
    {
     "cell_type": "code",
     "collapsed": false,
     "input": [
      "ts2.reindex(ts.index)"
     ],
     "language": "python",
     "metadata": {},
     "outputs": [
      {
       "metadata": {},
       "output_type": "pyout",
       "prompt_number": 22,
       "text": [
        "2000-01-03    0.224021\n",
        "2000-01-04         NaN\n",
        "2000-01-05         NaN\n",
        "2000-01-06   -0.406773\n",
        "2000-01-07         NaN\n",
        "2000-01-08         NaN\n",
        "2000-01-09    1.572490\n",
        "2000-01-10         NaN\n",
        "Freq: D, dtype: float64"
       ]
      }
     ],
     "prompt_number": 22
    },
    {
     "cell_type": "code",
     "collapsed": false,
     "input": [
      "# forward fill\n",
      "ts2.reindex(ts.index, method='ffill')"
     ],
     "language": "python",
     "metadata": {},
     "outputs": [
      {
       "metadata": {},
       "output_type": "pyout",
       "prompt_number": 23,
       "text": [
        "2000-01-03    0.224021\n",
        "2000-01-04    0.224021\n",
        "2000-01-05    0.224021\n",
        "2000-01-06   -0.406773\n",
        "2000-01-07   -0.406773\n",
        "2000-01-08   -0.406773\n",
        "2000-01-09    1.572490\n",
        "2000-01-10    1.572490\n",
        "Freq: D, dtype: float64"
       ]
      }
     ],
     "prompt_number": 23
    },
    {
     "cell_type": "code",
     "collapsed": false,
     "input": [
      "# backward fill\n",
      "ts2.reindex(ts.index, method='bfill')"
     ],
     "language": "python",
     "metadata": {},
     "outputs": [
      {
       "metadata": {},
       "output_type": "pyout",
       "prompt_number": 24,
       "text": [
        "2000-01-03    0.224021\n",
        "2000-01-04   -0.406773\n",
        "2000-01-05   -0.406773\n",
        "2000-01-06   -0.406773\n",
        "2000-01-07    1.572490\n",
        "2000-01-08    1.572490\n",
        "2000-01-09    1.572490\n",
        "2000-01-10         NaN\n",
        "Freq: D, dtype: float64"
       ]
      }
     ],
     "prompt_number": 24
    },
    {
     "cell_type": "code",
     "collapsed": false,
     "input": [
      "# fill by fillna\n",
      "ts2.reindex(ts.index).fillna(method='ffill')"
     ],
     "language": "python",
     "metadata": {},
     "outputs": [
      {
       "metadata": {},
       "output_type": "pyout",
       "prompt_number": 25,
       "text": [
        "2000-01-03    0.224021\n",
        "2000-01-04    0.224021\n",
        "2000-01-05    0.224021\n",
        "2000-01-06   -0.406773\n",
        "2000-01-07   -0.406773\n",
        "2000-01-08   -0.406773\n",
        "2000-01-09    1.572490\n",
        "2000-01-10    1.572490\n",
        "Freq: D, dtype: float64"
       ]
      }
     ],
     "prompt_number": 25
    },
    {
     "cell_type": "heading",
     "level": 2,
     "metadata": {},
     "source": [
      "Dropping labels from an axis"
     ]
    },
    {
     "cell_type": "code",
     "collapsed": false,
     "input": [
      "df"
     ],
     "language": "python",
     "metadata": {},
     "outputs": [
      {
       "html": [
        "<div style=\"max-height:1000px;max-width:1500px;overflow:auto;\">\n",
        "<table border=\"1\" class=\"dataframe\">\n",
        "  <thead>\n",
        "    <tr style=\"text-align: right;\">\n",
        "      <th></th>\n",
        "      <th>one</th>\n",
        "      <th>three</th>\n",
        "      <th>two</th>\n",
        "    </tr>\n",
        "  </thead>\n",
        "  <tbody>\n",
        "    <tr>\n",
        "      <th>a</th>\n",
        "      <td>-0.701368</td>\n",
        "      <td>      NaN</td>\n",
        "      <td>-0.087103</td>\n",
        "    </tr>\n",
        "    <tr>\n",
        "      <th>b</th>\n",
        "      <td> 0.109333</td>\n",
        "      <td>-0.354359</td>\n",
        "      <td> 0.637674</td>\n",
        "    </tr>\n",
        "    <tr>\n",
        "      <th>c</th>\n",
        "      <td>-0.231617</td>\n",
        "      <td>-0.148387</td>\n",
        "      <td>-0.002666</td>\n",
        "    </tr>\n",
        "    <tr>\n",
        "      <th>d</th>\n",
        "      <td>      NaN</td>\n",
        "      <td>-0.167407</td>\n",
        "      <td> 0.104044</td>\n",
        "    </tr>\n",
        "  </tbody>\n",
        "</table>\n",
        "</div>"
       ],
       "metadata": {},
       "output_type": "pyout",
       "prompt_number": 27,
       "text": [
        "        one     three       two\n",
        "a -0.701368       NaN -0.087103\n",
        "b  0.109333 -0.354359  0.637674\n",
        "c -0.231617 -0.148387 -0.002666\n",
        "d       NaN -0.167407  0.104044"
       ]
      }
     ],
     "prompt_number": 27
    },
    {
     "cell_type": "code",
     "collapsed": false,
     "input": [
      "df.drop(['a', 'd'], axis=0)"
     ],
     "language": "python",
     "metadata": {},
     "outputs": [
      {
       "html": [
        "<div style=\"max-height:1000px;max-width:1500px;overflow:auto;\">\n",
        "<table border=\"1\" class=\"dataframe\">\n",
        "  <thead>\n",
        "    <tr style=\"text-align: right;\">\n",
        "      <th></th>\n",
        "      <th>one</th>\n",
        "      <th>three</th>\n",
        "      <th>two</th>\n",
        "    </tr>\n",
        "  </thead>\n",
        "  <tbody>\n",
        "    <tr>\n",
        "      <th>b</th>\n",
        "      <td> 0.109333</td>\n",
        "      <td>-0.354359</td>\n",
        "      <td> 0.637674</td>\n",
        "    </tr>\n",
        "    <tr>\n",
        "      <th>c</th>\n",
        "      <td>-0.231617</td>\n",
        "      <td>-0.148387</td>\n",
        "      <td>-0.002666</td>\n",
        "    </tr>\n",
        "  </tbody>\n",
        "</table>\n",
        "</div>"
       ],
       "metadata": {},
       "output_type": "pyout",
       "prompt_number": 28,
       "text": [
        "        one     three       two\n",
        "b  0.109333 -0.354359  0.637674\n",
        "c -0.231617 -0.148387 -0.002666"
       ]
      }
     ],
     "prompt_number": 28
    },
    {
     "cell_type": "code",
     "collapsed": false,
     "input": [
      "df.drop(['one'], axis=1)"
     ],
     "language": "python",
     "metadata": {},
     "outputs": [
      {
       "html": [
        "<div style=\"max-height:1000px;max-width:1500px;overflow:auto;\">\n",
        "<table border=\"1\" class=\"dataframe\">\n",
        "  <thead>\n",
        "    <tr style=\"text-align: right;\">\n",
        "      <th></th>\n",
        "      <th>three</th>\n",
        "      <th>two</th>\n",
        "    </tr>\n",
        "  </thead>\n",
        "  <tbody>\n",
        "    <tr>\n",
        "      <th>a</th>\n",
        "      <td>      NaN</td>\n",
        "      <td>-0.087103</td>\n",
        "    </tr>\n",
        "    <tr>\n",
        "      <th>b</th>\n",
        "      <td>-0.354359</td>\n",
        "      <td> 0.637674</td>\n",
        "    </tr>\n",
        "    <tr>\n",
        "      <th>c</th>\n",
        "      <td>-0.148387</td>\n",
        "      <td>-0.002666</td>\n",
        "    </tr>\n",
        "    <tr>\n",
        "      <th>d</th>\n",
        "      <td>-0.167407</td>\n",
        "      <td> 0.104044</td>\n",
        "    </tr>\n",
        "  </tbody>\n",
        "</table>\n",
        "</div>"
       ],
       "metadata": {},
       "output_type": "pyout",
       "prompt_number": 30,
       "text": [
        "      three       two\n",
        "a       NaN -0.087103\n",
        "b -0.354359  0.637674\n",
        "c -0.148387 -0.002666\n",
        "d -0.167407  0.104044"
       ]
      }
     ],
     "prompt_number": 30
    },
    {
     "cell_type": "code",
     "collapsed": false,
     "input": [
      "# simillier drop\n",
      "df.reindex(df.index - ['a', 'd'])"
     ],
     "language": "python",
     "metadata": {},
     "outputs": [
      {
       "html": [
        "<div style=\"max-height:1000px;max-width:1500px;overflow:auto;\">\n",
        "<table border=\"1\" class=\"dataframe\">\n",
        "  <thead>\n",
        "    <tr style=\"text-align: right;\">\n",
        "      <th></th>\n",
        "      <th>one</th>\n",
        "      <th>three</th>\n",
        "      <th>two</th>\n",
        "    </tr>\n",
        "  </thead>\n",
        "  <tbody>\n",
        "    <tr>\n",
        "      <th>b</th>\n",
        "      <td> 0.109333</td>\n",
        "      <td>-0.354359</td>\n",
        "      <td> 0.637674</td>\n",
        "    </tr>\n",
        "    <tr>\n",
        "      <th>c</th>\n",
        "      <td>-0.231617</td>\n",
        "      <td>-0.148387</td>\n",
        "      <td>-0.002666</td>\n",
        "    </tr>\n",
        "  </tbody>\n",
        "</table>\n",
        "</div>"
       ],
       "metadata": {},
       "output_type": "pyout",
       "prompt_number": 33,
       "text": [
        "        one     three       two\n",
        "b  0.109333 -0.354359  0.637674\n",
        "c -0.231617 -0.148387 -0.002666"
       ]
      }
     ],
     "prompt_number": 33
    },
    {
     "cell_type": "heading",
     "level": 2,
     "metadata": {},
     "source": [
      "Renaming / mapping labels"
     ]
    },
    {
     "cell_type": "code",
     "collapsed": false,
     "input": [
      "s"
     ],
     "language": "python",
     "metadata": {},
     "outputs": [
      {
       "metadata": {},
       "output_type": "pyout",
       "prompt_number": 34,
       "text": [
        "a   -1.151802\n",
        "b   -0.781645\n",
        "c   -0.025455\n",
        "d   -0.428863\n",
        "e   -0.387511\n",
        "dtype: float64"
       ]
      }
     ],
     "prompt_number": 34
    },
    {
     "cell_type": "code",
     "collapsed": false,
     "input": [
      "s.rename(str.upper)"
     ],
     "language": "python",
     "metadata": {},
     "outputs": [
      {
       "metadata": {},
       "output_type": "pyout",
       "prompt_number": 35,
       "text": [
        "A   -1.151802\n",
        "B   -0.781645\n",
        "C   -0.025455\n",
        "D   -0.428863\n",
        "E   -0.387511\n",
        "dtype: float64"
       ]
      }
     ],
     "prompt_number": 35
    },
    {
     "cell_type": "code",
     "collapsed": false,
     "input": [
      "# subset of reindex\n",
      "df.rename(columns={'one' : 'foo', 'two' : 'bar'},\n",
      "          index={'a' : 'apple', 'b' : 'banana', 'd' : 'durian'})"
     ],
     "language": "python",
     "metadata": {},
     "outputs": [
      {
       "html": [
        "<div style=\"max-height:1000px;max-width:1500px;overflow:auto;\">\n",
        "<table border=\"1\" class=\"dataframe\">\n",
        "  <thead>\n",
        "    <tr style=\"text-align: right;\">\n",
        "      <th></th>\n",
        "      <th>foo</th>\n",
        "      <th>three</th>\n",
        "      <th>bar</th>\n",
        "    </tr>\n",
        "  </thead>\n",
        "  <tbody>\n",
        "    <tr>\n",
        "      <th>apple</th>\n",
        "      <td>-0.701368</td>\n",
        "      <td>      NaN</td>\n",
        "      <td>-0.087103</td>\n",
        "    </tr>\n",
        "    <tr>\n",
        "      <th>banana</th>\n",
        "      <td> 0.109333</td>\n",
        "      <td>-0.354359</td>\n",
        "      <td> 0.637674</td>\n",
        "    </tr>\n",
        "    <tr>\n",
        "      <th>c</th>\n",
        "      <td>-0.231617</td>\n",
        "      <td>-0.148387</td>\n",
        "      <td>-0.002666</td>\n",
        "    </tr>\n",
        "    <tr>\n",
        "      <th>durian</th>\n",
        "      <td>      NaN</td>\n",
        "      <td>-0.167407</td>\n",
        "      <td> 0.104044</td>\n",
        "    </tr>\n",
        "  </tbody>\n",
        "</table>\n",
        "</div>"
       ],
       "metadata": {},
       "output_type": "pyout",
       "prompt_number": 36,
       "text": [
        "             foo     three       bar\n",
        "apple  -0.701368       NaN -0.087103\n",
        "banana  0.109333 -0.354359  0.637674\n",
        "c      -0.231617 -0.148387 -0.002666\n",
        "durian       NaN -0.167407  0.104044"
       ]
      }
     ],
     "prompt_number": 36
    },
    {
     "cell_type": "heading",
     "level": 2,
     "metadata": {},
     "source": [
      "Iteration"
     ]
    },
    {
     "cell_type": "code",
     "collapsed": false,
     "input": [
      "wp = Panel(randn(2, 5, 4), items=['Item1', 'Item2'],\n",
      "           major_axis=date_range('1/1/2000', periods=5),\n",
      "           minor_axis=['A', 'B', 'C', 'D'])\n",
      "for col in df:\n",
      "    print(col)"
     ],
     "language": "python",
     "metadata": {},
     "outputs": [
      {
       "output_type": "stream",
       "stream": "stdout",
       "text": [
        "one\n",
        "three\n",
        "two\n"
       ]
      }
     ],
     "prompt_number": 40
    },
    {
     "cell_type": "code",
     "collapsed": false,
     "input": [
      "for item, frame in wp.iteritems():\n",
      "    print(item)\n",
      "    print(frame)"
     ],
     "language": "python",
     "metadata": {},
     "outputs": [
      {
       "output_type": "stream",
       "stream": "stdout",
       "text": [
        "Item1\n",
        "                   A         B         C         D\n",
        "2000-01-01 -0.293931 -0.284513 -0.782422  0.878982\n",
        "2000-01-02  0.572696  0.847792  1.351664 -2.406838\n",
        "2000-01-03 -0.114040  1.408548 -0.577228  0.042586\n",
        "2000-01-04  0.719848 -0.509250  0.875114  0.580889\n",
        "2000-01-05  0.429013 -0.439481 -0.445202 -1.241806\n",
        "Item2\n",
        "                   A         B         C         D\n",
        "2000-01-01  0.991743  0.741306 -0.387238  0.298845\n",
        "2000-01-02 -0.296648  0.112328 -0.048601 -0.654219\n",
        "2000-01-03 -1.789462  0.253356 -0.467108  1.128819\n",
        "2000-01-04 -0.966533 -1.540269  0.001303  1.997155\n",
        "2000-01-05  0.762206 -1.634051 -0.892986  0.240404\n"
       ]
      }
     ],
     "prompt_number": 41
    },
    {
     "cell_type": "code",
     "collapsed": false,
     "input": [
      "# iterrows\n",
      "for row_index, row in df2.iterrows():\n",
      "    print('%s\\n%s' % (row_index, row))"
     ],
     "language": "python",
     "metadata": {},
     "outputs": [
      {
       "output_type": "stream",
       "stream": "stdout",
       "text": [
        "a\n",
        "one   -0.701368\n",
        "two   -0.087103\n",
        "Name: a, dtype: float64\n",
        "b\n",
        "one    0.109333\n",
        "two    0.637674\n",
        "Name: b, dtype: float64\n",
        "c\n",
        "one   -0.231617\n",
        "two   -0.002666\n",
        "Name: c, dtype: float64\n"
       ]
      }
     ],
     "prompt_number": 42
    },
    {
     "cell_type": "code",
     "collapsed": false,
     "input": [
      "df2 = DataFrame({'x': [1, 2, 3], 'y': [4, 5, 6]})\n",
      "print(df2)\n",
      "print(df2.T)"
     ],
     "language": "python",
     "metadata": {},
     "outputs": [
      {
       "output_type": "stream",
       "stream": "stdout",
       "text": [
        "   x  y\n",
        "0  1  4\n",
        "1  2  5\n",
        "2  3  6\n",
        "   0  1  2\n",
        "x  1  2  3\n",
        "y  4  5  6\n"
       ]
      }
     ],
     "prompt_number": 43
    },
    {
     "cell_type": "code",
     "collapsed": false,
     "input": [
      "df2_t = DataFrame(dict((idx,values) for idx, values in df2.iterrows()))\n",
      "df2_t"
     ],
     "language": "python",
     "metadata": {},
     "outputs": [
      {
       "html": [
        "<div style=\"max-height:1000px;max-width:1500px;overflow:auto;\">\n",
        "<table border=\"1\" class=\"dataframe\">\n",
        "  <thead>\n",
        "    <tr style=\"text-align: right;\">\n",
        "      <th></th>\n",
        "      <th>0</th>\n",
        "      <th>1</th>\n",
        "      <th>2</th>\n",
        "    </tr>\n",
        "  </thead>\n",
        "  <tbody>\n",
        "    <tr>\n",
        "      <th>x</th>\n",
        "      <td> 1</td>\n",
        "      <td> 2</td>\n",
        "      <td> 3</td>\n",
        "    </tr>\n",
        "    <tr>\n",
        "      <th>y</th>\n",
        "      <td> 4</td>\n",
        "      <td> 5</td>\n",
        "      <td> 6</td>\n",
        "    </tr>\n",
        "  </tbody>\n",
        "</table>\n",
        "</div>"
       ],
       "metadata": {},
       "output_type": "pyout",
       "prompt_number": 44,
       "text": [
        "   0  1  2\n",
        "x  1  2  3\n",
        "y  4  5  6"
       ]
      }
     ],
     "prompt_number": 44
    },
    {
     "cell_type": "code",
     "collapsed": false,
     "input": [
      "# dtype wouldn't be persistence\n",
      "df_iter = DataFrame([[1, 1.0]], columns=['x', 'y'])\n",
      "idx, row = next(df_iter.iterrows())\n",
      "print(row['x'].dtype)\n",
      "print(df_iter['x'].dtype)"
     ],
     "language": "python",
     "metadata": {},
     "outputs": [
      {
       "output_type": "stream",
       "stream": "stdout",
       "text": [
        "float64\n",
        "int64\n"
       ]
      }
     ],
     "prompt_number": 52
    },
    {
     "cell_type": "heading",
     "level": 2,
     "metadata": {},
     "source": [
      "Selecting columns based on dtype"
     ]
    },
    {
     "cell_type": "code",
     "collapsed": false,
     "input": [
      "from pandas import *\n",
      "df = DataFrame({'string': list('abc'),\n",
      "                'int64': list(range(1, 4)),\n",
      "                'uint8': np.arange(3, 6).astype('u1'),\n",
      "                'float64': np.arange(4.0, 7.0),\n",
      "                'bool1': [True, False, True],\n",
      "                'bool2': [False, True, False],\n",
      "                'dates': date_range('now', periods=3).values})\n",
      "df['tdeltas'] = df.dates.diff()\n",
      "df['uint64'] = np.arange(3, 6).astype('u8')\n",
      "df['other_dates'] = date_range('20130101', periods=3).values\n",
      "df"
     ],
     "language": "python",
     "metadata": {},
     "outputs": [
      {
       "html": [
        "<div style=\"max-height:1000px;max-width:1500px;overflow:auto;\">\n",
        "<table border=\"1\" class=\"dataframe\">\n",
        "  <thead>\n",
        "    <tr style=\"text-align: right;\">\n",
        "      <th></th>\n",
        "      <th>bool1</th>\n",
        "      <th>bool2</th>\n",
        "      <th>dates</th>\n",
        "      <th>float64</th>\n",
        "      <th>int64</th>\n",
        "      <th>string</th>\n",
        "      <th>uint8</th>\n",
        "      <th>tdeltas</th>\n",
        "      <th>uint64</th>\n",
        "      <th>other_dates</th>\n",
        "    </tr>\n",
        "  </thead>\n",
        "  <tbody>\n",
        "    <tr>\n",
        "      <th>0</th>\n",
        "      <td>  True</td>\n",
        "      <td> False</td>\n",
        "      <td>2014-09-10 16:22:15</td>\n",
        "      <td> 4</td>\n",
        "      <td> 1</td>\n",
        "      <td> a</td>\n",
        "      <td> 3</td>\n",
        "      <td>   NaT</td>\n",
        "      <td> 3</td>\n",
        "      <td>2013-01-01</td>\n",
        "    </tr>\n",
        "    <tr>\n",
        "      <th>1</th>\n",
        "      <td> False</td>\n",
        "      <td>  True</td>\n",
        "      <td>2014-09-11 16:22:15</td>\n",
        "      <td> 5</td>\n",
        "      <td> 2</td>\n",
        "      <td> b</td>\n",
        "      <td> 4</td>\n",
        "      <td>1 days</td>\n",
        "      <td> 4</td>\n",
        "      <td>2013-01-02</td>\n",
        "    </tr>\n",
        "    <tr>\n",
        "      <th>2</th>\n",
        "      <td>  True</td>\n",
        "      <td> False</td>\n",
        "      <td>2014-09-12 16:22:15</td>\n",
        "      <td> 6</td>\n",
        "      <td> 3</td>\n",
        "      <td> c</td>\n",
        "      <td> 5</td>\n",
        "      <td>1 days</td>\n",
        "      <td> 5</td>\n",
        "      <td>2013-01-03</td>\n",
        "    </tr>\n",
        "  </tbody>\n",
        "</table>\n",
        "</div>"
       ],
       "metadata": {},
       "output_type": "pyout",
       "prompt_number": 5,
       "text": [
        "   bool1  bool2               dates  float64  int64 string  uint8  tdeltas  \\\n",
        "0   True  False 2014-09-10 16:22:15        4      1      a      3      NaT   \n",
        "1  False   True 2014-09-11 16:22:15        5      2      b      4   1 days   \n",
        "2   True  False 2014-09-12 16:22:15        6      3      c      5   1 days   \n",
        "\n",
        "   uint64 other_dates  \n",
        "0       3  2013-01-01  \n",
        "1       4  2013-01-02  \n",
        "2       5  2013-01-03  "
       ]
      }
     ],
     "prompt_number": 5
    },
    {
     "cell_type": "code",
     "collapsed": false,
     "input": [
      "df.select_dtypes(include=[bool])"
     ],
     "language": "python",
     "metadata": {},
     "outputs": [
      {
       "html": [
        "<div style=\"max-height:1000px;max-width:1500px;overflow:auto;\">\n",
        "<table border=\"1\" class=\"dataframe\">\n",
        "  <thead>\n",
        "    <tr style=\"text-align: right;\">\n",
        "      <th></th>\n",
        "      <th>bool1</th>\n",
        "      <th>bool2</th>\n",
        "    </tr>\n",
        "  </thead>\n",
        "  <tbody>\n",
        "    <tr>\n",
        "      <th>0</th>\n",
        "      <td>  True</td>\n",
        "      <td> False</td>\n",
        "    </tr>\n",
        "    <tr>\n",
        "      <th>1</th>\n",
        "      <td> False</td>\n",
        "      <td>  True</td>\n",
        "    </tr>\n",
        "    <tr>\n",
        "      <th>2</th>\n",
        "      <td>  True</td>\n",
        "      <td> False</td>\n",
        "    </tr>\n",
        "  </tbody>\n",
        "</table>\n",
        "</div>"
       ],
       "metadata": {},
       "output_type": "pyout",
       "prompt_number": 7,
       "text": [
        "   bool1  bool2\n",
        "0   True  False\n",
        "1  False   True\n",
        "2   True  False"
       ]
      }
     ],
     "prompt_number": 7
    },
    {
     "cell_type": "code",
     "collapsed": false,
     "input": [
      "df.select_dtypes(include=['bool'])"
     ],
     "language": "python",
     "metadata": {},
     "outputs": [
      {
       "html": [
        "<div style=\"max-height:1000px;max-width:1500px;overflow:auto;\">\n",
        "<table border=\"1\" class=\"dataframe\">\n",
        "  <thead>\n",
        "    <tr style=\"text-align: right;\">\n",
        "      <th></th>\n",
        "      <th>bool1</th>\n",
        "      <th>bool2</th>\n",
        "    </tr>\n",
        "  </thead>\n",
        "  <tbody>\n",
        "    <tr>\n",
        "      <th>0</th>\n",
        "      <td>  True</td>\n",
        "      <td> False</td>\n",
        "    </tr>\n",
        "    <tr>\n",
        "      <th>1</th>\n",
        "      <td> False</td>\n",
        "      <td>  True</td>\n",
        "    </tr>\n",
        "    <tr>\n",
        "      <th>2</th>\n",
        "      <td>  True</td>\n",
        "      <td> False</td>\n",
        "    </tr>\n",
        "  </tbody>\n",
        "</table>\n",
        "</div>"
       ],
       "metadata": {},
       "output_type": "pyout",
       "prompt_number": 9,
       "text": [
        "   bool1  bool2\n",
        "0   True  False\n",
        "1  False   True\n",
        "2   True  False"
       ]
      }
     ],
     "prompt_number": 9
    },
    {
     "cell_type": "code",
     "collapsed": false,
     "input": [
      "# Exclude dtype"
     ],
     "language": "python",
     "metadata": {},
     "outputs": []
    }
   ],
   "metadata": {}
  }
 ]
}