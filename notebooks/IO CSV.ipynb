{
 "metadata": {
  "name": "",
  "signature": "sha256:c10d0f95facb182d2c7c4278cc3109aeb9eb8a35494db963c4362dd475399867"
 },
 "nbformat": 3,
 "nbformat_minor": 0,
 "worksheets": [
  {
   "cells": [
    {
     "cell_type": "heading",
     "level": 1,
     "metadata": {},
     "source": [
      "IO Tools http://pandas.pydata.org/pandas-docs/stable/io.html"
     ]
    },
    {
     "cell_type": "code",
     "collapsed": false,
     "input": [
      "from pandas import *\n",
      "csvpath = '../data/foo.csv'\n",
      "read_csv(csvpath)"
     ],
     "language": "python",
     "metadata": {},
     "outputs": [
      {
       "html": [
        "<div style=\"max-height:1000px;max-width:1500px;overflow:auto;\">\n",
        "<table border=\"1\" class=\"dataframe\">\n",
        "  <thead>\n",
        "    <tr style=\"text-align: right;\">\n",
        "      <th></th>\n",
        "      <th>date</th>\n",
        "      <th>A</th>\n",
        "      <th>B</th>\n",
        "      <th>C</th>\n",
        "    </tr>\n",
        "  </thead>\n",
        "  <tbody>\n",
        "    <tr>\n",
        "      <th>0</th>\n",
        "      <td> 20090101</td>\n",
        "      <td> a</td>\n",
        "      <td> 1</td>\n",
        "      <td> 2</td>\n",
        "    </tr>\n",
        "    <tr>\n",
        "      <th>1</th>\n",
        "      <td> 20090102</td>\n",
        "      <td> b</td>\n",
        "      <td> 3</td>\n",
        "      <td> 4</td>\n",
        "    </tr>\n",
        "    <tr>\n",
        "      <th>2</th>\n",
        "      <td> 20090103</td>\n",
        "      <td> c</td>\n",
        "      <td> 4</td>\n",
        "      <td> 5</td>\n",
        "    </tr>\n",
        "  </tbody>\n",
        "</table>\n",
        "</div>"
       ],
       "metadata": {},
       "output_type": "pyout",
       "prompt_number": 4,
       "text": [
        "       date  A  B  C\n",
        "0  20090101  a  1  2\n",
        "1  20090102  b  3  4\n",
        "2  20090103  c  4  5"
       ]
      }
     ],
     "prompt_number": 4
    },
    {
     "cell_type": "code",
     "collapsed": false,
     "input": [
      "# read csv with index\n",
      "read_csv(csvpath, index_col=0)"
     ],
     "language": "python",
     "metadata": {},
     "outputs": [
      {
       "html": [
        "<div style=\"max-height:1000px;max-width:1500px;overflow:auto;\">\n",
        "<table border=\"1\" class=\"dataframe\">\n",
        "  <thead>\n",
        "    <tr style=\"text-align: right;\">\n",
        "      <th></th>\n",
        "      <th>A</th>\n",
        "      <th>B</th>\n",
        "      <th>C</th>\n",
        "    </tr>\n",
        "    <tr>\n",
        "      <th>date</th>\n",
        "      <th></th>\n",
        "      <th></th>\n",
        "      <th></th>\n",
        "    </tr>\n",
        "  </thead>\n",
        "  <tbody>\n",
        "    <tr>\n",
        "      <th>20090101</th>\n",
        "      <td> a</td>\n",
        "      <td> 1</td>\n",
        "      <td> 2</td>\n",
        "    </tr>\n",
        "    <tr>\n",
        "      <th>20090102</th>\n",
        "      <td> b</td>\n",
        "      <td> 3</td>\n",
        "      <td> 4</td>\n",
        "    </tr>\n",
        "    <tr>\n",
        "      <th>20090103</th>\n",
        "      <td> c</td>\n",
        "      <td> 4</td>\n",
        "      <td> 5</td>\n",
        "    </tr>\n",
        "  </tbody>\n",
        "</table>\n",
        "</div>"
       ],
       "metadata": {},
       "output_type": "pyout",
       "prompt_number": 5,
       "text": [
        "          A  B  C\n",
        "date             \n",
        "20090101  a  1  2\n",
        "20090102  b  3  4\n",
        "20090103  c  4  5"
       ]
      }
     ],
     "prompt_number": 5
    },
    {
     "cell_type": "code",
     "collapsed": false,
     "input": [
      "read_csv(csvpath, index_col='date')"
     ],
     "language": "python",
     "metadata": {},
     "outputs": [
      {
       "html": [
        "<div style=\"max-height:1000px;max-width:1500px;overflow:auto;\">\n",
        "<table border=\"1\" class=\"dataframe\">\n",
        "  <thead>\n",
        "    <tr style=\"text-align: right;\">\n",
        "      <th></th>\n",
        "      <th>A</th>\n",
        "      <th>B</th>\n",
        "      <th>C</th>\n",
        "    </tr>\n",
        "    <tr>\n",
        "      <th>date</th>\n",
        "      <th></th>\n",
        "      <th></th>\n",
        "      <th></th>\n",
        "    </tr>\n",
        "  </thead>\n",
        "  <tbody>\n",
        "    <tr>\n",
        "      <th>20090101</th>\n",
        "      <td> a</td>\n",
        "      <td> 1</td>\n",
        "      <td> 2</td>\n",
        "    </tr>\n",
        "    <tr>\n",
        "      <th>20090102</th>\n",
        "      <td> b</td>\n",
        "      <td> 3</td>\n",
        "      <td> 4</td>\n",
        "    </tr>\n",
        "    <tr>\n",
        "      <th>20090103</th>\n",
        "      <td> c</td>\n",
        "      <td> 4</td>\n",
        "      <td> 5</td>\n",
        "    </tr>\n",
        "  </tbody>\n",
        "</table>\n",
        "</div>"
       ],
       "metadata": {},
       "output_type": "pyout",
       "prompt_number": 6,
       "text": [
        "          A  B  C\n",
        "date             \n",
        "20090101  a  1  2\n",
        "20090102  b  3  4\n",
        "20090103  c  4  5"
       ]
      }
     ],
     "prompt_number": 6
    },
    {
     "cell_type": "code",
     "collapsed": false,
     "input": [
      "# MultiIndex\n",
      "read_csv(csvpath, index_col=[0, 'A'])"
     ],
     "language": "python",
     "metadata": {},
     "outputs": [
      {
       "html": [
        "<div style=\"max-height:1000px;max-width:1500px;overflow:auto;\">\n",
        "<table border=\"1\" class=\"dataframe\">\n",
        "  <thead>\n",
        "    <tr style=\"text-align: right;\">\n",
        "      <th></th>\n",
        "      <th></th>\n",
        "      <th>B</th>\n",
        "      <th>C</th>\n",
        "    </tr>\n",
        "    <tr>\n",
        "      <th>date</th>\n",
        "      <th>A</th>\n",
        "      <th></th>\n",
        "      <th></th>\n",
        "    </tr>\n",
        "  </thead>\n",
        "  <tbody>\n",
        "    <tr>\n",
        "      <th>20090101</th>\n",
        "      <th>a</th>\n",
        "      <td> 1</td>\n",
        "      <td> 2</td>\n",
        "    </tr>\n",
        "    <tr>\n",
        "      <th>20090102</th>\n",
        "      <th>b</th>\n",
        "      <td> 3</td>\n",
        "      <td> 4</td>\n",
        "    </tr>\n",
        "    <tr>\n",
        "      <th>20090103</th>\n",
        "      <th>c</th>\n",
        "      <td> 4</td>\n",
        "      <td> 5</td>\n",
        "    </tr>\n",
        "  </tbody>\n",
        "</table>\n",
        "</div>"
       ],
       "metadata": {},
       "output_type": "pyout",
       "prompt_number": 8,
       "text": [
        "            B  C\n",
        "date     A      \n",
        "20090101 a  1  2\n",
        "20090102 b  3  4\n",
        "20090103 c  4  5"
       ]
      }
     ],
     "prompt_number": 8
    },
    {
     "cell_type": "code",
     "collapsed": false,
     "input": [
      "# handle uncnclosed quotes\n",
      "import csv\n",
      "from StringIO import StringIO\n",
      "data = \"\"\"label1,label2,label3\n",
      "index1,\"a,c,e\n",
      "index2,b,d,f\"\"\"\n",
      "dia = csv.excel()\n",
      "dia.quoting = csv.QUOTE_NONE\n",
      "print dia\n",
      "read_csv(StringIO(data), dialect=dia)"
     ],
     "language": "python",
     "metadata": {},
     "outputs": [
      {
       "output_type": "stream",
       "stream": "stdout",
       "text": [
        "<csv.excel instance at 0x099C3D28>\n"
       ]
      },
      {
       "html": [
        "<div style=\"max-height:1000px;max-width:1500px;overflow:auto;\">\n",
        "<table border=\"1\" class=\"dataframe\">\n",
        "  <thead>\n",
        "    <tr style=\"text-align: right;\">\n",
        "      <th></th>\n",
        "      <th>label1</th>\n",
        "      <th>label2</th>\n",
        "      <th>label3</th>\n",
        "    </tr>\n",
        "  </thead>\n",
        "  <tbody>\n",
        "    <tr>\n",
        "      <th>index1</th>\n",
        "      <td> \"a</td>\n",
        "      <td> c</td>\n",
        "      <td> e</td>\n",
        "    </tr>\n",
        "    <tr>\n",
        "      <th>index2</th>\n",
        "      <td>  b</td>\n",
        "      <td> d</td>\n",
        "      <td> f</td>\n",
        "    </tr>\n",
        "  </tbody>\n",
        "</table>\n",
        "</div>"
       ],
       "metadata": {},
       "output_type": "pyout",
       "prompt_number": 13,
       "text": [
        "       label1 label2 label3\n",
        "index1     \"a      c      e\n",
        "index2      b      d      f"
       ]
      }
     ],
     "prompt_number": 13
    },
    {
     "cell_type": "code",
     "collapsed": false,
     "input": [
      "# Specific dialect\n",
      "data = 'a,b,c~1,2,3~4,5,6'\n",
      "read_csv(StringIO(data), lineterminator='~')"
     ],
     "language": "python",
     "metadata": {},
     "outputs": [
      {
       "html": [
        "<div style=\"max-height:1000px;max-width:1500px;overflow:auto;\">\n",
        "<table border=\"1\" class=\"dataframe\">\n",
        "  <thead>\n",
        "    <tr style=\"text-align: right;\">\n",
        "      <th></th>\n",
        "      <th>a</th>\n",
        "      <th>b</th>\n",
        "      <th>c</th>\n",
        "    </tr>\n",
        "  </thead>\n",
        "  <tbody>\n",
        "    <tr>\n",
        "      <th>0</th>\n",
        "      <td> 1</td>\n",
        "      <td> 2</td>\n",
        "      <td> 3</td>\n",
        "    </tr>\n",
        "    <tr>\n",
        "      <th>1</th>\n",
        "      <td> 4</td>\n",
        "      <td> 5</td>\n",
        "      <td> 6</td>\n",
        "    </tr>\n",
        "  </tbody>\n",
        "</table>\n",
        "</div>"
       ],
       "metadata": {},
       "output_type": "pyout",
       "prompt_number": 14,
       "text": [
        "   a  b  c\n",
        "0  1  2  3\n",
        "1  4  5  6"
       ]
      }
     ],
     "prompt_number": 14
    },
    {
     "cell_type": "code",
     "collapsed": false,
     "input": [
      "# Skip initial space\n",
      "data = 'a, b, c\\n1, 2, 3\\n4, 5, 6'\n",
      "read_csv(StringIO(data), skipinitialspace=True)"
     ],
     "language": "python",
     "metadata": {},
     "outputs": [
      {
       "html": [
        "<div style=\"max-height:1000px;max-width:1500px;overflow:auto;\">\n",
        "<table border=\"1\" class=\"dataframe\">\n",
        "  <thead>\n",
        "    <tr style=\"text-align: right;\">\n",
        "      <th></th>\n",
        "      <th>a</th>\n",
        "      <th>b</th>\n",
        "      <th>c</th>\n",
        "    </tr>\n",
        "  </thead>\n",
        "  <tbody>\n",
        "    <tr>\n",
        "      <th>0</th>\n",
        "      <td> 1</td>\n",
        "      <td> 2</td>\n",
        "      <td> 3</td>\n",
        "    </tr>\n",
        "    <tr>\n",
        "      <th>1</th>\n",
        "      <td> 4</td>\n",
        "      <td> 5</td>\n",
        "      <td> 6</td>\n",
        "    </tr>\n",
        "  </tbody>\n",
        "</table>\n",
        "</div>"
       ],
       "metadata": {},
       "output_type": "pyout",
       "prompt_number": 15,
       "text": [
        "   a  b  c\n",
        "0  1  2  3\n",
        "1  4  5  6"
       ]
      }
     ],
     "prompt_number": 15
    },
    {
     "cell_type": "code",
     "collapsed": false,
     "input": [
      "# Ignore comment\n",
      "data = 'a,b,c\\n# commented line\\n1,2,3\\n#another comment\\n4,5,6'\n",
      "read_csv(StringIO(data), comment='#')"
     ],
     "language": "python",
     "metadata": {},
     "outputs": [
      {
       "html": [
        "<div style=\"max-height:1000px;max-width:1500px;overflow:auto;\">\n",
        "<table border=\"1\" class=\"dataframe\">\n",
        "  <thead>\n",
        "    <tr style=\"text-align: right;\">\n",
        "      <th></th>\n",
        "      <th>a</th>\n",
        "      <th>b</th>\n",
        "      <th>c</th>\n",
        "    </tr>\n",
        "  </thead>\n",
        "  <tbody>\n",
        "    <tr>\n",
        "      <th>0</th>\n",
        "      <td> 1</td>\n",
        "      <td> 2</td>\n",
        "      <td> 3</td>\n",
        "    </tr>\n",
        "    <tr>\n",
        "      <th>1</th>\n",
        "      <td> 4</td>\n",
        "      <td> 5</td>\n",
        "      <td> 6</td>\n",
        "    </tr>\n",
        "  </tbody>\n",
        "</table>\n",
        "</div>"
       ],
       "metadata": {},
       "output_type": "pyout",
       "prompt_number": 16,
       "text": [
        "   a  b  c\n",
        "0  1  2  3\n",
        "1  4  5  6"
       ]
      }
     ],
     "prompt_number": 16
    },
    {
     "cell_type": "code",
     "collapsed": false,
     "input": [
      "# Specifying column data types\n",
      "data = 'a,b,c\\n1,2,3\\n4,5,6\\n7,8,9'\n",
      "df = read_csv(StringIO(data), dtype=object)"
     ],
     "language": "python",
     "metadata": {},
     "outputs": [],
     "prompt_number": 19
    },
    {
     "cell_type": "code",
     "collapsed": false,
     "input": [
      "df['a'][0]"
     ],
     "language": "python",
     "metadata": {},
     "outputs": [
      {
       "metadata": {},
       "output_type": "pyout",
       "prompt_number": 20,
       "text": [
        "'1'"
       ]
      }
     ],
     "prompt_number": 20
    },
    {
     "cell_type": "code",
     "collapsed": false,
     "input": [
      "df = read_csv(StringIO(data), dtype={'b': object, 'c': np.float64})\n",
      "df.dtypes"
     ],
     "language": "python",
     "metadata": {},
     "outputs": [
      {
       "metadata": {},
       "output_type": "pyout",
       "prompt_number": 24,
       "text": [
        "a      int64\n",
        "b     object\n",
        "c    float64\n",
        "dtype: object"
       ]
      }
     ],
     "prompt_number": 24
    },
    {
     "cell_type": "code",
     "collapsed": false,
     "input": [
      "# header\n",
      "data = 'a,b,c\\n1,2,3\\n4,5,6\\n7,8,9'\n",
      "read_csv(StringIO(data))"
     ],
     "language": "python",
     "metadata": {},
     "outputs": [
      {
       "html": [
        "<div style=\"max-height:1000px;max-width:1500px;overflow:auto;\">\n",
        "<table border=\"1\" class=\"dataframe\">\n",
        "  <thead>\n",
        "    <tr style=\"text-align: right;\">\n",
        "      <th></th>\n",
        "      <th>a</th>\n",
        "      <th>b</th>\n",
        "      <th>c</th>\n",
        "    </tr>\n",
        "  </thead>\n",
        "  <tbody>\n",
        "    <tr>\n",
        "      <th>0</th>\n",
        "      <td> 1</td>\n",
        "      <td> 2</td>\n",
        "      <td> 3</td>\n",
        "    </tr>\n",
        "    <tr>\n",
        "      <th>1</th>\n",
        "      <td> 4</td>\n",
        "      <td> 5</td>\n",
        "      <td> 6</td>\n",
        "    </tr>\n",
        "    <tr>\n",
        "      <th>2</th>\n",
        "      <td> 7</td>\n",
        "      <td> 8</td>\n",
        "      <td> 9</td>\n",
        "    </tr>\n",
        "  </tbody>\n",
        "</table>\n",
        "</div>"
       ],
       "metadata": {},
       "output_type": "pyout",
       "prompt_number": 25,
       "text": [
        "   a  b  c\n",
        "0  1  2  3\n",
        "1  4  5  6\n",
        "2  7  8  9"
       ]
      }
     ],
     "prompt_number": 25
    },
    {
     "cell_type": "code",
     "collapsed": false,
     "input": [
      "read_csv(StringIO(data), names=['foo', 'bar', 'baz'], header=0)"
     ],
     "language": "python",
     "metadata": {},
     "outputs": [
      {
       "html": [
        "<div style=\"max-height:1000px;max-width:1500px;overflow:auto;\">\n",
        "<table border=\"1\" class=\"dataframe\">\n",
        "  <thead>\n",
        "    <tr style=\"text-align: right;\">\n",
        "      <th></th>\n",
        "      <th>foo</th>\n",
        "      <th>bar</th>\n",
        "      <th>baz</th>\n",
        "    </tr>\n",
        "  </thead>\n",
        "  <tbody>\n",
        "    <tr>\n",
        "      <th>0</th>\n",
        "      <td> 1</td>\n",
        "      <td> 2</td>\n",
        "      <td> 3</td>\n",
        "    </tr>\n",
        "    <tr>\n",
        "      <th>1</th>\n",
        "      <td> 4</td>\n",
        "      <td> 5</td>\n",
        "      <td> 6</td>\n",
        "    </tr>\n",
        "    <tr>\n",
        "      <th>2</th>\n",
        "      <td> 7</td>\n",
        "      <td> 8</td>\n",
        "      <td> 9</td>\n",
        "    </tr>\n",
        "  </tbody>\n",
        "</table>\n",
        "</div>"
       ],
       "metadata": {},
       "output_type": "pyout",
       "prompt_number": 32,
       "text": [
        "   foo  bar  baz\n",
        "0    1    2    3\n",
        "1    4    5    6\n",
        "2    7    8    9"
       ]
      }
     ],
     "prompt_number": 32
    },
    {
     "cell_type": "code",
     "collapsed": false,
     "input": [
      "read_csv(StringIO(data), names=['foo', 'bar', 'baz'], header=None)"
     ],
     "language": "python",
     "metadata": {},
     "outputs": [
      {
       "html": [
        "<div style=\"max-height:1000px;max-width:1500px;overflow:auto;\">\n",
        "<table border=\"1\" class=\"dataframe\">\n",
        "  <thead>\n",
        "    <tr style=\"text-align: right;\">\n",
        "      <th></th>\n",
        "      <th>foo</th>\n",
        "      <th>bar</th>\n",
        "      <th>baz</th>\n",
        "    </tr>\n",
        "  </thead>\n",
        "  <tbody>\n",
        "    <tr>\n",
        "      <th>0</th>\n",
        "      <td> a</td>\n",
        "      <td> b</td>\n",
        "      <td> c</td>\n",
        "    </tr>\n",
        "    <tr>\n",
        "      <th>1</th>\n",
        "      <td> 1</td>\n",
        "      <td> 2</td>\n",
        "      <td> 3</td>\n",
        "    </tr>\n",
        "    <tr>\n",
        "      <th>2</th>\n",
        "      <td> 4</td>\n",
        "      <td> 5</td>\n",
        "      <td> 6</td>\n",
        "    </tr>\n",
        "    <tr>\n",
        "      <th>3</th>\n",
        "      <td> 7</td>\n",
        "      <td> 8</td>\n",
        "      <td> 9</td>\n",
        "    </tr>\n",
        "  </tbody>\n",
        "</table>\n",
        "</div>"
       ],
       "metadata": {},
       "output_type": "pyout",
       "prompt_number": 28,
       "text": [
        "  foo bar baz\n",
        "0   a   b   c\n",
        "1   1   2   3\n",
        "2   4   5   6\n",
        "3   7   8   9"
       ]
      }
     ],
     "prompt_number": 28
    },
    {
     "cell_type": "code",
     "collapsed": false,
     "input": [
      "# skip head description\n",
      "data = 'skip this skip it\\na,b,c\\n1,2,3\\n4,5,6\\n7,8,9'\n",
      "read_csv(StringIO(data), header=1)"
     ],
     "language": "python",
     "metadata": {},
     "outputs": [
      {
       "html": [
        "<div style=\"max-height:1000px;max-width:1500px;overflow:auto;\">\n",
        "<table border=\"1\" class=\"dataframe\">\n",
        "  <thead>\n",
        "    <tr style=\"text-align: right;\">\n",
        "      <th></th>\n",
        "      <th>a</th>\n",
        "      <th>b</th>\n",
        "      <th>c</th>\n",
        "    </tr>\n",
        "  </thead>\n",
        "  <tbody>\n",
        "    <tr>\n",
        "      <th>0</th>\n",
        "      <td> 1</td>\n",
        "      <td> 2</td>\n",
        "      <td> 3</td>\n",
        "    </tr>\n",
        "    <tr>\n",
        "      <th>1</th>\n",
        "      <td> 4</td>\n",
        "      <td> 5</td>\n",
        "      <td> 6</td>\n",
        "    </tr>\n",
        "    <tr>\n",
        "      <th>2</th>\n",
        "      <td> 7</td>\n",
        "      <td> 8</td>\n",
        "      <td> 9</td>\n",
        "    </tr>\n",
        "  </tbody>\n",
        "</table>\n",
        "</div>"
       ],
       "metadata": {},
       "output_type": "pyout",
       "prompt_number": 33,
       "text": [
        "   a  b  c\n",
        "0  1  2  3\n",
        "1  4  5  6\n",
        "2  7  8  9"
       ]
      }
     ],
     "prompt_number": 33
    },
    {
     "cell_type": "code",
     "collapsed": false,
     "input": [
      "# Filter columns\n",
      "data = 'a,b,c,d\\n1,2,3,foo\\n4,5,6,bar\\n7,8,9,baz'\n",
      "read_csv(StringIO(data))\n",
      "read_csv(StringIO(data), usecols=['b','d'])"
     ],
     "language": "python",
     "metadata": {},
     "outputs": [
      {
       "html": [
        "<div style=\"max-height:1000px;max-width:1500px;overflow:auto;\">\n",
        "<table border=\"1\" class=\"dataframe\">\n",
        "  <thead>\n",
        "    <tr style=\"text-align: right;\">\n",
        "      <th></th>\n",
        "      <th>b</th>\n",
        "      <th>d</th>\n",
        "    </tr>\n",
        "  </thead>\n",
        "  <tbody>\n",
        "    <tr>\n",
        "      <th>0</th>\n",
        "      <td> 2</td>\n",
        "      <td> foo</td>\n",
        "    </tr>\n",
        "    <tr>\n",
        "      <th>1</th>\n",
        "      <td> 5</td>\n",
        "      <td> bar</td>\n",
        "    </tr>\n",
        "    <tr>\n",
        "      <th>2</th>\n",
        "      <td> 8</td>\n",
        "      <td> baz</td>\n",
        "    </tr>\n",
        "  </tbody>\n",
        "</table>\n",
        "</div>"
       ],
       "metadata": {},
       "output_type": "pyout",
       "prompt_number": 34,
       "text": [
        "   b    d\n",
        "0  2  foo\n",
        "1  5  bar\n",
        "2  8  baz"
       ]
      }
     ],
     "prompt_number": 34
    },
    {
     "cell_type": "code",
     "collapsed": false,
     "input": [
      "read_csv(StringIO(data), usecols=[0, 2, 3])"
     ],
     "language": "python",
     "metadata": {},
     "outputs": [
      {
       "html": [
        "<div style=\"max-height:1000px;max-width:1500px;overflow:auto;\">\n",
        "<table border=\"1\" class=\"dataframe\">\n",
        "  <thead>\n",
        "    <tr style=\"text-align: right;\">\n",
        "      <th></th>\n",
        "      <th>a</th>\n",
        "      <th>c</th>\n",
        "      <th>d</th>\n",
        "    </tr>\n",
        "  </thead>\n",
        "  <tbody>\n",
        "    <tr>\n",
        "      <th>0</th>\n",
        "      <td> 1</td>\n",
        "      <td> 3</td>\n",
        "      <td> foo</td>\n",
        "    </tr>\n",
        "    <tr>\n",
        "      <th>1</th>\n",
        "      <td> 4</td>\n",
        "      <td> 6</td>\n",
        "      <td> bar</td>\n",
        "    </tr>\n",
        "    <tr>\n",
        "      <th>2</th>\n",
        "      <td> 7</td>\n",
        "      <td> 9</td>\n",
        "      <td> baz</td>\n",
        "    </tr>\n",
        "  </tbody>\n",
        "</table>\n",
        "</div>"
       ],
       "metadata": {},
       "output_type": "pyout",
       "prompt_number": 35,
       "text": [
        "   a  c    d\n",
        "0  1  3  foo\n",
        "1  4  6  bar\n",
        "2  7  9  baz"
       ]
      }
     ],
     "prompt_number": 35
    },
    {
     "cell_type": "code",
     "collapsed": false,
     "input": [
      "# Unicode\n",
      "from io import BytesIO\n",
      "data = b'word,length\\nTr\\xc3\\xa4umen,7\\nGr\\xc3\\xbc\\xc3\\x9fe,5'.decode('utf8').encode('latin-1')\n",
      "read_csv(BytesIO(data), encoding='latin-1')"
     ],
     "language": "python",
     "metadata": {},
     "outputs": [
      {
       "html": [
        "<div style=\"max-height:1000px;max-width:1500px;overflow:auto;\">\n",
        "<table border=\"1\" class=\"dataframe\">\n",
        "  <thead>\n",
        "    <tr style=\"text-align: right;\">\n",
        "      <th></th>\n",
        "      <th>word</th>\n",
        "      <th>length</th>\n",
        "    </tr>\n",
        "  </thead>\n",
        "  <tbody>\n",
        "    <tr>\n",
        "      <th>0</th>\n",
        "      <td> Tr\u00e4umen</td>\n",
        "      <td> 7</td>\n",
        "    </tr>\n",
        "    <tr>\n",
        "      <th>1</th>\n",
        "      <td>   Gr\u00fc\u00dfe</td>\n",
        "      <td> 5</td>\n",
        "    </tr>\n",
        "  </tbody>\n",
        "</table>\n",
        "</div>"
       ],
       "metadata": {},
       "output_type": "pyout",
       "prompt_number": 43,
       "text": [
        "      word  length\n",
        "0  Tr\u00e4umen       7\n",
        "1    Gr\u00fc\u00dfe       5"
       ]
      }
     ],
     "prompt_number": 43
    },
    {
     "cell_type": "code",
     "collapsed": false,
     "input": [
      "# Index columns\n",
      "data = 'a,b,c\\n4,apple,bat,5.7\\n8,orange,cow,10'\n",
      "print data\n",
      "read_csv(StringIO(data), index_col=0)"
     ],
     "language": "python",
     "metadata": {},
     "outputs": [
      {
       "output_type": "stream",
       "stream": "stdout",
       "text": [
        "a,b,c\n",
        "4,apple,bat,5.7\n",
        "8,orange,cow,10\n"
       ]
      },
      {
       "html": [
        "<div style=\"max-height:1000px;max-width:1500px;overflow:auto;\">\n",
        "<table border=\"1\" class=\"dataframe\">\n",
        "  <thead>\n",
        "    <tr style=\"text-align: right;\">\n",
        "      <th></th>\n",
        "      <th>a</th>\n",
        "      <th>b</th>\n",
        "      <th>c</th>\n",
        "    </tr>\n",
        "  </thead>\n",
        "  <tbody>\n",
        "    <tr>\n",
        "      <th>4</th>\n",
        "      <td>  apple</td>\n",
        "      <td> bat</td>\n",
        "      <td>  5.7</td>\n",
        "    </tr>\n",
        "    <tr>\n",
        "      <th>8</th>\n",
        "      <td> orange</td>\n",
        "      <td> cow</td>\n",
        "      <td> 10.0</td>\n",
        "    </tr>\n",
        "  </tbody>\n",
        "</table>\n",
        "</div>"
       ],
       "metadata": {},
       "output_type": "pyout",
       "prompt_number": 60,
       "text": [
        "        a    b     c\n",
        "4   apple  bat   5.7\n",
        "8  orange  cow  10.0"
       ]
      }
     ],
     "prompt_number": 60
    },
    {
     "cell_type": "code",
     "collapsed": false,
     "input": [
      "# index by integer position\n",
      "data = 'a,b,c\\n4,apple,bat,\\n8,orange,cow,'\n",
      "read_csv(StringIO(data), index_col=False)"
     ],
     "language": "python",
     "metadata": {},
     "outputs": [
      {
       "html": [
        "<div style=\"max-height:1000px;max-width:1500px;overflow:auto;\">\n",
        "<table border=\"1\" class=\"dataframe\">\n",
        "  <thead>\n",
        "    <tr style=\"text-align: right;\">\n",
        "      <th></th>\n",
        "      <th>a</th>\n",
        "      <th>b</th>\n",
        "      <th>c</th>\n",
        "    </tr>\n",
        "  </thead>\n",
        "  <tbody>\n",
        "    <tr>\n",
        "      <th>0</th>\n",
        "      <td> 4</td>\n",
        "      <td>  apple</td>\n",
        "      <td> bat</td>\n",
        "    </tr>\n",
        "    <tr>\n",
        "      <th>1</th>\n",
        "      <td> 8</td>\n",
        "      <td> orange</td>\n",
        "      <td> cow</td>\n",
        "    </tr>\n",
        "  </tbody>\n",
        "</table>\n",
        "</div>"
       ],
       "metadata": {},
       "output_type": "pyout",
       "prompt_number": 50,
       "text": [
        "   a       b    c\n",
        "0  4   apple  bat\n",
        "1  8  orange  cow"
       ]
      }
     ],
     "prompt_number": 50
    },
    {
     "cell_type": "code",
     "collapsed": false,
     "input": [
      "# Specifying Date Columns\n",
      "df = read_csv(csvpath, index_col=0, parse_dates=True)\n",
      "df\n",
      "df.index"
     ],
     "language": "python",
     "metadata": {},
     "outputs": [
      {
       "metadata": {},
       "output_type": "pyout",
       "prompt_number": 62,
       "text": [
        "<class 'pandas.tseries.index.DatetimeIndex'>\n",
        "[2009-01-01, ..., 2009-01-03]\n",
        "Length: 3, Freq: None, Timezone: None"
       ]
      }
     ],
     "prompt_number": 62
    },
    {
     "cell_type": "code",
     "collapsed": false,
     "input": [
      "# Parse two columns as date time\n",
      "data = \"\"\"KORD,19990127, 19:00:00, 18:56:00, 0.8100\n",
      "KORD,19990127, 20:00:00, 19:56:00, 0.0100\n",
      "KORD,19990127, 21:00:00, 20:56:00, -0.5900\n",
      "KORD,19990127, 21:00:00, 21:18:00, -0.9900\n",
      "KORD,19990127, 22:00:00, 21:56:00, -0.5900\n",
      "KORD,19990127, 23:00:00, 22:56:00, -0.5900\"\"\"\n",
      "read_csv(BytesIO(data), header=None,\n",
      "         parse_dates=[[1,2], [1,3]])"
     ],
     "language": "python",
     "metadata": {},
     "outputs": [
      {
       "html": [
        "<div style=\"max-height:1000px;max-width:1500px;overflow:auto;\">\n",
        "<table border=\"1\" class=\"dataframe\">\n",
        "  <thead>\n",
        "    <tr style=\"text-align: right;\">\n",
        "      <th></th>\n",
        "      <th>1_2</th>\n",
        "      <th>1_3</th>\n",
        "      <th>0</th>\n",
        "      <th>4</th>\n",
        "    </tr>\n",
        "  </thead>\n",
        "  <tbody>\n",
        "    <tr>\n",
        "      <th>0</th>\n",
        "      <td>1999-01-27 19:00:00</td>\n",
        "      <td>1999-01-27 18:56:00</td>\n",
        "      <td> KORD</td>\n",
        "      <td> 0.81</td>\n",
        "    </tr>\n",
        "    <tr>\n",
        "      <th>1</th>\n",
        "      <td>1999-01-27 20:00:00</td>\n",
        "      <td>1999-01-27 19:56:00</td>\n",
        "      <td> KORD</td>\n",
        "      <td> 0.01</td>\n",
        "    </tr>\n",
        "    <tr>\n",
        "      <th>2</th>\n",
        "      <td>1999-01-27 21:00:00</td>\n",
        "      <td>1999-01-27 20:56:00</td>\n",
        "      <td> KORD</td>\n",
        "      <td>-0.59</td>\n",
        "    </tr>\n",
        "    <tr>\n",
        "      <th>3</th>\n",
        "      <td>1999-01-27 21:00:00</td>\n",
        "      <td>1999-01-27 21:18:00</td>\n",
        "      <td> KORD</td>\n",
        "      <td>-0.99</td>\n",
        "    </tr>\n",
        "    <tr>\n",
        "      <th>4</th>\n",
        "      <td>1999-01-27 22:00:00</td>\n",
        "      <td>1999-01-27 21:56:00</td>\n",
        "      <td> KORD</td>\n",
        "      <td>-0.59</td>\n",
        "    </tr>\n",
        "    <tr>\n",
        "      <th>5</th>\n",
        "      <td>1999-01-27 23:00:00</td>\n",
        "      <td>1999-01-27 22:56:00</td>\n",
        "      <td> KORD</td>\n",
        "      <td>-0.59</td>\n",
        "    </tr>\n",
        "  </tbody>\n",
        "</table>\n",
        "</div>"
       ],
       "metadata": {},
       "output_type": "pyout",
       "prompt_number": 66,
       "text": [
        "                  1_2                 1_3     0     4\n",
        "0 1999-01-27 19:00:00 1999-01-27 18:56:00  KORD  0.81\n",
        "1 1999-01-27 20:00:00 1999-01-27 19:56:00  KORD  0.01\n",
        "2 1999-01-27 21:00:00 1999-01-27 20:56:00  KORD -0.59\n",
        "3 1999-01-27 21:00:00 1999-01-27 21:18:00  KORD -0.99\n",
        "4 1999-01-27 22:00:00 1999-01-27 21:56:00  KORD -0.59\n",
        "5 1999-01-27 23:00:00 1999-01-27 22:56:00  KORD -0.59"
       ]
      }
     ],
     "prompt_number": 66
    },
    {
     "cell_type": "code",
     "collapsed": false,
     "input": [
      "# Keep the date columns\n",
      "read_csv(BytesIO(data), header=None, parse_dates=[[1, 2], [1, 3]],\n",
      "         keep_date_col=True)"
     ],
     "language": "python",
     "metadata": {},
     "outputs": [
      {
       "html": [
        "<div style=\"max-height:1000px;max-width:1500px;overflow:auto;\">\n",
        "<table border=\"1\" class=\"dataframe\">\n",
        "  <thead>\n",
        "    <tr style=\"text-align: right;\">\n",
        "      <th></th>\n",
        "      <th>1_2</th>\n",
        "      <th>1_3</th>\n",
        "      <th>0</th>\n",
        "      <th>1</th>\n",
        "      <th>2</th>\n",
        "      <th>3</th>\n",
        "      <th>4</th>\n",
        "    </tr>\n",
        "  </thead>\n",
        "  <tbody>\n",
        "    <tr>\n",
        "      <th>0</th>\n",
        "      <td>1999-01-27 19:00:00</td>\n",
        "      <td>1999-01-27 18:56:00</td>\n",
        "      <td> KORD</td>\n",
        "      <td> 19990127</td>\n",
        "      <td>  19:00:00</td>\n",
        "      <td>  18:56:00</td>\n",
        "      <td> 0.81</td>\n",
        "    </tr>\n",
        "    <tr>\n",
        "      <th>1</th>\n",
        "      <td>1999-01-27 20:00:00</td>\n",
        "      <td>1999-01-27 19:56:00</td>\n",
        "      <td> KORD</td>\n",
        "      <td> 19990127</td>\n",
        "      <td>  20:00:00</td>\n",
        "      <td>  19:56:00</td>\n",
        "      <td> 0.01</td>\n",
        "    </tr>\n",
        "    <tr>\n",
        "      <th>2</th>\n",
        "      <td>1999-01-27 21:00:00</td>\n",
        "      <td>1999-01-27 20:56:00</td>\n",
        "      <td> KORD</td>\n",
        "      <td> 19990127</td>\n",
        "      <td>  21:00:00</td>\n",
        "      <td>  20:56:00</td>\n",
        "      <td>-0.59</td>\n",
        "    </tr>\n",
        "    <tr>\n",
        "      <th>3</th>\n",
        "      <td>1999-01-27 21:00:00</td>\n",
        "      <td>1999-01-27 21:18:00</td>\n",
        "      <td> KORD</td>\n",
        "      <td> 19990127</td>\n",
        "      <td>  21:00:00</td>\n",
        "      <td>  21:18:00</td>\n",
        "      <td>-0.99</td>\n",
        "    </tr>\n",
        "    <tr>\n",
        "      <th>4</th>\n",
        "      <td>1999-01-27 22:00:00</td>\n",
        "      <td>1999-01-27 21:56:00</td>\n",
        "      <td> KORD</td>\n",
        "      <td> 19990127</td>\n",
        "      <td>  22:00:00</td>\n",
        "      <td>  21:56:00</td>\n",
        "      <td>-0.59</td>\n",
        "    </tr>\n",
        "    <tr>\n",
        "      <th>5</th>\n",
        "      <td>1999-01-27 23:00:00</td>\n",
        "      <td>1999-01-27 22:56:00</td>\n",
        "      <td> KORD</td>\n",
        "      <td> 19990127</td>\n",
        "      <td>  23:00:00</td>\n",
        "      <td>  22:56:00</td>\n",
        "      <td>-0.59</td>\n",
        "    </tr>\n",
        "  </tbody>\n",
        "</table>\n",
        "</div>"
       ],
       "metadata": {},
       "output_type": "pyout",
       "prompt_number": 67,
       "text": [
        "                  1_2                 1_3     0         1          2  \\\n",
        "0 1999-01-27 19:00:00 1999-01-27 18:56:00  KORD  19990127   19:00:00   \n",
        "1 1999-01-27 20:00:00 1999-01-27 19:56:00  KORD  19990127   20:00:00   \n",
        "2 1999-01-27 21:00:00 1999-01-27 20:56:00  KORD  19990127   21:00:00   \n",
        "3 1999-01-27 21:00:00 1999-01-27 21:18:00  KORD  19990127   21:00:00   \n",
        "4 1999-01-27 22:00:00 1999-01-27 21:56:00  KORD  19990127   22:00:00   \n",
        "5 1999-01-27 23:00:00 1999-01-27 22:56:00  KORD  19990127   23:00:00   \n",
        "\n",
        "           3     4  \n",
        "0   18:56:00  0.81  \n",
        "1   19:56:00  0.01  \n",
        "2   20:56:00 -0.59  \n",
        "3   21:18:00 -0.99  \n",
        "4   21:56:00 -0.59  \n",
        "5   22:56:00 -0.59  "
       ]
      }
     ],
     "prompt_number": 67
    },
    {
     "cell_type": "code",
     "collapsed": false,
     "input": [
      "# Specify column names for date time parser\n",
      "date_spec = {'nominal': [1, 2], 'actual': [1, 3]}\n",
      "read_csv(BytesIO(data), header=None, parse_dates=date_spec)"
     ],
     "language": "python",
     "metadata": {},
     "outputs": [
      {
       "html": [
        "<div style=\"max-height:1000px;max-width:1500px;overflow:auto;\">\n",
        "<table border=\"1\" class=\"dataframe\">\n",
        "  <thead>\n",
        "    <tr style=\"text-align: right;\">\n",
        "      <th></th>\n",
        "      <th>nominal</th>\n",
        "      <th>actual</th>\n",
        "      <th>0</th>\n",
        "      <th>4</th>\n",
        "    </tr>\n",
        "  </thead>\n",
        "  <tbody>\n",
        "    <tr>\n",
        "      <th>0</th>\n",
        "      <td>1999-01-27 19:00:00</td>\n",
        "      <td>1999-01-27 18:56:00</td>\n",
        "      <td> KORD</td>\n",
        "      <td> 0.81</td>\n",
        "    </tr>\n",
        "    <tr>\n",
        "      <th>1</th>\n",
        "      <td>1999-01-27 20:00:00</td>\n",
        "      <td>1999-01-27 19:56:00</td>\n",
        "      <td> KORD</td>\n",
        "      <td> 0.01</td>\n",
        "    </tr>\n",
        "    <tr>\n",
        "      <th>2</th>\n",
        "      <td>1999-01-27 21:00:00</td>\n",
        "      <td>1999-01-27 20:56:00</td>\n",
        "      <td> KORD</td>\n",
        "      <td>-0.59</td>\n",
        "    </tr>\n",
        "    <tr>\n",
        "      <th>3</th>\n",
        "      <td>1999-01-27 21:00:00</td>\n",
        "      <td>1999-01-27 21:18:00</td>\n",
        "      <td> KORD</td>\n",
        "      <td>-0.99</td>\n",
        "    </tr>\n",
        "    <tr>\n",
        "      <th>4</th>\n",
        "      <td>1999-01-27 22:00:00</td>\n",
        "      <td>1999-01-27 21:56:00</td>\n",
        "      <td> KORD</td>\n",
        "      <td>-0.59</td>\n",
        "    </tr>\n",
        "    <tr>\n",
        "      <th>5</th>\n",
        "      <td>1999-01-27 23:00:00</td>\n",
        "      <td>1999-01-27 22:56:00</td>\n",
        "      <td> KORD</td>\n",
        "      <td>-0.59</td>\n",
        "    </tr>\n",
        "  </tbody>\n",
        "</table>\n",
        "</div>"
       ],
       "metadata": {},
       "output_type": "pyout",
       "prompt_number": 68,
       "text": [
        "              nominal              actual     0     4\n",
        "0 1999-01-27 19:00:00 1999-01-27 18:56:00  KORD  0.81\n",
        "1 1999-01-27 20:00:00 1999-01-27 19:56:00  KORD  0.01\n",
        "2 1999-01-27 21:00:00 1999-01-27 20:56:00  KORD -0.59\n",
        "3 1999-01-27 21:00:00 1999-01-27 21:18:00  KORD -0.99\n",
        "4 1999-01-27 22:00:00 1999-01-27 21:56:00  KORD -0.59\n",
        "5 1999-01-27 23:00:00 1999-01-27 22:56:00  KORD -0.59"
       ]
      }
     ],
     "prompt_number": 68
    },
    {
     "cell_type": "code",
     "collapsed": false,
     "input": [
      "# set index columns included date parser\n",
      "read_csv(BytesIO(data), header=None, parse_dates=date_spec,\n",
      "         index_col=0)"
     ],
     "language": "python",
     "metadata": {},
     "outputs": [
      {
       "html": [
        "<div style=\"max-height:1000px;max-width:1500px;overflow:auto;\">\n",
        "<table border=\"1\" class=\"dataframe\">\n",
        "  <thead>\n",
        "    <tr style=\"text-align: right;\">\n",
        "      <th></th>\n",
        "      <th>actual</th>\n",
        "      <th>0</th>\n",
        "      <th>4</th>\n",
        "    </tr>\n",
        "    <tr>\n",
        "      <th>nominal</th>\n",
        "      <th></th>\n",
        "      <th></th>\n",
        "      <th></th>\n",
        "    </tr>\n",
        "  </thead>\n",
        "  <tbody>\n",
        "    <tr>\n",
        "      <th>1999-01-27 19:00:00</th>\n",
        "      <td>1999-01-27 18:56:00</td>\n",
        "      <td> KORD</td>\n",
        "      <td> 0.81</td>\n",
        "    </tr>\n",
        "    <tr>\n",
        "      <th>1999-01-27 20:00:00</th>\n",
        "      <td>1999-01-27 19:56:00</td>\n",
        "      <td> KORD</td>\n",
        "      <td> 0.01</td>\n",
        "    </tr>\n",
        "    <tr>\n",
        "      <th>1999-01-27 21:00:00</th>\n",
        "      <td>1999-01-27 20:56:00</td>\n",
        "      <td> KORD</td>\n",
        "      <td>-0.59</td>\n",
        "    </tr>\n",
        "    <tr>\n",
        "      <th>1999-01-27 21:00:00</th>\n",
        "      <td>1999-01-27 21:18:00</td>\n",
        "      <td> KORD</td>\n",
        "      <td>-0.99</td>\n",
        "    </tr>\n",
        "    <tr>\n",
        "      <th>1999-01-27 22:00:00</th>\n",
        "      <td>1999-01-27 21:56:00</td>\n",
        "      <td> KORD</td>\n",
        "      <td>-0.59</td>\n",
        "    </tr>\n",
        "    <tr>\n",
        "      <th>1999-01-27 23:00:00</th>\n",
        "      <td>1999-01-27 22:56:00</td>\n",
        "      <td> KORD</td>\n",
        "      <td>-0.59</td>\n",
        "    </tr>\n",
        "  </tbody>\n",
        "</table>\n",
        "</div>"
       ],
       "metadata": {},
       "output_type": "pyout",
       "prompt_number": 70,
       "text": [
        "                                 actual     0     4\n",
        "nominal                                            \n",
        "1999-01-27 19:00:00 1999-01-27 18:56:00  KORD  0.81\n",
        "1999-01-27 20:00:00 1999-01-27 19:56:00  KORD  0.01\n",
        "1999-01-27 21:00:00 1999-01-27 20:56:00  KORD -0.59\n",
        "1999-01-27 21:00:00 1999-01-27 21:18:00  KORD -0.99\n",
        "1999-01-27 22:00:00 1999-01-27 21:56:00  KORD -0.59\n",
        "1999-01-27 23:00:00 1999-01-27 22:56:00  KORD -0.59"
       ]
      }
     ],
     "prompt_number": 70
    },
    {
     "cell_type": "code",
     "collapsed": false,
     "input": [
      "# parse time by function\n",
      "import pandas.io.date_converters as conv\n",
      "df = read_csv(BytesIO(data), header=None,\n",
      "              parse_dates=date_spec,\n",
      "              date_parser=conv.parse_date_time)\n",
      "df"
     ],
     "language": "python",
     "metadata": {},
     "outputs": [
      {
       "html": [
        "<div style=\"max-height:1000px;max-width:1500px;overflow:auto;\">\n",
        "<table border=\"1\" class=\"dataframe\">\n",
        "  <thead>\n",
        "    <tr style=\"text-align: right;\">\n",
        "      <th></th>\n",
        "      <th>nominal</th>\n",
        "      <th>actual</th>\n",
        "      <th>0</th>\n",
        "      <th>4</th>\n",
        "    </tr>\n",
        "  </thead>\n",
        "  <tbody>\n",
        "    <tr>\n",
        "      <th>0</th>\n",
        "      <td>1999-01-27 19:00:00</td>\n",
        "      <td>1999-01-27 18:56:00</td>\n",
        "      <td> KORD</td>\n",
        "      <td> 0.81</td>\n",
        "    </tr>\n",
        "    <tr>\n",
        "      <th>1</th>\n",
        "      <td>1999-01-27 20:00:00</td>\n",
        "      <td>1999-01-27 19:56:00</td>\n",
        "      <td> KORD</td>\n",
        "      <td> 0.01</td>\n",
        "    </tr>\n",
        "    <tr>\n",
        "      <th>2</th>\n",
        "      <td>1999-01-27 21:00:00</td>\n",
        "      <td>1999-01-27 20:56:00</td>\n",
        "      <td> KORD</td>\n",
        "      <td>-0.59</td>\n",
        "    </tr>\n",
        "    <tr>\n",
        "      <th>3</th>\n",
        "      <td>1999-01-27 21:00:00</td>\n",
        "      <td>1999-01-27 21:18:00</td>\n",
        "      <td> KORD</td>\n",
        "      <td>-0.99</td>\n",
        "    </tr>\n",
        "    <tr>\n",
        "      <th>4</th>\n",
        "      <td>1999-01-27 22:00:00</td>\n",
        "      <td>1999-01-27 21:56:00</td>\n",
        "      <td> KORD</td>\n",
        "      <td>-0.59</td>\n",
        "    </tr>\n",
        "    <tr>\n",
        "      <th>5</th>\n",
        "      <td>1999-01-27 23:00:00</td>\n",
        "      <td>1999-01-27 22:56:00</td>\n",
        "      <td> KORD</td>\n",
        "      <td>-0.59</td>\n",
        "    </tr>\n",
        "  </tbody>\n",
        "</table>\n",
        "</div>"
       ],
       "metadata": {},
       "output_type": "pyout",
       "prompt_number": 72,
       "text": [
        "              nominal              actual     0     4\n",
        "0 1999-01-27 19:00:00 1999-01-27 18:56:00  KORD  0.81\n",
        "1 1999-01-27 20:00:00 1999-01-27 19:56:00  KORD  0.01\n",
        "2 1999-01-27 21:00:00 1999-01-27 20:56:00  KORD -0.59\n",
        "3 1999-01-27 21:00:00 1999-01-27 21:18:00  KORD -0.99\n",
        "4 1999-01-27 22:00:00 1999-01-27 21:56:00  KORD -0.59\n",
        "5 1999-01-27 23:00:00 1999-01-27 22:56:00  KORD -0.59"
       ]
      }
     ],
     "prompt_number": 72
    },
    {
     "cell_type": "code",
     "collapsed": false,
     "input": [
      "# date format with day first\n",
      "# US MM/DD/YYY\n",
      "# Other DD/MM/YYYY\n",
      "data=\"\"\"date,value,cat\n",
      "1/6/2000,5,a\n",
      "2/6/2000,10,b\n",
      "3/6/2000,15,c\"\"\"\n",
      "read_csv(BytesIO(data), parse_dates=[0])"
     ],
     "language": "python",
     "metadata": {},
     "outputs": [
      {
       "html": [
        "<div style=\"max-height:1000px;max-width:1500px;overflow:auto;\">\n",
        "<table border=\"1\" class=\"dataframe\">\n",
        "  <thead>\n",
        "    <tr style=\"text-align: right;\">\n",
        "      <th></th>\n",
        "      <th>date</th>\n",
        "      <th>value</th>\n",
        "      <th>cat</th>\n",
        "    </tr>\n",
        "  </thead>\n",
        "  <tbody>\n",
        "    <tr>\n",
        "      <th>0</th>\n",
        "      <td>2000-01-06</td>\n",
        "      <td>  5</td>\n",
        "      <td> a</td>\n",
        "    </tr>\n",
        "    <tr>\n",
        "      <th>1</th>\n",
        "      <td>2000-02-06</td>\n",
        "      <td> 10</td>\n",
        "      <td> b</td>\n",
        "    </tr>\n",
        "    <tr>\n",
        "      <th>2</th>\n",
        "      <td>2000-03-06</td>\n",
        "      <td> 15</td>\n",
        "      <td> c</td>\n",
        "    </tr>\n",
        "  </tbody>\n",
        "</table>\n",
        "</div>"
       ],
       "metadata": {},
       "output_type": "pyout",
       "prompt_number": 73,
       "text": [
        "        date  value cat\n",
        "0 2000-01-06      5   a\n",
        "1 2000-02-06     10   b\n",
        "2 2000-03-06     15   c"
       ]
      }
     ],
     "prompt_number": 73
    },
    {
     "cell_type": "code",
     "collapsed": false,
     "input": [
      "read_csv(BytesIO(data), dayfirst=True, parse_dates=[0])"
     ],
     "language": "python",
     "metadata": {},
     "outputs": [
      {
       "html": [
        "<div style=\"max-height:1000px;max-width:1500px;overflow:auto;\">\n",
        "<table border=\"1\" class=\"dataframe\">\n",
        "  <thead>\n",
        "    <tr style=\"text-align: right;\">\n",
        "      <th></th>\n",
        "      <th>date</th>\n",
        "      <th>value</th>\n",
        "      <th>cat</th>\n",
        "    </tr>\n",
        "  </thead>\n",
        "  <tbody>\n",
        "    <tr>\n",
        "      <th>0</th>\n",
        "      <td>2000-06-01</td>\n",
        "      <td>  5</td>\n",
        "      <td> a</td>\n",
        "    </tr>\n",
        "    <tr>\n",
        "      <th>1</th>\n",
        "      <td>2000-06-02</td>\n",
        "      <td> 10</td>\n",
        "      <td> b</td>\n",
        "    </tr>\n",
        "    <tr>\n",
        "      <th>2</th>\n",
        "      <td>2000-06-03</td>\n",
        "      <td> 15</td>\n",
        "      <td> c</td>\n",
        "    </tr>\n",
        "  </tbody>\n",
        "</table>\n",
        "</div>"
       ],
       "metadata": {},
       "output_type": "pyout",
       "prompt_number": 75,
       "text": [
        "        date  value cat\n",
        "0 2000-06-01      5   a\n",
        "1 2000-06-02     10   b\n",
        "2 2000-06-03     15   c"
       ]
      }
     ],
     "prompt_number": 75
    },
    {
     "cell_type": "code",
     "collapsed": false,
     "input": [
      "# Specify thousand Separators\n",
      "data=\"\"\"ID|level|category\n",
      "Patient1|123,000|x\n",
      "Patient2|23,000|y\n",
      "Patient3|1,234,018|z\"\"\"\n",
      "df = read_csv(BytesIO(data), sep='|')\n",
      "print df\n",
      "df.level.dtype"
     ],
     "language": "python",
     "metadata": {},
     "outputs": [
      {
       "output_type": "stream",
       "stream": "stdout",
       "text": [
        "         ID      level category\n",
        "0  Patient1    123,000        x\n",
        "1  Patient2     23,000        y\n",
        "2  Patient3  1,234,018        z\n"
       ]
      },
      {
       "metadata": {},
       "output_type": "pyout",
       "prompt_number": 76,
       "text": [
        "dtype('O')"
       ]
      }
     ],
     "prompt_number": 76
    },
    {
     "cell_type": "code",
     "collapsed": false,
     "input": [
      "df = read_csv(BytesIO(data), sep='|', thousands=',')\n",
      "print df\n",
      "df.level.dtype"
     ],
     "language": "python",
     "metadata": {},
     "outputs": [
      {
       "output_type": "stream",
       "stream": "stdout",
       "text": [
        "         ID    level category\n",
        "0  Patient1   123000        x\n",
        "1  Patient2    23000        y\n",
        "2  Patient3  1234018        z\n"
       ]
      },
      {
       "metadata": {},
       "output_type": "pyout",
       "prompt_number": 80,
       "text": [
        "dtype('int64')"
       ]
      }
     ],
     "prompt_number": 80
    },
    {
     "cell_type": "code",
     "collapsed": false,
     "input": [
      "# parse NAN\n",
      "df = read_csv(BytesIO(data), sep='|', thousands=',',\n",
      "              na_values=['z'])\n",
      "df"
     ],
     "language": "python",
     "metadata": {},
     "outputs": [
      {
       "html": [
        "<div style=\"max-height:1000px;max-width:1500px;overflow:auto;\">\n",
        "<table border=\"1\" class=\"dataframe\">\n",
        "  <thead>\n",
        "    <tr style=\"text-align: right;\">\n",
        "      <th></th>\n",
        "      <th>ID</th>\n",
        "      <th>level</th>\n",
        "      <th>category</th>\n",
        "    </tr>\n",
        "  </thead>\n",
        "  <tbody>\n",
        "    <tr>\n",
        "      <th>0</th>\n",
        "      <td> Patient1</td>\n",
        "      <td>  123000</td>\n",
        "      <td>   x</td>\n",
        "    </tr>\n",
        "    <tr>\n",
        "      <th>1</th>\n",
        "      <td> Patient2</td>\n",
        "      <td>   23000</td>\n",
        "      <td>   y</td>\n",
        "    </tr>\n",
        "    <tr>\n",
        "      <th>2</th>\n",
        "      <td> Patient3</td>\n",
        "      <td> 1234018</td>\n",
        "      <td> NaN</td>\n",
        "    </tr>\n",
        "  </tbody>\n",
        "</table>\n",
        "</div>"
       ],
       "metadata": {},
       "output_type": "pyout",
       "prompt_number": 84,
       "text": [
        "         ID    level category\n",
        "0  Patient1   123000        x\n",
        "1  Patient2    23000        y\n",
        "2  Patient3  1234018      NaN"
       ]
      }
     ],
     "prompt_number": 84
    },
    {
     "cell_type": "code",
     "collapsed": false,
     "input": [
      "# suppress comment postfix\n",
      "data=\"\"\"ID,level,category\n",
      "Patient1,123000,x # really unpleasant\n",
      "Patient2,23000,y # wouldn't take his medicine\n",
      "Patient3,1234018,z # awesome\"\"\"\n",
      "df = read_csv(BytesIO(data), comment='#')\n",
      "df"
     ],
     "language": "python",
     "metadata": {},
     "outputs": [
      {
       "html": [
        "<div style=\"max-height:1000px;max-width:1500px;overflow:auto;\">\n",
        "<table border=\"1\" class=\"dataframe\">\n",
        "  <thead>\n",
        "    <tr style=\"text-align: right;\">\n",
        "      <th></th>\n",
        "      <th>ID</th>\n",
        "      <th>level</th>\n",
        "      <th>category</th>\n",
        "    </tr>\n",
        "  </thead>\n",
        "  <tbody>\n",
        "    <tr>\n",
        "      <th>0</th>\n",
        "      <td> Patient1</td>\n",
        "      <td>  123000</td>\n",
        "      <td> x </td>\n",
        "    </tr>\n",
        "    <tr>\n",
        "      <th>1</th>\n",
        "      <td> Patient2</td>\n",
        "      <td>   23000</td>\n",
        "      <td> y </td>\n",
        "    </tr>\n",
        "    <tr>\n",
        "      <th>2</th>\n",
        "      <td> Patient3</td>\n",
        "      <td> 1234018</td>\n",
        "      <td> z </td>\n",
        "    </tr>\n",
        "  </tbody>\n",
        "</table>\n",
        "</div>"
       ],
       "metadata": {},
       "output_type": "pyout",
       "prompt_number": 85,
       "text": [
        "         ID    level category\n",
        "0  Patient1   123000       x \n",
        "1  Patient2    23000       y \n",
        "2  Patient3  1234018       z "
       ]
      }
     ],
     "prompt_number": 85
    },
    {
     "cell_type": "code",
     "collapsed": false,
     "input": [
      "# Return single column as Series\n",
      "data = \"\"\"level\n",
      "Patient1,123000\n",
      "Patient2,23000\n",
      "Patient3,1234018\"\"\"\n",
      "output =  read_csv(BytesIO(data), squeeze=True)\n",
      "output"
     ],
     "language": "python",
     "metadata": {},
     "outputs": [
      {
       "metadata": {},
       "output_type": "pyout",
       "prompt_number": 88,
       "text": [
        "Patient1     123000\n",
        "Patient2      23000\n",
        "Patient3    1234018\n",
        "Name: level, dtype: int64"
       ]
      }
     ],
     "prompt_number": 88
    },
    {
     "cell_type": "code",
     "collapsed": false,
     "input": [
      "# Boolean values\n",
      "data= 'a,b,c\\n1,Yes,2\\n3,No,4'\n",
      "print read_csv(StringIO(data))\n",
      "read_csv(StringIO(data), true_values=['Yes'], false_values=['No'])"
     ],
     "language": "python",
     "metadata": {},
     "outputs": [
      {
       "output_type": "stream",
       "stream": "stdout",
       "text": [
        "   a    b  c\n",
        "0  1  Yes  2\n",
        "1  3   No  4\n"
       ]
      },
      {
       "html": [
        "<div style=\"max-height:1000px;max-width:1500px;overflow:auto;\">\n",
        "<table border=\"1\" class=\"dataframe\">\n",
        "  <thead>\n",
        "    <tr style=\"text-align: right;\">\n",
        "      <th></th>\n",
        "      <th>a</th>\n",
        "      <th>b</th>\n",
        "      <th>c</th>\n",
        "    </tr>\n",
        "  </thead>\n",
        "  <tbody>\n",
        "    <tr>\n",
        "      <th>0</th>\n",
        "      <td> 1</td>\n",
        "      <td>  True</td>\n",
        "      <td> 2</td>\n",
        "    </tr>\n",
        "    <tr>\n",
        "      <th>1</th>\n",
        "      <td> 3</td>\n",
        "      <td> False</td>\n",
        "      <td> 4</td>\n",
        "    </tr>\n",
        "  </tbody>\n",
        "</table>\n",
        "</div>"
       ],
       "metadata": {},
       "output_type": "pyout",
       "prompt_number": 89,
       "text": [
        "   a      b  c\n",
        "0  1   True  2\n",
        "1  3  False  4"
       ]
      }
     ],
     "prompt_number": 89
    },
    {
     "cell_type": "code",
     "collapsed": false,
     "input": [
      "# Skip bad line\n",
      "data = 'a,b,c\\n1,2,3\\n4,5,6,7\\n8,9,10'\n",
      "read_csv(StringIO(data), error_bad_lines=False)"
     ],
     "language": "python",
     "metadata": {},
     "outputs": [
      {
       "output_type": "stream",
       "stream": "stderr",
       "text": [
        "Skipping line 3: expected 3 fields, saw 4\n",
        "\n"
       ]
      },
      {
       "html": [
        "<div style=\"max-height:1000px;max-width:1500px;overflow:auto;\">\n",
        "<table border=\"1\" class=\"dataframe\">\n",
        "  <thead>\n",
        "    <tr style=\"text-align: right;\">\n",
        "      <th></th>\n",
        "      <th>a</th>\n",
        "      <th>b</th>\n",
        "      <th>c</th>\n",
        "    </tr>\n",
        "  </thead>\n",
        "  <tbody>\n",
        "    <tr>\n",
        "      <th>0</th>\n",
        "      <td> 1</td>\n",
        "      <td> 2</td>\n",
        "      <td>  3</td>\n",
        "    </tr>\n",
        "    <tr>\n",
        "      <th>1</th>\n",
        "      <td> 8</td>\n",
        "      <td> 9</td>\n",
        "      <td> 10</td>\n",
        "    </tr>\n",
        "  </tbody>\n",
        "</table>\n",
        "</div>"
       ],
       "metadata": {},
       "output_type": "pyout",
       "prompt_number": 92,
       "text": [
        "   a  b   c\n",
        "0  1  2   3\n",
        "1  8  9  10"
       ]
      }
     ],
     "prompt_number": 92
    },
    {
     "cell_type": "code",
     "collapsed": false,
     "input": [
      "# Quoting and Escape Characters\n",
      "data = 'a,b\\n\"hello, \\\\\"Bob\\\\\", nice to see you\",5'\n",
      "read_csv(StringIO(data), escapechar='\\\\')"
     ],
     "language": "python",
     "metadata": {},
     "outputs": [
      {
       "html": [
        "<div style=\"max-height:1000px;max-width:1500px;overflow:auto;\">\n",
        "<table border=\"1\" class=\"dataframe\">\n",
        "  <thead>\n",
        "    <tr style=\"text-align: right;\">\n",
        "      <th></th>\n",
        "      <th>a</th>\n",
        "      <th>b</th>\n",
        "    </tr>\n",
        "  </thead>\n",
        "  <tbody>\n",
        "    <tr>\n",
        "      <th>0</th>\n",
        "      <td> hello, \"Bob\", nice to see you</td>\n",
        "      <td> 5</td>\n",
        "    </tr>\n",
        "  </tbody>\n",
        "</table>\n",
        "</div>"
       ],
       "metadata": {},
       "output_type": "pyout",
       "prompt_number": 93,
       "text": [
        "                               a  b\n",
        "0  hello, \"Bob\", nice to see you  5"
       ]
      }
     ],
     "prompt_number": 93
    },
    {
     "cell_type": "code",
     "collapsed": false,
     "input": [
      "# Fixed width columns\n",
      "data=\"\"\"id8141    360.242940   149.910199   11950.7\n",
      "id1594    444.953632   166.985655   11788.4\n",
      "id1849    364.136849   183.628767   11806.2\n",
      "id1230    413.836124   184.375703   11916.8\n",
      "id1948    502.953953   173.237159   12468.3\"\"\"\n",
      "colspecs = [(0, 6), (8, 20), (21, 33), (34, 43)]\n",
      "df = read_fwf(BytesIO(data), colspecs=colspecs,\n",
      "              header=None, index_col=0)\n",
      "df"
     ],
     "language": "python",
     "metadata": {},
     "outputs": [
      {
       "html": [
        "<div style=\"max-height:1000px;max-width:1500px;overflow:auto;\">\n",
        "<table border=\"1\" class=\"dataframe\">\n",
        "  <thead>\n",
        "    <tr style=\"text-align: right;\">\n",
        "      <th></th>\n",
        "      <th>1</th>\n",
        "      <th>2</th>\n",
        "      <th>3</th>\n",
        "    </tr>\n",
        "    <tr>\n",
        "      <th>0</th>\n",
        "      <th></th>\n",
        "      <th></th>\n",
        "      <th></th>\n",
        "    </tr>\n",
        "  </thead>\n",
        "  <tbody>\n",
        "    <tr>\n",
        "      <th>id8141</th>\n",
        "      <td> 360.242940</td>\n",
        "      <td> 149.910199</td>\n",
        "      <td> 11950.7</td>\n",
        "    </tr>\n",
        "    <tr>\n",
        "      <th>id1594</th>\n",
        "      <td> 444.953632</td>\n",
        "      <td> 166.985655</td>\n",
        "      <td> 11788.4</td>\n",
        "    </tr>\n",
        "    <tr>\n",
        "      <th>id1849</th>\n",
        "      <td> 364.136849</td>\n",
        "      <td> 183.628767</td>\n",
        "      <td> 11806.2</td>\n",
        "    </tr>\n",
        "    <tr>\n",
        "      <th>id1230</th>\n",
        "      <td> 413.836124</td>\n",
        "      <td> 184.375703</td>\n",
        "      <td> 11916.8</td>\n",
        "    </tr>\n",
        "    <tr>\n",
        "      <th>id1948</th>\n",
        "      <td> 502.953953</td>\n",
        "      <td> 173.237159</td>\n",
        "      <td> 12468.3</td>\n",
        "    </tr>\n",
        "  </tbody>\n",
        "</table>\n",
        "</div>"
       ],
       "metadata": {},
       "output_type": "pyout",
       "prompt_number": 96,
       "text": [
        "                 1           2        3\n",
        "0                                      \n",
        "id8141  360.242940  149.910199  11950.7\n",
        "id1594  444.953632  166.985655  11788.4\n",
        "id1849  364.136849  183.628767  11806.2\n",
        "id1230  413.836124  184.375703  11916.8\n",
        "id1948  502.953953  173.237159  12468.3"
       ]
      }
     ],
     "prompt_number": 96
    },
    {
     "cell_type": "code",
     "collapsed": false,
     "input": [
      "widths = [6, 14, 13, 10]\n",
      "df = read_fwf(BytesIO(data), widths=widths,\n",
      "              header=None, index_col=0)\n",
      "df"
     ],
     "language": "python",
     "metadata": {},
     "outputs": [
      {
       "html": [
        "<div style=\"max-height:1000px;max-width:1500px;overflow:auto;\">\n",
        "<table border=\"1\" class=\"dataframe\">\n",
        "  <thead>\n",
        "    <tr style=\"text-align: right;\">\n",
        "      <th></th>\n",
        "      <th>1</th>\n",
        "      <th>2</th>\n",
        "      <th>3</th>\n",
        "    </tr>\n",
        "    <tr>\n",
        "      <th>0</th>\n",
        "      <th></th>\n",
        "      <th></th>\n",
        "      <th></th>\n",
        "    </tr>\n",
        "  </thead>\n",
        "  <tbody>\n",
        "    <tr>\n",
        "      <th>id8141</th>\n",
        "      <td> 360.242940</td>\n",
        "      <td> 149.910199</td>\n",
        "      <td> 11950.7</td>\n",
        "    </tr>\n",
        "    <tr>\n",
        "      <th>id1594</th>\n",
        "      <td> 444.953632</td>\n",
        "      <td> 166.985655</td>\n",
        "      <td> 11788.4</td>\n",
        "    </tr>\n",
        "    <tr>\n",
        "      <th>id1849</th>\n",
        "      <td> 364.136849</td>\n",
        "      <td> 183.628767</td>\n",
        "      <td> 11806.2</td>\n",
        "    </tr>\n",
        "    <tr>\n",
        "      <th>id1230</th>\n",
        "      <td> 413.836124</td>\n",
        "      <td> 184.375703</td>\n",
        "      <td> 11916.8</td>\n",
        "    </tr>\n",
        "    <tr>\n",
        "      <th>id1948</th>\n",
        "      <td> 502.953953</td>\n",
        "      <td> 173.237159</td>\n",
        "      <td> 12468.3</td>\n",
        "    </tr>\n",
        "  </tbody>\n",
        "</table>\n",
        "</div>"
       ],
       "metadata": {},
       "output_type": "pyout",
       "prompt_number": 97,
       "text": [
        "                 1           2        3\n",
        "0                                      \n",
        "id8141  360.242940  149.910199  11950.7\n",
        "id1594  444.953632  166.985655  11788.4\n",
        "id1849  364.136849  183.628767  11806.2\n",
        "id1230  413.836124  184.375703  11916.8\n",
        "id1948  502.953953  173.237159  12468.3"
       ]
      }
     ],
     "prompt_number": 97
    },
    {
     "cell_type": "code",
     "collapsed": false,
     "input": [
      "# MultiIndex column\n",
      "from pandas.util.testing import makeCustomDataframe as mkdf\n",
      "df = mkdf(5,3,r_idx_nlevels=2,c_idx_nlevels=4)\n",
      "d = BytesIO()\n",
      "df.to_csv(d)\n",
      "d.seek(0)\n",
      "read_csv(d, header=[0, 1, 2, 3], index_col=[0, 1])"
     ],
     "language": "python",
     "metadata": {},
     "outputs": [
      {
       "html": [
        "<div style=\"max-height:1000px;max-width:1500px;overflow:auto;\">\n",
        "<table border=\"1\" class=\"dataframe\">\n",
        "  <thead>\n",
        "    <tr>\n",
        "      <th></th>\n",
        "      <th>C0</th>\n",
        "      <th>C_l0_g0</th>\n",
        "      <th>C_l0_g1</th>\n",
        "      <th>C_l0_g2</th>\n",
        "    </tr>\n",
        "    <tr>\n",
        "      <th></th>\n",
        "      <th>C1</th>\n",
        "      <th>C_l1_g0</th>\n",
        "      <th>C_l1_g1</th>\n",
        "      <th>C_l1_g2</th>\n",
        "    </tr>\n",
        "    <tr>\n",
        "      <th></th>\n",
        "      <th>C2</th>\n",
        "      <th>C_l2_g0</th>\n",
        "      <th>C_l2_g1</th>\n",
        "      <th>C_l2_g2</th>\n",
        "    </tr>\n",
        "    <tr>\n",
        "      <th></th>\n",
        "      <th>C3</th>\n",
        "      <th>C_l3_g0</th>\n",
        "      <th>C_l3_g1</th>\n",
        "      <th>C_l3_g2</th>\n",
        "    </tr>\n",
        "    <tr>\n",
        "      <th>R0</th>\n",
        "      <th>R1</th>\n",
        "      <th></th>\n",
        "      <th></th>\n",
        "      <th></th>\n",
        "    </tr>\n",
        "  </thead>\n",
        "  <tbody>\n",
        "    <tr>\n",
        "      <th>R_l0_g0</th>\n",
        "      <th>R_l1_g0</th>\n",
        "      <td> R0C0</td>\n",
        "      <td> R0C1</td>\n",
        "      <td> R0C2</td>\n",
        "    </tr>\n",
        "    <tr>\n",
        "      <th>R_l0_g1</th>\n",
        "      <th>R_l1_g1</th>\n",
        "      <td> R1C0</td>\n",
        "      <td> R1C1</td>\n",
        "      <td> R1C2</td>\n",
        "    </tr>\n",
        "    <tr>\n",
        "      <th>R_l0_g2</th>\n",
        "      <th>R_l1_g2</th>\n",
        "      <td> R2C0</td>\n",
        "      <td> R2C1</td>\n",
        "      <td> R2C2</td>\n",
        "    </tr>\n",
        "    <tr>\n",
        "      <th>R_l0_g3</th>\n",
        "      <th>R_l1_g3</th>\n",
        "      <td> R3C0</td>\n",
        "      <td> R3C1</td>\n",
        "      <td> R3C2</td>\n",
        "    </tr>\n",
        "    <tr>\n",
        "      <th>R_l0_g4</th>\n",
        "      <th>R_l1_g4</th>\n",
        "      <td> R4C0</td>\n",
        "      <td> R4C1</td>\n",
        "      <td> R4C2</td>\n",
        "    </tr>\n",
        "  </tbody>\n",
        "</table>\n",
        "</div>"
       ],
       "metadata": {},
       "output_type": "pyout",
       "prompt_number": 105,
       "text": [
        "C0              C_l0_g0 C_l0_g1 C_l0_g2\n",
        "C1              C_l1_g0 C_l1_g1 C_l1_g2\n",
        "C2              C_l2_g0 C_l2_g1 C_l2_g2\n",
        "C3              C_l3_g0 C_l3_g1 C_l3_g2\n",
        "R0      R1                             \n",
        "R_l0_g0 R_l1_g0    R0C0    R0C1    R0C2\n",
        "R_l0_g1 R_l1_g1    R1C0    R1C1    R1C2\n",
        "R_l0_g2 R_l1_g2    R2C0    R2C1    R2C2\n",
        "R_l0_g3 R_l1_g3    R3C0    R3C1    R3C2\n",
        "R_l0_g4 R_l1_g4    R4C0    R4C1    R4C2"
       ]
      }
     ],
     "prompt_number": 105
    },
    {
     "cell_type": "code",
     "collapsed": false,
     "input": [
      "# Iterating through files chunk by chunk\n",
      "data = \"\"\"|0|1|2|3\n",
      "0|0.4691122999071863|-0.2828633443286633|-1.5090585031735124|-1.1356323710171934\n",
      "1|1.2121120250208506|-0.1732146490533086|0.11920871129693428|-1.0442359662799567\n",
      "2|-0.8618489633477999|-2.1045692188948086|-0.4949292740687813|1.0718038070373377\n",
      "3|0.7215551622443669|-0.7067711336300845|-1.0395749851146963|0.27185988554282986\n",
      "4|-0.42497232978883753|0.567020349793672|0.27623201927771873|-1.0874006912859915\n",
      "5|-0.6736897080883703|0.11364840968888545|-1.4784265524372233|0.5249876671147046\n",
      "6|0.40470521868023657|0.5770459859204837|-1.7150020161146375|-1.0392684835147725\n",
      "7|-0.3706468582364464|-1.157892250641999|-1.344311812731667|0.8448851414248841\n",
      "8|1.0757697837155535|-0.10904997528022223|1.6435630703622062|-1.4693879595399115\n",
      "9|0.35702056413309086|-0.6746001037299882|-1.776903716971867|-0.9689138124473498\"\"\"\n",
      "reader = read_csv(BytesIO(data), sep='|', chunksize=4)\n",
      "for chunk in reader:\n",
      "    print chunk.__class__\n",
      "    print chunk"
     ],
     "language": "python",
     "metadata": {},
     "outputs": [
      {
       "output_type": "stream",
       "stream": "stdout",
       "text": [
        "<class 'pandas.core.frame.DataFrame'>\n",
        "   Unnamed: 0         0         1         2         3\n",
        "0           0  0.469112 -0.282863 -1.509059 -1.135632\n",
        "1           1  1.212112 -0.173215  0.119209 -1.044236\n",
        "2           2 -0.861849 -2.104569 -0.494929  1.071804\n",
        "3           3  0.721555 -0.706771 -1.039575  0.271860\n",
        "<class 'pandas.core.frame.DataFrame'>\n",
        "   Unnamed: 0         0         1         2         3\n",
        "0           4 -0.424972  0.567020  0.276232 -1.087401\n",
        "1           5 -0.673690  0.113648 -1.478427  0.524988\n",
        "2           6  0.404705  0.577046 -1.715002 -1.039268\n",
        "3           7 -0.370647 -1.157892 -1.344312  0.844885\n",
        "<class 'pandas.core.frame.DataFrame'>\n",
        "   Unnamed: 0         0        1         2         3\n",
        "0           8  1.075770 -0.10905  1.643563 -1.469388\n",
        "1           9  0.357021 -0.67460 -1.776904 -0.968914\n"
       ]
      }
     ],
     "prompt_number": 113
    },
    {
     "cell_type": "code",
     "collapsed": false,
     "input": [
      "reader = read_csv(BytesIO(data), sep='|', iterator=True)\n",
      "reader.get_chunk(5)"
     ],
     "language": "python",
     "metadata": {},
     "outputs": [
      {
       "html": [
        "<div style=\"max-height:1000px;max-width:1500px;overflow:auto;\">\n",
        "<table border=\"1\" class=\"dataframe\">\n",
        "  <thead>\n",
        "    <tr style=\"text-align: right;\">\n",
        "      <th></th>\n",
        "      <th>Unnamed: 0</th>\n",
        "      <th>0</th>\n",
        "      <th>1</th>\n",
        "      <th>2</th>\n",
        "      <th>3</th>\n",
        "    </tr>\n",
        "  </thead>\n",
        "  <tbody>\n",
        "    <tr>\n",
        "      <th>0</th>\n",
        "      <td> 0</td>\n",
        "      <td> 0.469112</td>\n",
        "      <td>-0.282863</td>\n",
        "      <td>-1.509059</td>\n",
        "      <td>-1.135632</td>\n",
        "    </tr>\n",
        "    <tr>\n",
        "      <th>1</th>\n",
        "      <td> 1</td>\n",
        "      <td> 1.212112</td>\n",
        "      <td>-0.173215</td>\n",
        "      <td> 0.119209</td>\n",
        "      <td>-1.044236</td>\n",
        "    </tr>\n",
        "    <tr>\n",
        "      <th>2</th>\n",
        "      <td> 2</td>\n",
        "      <td>-0.861849</td>\n",
        "      <td>-2.104569</td>\n",
        "      <td>-0.494929</td>\n",
        "      <td> 1.071804</td>\n",
        "    </tr>\n",
        "    <tr>\n",
        "      <th>3</th>\n",
        "      <td> 3</td>\n",
        "      <td> 0.721555</td>\n",
        "      <td>-0.706771</td>\n",
        "      <td>-1.039575</td>\n",
        "      <td> 0.271860</td>\n",
        "    </tr>\n",
        "    <tr>\n",
        "      <th>4</th>\n",
        "      <td> 4</td>\n",
        "      <td>-0.424972</td>\n",
        "      <td> 0.567020</td>\n",
        "      <td> 0.276232</td>\n",
        "      <td>-1.087401</td>\n",
        "    </tr>\n",
        "  </tbody>\n",
        "</table>\n",
        "</div>"
       ],
       "metadata": {},
       "output_type": "pyout",
       "prompt_number": 115,
       "text": [
        "   Unnamed: 0         0         1         2         3\n",
        "0           0  0.469112 -0.282863 -1.509059 -1.135632\n",
        "1           1  1.212112 -0.173215  0.119209 -1.044236\n",
        "2           2 -0.861849 -2.104569 -0.494929  1.071804\n",
        "3           3  0.721555 -0.706771 -1.039575  0.271860\n",
        "4           4 -0.424972  0.567020  0.276232 -1.087401"
       ]
      }
     ],
     "prompt_number": 115
    },
    {
     "cell_type": "code",
     "collapsed": false,
     "input": [
      "reader.get_chunk(6)"
     ],
     "language": "python",
     "metadata": {},
     "outputs": [
      {
       "html": [
        "<div style=\"max-height:1000px;max-width:1500px;overflow:auto;\">\n",
        "<table border=\"1\" class=\"dataframe\">\n",
        "  <thead>\n",
        "    <tr style=\"text-align: right;\">\n",
        "      <th></th>\n",
        "      <th>Unnamed: 0</th>\n",
        "      <th>0</th>\n",
        "      <th>1</th>\n",
        "      <th>2</th>\n",
        "      <th>3</th>\n",
        "    </tr>\n",
        "  </thead>\n",
        "  <tbody>\n",
        "    <tr>\n",
        "      <th>0</th>\n",
        "      <td> 5</td>\n",
        "      <td>-0.673690</td>\n",
        "      <td> 0.113648</td>\n",
        "      <td>-1.478427</td>\n",
        "      <td> 0.524988</td>\n",
        "    </tr>\n",
        "    <tr>\n",
        "      <th>1</th>\n",
        "      <td> 6</td>\n",
        "      <td> 0.404705</td>\n",
        "      <td> 0.577046</td>\n",
        "      <td>-1.715002</td>\n",
        "      <td>-1.039268</td>\n",
        "    </tr>\n",
        "    <tr>\n",
        "      <th>2</th>\n",
        "      <td> 7</td>\n",
        "      <td>-0.370647</td>\n",
        "      <td>-1.157892</td>\n",
        "      <td>-1.344312</td>\n",
        "      <td> 0.844885</td>\n",
        "    </tr>\n",
        "    <tr>\n",
        "      <th>3</th>\n",
        "      <td> 8</td>\n",
        "      <td> 1.075770</td>\n",
        "      <td>-0.109050</td>\n",
        "      <td> 1.643563</td>\n",
        "      <td>-1.469388</td>\n",
        "    </tr>\n",
        "    <tr>\n",
        "      <th>4</th>\n",
        "      <td> 9</td>\n",
        "      <td> 0.357021</td>\n",
        "      <td>-0.674600</td>\n",
        "      <td>-1.776904</td>\n",
        "      <td>-0.968914</td>\n",
        "    </tr>\n",
        "  </tbody>\n",
        "</table>\n",
        "</div>"
       ],
       "metadata": {},
       "output_type": "pyout",
       "prompt_number": 116,
       "text": [
        "   Unnamed: 0         0         1         2         3\n",
        "0           5 -0.673690  0.113648 -1.478427  0.524988\n",
        "1           6  0.404705  0.577046 -1.715002 -1.039268\n",
        "2           7 -0.370647 -1.157892 -1.344312  0.844885\n",
        "3           8  1.075770 -0.109050  1.643563 -1.469388\n",
        "4           9  0.357021 -0.674600 -1.776904 -0.968914"
       ]
      }
     ],
     "prompt_number": 116
    },
    {
     "cell_type": "code",
     "collapsed": false,
     "input": [],
     "language": "python",
     "metadata": {},
     "outputs": []
    }
   ],
   "metadata": {}
  }
 ]
}