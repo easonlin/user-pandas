{
 "metadata": {
  "name": "",
  "signature": "sha256:d743a863f8e3d9461eace76da16e8d6b43e37f88cf9e67ba1c7de1fdaeeb6816"
 },
 "nbformat": 3,
 "nbformat_minor": 0,
 "worksheets": [
  {
   "cells": [
    {
     "cell_type": "heading",
     "level": 1,
     "metadata": {},
     "source": [
      "IO JSON http://pandas.pydata.org/pandas-docs/stable/io.html#io-json-writer"
     ]
    },
    {
     "cell_type": "code",
     "collapsed": false,
     "input": [
      "from pandas import *\n",
      "dfj = DataFrame(randn(5, 2), columns=list('AB'))\n",
      "json = dfj.to_json()\n",
      "json"
     ],
     "language": "python",
     "metadata": {},
     "outputs": [
      {
       "metadata": {},
       "output_type": "pyout",
       "prompt_number": 4,
       "text": [
        "'{\"A\":{\"0\":0.2813482689,\"1\":0.4026858385,\"2\":-1.1663378564,\"3\":-0.2256716883,\"4\":0.7233951369},\"B\":{\"0\":1.1287271537,\"1\":-0.1065636568,\"2\":-1.3666856971,\"3\":0.1801018177,\"4\":-1.009650319}}'"
       ]
      }
     ],
     "prompt_number": 4
    },
    {
     "cell_type": "code",
     "collapsed": false,
     "input": [
      "dfjo = DataFrame(dict(A=range(1,4), B=range(4,7),\n",
      "                      C=range(7,10)),\n",
      "                 columns=list('ABC'), index=list('xyz'))\n",
      "dfjo"
     ],
     "language": "python",
     "metadata": {},
     "outputs": [
      {
       "html": [
        "<div style=\"max-height:1000px;max-width:1500px;overflow:auto;\">\n",
        "<table border=\"1\" class=\"dataframe\">\n",
        "  <thead>\n",
        "    <tr style=\"text-align: right;\">\n",
        "      <th></th>\n",
        "      <th>A</th>\n",
        "      <th>B</th>\n",
        "      <th>C</th>\n",
        "    </tr>\n",
        "  </thead>\n",
        "  <tbody>\n",
        "    <tr>\n",
        "      <th>x</th>\n",
        "      <td> 1</td>\n",
        "      <td> 4</td>\n",
        "      <td> 7</td>\n",
        "    </tr>\n",
        "    <tr>\n",
        "      <th>y</th>\n",
        "      <td> 2</td>\n",
        "      <td> 5</td>\n",
        "      <td> 8</td>\n",
        "    </tr>\n",
        "    <tr>\n",
        "      <th>z</th>\n",
        "      <td> 3</td>\n",
        "      <td> 6</td>\n",
        "      <td> 9</td>\n",
        "    </tr>\n",
        "  </tbody>\n",
        "</table>\n",
        "</div>"
       ],
       "metadata": {},
       "output_type": "pyout",
       "prompt_number": 6,
       "text": [
        "   A  B  C\n",
        "x  1  4  7\n",
        "y  2  5  8\n",
        "z  3  6  9"
       ]
      }
     ],
     "prompt_number": 6
    },
    {
     "cell_type": "code",
     "collapsed": false,
     "input": [
      "sjo = Series(dict(x=15, y=16, z=17), name='D')\n",
      "sjo"
     ],
     "language": "python",
     "metadata": {},
     "outputs": [
      {
       "metadata": {},
       "output_type": "pyout",
       "prompt_number": 8,
       "text": [
        "x    15\n",
        "y    16\n",
        "z    17\n",
        "Name: D, dtype: int64"
       ]
      }
     ],
     "prompt_number": 8
    },
    {
     "cell_type": "code",
     "collapsed": false,
     "input": [
      "dfjo.to_json(orient=\"columns\")"
     ],
     "language": "python",
     "metadata": {},
     "outputs": [
      {
       "metadata": {},
       "output_type": "pyout",
       "prompt_number": 9,
       "text": [
        "'{\"A\":{\"x\":1,\"y\":2,\"z\":3},\"B\":{\"x\":4,\"y\":5,\"z\":6},\"C\":{\"x\":7,\"y\":8,\"z\":9}}'"
       ]
      }
     ],
     "prompt_number": 9
    },
    {
     "cell_type": "code",
     "collapsed": false,
     "input": [
      "dfjo.to_json(orient=\"index\")"
     ],
     "language": "python",
     "metadata": {},
     "outputs": [
      {
       "metadata": {},
       "output_type": "pyout",
       "prompt_number": 11,
       "text": [
        "'{\"x\":{\"A\":1,\"B\":4,\"C\":7},\"y\":{\"A\":2,\"B\":5,\"C\":8},\"z\":{\"A\":3,\"B\":6,\"C\":9}}'"
       ]
      }
     ],
     "prompt_number": 11
    },
    {
     "cell_type": "code",
     "collapsed": false,
     "input": [
      "dfjo.to_json(orient=\"records\")"
     ],
     "language": "python",
     "metadata": {},
     "outputs": [
      {
       "metadata": {},
       "output_type": "pyout",
       "prompt_number": 31,
       "text": [
        "'[{\"A\":1,\"B\":4,\"C\":7},{\"A\":2,\"B\":5,\"C\":8},{\"A\":3,\"B\":6,\"C\":9}]'"
       ]
      }
     ],
     "prompt_number": 31
    },
    {
     "cell_type": "code",
     "collapsed": false,
     "input": [
      "dfjo.to_json(orient=\"values\")"
     ],
     "language": "python",
     "metadata": {},
     "outputs": [
      {
       "metadata": {},
       "output_type": "pyout",
       "prompt_number": 32,
       "text": [
        "'[[1,4,7],[2,5,8],[3,6,9]]'"
       ]
      }
     ],
     "prompt_number": 32
    },
    {
     "cell_type": "code",
     "collapsed": false,
     "input": [
      "dfjo.to_json(orient=\"split\")"
     ],
     "language": "python",
     "metadata": {},
     "outputs": [
      {
       "metadata": {},
       "output_type": "pyout",
       "prompt_number": 33,
       "text": [
        "'{\"columns\":[\"A\",\"B\",\"C\"],\"index\":[\"x\",\"y\",\"z\"],\"data\":[[1,4,7],[2,5,8],[3,6,9]]}'"
       ]
      }
     ],
     "prompt_number": 33
    },
    {
     "cell_type": "code",
     "collapsed": false,
     "input": [
      "# write date_format\n",
      "dfd = DataFrame(randn(5, 2), columns=list('AB'))\n",
      "dfd['date'] = Timestamp('20130101')\n",
      "dfd = dfd.sort_index(1, ascending=False)\n",
      "json = dfd.to_json(date_format='iso')\n",
      "json"
     ],
     "language": "python",
     "metadata": {},
     "outputs": [
      {
       "metadata": {},
       "output_type": "pyout",
       "prompt_number": 18,
       "text": [
        "'{\"date\":{\"0\":\"2013-01-01T00:00:00.000Z\",\"1\":\"2013-01-01T00:00:00.000Z\",\"2\":\"2013-01-01T00:00:00.000Z\",\"3\":\"2013-01-01T00:00:00.000Z\",\"4\":\"2013-01-01T00:00:00.000Z\"},\"B\":{\"0\":-0.4381998989,\"1\":-1.3000712745,\"2\":0.0244179449,\"3\":-0.3297843342,\"4\":0.3118457326},\"A\":{\"0\":1.2210684615,\"1\":1.181767525,\"2\":-1.0868741937,\"3\":0.5132954686,\"4\":-0.7667691447}}'"
       ]
      }
     ],
     "prompt_number": 18
    },
    {
     "cell_type": "code",
     "collapsed": false,
     "input": [
      "# iso with microsecond\n",
      "json = dfd.to_json(date_format='iso', date_unit='us')\n",
      "json"
     ],
     "language": "python",
     "metadata": {},
     "outputs": [
      {
       "metadata": {},
       "output_type": "pyout",
       "prompt_number": 20,
       "text": [
        "'{\"date\":{\"0\":\"2013-01-01T00:00:00.000000Z\",\"1\":\"2013-01-01T00:00:00.000000Z\",\"2\":\"2013-01-01T00:00:00.000000Z\",\"3\":\"2013-01-01T00:00:00.000000Z\",\"4\":\"2013-01-01T00:00:00.000000Z\"},\"B\":{\"0\":-0.4381998989,\"1\":-1.3000712745,\"2\":0.0244179449,\"3\":-0.3297843342,\"4\":0.3118457326},\"A\":{\"0\":1.2210684615,\"1\":1.181767525,\"2\":-1.0868741937,\"3\":0.5132954686,\"4\":-0.7667691447}}'"
       ]
      }
     ],
     "prompt_number": 20
    },
    {
     "cell_type": "code",
     "collapsed": false,
     "input": [
      "# timestamps\n",
      "json = dfd.to_json(date_format='epoch', date_unit='s')\n",
      "json"
     ],
     "language": "python",
     "metadata": {},
     "outputs": [
      {
       "metadata": {},
       "output_type": "pyout",
       "prompt_number": 39,
       "text": [
        "'{\"date\":{\"0\":1356998400,\"1\":1356998400,\"2\":1356998400,\"3\":1356998400,\"4\":1356998400},\"B\":{\"0\":-0.4381998989,\"1\":-1.3000712745,\"2\":0.0244179449,\"3\":-0.3297843342,\"4\":0.3118457326},\"A\":{\"0\":1.2210684615,\"1\":1.181767525,\"2\":-1.0868741937,\"3\":0.5132954686,\"4\":-0.7667691447}}'"
       ]
      }
     ],
     "prompt_number": 39
    },
    {
     "cell_type": "code",
     "collapsed": false,
     "input": [
      "read_json(json)"
     ],
     "language": "python",
     "metadata": {},
     "outputs": [
      {
       "html": [
        "<div style=\"max-height:1000px;max-width:1500px;overflow:auto;\">\n",
        "<table border=\"1\" class=\"dataframe\">\n",
        "  <thead>\n",
        "    <tr style=\"text-align: right;\">\n",
        "      <th></th>\n",
        "      <th>A</th>\n",
        "      <th>B</th>\n",
        "      <th>date</th>\n",
        "    </tr>\n",
        "  </thead>\n",
        "  <tbody>\n",
        "    <tr>\n",
        "      <th>0</th>\n",
        "      <td> 1.221068</td>\n",
        "      <td>-0.438200</td>\n",
        "      <td>2013-01-01</td>\n",
        "    </tr>\n",
        "    <tr>\n",
        "      <th>1</th>\n",
        "      <td> 1.181768</td>\n",
        "      <td>-1.300071</td>\n",
        "      <td>2013-01-01</td>\n",
        "    </tr>\n",
        "    <tr>\n",
        "      <th>2</th>\n",
        "      <td>-1.086874</td>\n",
        "      <td> 0.024418</td>\n",
        "      <td>2013-01-01</td>\n",
        "    </tr>\n",
        "    <tr>\n",
        "      <th>3</th>\n",
        "      <td> 0.513295</td>\n",
        "      <td>-0.329784</td>\n",
        "      <td>2013-01-01</td>\n",
        "    </tr>\n",
        "    <tr>\n",
        "      <th>4</th>\n",
        "      <td>-0.766769</td>\n",
        "      <td> 0.311846</td>\n",
        "      <td>2013-01-01</td>\n",
        "    </tr>\n",
        "  </tbody>\n",
        "</table>\n",
        "</div>"
       ],
       "metadata": {},
       "output_type": "pyout",
       "prompt_number": 43,
       "text": [
        "          A         B       date\n",
        "0  1.221068 -0.438200 2013-01-01\n",
        "1  1.181768 -1.300071 2013-01-01\n",
        "2 -1.086874  0.024418 2013-01-01\n",
        "3  0.513295 -0.329784 2013-01-01\n",
        "4 -0.766769  0.311846 2013-01-01"
       ]
      }
     ],
     "prompt_number": 43
    },
    {
     "cell_type": "code",
     "collapsed": false,
     "input": [
      "# Don't convert data\n",
      "read_json(json, dtype=object).dtypes"
     ],
     "language": "python",
     "metadata": {},
     "outputs": [
      {
       "metadata": {},
       "output_type": "pyout",
       "prompt_number": 44,
       "text": [
        "A       object\n",
        "B       object\n",
        "date    object\n",
        "dtype: object"
       ]
      }
     ],
     "prompt_number": 44
    },
    {
     "cell_type": "code",
     "collapsed": false,
     "input": [
      "read_json(json, dtype={'A' : 'float32', 'B' : 'int8'}).dtypes"
     ],
     "language": "python",
     "metadata": {},
     "outputs": [
      {
       "metadata": {},
       "output_type": "pyout",
       "prompt_number": 49,
       "text": [
        "A              float32\n",
        "B                 int8\n",
        "date    datetime64[ns]\n",
        "dtype: object"
       ]
      }
     ],
     "prompt_number": 49
    },
    {
     "cell_type": "code",
     "collapsed": false,
     "input": [
      "# Read by numpy\n",
      "from timeit import timeit\n",
      "randfloats = np.random.uniform(-100, 1000, 10000)\n",
      "randfloats.shape = (1000, 10)\n",
      "dffloats = DataFrame(randfloats, columns=list('ABCDEFGHIJ'))\n",
      "jsonfloats = dffloats.to_json()\n",
      "%timeit read_json(jsonfloats)"
     ],
     "language": "python",
     "metadata": {},
     "outputs": [
      {
       "output_type": "stream",
       "stream": "stdout",
       "text": [
        "10 loops, best of 3: 19.7 ms per loop\n"
       ]
      }
     ],
     "prompt_number": 56
    },
    {
     "cell_type": "code",
     "collapsed": false,
     "input": [
      "%timeit read_json(jsonfloats, numpy=True)"
     ],
     "language": "python",
     "metadata": {},
     "outputs": [
      {
       "output_type": "stream",
       "stream": "stdout",
       "text": [
        "100 loops, best of 3: 11.8 ms per loop\n"
       ]
      }
     ],
     "prompt_number": 59
    },
    {
     "cell_type": "code",
     "collapsed": false,
     "input": [
      "from pandas.io.json import json_normalize\n",
      "data = [{'state': 'Florida',\n",
      "          'shortname': 'FL',\n",
      "          'info': {\n",
      "               'governor': 'Rick Scott'\n",
      "          },\n",
      "          'counties': [{'name': 'Dade', 'population': 12345},\n",
      "                      {'name': 'Broward', 'population': 40000},\n",
      "                      {'name': 'Palm Beach', 'population': 60000}]},\n",
      "         {'state': 'Ohio',\n",
      "          'shortname': 'OH',\n",
      "          'info': {\n",
      "               'governor': 'John Kasich'\n",
      "          },\n",
      "          'counties': [{'name': 'Summit', 'population': 1234},\n",
      "                       {'name': 'Cuyahoga', 'population': 1337}]}]\n",
      "json_normalize(data, 'counties',\n",
      "               ['state', 'shortname', ['info', 'governor']])"
     ],
     "language": "python",
     "metadata": {},
     "outputs": [],
     "prompt_number": 60
    }
   ],
   "metadata": {}
  }
 ]
}