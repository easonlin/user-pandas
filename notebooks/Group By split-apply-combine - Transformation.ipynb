{
 "metadata": {
  "name": "",
  "signature": "sha256:3db3298b9fdede1ea1d0e455fc1f31505de48848d5f09317d79fdac58f486f65"
 },
 "nbformat": 3,
 "nbformat_minor": 0,
 "worksheets": [
  {
   "cells": [
    {
     "cell_type": "heading",
     "level": 1,
     "metadata": {},
     "source": [
      "Group By split-apply-combine - Transformation http://pandas.pydata.org/pandas-docs/stable/groupby.html"
     ]
    },
    {
     "cell_type": "code",
     "collapsed": false,
     "input": [
      "from pandas import *\n",
      "index = date_range('10/1/1999', periods=1100)\n",
      "ts = Series(np.random.normal(0.5, 2, 1100), index)\n",
      "ts = rolling_mean(ts, 100, 100).dropna()\n",
      "ts.head()"
     ],
     "language": "python",
     "metadata": {},
     "outputs": [
      {
       "metadata": {},
       "output_type": "pyout",
       "prompt_number": 60,
       "text": [
        "2000-01-08    0.405703\n",
        "2000-01-09    0.477999\n",
        "2000-01-10    0.500543\n",
        "2000-01-11    0.452979\n",
        "2000-01-12    0.442400\n",
        "Freq: D, dtype: float64"
       ]
      }
     ],
     "prompt_number": 60
    },
    {
     "cell_type": "code",
     "collapsed": false,
     "input": [
      "ts.tail()"
     ],
     "language": "python",
     "metadata": {},
     "outputs": [
      {
       "metadata": {},
       "output_type": "pyout",
       "prompt_number": 61,
       "text": [
        "2002-09-30    0.931328\n",
        "2002-10-01    0.929686\n",
        "2002-10-02    0.930879\n",
        "2002-10-03    0.876451\n",
        "2002-10-04    0.906409\n",
        "Freq: D, dtype: float64"
       ]
      }
     ],
     "prompt_number": 61
    },
    {
     "cell_type": "code",
     "collapsed": false,
     "input": [
      "key = lambda x: x.year\n",
      "zscore = lambda x: (x - x.mean()) / x.std()\n",
      "transformed = ts.groupby(key).transform(zscore)\n",
      "transformed"
     ],
     "language": "python",
     "metadata": {},
     "outputs": [
      {
       "metadata": {},
       "output_type": "pyout",
       "prompt_number": 62,
       "text": [
        "2000-01-08   -0.415668\n",
        "2000-01-09    0.118578\n",
        "2000-01-10    0.285168\n",
        "2000-01-11   -0.066313\n",
        "2000-01-12   -0.144491\n",
        "2000-01-13   -0.609146\n",
        "2000-01-14   -0.608697\n",
        "2000-01-15   -0.359580\n",
        "2000-01-16   -0.484826\n",
        "2000-01-17   -0.961248\n",
        "2000-01-18   -1.174202\n",
        "2000-01-19   -1.167195\n",
        "2000-01-20   -0.920260\n",
        "2000-01-21   -0.804280\n",
        "2000-01-22   -0.619689\n",
        "...\n",
        "2002-09-20    2.343395\n",
        "2002-09-21    2.364281\n",
        "2002-09-22    2.424281\n",
        "2002-09-23    2.700675\n",
        "2002-09-24    2.618189\n",
        "2002-09-25    2.874774\n",
        "2002-09-26    2.971948\n",
        "2002-09-27    2.778830\n",
        "2002-09-28    2.957419\n",
        "2002-09-29    2.708538\n",
        "2002-09-30    2.582558\n",
        "2002-10-01    2.574731\n",
        "2002-10-02    2.580420\n",
        "2002-10-03    2.320890\n",
        "2002-10-04    2.463738\n",
        "Freq: D, Length: 1001"
       ]
      }
     ],
     "prompt_number": 62
    },
    {
     "cell_type": "code",
     "collapsed": false,
     "input": [
      "grouped = ts.groupby(key)\n",
      "grouped.mean()"
     ],
     "language": "python",
     "metadata": {},
     "outputs": [
      {
       "metadata": {},
       "output_type": "pyout",
       "prompt_number": 63,
       "text": [
        "2000    0.461953\n",
        "2001    0.546794\n",
        "2002    0.389716\n",
        "dtype: float64"
       ]
      }
     ],
     "prompt_number": 63
    },
    {
     "cell_type": "code",
     "collapsed": false,
     "input": [
      "grouped.std()"
     ],
     "language": "python",
     "metadata": {},
     "outputs": [
      {
       "metadata": {},
       "output_type": "pyout",
       "prompt_number": 64,
       "text": [
        "2000    0.135323\n",
        "2001    0.125840\n",
        "2002    0.209719\n",
        "dtype: float64"
       ]
      }
     ],
     "prompt_number": 64
    },
    {
     "cell_type": "code",
     "collapsed": false,
     "input": [
      "grouped_trans = transformed.groupby(key)\n",
      "grouped_trans.mean()"
     ],
     "language": "python",
     "metadata": {},
     "outputs": [
      {
       "metadata": {},
       "output_type": "pyout",
       "prompt_number": 65,
       "text": [
        "2000   -3.574342e-15\n",
        "2001   -8.668865e-17\n",
        "2002    2.581168e-16\n",
        "dtype: float64"
       ]
      }
     ],
     "prompt_number": 65
    },
    {
     "cell_type": "code",
     "collapsed": false,
     "input": [
      "grouped_trans.std()"
     ],
     "language": "python",
     "metadata": {},
     "outputs": [
      {
       "metadata": {},
       "output_type": "pyout",
       "prompt_number": 66,
       "text": [
        "2000    1\n",
        "2001    1\n",
        "2002    1\n",
        "dtype: float64"
       ]
      }
     ],
     "prompt_number": 66
    },
    {
     "cell_type": "code",
     "collapsed": false,
     "input": [
      "# Visually compare trnasformed result\n",
      "compare = DataFrame({'Original': ts, 'Transformed': transformed})\n",
      "compare.plot()"
     ],
     "language": "python",
     "metadata": {},
     "outputs": [
      {
       "metadata": {},
       "output_type": "pyout",
       "prompt_number": 67,
       "text": [
        "<matplotlib.axes.AxesSubplot at 0x9b9eed0>"
       ]
      },
      {
       "metadata": {},
       "output_type": "display_data",
       "png": "[encoded data removed]",
       "text": [
        "<matplotlib.figure.Figure at 0x9938bf0>"
       ]
      }
     ],
     "prompt_number": 67
    },
    {
     "cell_type": "code",
     "collapsed": false,
     "input": [
      "from io import BytesIO\n",
      "from pandas import *\n",
      "data_df = read_fwf(BytesIO(\"\"\"            A         B         C\n",
      "0    1.539708 -1.166480  0.533026\n",
      "1    1.302092 -0.505754       NaN\n",
      "2   -0.371983  1.104803 -0.651520\n",
      "3   -1.309622  1.118697 -1.161657\n",
      "4   -1.924296  0.396437  0.812436\n",
      "5    0.815643  0.367816 -0.469478\n",
      "6   -0.030651  1.376106 -0.645129\"\"\"), index_col = 0)\n",
      "data_df"
     ],
     "language": "python",
     "metadata": {},
     "outputs": [
      {
       "html": [
        "<div style=\"max-height:1000px;max-width:1500px;overflow:auto;\">\n",
        "<table border=\"1\" class=\"dataframe\">\n",
        "  <thead>\n",
        "    <tr style=\"text-align: right;\">\n",
        "      <th></th>\n",
        "      <th>A</th>\n",
        "      <th>B</th>\n",
        "      <th>C</th>\n",
        "    </tr>\n",
        "  </thead>\n",
        "  <tbody>\n",
        "    <tr>\n",
        "      <th>0</th>\n",
        "      <td> 1.539708</td>\n",
        "      <td>-1.166480</td>\n",
        "      <td> 0.533026</td>\n",
        "    </tr>\n",
        "    <tr>\n",
        "      <th>1</th>\n",
        "      <td> 1.302092</td>\n",
        "      <td>-0.505754</td>\n",
        "      <td>      NaN</td>\n",
        "    </tr>\n",
        "    <tr>\n",
        "      <th>2</th>\n",
        "      <td>-0.371983</td>\n",
        "      <td> 1.104803</td>\n",
        "      <td>-0.651520</td>\n",
        "    </tr>\n",
        "    <tr>\n",
        "      <th>3</th>\n",
        "      <td>-1.309622</td>\n",
        "      <td> 1.118697</td>\n",
        "      <td>-1.161657</td>\n",
        "    </tr>\n",
        "    <tr>\n",
        "      <th>4</th>\n",
        "      <td>-1.924296</td>\n",
        "      <td> 0.396437</td>\n",
        "      <td> 0.812436</td>\n",
        "    </tr>\n",
        "    <tr>\n",
        "      <th>5</th>\n",
        "      <td> 0.815643</td>\n",
        "      <td> 0.367816</td>\n",
        "      <td>-0.469478</td>\n",
        "    </tr>\n",
        "    <tr>\n",
        "      <th>6</th>\n",
        "      <td>-0.030651</td>\n",
        "      <td> 1.376106</td>\n",
        "      <td>-0.645129</td>\n",
        "    </tr>\n",
        "  </tbody>\n",
        "</table>\n",
        "</div>"
       ],
       "metadata": {},
       "output_type": "pyout",
       "prompt_number": 68,
       "text": [
        "          A         B         C\n",
        "0  1.539708 -1.166480  0.533026\n",
        "1  1.302092 -0.505754       NaN\n",
        "2 -0.371983  1.104803 -0.651520\n",
        "3 -1.309622  1.118697 -1.161657\n",
        "4 -1.924296  0.396437  0.812436\n",
        "5  0.815643  0.367816 -0.469478\n",
        "6 -0.030651  1.376106 -0.645129"
       ]
      }
     ],
     "prompt_number": 68
    },
    {
     "cell_type": "code",
     "collapsed": false,
     "input": [
      "# Non-NA count in each group\n",
      "countries = np.array(['US', 'UK', 'GR', 'JP'])\n",
      "key = countries[np.random.randint(0, 4, 7)]\n",
      "grouped = data_df.groupby(key)\n",
      "grouped.count()"
     ],
     "language": "python",
     "metadata": {},
     "outputs": [
      {
       "html": [
        "<div style=\"max-height:1000px;max-width:1500px;overflow:auto;\">\n",
        "<table border=\"1\" class=\"dataframe\">\n",
        "  <thead>\n",
        "    <tr style=\"text-align: right;\">\n",
        "      <th></th>\n",
        "      <th>A</th>\n",
        "      <th>B</th>\n",
        "      <th>C</th>\n",
        "    </tr>\n",
        "  </thead>\n",
        "  <tbody>\n",
        "    <tr>\n",
        "      <th>GR</th>\n",
        "      <td> 2</td>\n",
        "      <td> 2</td>\n",
        "      <td> 2</td>\n",
        "    </tr>\n",
        "    <tr>\n",
        "      <th>JP</th>\n",
        "      <td> 2</td>\n",
        "      <td> 2</td>\n",
        "      <td> 1</td>\n",
        "    </tr>\n",
        "    <tr>\n",
        "      <th>UK</th>\n",
        "      <td> 1</td>\n",
        "      <td> 1</td>\n",
        "      <td> 1</td>\n",
        "    </tr>\n",
        "    <tr>\n",
        "      <th>US</th>\n",
        "      <td> 2</td>\n",
        "      <td> 2</td>\n",
        "      <td> 2</td>\n",
        "    </tr>\n",
        "  </tbody>\n",
        "</table>\n",
        "</div>"
       ],
       "metadata": {},
       "output_type": "pyout",
       "prompt_number": 69,
       "text": [
        "    A  B  C\n",
        "GR  2  2  2\n",
        "JP  2  2  1\n",
        "UK  1  1  1\n",
        "US  2  2  2"
       ]
      }
     ],
     "prompt_number": 69
    },
    {
     "cell_type": "code",
     "collapsed": false,
     "input": [
      "f = lambda x: x.fillna(x.mean())\n",
      "transformed = grouped.transform(f)\n",
      "transformed"
     ],
     "language": "python",
     "metadata": {},
     "outputs": [
      {
       "html": [
        "<div style=\"max-height:1000px;max-width:1500px;overflow:auto;\">\n",
        "<table border=\"1\" class=\"dataframe\">\n",
        "  <thead>\n",
        "    <tr style=\"text-align: right;\">\n",
        "      <th></th>\n",
        "      <th>A</th>\n",
        "      <th>B</th>\n",
        "      <th>C</th>\n",
        "    </tr>\n",
        "  </thead>\n",
        "  <tbody>\n",
        "    <tr>\n",
        "      <th>0</th>\n",
        "      <td> 1.539708</td>\n",
        "      <td>-1.166480</td>\n",
        "      <td> 0.533026</td>\n",
        "    </tr>\n",
        "    <tr>\n",
        "      <th>1</th>\n",
        "      <td> 1.302092</td>\n",
        "      <td>-0.505754</td>\n",
        "      <td>-1.161657</td>\n",
        "    </tr>\n",
        "    <tr>\n",
        "      <th>2</th>\n",
        "      <td>-0.371983</td>\n",
        "      <td> 1.104803</td>\n",
        "      <td>-0.651520</td>\n",
        "    </tr>\n",
        "    <tr>\n",
        "      <th>3</th>\n",
        "      <td>-1.309622</td>\n",
        "      <td> 1.118697</td>\n",
        "      <td>-1.161657</td>\n",
        "    </tr>\n",
        "    <tr>\n",
        "      <th>4</th>\n",
        "      <td>-1.924296</td>\n",
        "      <td> 0.396437</td>\n",
        "      <td> 0.812436</td>\n",
        "    </tr>\n",
        "    <tr>\n",
        "      <th>5</th>\n",
        "      <td> 0.815643</td>\n",
        "      <td> 0.367816</td>\n",
        "      <td>-0.469478</td>\n",
        "    </tr>\n",
        "    <tr>\n",
        "      <th>6</th>\n",
        "      <td>-0.030651</td>\n",
        "      <td> 1.376106</td>\n",
        "      <td>-0.645129</td>\n",
        "    </tr>\n",
        "  </tbody>\n",
        "</table>\n",
        "</div>"
       ],
       "metadata": {},
       "output_type": "pyout",
       "prompt_number": 70,
       "text": [
        "          A         B         C\n",
        "0  1.539708 -1.166480  0.533026\n",
        "1  1.302092 -0.505754 -1.161657\n",
        "2 -0.371983  1.104803 -0.651520\n",
        "3 -1.309622  1.118697 -1.161657\n",
        "4 -1.924296  0.396437  0.812436\n",
        "5  0.815643  0.367816 -0.469478\n",
        "6 -0.030651  1.376106 -0.645129"
       ]
      }
     ],
     "prompt_number": 70
    },
    {
     "cell_type": "code",
     "collapsed": false,
     "input": [
      "grouped_trans = transformed.groupby(key)\n",
      "grouped.mean() # original group means"
     ],
     "language": "python",
     "metadata": {},
     "outputs": [
      {
       "html": [
        "<div style=\"max-height:1000px;max-width:1500px;overflow:auto;\">\n",
        "<table border=\"1\" class=\"dataframe\">\n",
        "  <thead>\n",
        "    <tr style=\"text-align: right;\">\n",
        "      <th></th>\n",
        "      <th>A</th>\n",
        "      <th>B</th>\n",
        "      <th>C</th>\n",
        "    </tr>\n",
        "  </thead>\n",
        "  <tbody>\n",
        "    <tr>\n",
        "      <th>GR</th>\n",
        "      <td>-0.192294</td>\n",
        "      <td>-0.385022</td>\n",
        "      <td> 0.672731</td>\n",
        "    </tr>\n",
        "    <tr>\n",
        "      <th>JP</th>\n",
        "      <td>-0.003765</td>\n",
        "      <td> 0.306471</td>\n",
        "      <td>-1.161657</td>\n",
        "    </tr>\n",
        "    <tr>\n",
        "      <th>UK</th>\n",
        "      <td>-0.371983</td>\n",
        "      <td> 1.104803</td>\n",
        "      <td>-0.651520</td>\n",
        "    </tr>\n",
        "    <tr>\n",
        "      <th>US</th>\n",
        "      <td> 0.392496</td>\n",
        "      <td> 0.871961</td>\n",
        "      <td>-0.557303</td>\n",
        "    </tr>\n",
        "  </tbody>\n",
        "</table>\n",
        "</div>"
       ],
       "metadata": {},
       "output_type": "pyout",
       "prompt_number": 71,
       "text": [
        "           A         B         C\n",
        "GR -0.192294 -0.385022  0.672731\n",
        "JP -0.003765  0.306471 -1.161657\n",
        "UK -0.371983  1.104803 -0.651520\n",
        "US  0.392496  0.871961 -0.557303"
       ]
      }
     ],
     "prompt_number": 71
    },
    {
     "cell_type": "code",
     "collapsed": false,
     "input": [
      "grouped_trans.mean() # transformation did not change group means"
     ],
     "language": "python",
     "metadata": {},
     "outputs": [
      {
       "html": [
        "<div style=\"max-height:1000px;max-width:1500px;overflow:auto;\">\n",
        "<table border=\"1\" class=\"dataframe\">\n",
        "  <thead>\n",
        "    <tr style=\"text-align: right;\">\n",
        "      <th></th>\n",
        "      <th>A</th>\n",
        "      <th>B</th>\n",
        "      <th>C</th>\n",
        "    </tr>\n",
        "  </thead>\n",
        "  <tbody>\n",
        "    <tr>\n",
        "      <th>GR</th>\n",
        "      <td>-0.192294</td>\n",
        "      <td>-0.385022</td>\n",
        "      <td> 0.672731</td>\n",
        "    </tr>\n",
        "    <tr>\n",
        "      <th>JP</th>\n",
        "      <td>-0.003765</td>\n",
        "      <td> 0.306471</td>\n",
        "      <td>-1.161657</td>\n",
        "    </tr>\n",
        "    <tr>\n",
        "      <th>UK</th>\n",
        "      <td>-0.371983</td>\n",
        "      <td> 1.104803</td>\n",
        "      <td>-0.651520</td>\n",
        "    </tr>\n",
        "    <tr>\n",
        "      <th>US</th>\n",
        "      <td> 0.392496</td>\n",
        "      <td> 0.871961</td>\n",
        "      <td>-0.557303</td>\n",
        "    </tr>\n",
        "  </tbody>\n",
        "</table>\n",
        "</div>"
       ],
       "metadata": {},
       "output_type": "pyout",
       "prompt_number": 72,
       "text": [
        "           A         B         C\n",
        "GR -0.192294 -0.385022  0.672731\n",
        "JP -0.003765  0.306471 -1.161657\n",
        "UK -0.371983  1.104803 -0.651520\n",
        "US  0.392496  0.871961 -0.557303"
       ]
      }
     ],
     "prompt_number": 72
    },
    {
     "cell_type": "code",
     "collapsed": false,
     "input": [
      " grouped.count() # original has some missing data points"
     ],
     "language": "python",
     "metadata": {},
     "outputs": [
      {
       "html": [
        "<div style=\"max-height:1000px;max-width:1500px;overflow:auto;\">\n",
        "<table border=\"1\" class=\"dataframe\">\n",
        "  <thead>\n",
        "    <tr style=\"text-align: right;\">\n",
        "      <th></th>\n",
        "      <th>A</th>\n",
        "      <th>B</th>\n",
        "      <th>C</th>\n",
        "    </tr>\n",
        "  </thead>\n",
        "  <tbody>\n",
        "    <tr>\n",
        "      <th>GR</th>\n",
        "      <td> 2</td>\n",
        "      <td> 2</td>\n",
        "      <td> 2</td>\n",
        "    </tr>\n",
        "    <tr>\n",
        "      <th>JP</th>\n",
        "      <td> 2</td>\n",
        "      <td> 2</td>\n",
        "      <td> 1</td>\n",
        "    </tr>\n",
        "    <tr>\n",
        "      <th>UK</th>\n",
        "      <td> 1</td>\n",
        "      <td> 1</td>\n",
        "      <td> 1</td>\n",
        "    </tr>\n",
        "    <tr>\n",
        "      <th>US</th>\n",
        "      <td> 2</td>\n",
        "      <td> 2</td>\n",
        "      <td> 2</td>\n",
        "    </tr>\n",
        "  </tbody>\n",
        "</table>\n",
        "</div>"
       ],
       "metadata": {},
       "output_type": "pyout",
       "prompt_number": 73,
       "text": [
        "    A  B  C\n",
        "GR  2  2  2\n",
        "JP  2  2  1\n",
        "UK  1  1  1\n",
        "US  2  2  2"
       ]
      }
     ],
     "prompt_number": 73
    },
    {
     "cell_type": "code",
     "collapsed": false,
     "input": [
      "grouped_trans.count() # counts after transformation"
     ],
     "language": "python",
     "metadata": {},
     "outputs": [
      {
       "html": [
        "<div style=\"max-height:1000px;max-width:1500px;overflow:auto;\">\n",
        "<table border=\"1\" class=\"dataframe\">\n",
        "  <thead>\n",
        "    <tr style=\"text-align: right;\">\n",
        "      <th></th>\n",
        "      <th>A</th>\n",
        "      <th>B</th>\n",
        "      <th>C</th>\n",
        "    </tr>\n",
        "  </thead>\n",
        "  <tbody>\n",
        "    <tr>\n",
        "      <th>GR</th>\n",
        "      <td> 2</td>\n",
        "      <td> 2</td>\n",
        "      <td> 2</td>\n",
        "    </tr>\n",
        "    <tr>\n",
        "      <th>JP</th>\n",
        "      <td> 2</td>\n",
        "      <td> 2</td>\n",
        "      <td> 2</td>\n",
        "    </tr>\n",
        "    <tr>\n",
        "      <th>UK</th>\n",
        "      <td> 1</td>\n",
        "      <td> 1</td>\n",
        "      <td> 1</td>\n",
        "    </tr>\n",
        "    <tr>\n",
        "      <th>US</th>\n",
        "      <td> 2</td>\n",
        "      <td> 2</td>\n",
        "      <td> 2</td>\n",
        "    </tr>\n",
        "  </tbody>\n",
        "</table>\n",
        "</div>"
       ],
       "metadata": {},
       "output_type": "pyout",
       "prompt_number": 74,
       "text": [
        "    A  B  C\n",
        "GR  2  2  2\n",
        "JP  2  2  2\n",
        "UK  1  1  1\n",
        "US  2  2  2"
       ]
      }
     ],
     "prompt_number": 74
    },
    {
     "cell_type": "code",
     "collapsed": false,
     "input": [
      "grouped_trans.size() # Verify non-NA count equals group size"
     ],
     "language": "python",
     "metadata": {},
     "outputs": [
      {
       "metadata": {},
       "output_type": "pyout",
       "prompt_number": 75,
       "text": [
        "GR    2\n",
        "JP    2\n",
        "UK    1\n",
        "US    2\n",
        "dtype: int64"
       ]
      }
     ],
     "prompt_number": 75
    },
    {
     "cell_type": "code",
     "collapsed": false,
     "input": [],
     "language": "python",
     "metadata": {},
     "outputs": [],
     "prompt_number": 75
    }
   ],
   "metadata": {}
  }
 ]
}