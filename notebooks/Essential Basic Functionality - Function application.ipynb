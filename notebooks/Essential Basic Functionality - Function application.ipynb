{
 "metadata": {
  "name": "",
  "signature": "sha256:464b0a1be4de3d63f9f8858e4f963fa401165e1bdae74c9fac77be29e2f78260"
 },
 "nbformat": 3,
 "nbformat_minor": 0,
 "worksheets": [
  {
   "cells": [
    {
     "cell_type": "heading",
     "level": 1,
     "metadata": {},
     "source": [
      "Function application http://pandas.pydata.org/pandas-docs/stable/basics.html"
     ]
    },
    {
     "cell_type": "code",
     "collapsed": false,
     "input": [
      "from pandas import *\n",
      "from io import *\n",
      "df = read_fwf(BytesIO(\"\"\"        one     three       two\n",
      "a -0.701368       NaN -0.087103\n",
      "b  0.109333 -0.354359  0.637674\n",
      "c -0.231617 -0.148387 -0.002666\n",
      "d       NaN -0.167407  0.104044\"\"\"), index_col=0)\n",
      "df"
     ],
     "language": "python",
     "metadata": {},
     "outputs": [
      {
       "html": [
        "<div style=\"max-height:1000px;max-width:1500px;overflow:auto;\">\n",
        "<table border=\"1\" class=\"dataframe\">\n",
        "  <thead>\n",
        "    <tr style=\"text-align: right;\">\n",
        "      <th></th>\n",
        "      <th>one</th>\n",
        "      <th>three</th>\n",
        "      <th>two</th>\n",
        "    </tr>\n",
        "  </thead>\n",
        "  <tbody>\n",
        "    <tr>\n",
        "      <th>a</th>\n",
        "      <td>-0.701368</td>\n",
        "      <td>      NaN</td>\n",
        "      <td>-0.087103</td>\n",
        "    </tr>\n",
        "    <tr>\n",
        "      <th>b</th>\n",
        "      <td> 0.109333</td>\n",
        "      <td>-0.354359</td>\n",
        "      <td> 0.637674</td>\n",
        "    </tr>\n",
        "    <tr>\n",
        "      <th>c</th>\n",
        "      <td>-0.231617</td>\n",
        "      <td>-0.148387</td>\n",
        "      <td>-0.002666</td>\n",
        "    </tr>\n",
        "    <tr>\n",
        "      <th>d</th>\n",
        "      <td>      NaN</td>\n",
        "      <td>-0.167407</td>\n",
        "      <td> 0.104044</td>\n",
        "    </tr>\n",
        "  </tbody>\n",
        "</table>\n",
        "</div>"
       ],
       "metadata": {},
       "output_type": "pyout",
       "prompt_number": 3,
       "text": [
        "        one     three       two\n",
        "a -0.701368       NaN -0.087103\n",
        "b  0.109333 -0.354359  0.637674\n",
        "c -0.231617 -0.148387 -0.002666\n",
        "d       NaN -0.167407  0.104044"
       ]
      }
     ],
     "prompt_number": 3
    },
    {
     "cell_type": "code",
     "collapsed": false,
     "input": [
      "df.apply(np.mean)"
     ],
     "language": "python",
     "metadata": {},
     "outputs": [
      {
       "metadata": {},
       "output_type": "pyout",
       "prompt_number": 5,
       "text": [
        "one     -0.274551\n",
        "three   -0.223384\n",
        "two      0.162987\n",
        "dtype: float64"
       ]
      }
     ],
     "prompt_number": 5
    },
    {
     "cell_type": "code",
     "collapsed": false,
     "input": [
      "df.apply(np.mean, axis=1)"
     ],
     "language": "python",
     "metadata": {},
     "outputs": [
      {
       "metadata": {},
       "output_type": "pyout",
       "prompt_number": 6,
       "text": [
        "a   -0.394236\n",
        "b    0.130883\n",
        "c   -0.127557\n",
        "d   -0.031681\n",
        "dtype: float64"
       ]
      }
     ],
     "prompt_number": 6
    },
    {
     "cell_type": "code",
     "collapsed": false,
     "input": [
      "df.apply(lambda x: x.max() - x.min())"
     ],
     "language": "python",
     "metadata": {},
     "outputs": [
      {
       "metadata": {},
       "output_type": "pyout",
       "prompt_number": 7,
       "text": [
        "one      0.810701\n",
        "three    0.205972\n",
        "two      0.724777\n",
        "dtype: float64"
       ]
      }
     ],
     "prompt_number": 7
    },
    {
     "cell_type": "code",
     "collapsed": false,
     "input": [
      "df.apply(np.cumsum)"
     ],
     "language": "python",
     "metadata": {},
     "outputs": [
      {
       "html": [
        "<div style=\"max-height:1000px;max-width:1500px;overflow:auto;\">\n",
        "<table border=\"1\" class=\"dataframe\">\n",
        "  <thead>\n",
        "    <tr style=\"text-align: right;\">\n",
        "      <th></th>\n",
        "      <th>one</th>\n",
        "      <th>three</th>\n",
        "      <th>two</th>\n",
        "    </tr>\n",
        "  </thead>\n",
        "  <tbody>\n",
        "    <tr>\n",
        "      <th>a</th>\n",
        "      <td>-0.701368</td>\n",
        "      <td>      NaN</td>\n",
        "      <td>-0.087103</td>\n",
        "    </tr>\n",
        "    <tr>\n",
        "      <th>b</th>\n",
        "      <td>-0.592035</td>\n",
        "      <td>-0.354359</td>\n",
        "      <td> 0.550571</td>\n",
        "    </tr>\n",
        "    <tr>\n",
        "      <th>c</th>\n",
        "      <td>-0.823652</td>\n",
        "      <td>-0.502746</td>\n",
        "      <td> 0.547905</td>\n",
        "    </tr>\n",
        "    <tr>\n",
        "      <th>d</th>\n",
        "      <td>      NaN</td>\n",
        "      <td>-0.670153</td>\n",
        "      <td> 0.651949</td>\n",
        "    </tr>\n",
        "  </tbody>\n",
        "</table>\n",
        "</div>"
       ],
       "metadata": {},
       "output_type": "pyout",
       "prompt_number": 9,
       "text": [
        "        one     three       two\n",
        "a -0.701368       NaN -0.087103\n",
        "b -0.592035 -0.354359  0.550571\n",
        "c -0.823652 -0.502746  0.547905\n",
        "d       NaN -0.670153  0.651949"
       ]
      }
     ],
     "prompt_number": 9
    },
    {
     "cell_type": "code",
     "collapsed": false,
     "input": [
      "tsdf = DataFrame(randn(1000, 3), columns=['A', 'B', 'C'],\n",
      "                 index=date_range('1/1/2000', periods=1000))\n",
      "tsdf.apply(lambda x: x.idxmax())"
     ],
     "language": "python",
     "metadata": {},
     "outputs": [
      {
       "metadata": {},
       "output_type": "pyout",
       "prompt_number": 10,
       "text": [
        "A   2001-04-24\n",
        "B   2002-05-09\n",
        "C   2000-06-19\n",
        "dtype: datetime64[ns]"
       ]
      }
     ],
     "prompt_number": 10
    },
    {
     "cell_type": "code",
     "collapsed": false,
     "input": [
      "# apply function with args and kwargs\n",
      "def subtract_and_divide(x, sub, divide=1):\n",
      "    return (x - sub) / divide\n",
      "df.apply(subtract_and_divide, args=(5,), divide=3)"
     ],
     "language": "python",
     "metadata": {},
     "outputs": [
      {
       "html": [
        "<div style=\"max-height:1000px;max-width:1500px;overflow:auto;\">\n",
        "<table border=\"1\" class=\"dataframe\">\n",
        "  <thead>\n",
        "    <tr style=\"text-align: right;\">\n",
        "      <th></th>\n",
        "      <th>one</th>\n",
        "      <th>three</th>\n",
        "      <th>two</th>\n",
        "    </tr>\n",
        "  </thead>\n",
        "  <tbody>\n",
        "    <tr>\n",
        "      <th>a</th>\n",
        "      <td>-1.900456</td>\n",
        "      <td>      NaN</td>\n",
        "      <td>-1.695701</td>\n",
        "    </tr>\n",
        "    <tr>\n",
        "      <th>b</th>\n",
        "      <td>-1.630222</td>\n",
        "      <td>-1.784786</td>\n",
        "      <td>-1.454109</td>\n",
        "    </tr>\n",
        "    <tr>\n",
        "      <th>c</th>\n",
        "      <td>-1.743872</td>\n",
        "      <td>-1.716129</td>\n",
        "      <td>-1.667555</td>\n",
        "    </tr>\n",
        "    <tr>\n",
        "      <th>d</th>\n",
        "      <td>      NaN</td>\n",
        "      <td>-1.722469</td>\n",
        "      <td>-1.631985</td>\n",
        "    </tr>\n",
        "  </tbody>\n",
        "</table>\n",
        "</div>"
       ],
       "metadata": {},
       "output_type": "pyout",
       "prompt_number": 12,
       "text": [
        "        one     three       two\n",
        "a -1.900456       NaN -1.695701\n",
        "b -1.630222 -1.784786 -1.454109\n",
        "c -1.743872 -1.716129 -1.667555\n",
        "d       NaN -1.722469 -1.631985"
       ]
      }
     ],
     "prompt_number": 12
    },
    {
     "cell_type": "code",
     "collapsed": false,
     "input": [
      "tsdf2 = tsdf.iloc[:8]\n",
      "tsdf2.iloc[2:4] = np.nan\n",
      "print tsdf2\n",
      "tsdf2.apply(Series.interpolate)"
     ],
     "language": "python",
     "metadata": {},
     "outputs": [
      {
       "output_type": "stream",
       "stream": "stdout",
       "text": [
        "                   A         B         C\n",
        "2000-01-01  0.942047 -0.357205 -1.658879\n",
        "2000-01-02  0.889132 -0.203944  1.618454\n",
        "2000-01-03       NaN       NaN       NaN\n",
        "2000-01-04       NaN       NaN       NaN\n",
        "2000-01-05 -1.037685  0.166786 -0.710007\n",
        "2000-01-06  0.928635 -1.277091 -1.658606\n",
        "2000-01-07 -1.301993  0.614647 -1.439956\n",
        "2000-01-08  0.674232 -1.668620  0.618835\n"
       ]
      },
      {
       "html": [
        "<div style=\"max-height:1000px;max-width:1500px;overflow:auto;\">\n",
        "<table border=\"1\" class=\"dataframe\">\n",
        "  <thead>\n",
        "    <tr style=\"text-align: right;\">\n",
        "      <th></th>\n",
        "      <th>A</th>\n",
        "      <th>B</th>\n",
        "      <th>C</th>\n",
        "    </tr>\n",
        "  </thead>\n",
        "  <tbody>\n",
        "    <tr>\n",
        "      <th>2000-01-01</th>\n",
        "      <td> 0.942047</td>\n",
        "      <td>-0.357205</td>\n",
        "      <td>-1.658879</td>\n",
        "    </tr>\n",
        "    <tr>\n",
        "      <th>2000-01-02</th>\n",
        "      <td> 0.889132</td>\n",
        "      <td>-0.203944</td>\n",
        "      <td> 1.618454</td>\n",
        "    </tr>\n",
        "    <tr>\n",
        "      <th>2000-01-03</th>\n",
        "      <td> 0.246860</td>\n",
        "      <td>-0.080367</td>\n",
        "      <td> 0.842300</td>\n",
        "    </tr>\n",
        "    <tr>\n",
        "      <th>2000-01-04</th>\n",
        "      <td>-0.395413</td>\n",
        "      <td> 0.043209</td>\n",
        "      <td> 0.066147</td>\n",
        "    </tr>\n",
        "    <tr>\n",
        "      <th>2000-01-05</th>\n",
        "      <td>-1.037685</td>\n",
        "      <td> 0.166786</td>\n",
        "      <td>-0.710007</td>\n",
        "    </tr>\n",
        "    <tr>\n",
        "      <th>2000-01-06</th>\n",
        "      <td> 0.928635</td>\n",
        "      <td>-1.277091</td>\n",
        "      <td>-1.658606</td>\n",
        "    </tr>\n",
        "    <tr>\n",
        "      <th>2000-01-07</th>\n",
        "      <td>-1.301993</td>\n",
        "      <td> 0.614647</td>\n",
        "      <td>-1.439956</td>\n",
        "    </tr>\n",
        "    <tr>\n",
        "      <th>2000-01-08</th>\n",
        "      <td> 0.674232</td>\n",
        "      <td>-1.668620</td>\n",
        "      <td> 0.618835</td>\n",
        "    </tr>\n",
        "  </tbody>\n",
        "</table>\n",
        "</div>"
       ],
       "metadata": {},
       "output_type": "pyout",
       "prompt_number": 17,
       "text": [
        "                   A         B         C\n",
        "2000-01-01  0.942047 -0.357205 -1.658879\n",
        "2000-01-02  0.889132 -0.203944  1.618454\n",
        "2000-01-03  0.246860 -0.080367  0.842300\n",
        "2000-01-04 -0.395413  0.043209  0.066147\n",
        "2000-01-05 -1.037685  0.166786 -0.710007\n",
        "2000-01-06  0.928635 -1.277091 -1.658606\n",
        "2000-01-07 -1.301993  0.614647 -1.439956\n",
        "2000-01-08  0.674232 -1.668620  0.618835"
       ]
      }
     ],
     "prompt_number": 17
    },
    {
     "cell_type": "heading",
     "level": 2,
     "metadata": {},
     "source": [
      "Applying elementwise Python functions"
     ]
    },
    {
     "cell_type": "code",
     "collapsed": false,
     "input": [
      "df4 = read_fwf(BytesIO(\"\"\"        one     three       two\n",
      "a -0.701368       NaN -0.087103\n",
      "b  0.109333 -0.354359  0.637674\n",
      "c -0.231617 -0.148387 -0.002666\n",
      "d       NaN -0.167407  0.104044\"\"\"), index_col=0)\n",
      "df4"
     ],
     "language": "python",
     "metadata": {},
     "outputs": [
      {
       "html": [
        "<div style=\"max-height:1000px;max-width:1500px;overflow:auto;\">\n",
        "<table border=\"1\" class=\"dataframe\">\n",
        "  <thead>\n",
        "    <tr style=\"text-align: right;\">\n",
        "      <th></th>\n",
        "      <th>one</th>\n",
        "      <th>three</th>\n",
        "      <th>two</th>\n",
        "    </tr>\n",
        "  </thead>\n",
        "  <tbody>\n",
        "    <tr>\n",
        "      <th>a</th>\n",
        "      <td>-0.701368</td>\n",
        "      <td>      NaN</td>\n",
        "      <td>-0.087103</td>\n",
        "    </tr>\n",
        "    <tr>\n",
        "      <th>b</th>\n",
        "      <td> 0.109333</td>\n",
        "      <td>-0.354359</td>\n",
        "      <td> 0.637674</td>\n",
        "    </tr>\n",
        "    <tr>\n",
        "      <th>c</th>\n",
        "      <td>-0.231617</td>\n",
        "      <td>-0.148387</td>\n",
        "      <td>-0.002666</td>\n",
        "    </tr>\n",
        "    <tr>\n",
        "      <th>d</th>\n",
        "      <td>      NaN</td>\n",
        "      <td>-0.167407</td>\n",
        "      <td> 0.104044</td>\n",
        "    </tr>\n",
        "  </tbody>\n",
        "</table>\n",
        "</div>"
       ],
       "metadata": {},
       "output_type": "pyout",
       "prompt_number": 18,
       "text": [
        "        one     three       two\n",
        "a -0.701368       NaN -0.087103\n",
        "b  0.109333 -0.354359  0.637674\n",
        "c -0.231617 -0.148387 -0.002666\n",
        "d       NaN -0.167407  0.104044"
       ]
      }
     ],
     "prompt_number": 18
    },
    {
     "cell_type": "code",
     "collapsed": false,
     "input": [
      "f = lambda x: len(str(x))\n",
      "df4['one'].map(f)"
     ],
     "language": "python",
     "metadata": {},
     "outputs": [
      {
       "metadata": {},
       "output_type": "pyout",
       "prompt_number": 19,
       "text": [
        "a    9\n",
        "b    8\n",
        "c    9\n",
        "d    3\n",
        "Name: one, dtype: int64"
       ]
      }
     ],
     "prompt_number": 19
    },
    {
     "cell_type": "code",
     "collapsed": false,
     "input": [
      "df4.applymap(f)"
     ],
     "language": "python",
     "metadata": {},
     "outputs": [
      {
       "html": [
        "<div style=\"max-height:1000px;max-width:1500px;overflow:auto;\">\n",
        "<table border=\"1\" class=\"dataframe\">\n",
        "  <thead>\n",
        "    <tr style=\"text-align: right;\">\n",
        "      <th></th>\n",
        "      <th>one</th>\n",
        "      <th>three</th>\n",
        "      <th>two</th>\n",
        "    </tr>\n",
        "  </thead>\n",
        "  <tbody>\n",
        "    <tr>\n",
        "      <th>a</th>\n",
        "      <td> 9</td>\n",
        "      <td> 3</td>\n",
        "      <td> 9</td>\n",
        "    </tr>\n",
        "    <tr>\n",
        "      <th>b</th>\n",
        "      <td> 8</td>\n",
        "      <td> 9</td>\n",
        "      <td> 8</td>\n",
        "    </tr>\n",
        "    <tr>\n",
        "      <th>c</th>\n",
        "      <td> 9</td>\n",
        "      <td> 9</td>\n",
        "      <td> 9</td>\n",
        "    </tr>\n",
        "    <tr>\n",
        "      <th>d</th>\n",
        "      <td> 3</td>\n",
        "      <td> 9</td>\n",
        "      <td> 8</td>\n",
        "    </tr>\n",
        "  </tbody>\n",
        "</table>\n",
        "</div>"
       ],
       "metadata": {},
       "output_type": "pyout",
       "prompt_number": 20,
       "text": [
        "   one  three  two\n",
        "a    9      3    9\n",
        "b    8      9    8\n",
        "c    9      9    9\n",
        "d    3      9    8"
       ]
      }
     ],
     "prompt_number": 20
    },
    {
     "cell_type": "code",
     "collapsed": false,
     "input": [
      "s = Series(['six', 'seven', 'six', 'seven', 'six'],\n",
      "           index=['a', 'b', 'c', 'd', 'e'])\n",
      "t = Series({'six' : 6., 'seven' : 7.})\n",
      "print s\n",
      "print t\n",
      "s.map(t)"
     ],
     "language": "python",
     "metadata": {},
     "outputs": [
      {
       "output_type": "stream",
       "stream": "stdout",
       "text": [
        "a      six\n",
        "b    seven\n",
        "c      six\n",
        "d    seven\n",
        "e      six\n",
        "dtype: object\n",
        "seven    7\n",
        "six      6\n",
        "dtype: float64\n"
       ]
      },
      {
       "metadata": {},
       "output_type": "pyout",
       "prompt_number": 21,
       "text": [
        "a    6\n",
        "b    7\n",
        "c    6\n",
        "d    7\n",
        "e    6\n",
        "dtype: float64"
       ]
      }
     ],
     "prompt_number": 21
    },
    {
     "cell_type": "heading",
     "level": 2,
     "metadata": {},
     "source": [
      "Applying with a Panel"
     ]
    },
    {
     "cell_type": "code",
     "collapsed": false,
     "input": [
      "import pandas.util.testing as tm\n",
      "panel = tm.makePanel(5)\n",
      "panel"
     ],
     "language": "python",
     "metadata": {},
     "outputs": [
      {
       "metadata": {},
       "output_type": "pyout",
       "prompt_number": 22,
       "text": [
        "<class 'pandas.core.panel.Panel'>\n",
        "Dimensions: 3 (items) x 5 (major_axis) x 4 (minor_axis)\n",
        "Items axis: ItemA to ItemC\n",
        "Major_axis axis: 2000-01-03 00:00:00 to 2000-01-07 00:00:00\n",
        "Minor_axis axis: A to D"
       ]
      }
     ],
     "prompt_number": 22
    },
    {
     "cell_type": "code",
     "collapsed": false,
     "input": [
      "panel['ItemA']"
     ],
     "language": "python",
     "metadata": {},
     "outputs": [
      {
       "html": [
        "<div style=\"max-height:1000px;max-width:1500px;overflow:auto;\">\n",
        "<table border=\"1\" class=\"dataframe\">\n",
        "  <thead>\n",
        "    <tr style=\"text-align: right;\">\n",
        "      <th></th>\n",
        "      <th>A</th>\n",
        "      <th>B</th>\n",
        "      <th>C</th>\n",
        "      <th>D</th>\n",
        "    </tr>\n",
        "  </thead>\n",
        "  <tbody>\n",
        "    <tr>\n",
        "      <th>2000-01-03</th>\n",
        "      <td>-0.684107</td>\n",
        "      <td>-0.902345</td>\n",
        "      <td>-1.090603</td>\n",
        "      <td>-0.291011</td>\n",
        "    </tr>\n",
        "    <tr>\n",
        "      <th>2000-01-04</th>\n",
        "      <td>-0.976634</td>\n",
        "      <td>-0.745712</td>\n",
        "      <td>-0.144958</td>\n",
        "      <td>-0.477454</td>\n",
        "    </tr>\n",
        "    <tr>\n",
        "      <th>2000-01-05</th>\n",
        "      <td> 0.431490</td>\n",
        "      <td>-1.041079</td>\n",
        "      <td> 0.788913</td>\n",
        "      <td>-0.175019</td>\n",
        "    </tr>\n",
        "    <tr>\n",
        "      <th>2000-01-06</th>\n",
        "      <td> 0.544590</td>\n",
        "      <td>-1.530352</td>\n",
        "      <td> 0.136432</td>\n",
        "      <td>-1.448929</td>\n",
        "    </tr>\n",
        "    <tr>\n",
        "      <th>2000-01-07</th>\n",
        "      <td> 0.237215</td>\n",
        "      <td>-1.102596</td>\n",
        "      <td>-0.985752</td>\n",
        "      <td> 0.180732</td>\n",
        "    </tr>\n",
        "  </tbody>\n",
        "</table>\n",
        "</div>"
       ],
       "metadata": {},
       "output_type": "pyout",
       "prompt_number": 23,
       "text": [
        "                   A         B         C         D\n",
        "2000-01-03 -0.684107 -0.902345 -1.090603 -0.291011\n",
        "2000-01-04 -0.976634 -0.745712 -0.144958 -0.477454\n",
        "2000-01-05  0.431490 -1.041079  0.788913 -0.175019\n",
        "2000-01-06  0.544590 -1.530352  0.136432 -1.448929\n",
        "2000-01-07  0.237215 -1.102596 -0.985752  0.180732"
       ]
      }
     ],
     "prompt_number": 23
    },
    {
     "cell_type": "code",
     "collapsed": false,
     "input": [
      "result = panel.apply(lambda x: x*2, axis='items')\n",
      "result"
     ],
     "language": "python",
     "metadata": {},
     "outputs": [
      {
       "metadata": {},
       "output_type": "pyout",
       "prompt_number": 25,
       "text": [
        "<class 'pandas.core.panel.Panel'>\n",
        "Dimensions: 3 (items) x 5 (major_axis) x 4 (minor_axis)\n",
        "Items axis: ItemA to ItemC\n",
        "Major_axis axis: 2000-01-03 00:00:00 to 2000-01-07 00:00:00\n",
        "Minor_axis axis: A to D"
       ]
      }
     ],
     "prompt_number": 25
    },
    {
     "cell_type": "code",
     "collapsed": false,
     "input": [
      "result['ItemA']"
     ],
     "language": "python",
     "metadata": {},
     "outputs": [
      {
       "html": [
        "<div style=\"max-height:1000px;max-width:1500px;overflow:auto;\">\n",
        "<table border=\"1\" class=\"dataframe\">\n",
        "  <thead>\n",
        "    <tr style=\"text-align: right;\">\n",
        "      <th></th>\n",
        "      <th>A</th>\n",
        "      <th>B</th>\n",
        "      <th>C</th>\n",
        "      <th>D</th>\n",
        "    </tr>\n",
        "  </thead>\n",
        "  <tbody>\n",
        "    <tr>\n",
        "      <th>2000-01-03</th>\n",
        "      <td>-1.368213</td>\n",
        "      <td>-1.804690</td>\n",
        "      <td>-2.181206</td>\n",
        "      <td>-0.582022</td>\n",
        "    </tr>\n",
        "    <tr>\n",
        "      <th>2000-01-04</th>\n",
        "      <td>-1.953268</td>\n",
        "      <td>-1.491424</td>\n",
        "      <td>-0.289917</td>\n",
        "      <td>-0.954908</td>\n",
        "    </tr>\n",
        "    <tr>\n",
        "      <th>2000-01-05</th>\n",
        "      <td> 0.862980</td>\n",
        "      <td>-2.082159</td>\n",
        "      <td> 1.577826</td>\n",
        "      <td>-0.350039</td>\n",
        "    </tr>\n",
        "    <tr>\n",
        "      <th>2000-01-06</th>\n",
        "      <td> 1.089181</td>\n",
        "      <td>-3.060704</td>\n",
        "      <td> 0.272865</td>\n",
        "      <td>-2.897859</td>\n",
        "    </tr>\n",
        "    <tr>\n",
        "      <th>2000-01-07</th>\n",
        "      <td> 0.474431</td>\n",
        "      <td>-2.205193</td>\n",
        "      <td>-1.971505</td>\n",
        "      <td> 0.361463</td>\n",
        "    </tr>\n",
        "  </tbody>\n",
        "</table>\n",
        "</div>"
       ],
       "metadata": {},
       "output_type": "pyout",
       "prompt_number": 26,
       "text": [
        "                   A         B         C         D\n",
        "2000-01-03 -1.368213 -1.804690 -2.181206 -0.582022\n",
        "2000-01-04 -1.953268 -1.491424 -0.289917 -0.954908\n",
        "2000-01-05  0.862980 -2.082159  1.577826 -0.350039\n",
        "2000-01-06  1.089181 -3.060704  0.272865 -2.897859\n",
        "2000-01-07  0.474431 -2.205193 -1.971505  0.361463"
       ]
      }
     ],
     "prompt_number": 26
    },
    {
     "cell_type": "code",
     "collapsed": false,
     "input": [
      "# Reduction\n",
      "panel.apply(lambda x: x.dtype, axis='items')"
     ],
     "language": "python",
     "metadata": {},
     "outputs": [
      {
       "html": [
        "<div style=\"max-height:1000px;max-width:1500px;overflow:auto;\">\n",
        "<table border=\"1\" class=\"dataframe\">\n",
        "  <thead>\n",
        "    <tr style=\"text-align: right;\">\n",
        "      <th></th>\n",
        "      <th>A</th>\n",
        "      <th>B</th>\n",
        "      <th>C</th>\n",
        "      <th>D</th>\n",
        "    </tr>\n",
        "  </thead>\n",
        "  <tbody>\n",
        "    <tr>\n",
        "      <th>2000-01-03</th>\n",
        "      <td> float64</td>\n",
        "      <td> float64</td>\n",
        "      <td> float64</td>\n",
        "      <td> float64</td>\n",
        "    </tr>\n",
        "    <tr>\n",
        "      <th>2000-01-04</th>\n",
        "      <td> float64</td>\n",
        "      <td> float64</td>\n",
        "      <td> float64</td>\n",
        "      <td> float64</td>\n",
        "    </tr>\n",
        "    <tr>\n",
        "      <th>2000-01-05</th>\n",
        "      <td> float64</td>\n",
        "      <td> float64</td>\n",
        "      <td> float64</td>\n",
        "      <td> float64</td>\n",
        "    </tr>\n",
        "    <tr>\n",
        "      <th>2000-01-06</th>\n",
        "      <td> float64</td>\n",
        "      <td> float64</td>\n",
        "      <td> float64</td>\n",
        "      <td> float64</td>\n",
        "    </tr>\n",
        "    <tr>\n",
        "      <th>2000-01-07</th>\n",
        "      <td> float64</td>\n",
        "      <td> float64</td>\n",
        "      <td> float64</td>\n",
        "      <td> float64</td>\n",
        "    </tr>\n",
        "  </tbody>\n",
        "</table>\n",
        "</div>"
       ],
       "metadata": {},
       "output_type": "pyout",
       "prompt_number": 27,
       "text": [
        "                  A        B        C        D\n",
        "2000-01-03  float64  float64  float64  float64\n",
        "2000-01-04  float64  float64  float64  float64\n",
        "2000-01-05  float64  float64  float64  float64\n",
        "2000-01-06  float64  float64  float64  float64\n",
        "2000-01-07  float64  float64  float64  float64"
       ]
      }
     ],
     "prompt_number": 27
    },
    {
     "cell_type": "code",
     "collapsed": false,
     "input": [
      "panel.apply(lambda x: x.sum(), axis='major_axis')"
     ],
     "language": "python",
     "metadata": {},
     "outputs": [
      {
       "html": [
        "<div style=\"max-height:1000px;max-width:1500px;overflow:auto;\">\n",
        "<table border=\"1\" class=\"dataframe\">\n",
        "  <thead>\n",
        "    <tr style=\"text-align: right;\">\n",
        "      <th></th>\n",
        "      <th>ItemA</th>\n",
        "      <th>ItemB</th>\n",
        "      <th>ItemC</th>\n",
        "    </tr>\n",
        "  </thead>\n",
        "  <tbody>\n",
        "    <tr>\n",
        "      <th>A</th>\n",
        "      <td>-0.447445</td>\n",
        "      <td>-2.502996</td>\n",
        "      <td> 0.617554</td>\n",
        "    </tr>\n",
        "    <tr>\n",
        "      <th>B</th>\n",
        "      <td>-5.322085</td>\n",
        "      <td>-1.153974</td>\n",
        "      <td> 4.732209</td>\n",
        "    </tr>\n",
        "    <tr>\n",
        "      <th>C</th>\n",
        "      <td>-1.295968</td>\n",
        "      <td>-1.228067</td>\n",
        "      <td>-3.928856</td>\n",
        "    </tr>\n",
        "    <tr>\n",
        "      <th>D</th>\n",
        "      <td>-2.211682</td>\n",
        "      <td>-4.298792</td>\n",
        "      <td> 5.718628</td>\n",
        "    </tr>\n",
        "  </tbody>\n",
        "</table>\n",
        "</div>"
       ],
       "metadata": {},
       "output_type": "pyout",
       "prompt_number": 28,
       "text": [
        "      ItemA     ItemB     ItemC\n",
        "A -0.447445 -2.502996  0.617554\n",
        "B -5.322085 -1.153974  4.732209\n",
        "C -1.295968 -1.228067 -3.928856\n",
        "D -2.211682 -4.298792  5.718628"
       ]
      }
     ],
     "prompt_number": 28
    },
    {
     "cell_type": "code",
     "collapsed": false,
     "input": [
      "panel.sum('major_axis')"
     ],
     "language": "python",
     "metadata": {},
     "outputs": [
      {
       "html": [
        "<div style=\"max-height:1000px;max-width:1500px;overflow:auto;\">\n",
        "<table border=\"1\" class=\"dataframe\">\n",
        "  <thead>\n",
        "    <tr style=\"text-align: right;\">\n",
        "      <th></th>\n",
        "      <th>ItemA</th>\n",
        "      <th>ItemB</th>\n",
        "      <th>ItemC</th>\n",
        "    </tr>\n",
        "  </thead>\n",
        "  <tbody>\n",
        "    <tr>\n",
        "      <th>A</th>\n",
        "      <td>-0.447445</td>\n",
        "      <td>-2.502996</td>\n",
        "      <td> 0.617554</td>\n",
        "    </tr>\n",
        "    <tr>\n",
        "      <th>B</th>\n",
        "      <td>-5.322085</td>\n",
        "      <td>-1.153974</td>\n",
        "      <td> 4.732209</td>\n",
        "    </tr>\n",
        "    <tr>\n",
        "      <th>C</th>\n",
        "      <td>-1.295968</td>\n",
        "      <td>-1.228067</td>\n",
        "      <td>-3.928856</td>\n",
        "    </tr>\n",
        "    <tr>\n",
        "      <th>D</th>\n",
        "      <td>-2.211682</td>\n",
        "      <td>-4.298792</td>\n",
        "      <td> 5.718628</td>\n",
        "    </tr>\n",
        "  </tbody>\n",
        "</table>\n",
        "</div>"
       ],
       "metadata": {},
       "output_type": "pyout",
       "prompt_number": 29,
       "text": [
        "      ItemA     ItemB     ItemC\n",
        "A -0.447445 -2.502996  0.617554\n",
        "B -5.322085 -1.153974  4.732209\n",
        "C -1.295968 -1.228067 -3.928856\n",
        "D -2.211682 -4.298792  5.718628"
       ]
      }
     ],
     "prompt_number": 29
    },
    {
     "cell_type": "code",
     "collapsed": false,
     "input": [
      "result = panel.apply(lambda x: (x-x.mean())/x.std(),\n",
      "                     axis='major_axis')\n",
      "result"
     ],
     "language": "python",
     "metadata": {},
     "outputs": [
      {
       "metadata": {},
       "output_type": "pyout",
       "prompt_number": 30,
       "text": [
        "<class 'pandas.core.panel.Panel'>\n",
        "Dimensions: 3 (items) x 5 (major_axis) x 4 (minor_axis)\n",
        "Items axis: ItemA to ItemC\n",
        "Major_axis axis: 2000-01-03 00:00:00 to 2000-01-07 00:00:00\n",
        "Minor_axis axis: A to D"
       ]
      }
     ],
     "prompt_number": 30
    },
    {
     "cell_type": "code",
     "collapsed": false,
     "input": [
      "result['ItemA']"
     ],
     "language": "python",
     "metadata": {},
     "outputs": [
      {
       "html": [
        "<div style=\"max-height:1000px;max-width:1500px;overflow:auto;\">\n",
        "<table border=\"1\" class=\"dataframe\">\n",
        "  <thead>\n",
        "    <tr style=\"text-align: right;\">\n",
        "      <th></th>\n",
        "      <th>A</th>\n",
        "      <th>B</th>\n",
        "      <th>C</th>\n",
        "      <th>D</th>\n",
        "    </tr>\n",
        "  </thead>\n",
        "  <tbody>\n",
        "    <tr>\n",
        "      <th>2000-01-03</th>\n",
        "      <td>-0.858076</td>\n",
        "      <td> 0.550315</td>\n",
        "      <td>-1.054356</td>\n",
        "      <td> 0.247358</td>\n",
        "    </tr>\n",
        "    <tr>\n",
        "      <th>2000-01-04</th>\n",
        "      <td>-1.280214</td>\n",
        "      <td> 1.082164</td>\n",
        "      <td> 0.144868</td>\n",
        "      <td>-0.057404</td>\n",
        "    </tr>\n",
        "    <tr>\n",
        "      <th>2000-01-05</th>\n",
        "      <td> 0.751810</td>\n",
        "      <td> 0.079243</td>\n",
        "      <td> 1.329162</td>\n",
        "      <td> 0.436959</td>\n",
        "    </tr>\n",
        "    <tr>\n",
        "      <th>2000-01-06</th>\n",
        "      <td> 0.915022</td>\n",
        "      <td>-1.582083</td>\n",
        "      <td> 0.501715</td>\n",
        "      <td>-1.645387</td>\n",
        "    </tr>\n",
        "    <tr>\n",
        "      <th>2000-01-07</th>\n",
        "      <td> 0.471458</td>\n",
        "      <td>-0.129639</td>\n",
        "      <td>-0.921389</td>\n",
        "      <td> 1.018473</td>\n",
        "    </tr>\n",
        "  </tbody>\n",
        "</table>\n",
        "</div>"
       ],
       "metadata": {},
       "output_type": "pyout",
       "prompt_number": 31,
       "text": [
        "                   A         B         C         D\n",
        "2000-01-03 -0.858076  0.550315 -1.054356  0.247358\n",
        "2000-01-04 -1.280214  1.082164  0.144868 -0.057404\n",
        "2000-01-05  0.751810  0.079243  1.329162  0.436959\n",
        "2000-01-06  0.915022 -1.582083  0.501715 -1.645387\n",
        "2000-01-07  0.471458 -0.129639 -0.921389  1.018473"
       ]
      }
     ],
     "prompt_number": 31
    },
    {
     "cell_type": "code",
     "collapsed": false,
     "input": [
      "# Apllying DataFrame (two axis)\n",
      "f = lambda x: ((x.T-x.mean(1))/x.std(1)).T\n",
      "result = panel.apply(f, axis = ['items','major_axis'])\n",
      "result"
     ],
     "language": "python",
     "metadata": {},
     "outputs": [
      {
       "metadata": {},
       "output_type": "pyout",
       "prompt_number": 32,
       "text": [
        "<class 'pandas.core.panel.Panel'>\n",
        "Dimensions: 4 (items) x 5 (major_axis) x 3 (minor_axis)\n",
        "Items axis: A to D\n",
        "Major_axis axis: 2000-01-03 00:00:00 to 2000-01-07 00:00:00\n",
        "Minor_axis axis: ItemA to ItemC"
       ]
      }
     ],
     "prompt_number": 32
    },
    {
     "cell_type": "code",
     "collapsed": false,
     "input": [
      "result.loc[:,:,'ItemA']"
     ],
     "language": "python",
     "metadata": {},
     "outputs": [
      {
       "html": [
        "<div style=\"max-height:1000px;max-width:1500px;overflow:auto;\">\n",
        "<table border=\"1\" class=\"dataframe\">\n",
        "  <thead>\n",
        "    <tr style=\"text-align: right;\">\n",
        "      <th></th>\n",
        "      <th>A</th>\n",
        "      <th>B</th>\n",
        "      <th>C</th>\n",
        "      <th>D</th>\n",
        "    </tr>\n",
        "  </thead>\n",
        "  <tbody>\n",
        "    <tr>\n",
        "      <th>2000-01-03</th>\n",
        "      <td>-0.695923</td>\n",
        "      <td>-0.126939</td>\n",
        "      <td>-1.114994</td>\n",
        "      <td> 0.673159</td>\n",
        "    </tr>\n",
        "    <tr>\n",
        "      <th>2000-01-04</th>\n",
        "      <td>-0.677291</td>\n",
        "      <td>-0.846016</td>\n",
        "      <td> 1.147801</td>\n",
        "      <td>-0.196431</td>\n",
        "    </tr>\n",
        "    <tr>\n",
        "      <th>2000-01-05</th>\n",
        "      <td> 0.601406</td>\n",
        "      <td>-0.806739</td>\n",
        "      <td> 0.369166</td>\n",
        "      <td>-0.343356</td>\n",
        "    </tr>\n",
        "    <tr>\n",
        "      <th>2000-01-06</th>\n",
        "      <td> 0.116497</td>\n",
        "      <td>-1.102748</td>\n",
        "      <td> 0.953897</td>\n",
        "      <td>-0.899344</td>\n",
        "    </tr>\n",
        "    <tr>\n",
        "      <th>2000-01-07</th>\n",
        "      <td> 0.834289</td>\n",
        "      <td>-1.132698</td>\n",
        "      <td> 0.234957</td>\n",
        "      <td> 0.205089</td>\n",
        "    </tr>\n",
        "  </tbody>\n",
        "</table>\n",
        "</div>"
       ],
       "metadata": {},
       "output_type": "pyout",
       "prompt_number": 33,
       "text": [
        "                   A         B         C         D\n",
        "2000-01-03 -0.695923 -0.126939 -1.114994  0.673159\n",
        "2000-01-04 -0.677291 -0.846016  1.147801 -0.196431\n",
        "2000-01-05  0.601406 -0.806739  0.369166 -0.343356\n",
        "2000-01-06  0.116497 -1.102748  0.953897 -0.899344\n",
        "2000-01-07  0.834289 -1.132698  0.234957  0.205089"
       ]
      }
     ],
     "prompt_number": 33
    },
    {
     "cell_type": "code",
     "collapsed": false,
     "input": [
      "result = Panel(dict([ (ax,f(panel.loc[:,:,ax]))\n",
      "                     for ax in panel.minor_axis ]))\n",
      "result"
     ],
     "language": "python",
     "metadata": {},
     "outputs": [
      {
       "metadata": {},
       "output_type": "pyout",
       "prompt_number": 34,
       "text": [
        "<class 'pandas.core.panel.Panel'>\n",
        "Dimensions: 4 (items) x 5 (major_axis) x 3 (minor_axis)\n",
        "Items axis: A to D\n",
        "Major_axis axis: 2000-01-03 00:00:00 to 2000-01-07 00:00:00\n",
        "Minor_axis axis: ItemA to ItemC"
       ]
      }
     ],
     "prompt_number": 34
    },
    {
     "cell_type": "code",
     "collapsed": false,
     "input": [],
     "language": "python",
     "metadata": {},
     "outputs": []
    }
   ],
   "metadata": {}
  }
 ]
}