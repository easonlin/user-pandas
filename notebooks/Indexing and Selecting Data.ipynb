{
 "metadata": {
  "name": "",
  "signature": "sha256:e94d99cb9d8b788fecd59563534e5048517337a1fa2ff8aee6a4a5f8a582b5e9"
 },
 "nbformat": 3,
 "nbformat_minor": 0,
 "worksheets": [
  {
   "cells": [
    {
     "cell_type": "heading",
     "level": 1,
     "metadata": {},
     "source": [
      "Indexing and Selecting Data http://pandas.pydata.org/pandas-docs/stable/indexing.html"
     ]
    },
    {
     "cell_type": "heading",
     "level": 2,
     "metadata": {},
     "source": [
      "Attribute Access"
     ]
    },
    {
     "cell_type": "code",
     "collapsed": false,
     "input": [
      "from pandas import *\n",
      "dates = date_range('1/1/2000', periods=8)\n",
      "df = DataFrame(randn(8, 4), index=dates, columns=['A', 'B', 'C', 'D'])\n",
      "sa = Series([1,2,3],index=list('abc'))\n",
      "dfa = df.copy()\n",
      "dfa.A"
     ],
     "language": "python",
     "metadata": {},
     "outputs": [
      {
       "metadata": {},
       "output_type": "pyout",
       "prompt_number": 14,
       "text": [
        "2000-01-01    1.465834\n",
        "2000-01-02    0.752514\n",
        "2000-01-03   -2.408163\n",
        "2000-01-04   -0.541430\n",
        "2000-01-05   -0.146969\n",
        "2000-01-06   -0.089438\n",
        "2000-01-07   -1.018512\n",
        "2000-01-08   -0.718693\n",
        "Freq: D, Name: A, dtype: float64"
       ]
      }
     ],
     "prompt_number": 14
    },
    {
     "cell_type": "code",
     "collapsed": false,
     "input": [
      "sa.a = 5\n",
      "print sa\n",
      "sa.c = 1\n",
      "print sa"
     ],
     "language": "python",
     "metadata": {},
     "outputs": [
      {
       "output_type": "stream",
       "stream": "stdout",
       "text": [
        "a    5\n",
        "b    2\n",
        "c    3\n",
        "dtype: int64\n",
        "a    5\n",
        "b    2\n",
        "c    1\n",
        "dtype: int64\n"
       ]
      }
     ],
     "prompt_number": 15
    },
    {
     "cell_type": "heading",
     "level": 2,
     "metadata": {},
     "source": [
      "Slicing ranges"
     ]
    },
    {
     "cell_type": "code",
     "collapsed": false,
     "input": [
      "print sa[:5]\n",
      "print sa[::2]"
     ],
     "language": "python",
     "metadata": {},
     "outputs": [
      {
       "output_type": "stream",
       "stream": "stdout",
       "text": [
        "a    5\n",
        "b    2\n",
        "c    1\n",
        "dtype: int64\n",
        "a    5\n",
        "c    1\n",
        "dtype: int64\n"
       ]
      }
     ],
     "prompt_number": 16
    },
    {
     "cell_type": "code",
     "collapsed": false,
     "input": [
      "sa[:5] = 0\n",
      "sa"
     ],
     "language": "python",
     "metadata": {},
     "outputs": [
      {
       "metadata": {},
       "output_type": "pyout",
       "prompt_number": 17,
       "text": [
        "a    0\n",
        "b    0\n",
        "c    0\n",
        "dtype: int64"
       ]
      }
     ],
     "prompt_number": 17
    },
    {
     "cell_type": "code",
     "collapsed": false,
     "input": [
      "df1 = df\n",
      "# slices the rows\n",
      "print df[:3]\n",
      "print df[::-1]"
     ],
     "language": "python",
     "metadata": {},
     "outputs": [
      {
       "output_type": "stream",
       "stream": "stdout",
       "text": [
        "                   A         B         C         D\n",
        "2000-01-01  1.465834  0.254185 -1.279018 -1.046822\n",
        "2000-01-02  0.752514  1.569238 -0.806454  0.303788\n",
        "2000-01-03 -2.408163 -0.006360 -0.066385  0.891180\n",
        "                   A         B         C         D\n",
        "2000-01-08 -0.718693  1.148541 -1.156817  1.909955\n",
        "2000-01-07 -1.018512 -0.280983  0.391206  1.129206\n",
        "2000-01-06 -0.089438 -0.096170 -1.124256  1.551909\n",
        "2000-01-05 -0.146969 -0.712589 -1.492066  2.365109\n",
        "2000-01-04 -0.541430 -0.623131 -0.647784  0.669353\n",
        "2000-01-03 -2.408163 -0.006360 -0.066385  0.891180\n",
        "2000-01-02  0.752514  1.569238 -0.806454  0.303788\n",
        "2000-01-01  1.465834  0.254185 -1.279018 -1.046822\n"
       ]
      }
     ],
     "prompt_number": 18
    },
    {
     "cell_type": "heading",
     "level": 3,
     "metadata": {},
     "source": [
      "Indexing with isin"
     ]
    },
    {
     "cell_type": "code",
     "collapsed": false,
     "input": [
      "s = Series(np.arange(5),index=np.arange(5)[::-1],dtype='int64')\n",
      "s"
     ],
     "language": "python",
     "metadata": {},
     "outputs": [
      {
       "metadata": {},
       "output_type": "pyout",
       "prompt_number": 19,
       "text": [
        "4    0\n",
        "3    1\n",
        "2    2\n",
        "1    3\n",
        "0    4\n",
        "dtype: int64"
       ]
      }
     ],
     "prompt_number": 19
    },
    {
     "cell_type": "code",
     "collapsed": false,
     "input": [
      "s.isin([2, 4])"
     ],
     "language": "python",
     "metadata": {},
     "outputs": [
      {
       "metadata": {},
       "output_type": "pyout",
       "prompt_number": 20,
       "text": [
        "4    False\n",
        "3    False\n",
        "2     True\n",
        "1    False\n",
        "0     True\n",
        "dtype: bool"
       ]
      }
     ],
     "prompt_number": 20
    },
    {
     "cell_type": "code",
     "collapsed": false,
     "input": [
      "s[s.isin([2, 4])]"
     ],
     "language": "python",
     "metadata": {},
     "outputs": [
      {
       "metadata": {},
       "output_type": "pyout",
       "prompt_number": 21,
       "text": [
        "2    2\n",
        "0    4\n",
        "dtype: int64"
       ]
      }
     ],
     "prompt_number": 21
    },
    {
     "cell_type": "code",
     "collapsed": false,
     "input": [
      "df = DataFrame({'vals': [1, 2, 3, 4], 'ids': ['a', 'b', 'f', 'n'],\n",
      "                'ids2': ['a', 'n', 'c', 'n']})\n",
      "# Combine DataFrame\u2019s isin with the any() and all() methods\n",
      "values = {'ids': ['a', 'b'], 'ids2': ['a', 'c'], 'vals': [1, 3]}\n",
      "row_mask = df.isin(values).all(1)\n",
      "df[row_mask]"
     ],
     "language": "python",
     "metadata": {},
     "outputs": [
      {
       "html": [
        "<div style=\"max-height:1000px;max-width:1500px;overflow:auto;\">\n",
        "<table border=\"1\" class=\"dataframe\">\n",
        "  <thead>\n",
        "    <tr style=\"text-align: right;\">\n",
        "      <th></th>\n",
        "      <th>ids</th>\n",
        "      <th>ids2</th>\n",
        "      <th>vals</th>\n",
        "    </tr>\n",
        "  </thead>\n",
        "  <tbody>\n",
        "    <tr>\n",
        "      <th>0</th>\n",
        "      <td> a</td>\n",
        "      <td> a</td>\n",
        "      <td> 1</td>\n",
        "    </tr>\n",
        "  </tbody>\n",
        "</table>\n",
        "</div>"
       ],
       "metadata": {},
       "output_type": "pyout",
       "prompt_number": 22,
       "text": [
        "  ids ids2  vals\n",
        "0   a    a     1"
       ]
      }
     ],
     "prompt_number": 22
    },
    {
     "cell_type": "heading",
     "level": 2,
     "metadata": {},
     "source": [
      "The where() Method and Masking"
     ]
    },
    {
     "cell_type": "code",
     "collapsed": false,
     "input": [
      "# To return only the selected rows\n",
      "s[s > 0]"
     ],
     "language": "python",
     "metadata": {},
     "outputs": [
      {
       "metadata": {},
       "output_type": "pyout",
       "prompt_number": 23,
       "text": [
        "3    1\n",
        "2    2\n",
        "1    3\n",
        "0    4\n",
        "dtype: int64"
       ]
      }
     ],
     "prompt_number": 23
    },
    {
     "cell_type": "code",
     "collapsed": false,
     "input": [
      "# To return a Series of the same shape as the original\n",
      "s.where(s>0)"
     ],
     "language": "python",
     "metadata": {},
     "outputs": [
      {
       "metadata": {},
       "output_type": "pyout",
       "prompt_number": 24,
       "text": [
        "4   NaN\n",
        "3     1\n",
        "2     2\n",
        "1     3\n",
        "0     4\n",
        "dtype: float64"
       ]
      }
     ],
     "prompt_number": 24
    },
    {
     "cell_type": "code",
     "collapsed": false,
     "input": [
      "# Equivalent is df.where(df < 0)\n",
      "df1[df1 < 0]\n"
     ],
     "language": "python",
     "metadata": {},
     "outputs": [
      {
       "html": [
        "<div style=\"max-height:1000px;max-width:1500px;overflow:auto;\">\n",
        "<table border=\"1\" class=\"dataframe\">\n",
        "  <thead>\n",
        "    <tr style=\"text-align: right;\">\n",
        "      <th></th>\n",
        "      <th>A</th>\n",
        "      <th>B</th>\n",
        "      <th>C</th>\n",
        "      <th>D</th>\n",
        "    </tr>\n",
        "  </thead>\n",
        "  <tbody>\n",
        "    <tr>\n",
        "      <th>2000-01-01</th>\n",
        "      <td>      NaN</td>\n",
        "      <td>      NaN</td>\n",
        "      <td>-1.279018</td>\n",
        "      <td>-1.046822</td>\n",
        "    </tr>\n",
        "    <tr>\n",
        "      <th>2000-01-02</th>\n",
        "      <td>      NaN</td>\n",
        "      <td>      NaN</td>\n",
        "      <td>-0.806454</td>\n",
        "      <td>      NaN</td>\n",
        "    </tr>\n",
        "    <tr>\n",
        "      <th>2000-01-03</th>\n",
        "      <td>-2.408163</td>\n",
        "      <td>-0.006360</td>\n",
        "      <td>-0.066385</td>\n",
        "      <td>      NaN</td>\n",
        "    </tr>\n",
        "    <tr>\n",
        "      <th>2000-01-04</th>\n",
        "      <td>-0.541430</td>\n",
        "      <td>-0.623131</td>\n",
        "      <td>-0.647784</td>\n",
        "      <td>      NaN</td>\n",
        "    </tr>\n",
        "    <tr>\n",
        "      <th>2000-01-05</th>\n",
        "      <td>-0.146969</td>\n",
        "      <td>-0.712589</td>\n",
        "      <td>-1.492066</td>\n",
        "      <td>      NaN</td>\n",
        "    </tr>\n",
        "    <tr>\n",
        "      <th>2000-01-06</th>\n",
        "      <td>-0.089438</td>\n",
        "      <td>-0.096170</td>\n",
        "      <td>-1.124256</td>\n",
        "      <td>      NaN</td>\n",
        "    </tr>\n",
        "    <tr>\n",
        "      <th>2000-01-07</th>\n",
        "      <td>-1.018512</td>\n",
        "      <td>-0.280983</td>\n",
        "      <td>      NaN</td>\n",
        "      <td>      NaN</td>\n",
        "    </tr>\n",
        "    <tr>\n",
        "      <th>2000-01-08</th>\n",
        "      <td>-0.718693</td>\n",
        "      <td>      NaN</td>\n",
        "      <td>-1.156817</td>\n",
        "      <td>      NaN</td>\n",
        "    </tr>\n",
        "  </tbody>\n",
        "</table>\n",
        "</div>"
       ],
       "metadata": {},
       "output_type": "pyout",
       "prompt_number": 26,
       "text": [
        "                   A         B         C         D\n",
        "2000-01-01       NaN       NaN -1.279018 -1.046822\n",
        "2000-01-02       NaN       NaN -0.806454       NaN\n",
        "2000-01-03 -2.408163 -0.006360 -0.066385       NaN\n",
        "2000-01-04 -0.541430 -0.623131 -0.647784       NaN\n",
        "2000-01-05 -0.146969 -0.712589 -1.492066       NaN\n",
        "2000-01-06 -0.089438 -0.096170 -1.124256       NaN\n",
        "2000-01-07 -1.018512 -0.280983       NaN       NaN\n",
        "2000-01-08 -0.718693       NaN -1.156817       NaN"
       ]
      }
     ],
     "prompt_number": 26
    },
    {
     "cell_type": "code",
     "collapsed": false,
     "input": [
      "print df1 < 0"
     ],
     "language": "python",
     "metadata": {},
     "outputs": [
      {
       "output_type": "stream",
       "stream": "stdout",
       "text": [
        "                A      B      C      D\n",
        "2000-01-01  False  False   True   True\n",
        "2000-01-02  False  False   True  False\n",
        "2000-01-03   True   True   True  False\n",
        "2000-01-04   True   True   True  False\n",
        "2000-01-05   True   True   True  False\n",
        "2000-01-06   True   True   True  False\n",
        "2000-01-07   True   True  False  False\n",
        "2000-01-08   True  False   True  False\n"
       ]
      }
     ],
     "prompt_number": 27
    },
    {
     "cell_type": "code",
     "collapsed": false,
     "input": [
      "# Fill scalar 0 on False fields\n",
      "df1.where(df1 < 0, 0)"
     ],
     "language": "python",
     "metadata": {},
     "outputs": [
      {
       "html": [
        "<div style=\"max-height:1000px;max-width:1500px;overflow:auto;\">\n",
        "<table border=\"1\" class=\"dataframe\">\n",
        "  <thead>\n",
        "    <tr style=\"text-align: right;\">\n",
        "      <th></th>\n",
        "      <th>A</th>\n",
        "      <th>B</th>\n",
        "      <th>C</th>\n",
        "      <th>D</th>\n",
        "    </tr>\n",
        "  </thead>\n",
        "  <tbody>\n",
        "    <tr>\n",
        "      <th>2000-01-01</th>\n",
        "      <td> 0.000000</td>\n",
        "      <td> 0.000000</td>\n",
        "      <td>-1.279018</td>\n",
        "      <td>-1.046822</td>\n",
        "    </tr>\n",
        "    <tr>\n",
        "      <th>2000-01-02</th>\n",
        "      <td> 0.000000</td>\n",
        "      <td> 0.000000</td>\n",
        "      <td>-0.806454</td>\n",
        "      <td> 0.000000</td>\n",
        "    </tr>\n",
        "    <tr>\n",
        "      <th>2000-01-03</th>\n",
        "      <td>-2.408163</td>\n",
        "      <td>-0.006360</td>\n",
        "      <td>-0.066385</td>\n",
        "      <td> 0.000000</td>\n",
        "    </tr>\n",
        "    <tr>\n",
        "      <th>2000-01-04</th>\n",
        "      <td>-0.541430</td>\n",
        "      <td>-0.623131</td>\n",
        "      <td>-0.647784</td>\n",
        "      <td> 0.000000</td>\n",
        "    </tr>\n",
        "    <tr>\n",
        "      <th>2000-01-05</th>\n",
        "      <td>-0.146969</td>\n",
        "      <td>-0.712589</td>\n",
        "      <td>-1.492066</td>\n",
        "      <td> 0.000000</td>\n",
        "    </tr>\n",
        "    <tr>\n",
        "      <th>2000-01-06</th>\n",
        "      <td>-0.089438</td>\n",
        "      <td>-0.096170</td>\n",
        "      <td>-1.124256</td>\n",
        "      <td> 0.000000</td>\n",
        "    </tr>\n",
        "    <tr>\n",
        "      <th>2000-01-07</th>\n",
        "      <td>-1.018512</td>\n",
        "      <td>-0.280983</td>\n",
        "      <td> 0.000000</td>\n",
        "      <td> 0.000000</td>\n",
        "    </tr>\n",
        "    <tr>\n",
        "      <th>2000-01-08</th>\n",
        "      <td>-0.718693</td>\n",
        "      <td> 0.000000</td>\n",
        "      <td>-1.156817</td>\n",
        "      <td> 0.000000</td>\n",
        "    </tr>\n",
        "  </tbody>\n",
        "</table>\n",
        "</div>"
       ],
       "metadata": {},
       "output_type": "pyout",
       "prompt_number": 29,
       "text": [
        "                   A         B         C         D\n",
        "2000-01-01  0.000000  0.000000 -1.279018 -1.046822\n",
        "2000-01-02  0.000000  0.000000 -0.806454  0.000000\n",
        "2000-01-03 -2.408163 -0.006360 -0.066385  0.000000\n",
        "2000-01-04 -0.541430 -0.623131 -0.647784  0.000000\n",
        "2000-01-05 -0.146969 -0.712589 -1.492066  0.000000\n",
        "2000-01-06 -0.089438 -0.096170 -1.124256  0.000000\n",
        "2000-01-07 -1.018512 -0.280983  0.000000  0.000000\n",
        "2000-01-08 -0.718693  0.000000 -1.156817  0.000000"
       ]
      }
     ],
     "prompt_number": 29
    },
    {
     "cell_type": "code",
     "collapsed": false,
     "input": [
      "# set values based on some boolean criteria\n",
      "s2 = s.copy()\n",
      "s2[s2 < 1] = 10\n",
      "s2"
     ],
     "language": "python",
     "metadata": {},
     "outputs": [
      {
       "metadata": {},
       "output_type": "pyout",
       "prompt_number": 33,
       "text": [
        "4    10\n",
        "3     1\n",
        "2     2\n",
        "1     3\n",
        "0     4\n",
        "dtype: int64"
       ]
      }
     ],
     "prompt_number": 33
    },
    {
     "cell_type": "code",
     "collapsed": false,
     "input": [
      "# replace inplace\n",
      "df_orig = df1.copy()\n",
      "df_orig.where(df1 > 0, -df1, inplace=True)\n",
      "df_orig"
     ],
     "language": "python",
     "metadata": {},
     "outputs": [
      {
       "html": [
        "<div style=\"max-height:1000px;max-width:1500px;overflow:auto;\">\n",
        "<table border=\"1\" class=\"dataframe\">\n",
        "  <thead>\n",
        "    <tr style=\"text-align: right;\">\n",
        "      <th></th>\n",
        "      <th>A</th>\n",
        "      <th>B</th>\n",
        "      <th>C</th>\n",
        "      <th>D</th>\n",
        "    </tr>\n",
        "  </thead>\n",
        "  <tbody>\n",
        "    <tr>\n",
        "      <th>2000-01-01</th>\n",
        "      <td> 1.465834</td>\n",
        "      <td> 0.254185</td>\n",
        "      <td> 1.279018</td>\n",
        "      <td> 1.046822</td>\n",
        "    </tr>\n",
        "    <tr>\n",
        "      <th>2000-01-02</th>\n",
        "      <td> 0.752514</td>\n",
        "      <td> 1.569238</td>\n",
        "      <td> 0.806454</td>\n",
        "      <td> 0.303788</td>\n",
        "    </tr>\n",
        "    <tr>\n",
        "      <th>2000-01-03</th>\n",
        "      <td> 2.408163</td>\n",
        "      <td> 0.006360</td>\n",
        "      <td> 0.066385</td>\n",
        "      <td> 0.891180</td>\n",
        "    </tr>\n",
        "    <tr>\n",
        "      <th>2000-01-04</th>\n",
        "      <td> 0.541430</td>\n",
        "      <td> 0.623131</td>\n",
        "      <td> 0.647784</td>\n",
        "      <td> 0.669353</td>\n",
        "    </tr>\n",
        "    <tr>\n",
        "      <th>2000-01-05</th>\n",
        "      <td> 0.146969</td>\n",
        "      <td> 0.712589</td>\n",
        "      <td> 1.492066</td>\n",
        "      <td> 2.365109</td>\n",
        "    </tr>\n",
        "    <tr>\n",
        "      <th>2000-01-06</th>\n",
        "      <td> 0.089438</td>\n",
        "      <td> 0.096170</td>\n",
        "      <td> 1.124256</td>\n",
        "      <td> 1.551909</td>\n",
        "    </tr>\n",
        "    <tr>\n",
        "      <th>2000-01-07</th>\n",
        "      <td> 1.018512</td>\n",
        "      <td> 0.280983</td>\n",
        "      <td> 0.391206</td>\n",
        "      <td> 1.129206</td>\n",
        "    </tr>\n",
        "    <tr>\n",
        "      <th>2000-01-08</th>\n",
        "      <td> 0.718693</td>\n",
        "      <td> 1.148541</td>\n",
        "      <td> 1.156817</td>\n",
        "      <td> 1.909955</td>\n",
        "    </tr>\n",
        "  </tbody>\n",
        "</table>\n",
        "</div>"
       ],
       "metadata": {},
       "output_type": "pyout",
       "prompt_number": 35,
       "text": [
        "                   A         B         C         D\n",
        "2000-01-01  1.465834  0.254185  1.279018  1.046822\n",
        "2000-01-02  0.752514  1.569238  0.806454  0.303788\n",
        "2000-01-03  2.408163  0.006360  0.066385  0.891180\n",
        "2000-01-04  0.541430  0.623131  0.647784  0.669353\n",
        "2000-01-05  0.146969  0.712589  1.492066  2.365109\n",
        "2000-01-06  0.089438  0.096170  1.124256  1.551909\n",
        "2000-01-07  1.018512  0.280983  0.391206  1.129206\n",
        "2000-01-08  0.718693  1.148541  1.156817  1.909955"
       ]
      }
     ],
     "prompt_number": 35
    },
    {
     "cell_type": "code",
     "collapsed": false,
     "input": [
      "df2 = df1.copy()\n",
      "print df2[1:4]\n",
      "print df2[1:4]>0\n",
      "df2[df2[1:4]>0]\n"
     ],
     "language": "python",
     "metadata": {},
     "outputs": [
      {
       "output_type": "stream",
       "stream": "stdout",
       "text": [
        "                   A         B         C         D\n",
        "2000-01-02  0.752514  1.569238 -0.806454  0.303788\n",
        "2000-01-03 -2.408163 -0.006360 -0.066385  0.891180\n",
        "2000-01-04 -0.541430 -0.623131 -0.647784  0.669353\n",
        "                A      B      C     D\n",
        "2000-01-02   True   True  False  True\n",
        "2000-01-03  False  False  False  True\n",
        "2000-01-04  False  False  False  True\n"
       ]
      },
      {
       "html": [
        "<div style=\"max-height:1000px;max-width:1500px;overflow:auto;\">\n",
        "<table border=\"1\" class=\"dataframe\">\n",
        "  <thead>\n",
        "    <tr style=\"text-align: right;\">\n",
        "      <th></th>\n",
        "      <th>A</th>\n",
        "      <th>B</th>\n",
        "      <th>C</th>\n",
        "      <th>D</th>\n",
        "    </tr>\n",
        "  </thead>\n",
        "  <tbody>\n",
        "    <tr>\n",
        "      <th>2000-01-01</th>\n",
        "      <td>      NaN</td>\n",
        "      <td>      NaN</td>\n",
        "      <td>NaN</td>\n",
        "      <td>      NaN</td>\n",
        "    </tr>\n",
        "    <tr>\n",
        "      <th>2000-01-02</th>\n",
        "      <td> 0.752514</td>\n",
        "      <td> 1.569238</td>\n",
        "      <td>NaN</td>\n",
        "      <td> 0.303788</td>\n",
        "    </tr>\n",
        "    <tr>\n",
        "      <th>2000-01-03</th>\n",
        "      <td>      NaN</td>\n",
        "      <td>      NaN</td>\n",
        "      <td>NaN</td>\n",
        "      <td> 0.891180</td>\n",
        "    </tr>\n",
        "    <tr>\n",
        "      <th>2000-01-04</th>\n",
        "      <td>      NaN</td>\n",
        "      <td>      NaN</td>\n",
        "      <td>NaN</td>\n",
        "      <td> 0.669353</td>\n",
        "    </tr>\n",
        "    <tr>\n",
        "      <th>2000-01-05</th>\n",
        "      <td>      NaN</td>\n",
        "      <td>      NaN</td>\n",
        "      <td>NaN</td>\n",
        "      <td>      NaN</td>\n",
        "    </tr>\n",
        "    <tr>\n",
        "      <th>2000-01-06</th>\n",
        "      <td>      NaN</td>\n",
        "      <td>      NaN</td>\n",
        "      <td>NaN</td>\n",
        "      <td>      NaN</td>\n",
        "    </tr>\n",
        "    <tr>\n",
        "      <th>2000-01-07</th>\n",
        "      <td>      NaN</td>\n",
        "      <td>      NaN</td>\n",
        "      <td>NaN</td>\n",
        "      <td>      NaN</td>\n",
        "    </tr>\n",
        "    <tr>\n",
        "      <th>2000-01-08</th>\n",
        "      <td>      NaN</td>\n",
        "      <td>      NaN</td>\n",
        "      <td>NaN</td>\n",
        "      <td>      NaN</td>\n",
        "    </tr>\n",
        "  </tbody>\n",
        "</table>\n",
        "</div>"
       ],
       "metadata": {},
       "output_type": "pyout",
       "prompt_number": 37,
       "text": [
        "                   A         B   C         D\n",
        "2000-01-01       NaN       NaN NaN       NaN\n",
        "2000-01-02  0.752514  1.569238 NaN  0.303788\n",
        "2000-01-03       NaN       NaN NaN  0.891180\n",
        "2000-01-04       NaN       NaN NaN  0.669353\n",
        "2000-01-05       NaN       NaN NaN       NaN\n",
        "2000-01-06       NaN       NaN NaN       NaN\n",
        "2000-01-07       NaN       NaN NaN       NaN\n",
        "2000-01-08       NaN       NaN NaN       NaN"
       ]
      }
     ],
     "prompt_number": 37
    },
    {
     "cell_type": "code",
     "collapsed": false,
     "input": [
      "# Where can also accept axis and level parameters\n",
      "df2 = df1.copy()\n",
      "print df2>0\n",
      "print df2[\"A\"]\n",
      "df2.where(df2>0, df2[\"A\"], axis='index')"
     ],
     "language": "python",
     "metadata": {},
     "outputs": [
      {
       "output_type": "stream",
       "stream": "stdout",
       "text": [
        "                A      B      C      D\n",
        "2000-01-01   True   True  False  False\n",
        "2000-01-02   True   True  False   True\n",
        "2000-01-03  False  False  False   True\n",
        "2000-01-04  False  False  False   True\n",
        "2000-01-05  False  False  False   True\n",
        "2000-01-06  False  False  False   True\n",
        "2000-01-07  False  False   True   True\n",
        "2000-01-08  False   True  False   True\n",
        "2000-01-01    1.465834\n",
        "2000-01-02    0.752514\n",
        "2000-01-03   -2.408163\n",
        "2000-01-04   -0.541430\n",
        "2000-01-05   -0.146969\n",
        "2000-01-06   -0.089438\n",
        "2000-01-07   -1.018512\n",
        "2000-01-08   -0.718693\n",
        "Freq: D, Name: A, dtype: float64\n"
       ]
      },
      {
       "html": [
        "<div style=\"max-height:1000px;max-width:1500px;overflow:auto;\">\n",
        "<table border=\"1\" class=\"dataframe\">\n",
        "  <thead>\n",
        "    <tr style=\"text-align: right;\">\n",
        "      <th></th>\n",
        "      <th>A</th>\n",
        "      <th>B</th>\n",
        "      <th>C</th>\n",
        "      <th>D</th>\n",
        "    </tr>\n",
        "  </thead>\n",
        "  <tbody>\n",
        "    <tr>\n",
        "      <th>2000-01-01</th>\n",
        "      <td> 1.465834</td>\n",
        "      <td> 0.254185</td>\n",
        "      <td> 1.465834</td>\n",
        "      <td> 1.465834</td>\n",
        "    </tr>\n",
        "    <tr>\n",
        "      <th>2000-01-02</th>\n",
        "      <td> 0.752514</td>\n",
        "      <td> 1.569238</td>\n",
        "      <td> 0.752514</td>\n",
        "      <td> 0.303788</td>\n",
        "    </tr>\n",
        "    <tr>\n",
        "      <th>2000-01-03</th>\n",
        "      <td>-2.408163</td>\n",
        "      <td>-2.408163</td>\n",
        "      <td>-2.408163</td>\n",
        "      <td> 0.891180</td>\n",
        "    </tr>\n",
        "    <tr>\n",
        "      <th>2000-01-04</th>\n",
        "      <td>-0.541430</td>\n",
        "      <td>-0.541430</td>\n",
        "      <td>-0.541430</td>\n",
        "      <td> 0.669353</td>\n",
        "    </tr>\n",
        "    <tr>\n",
        "      <th>2000-01-05</th>\n",
        "      <td>-0.146969</td>\n",
        "      <td>-0.146969</td>\n",
        "      <td>-0.146969</td>\n",
        "      <td> 2.365109</td>\n",
        "    </tr>\n",
        "    <tr>\n",
        "      <th>2000-01-06</th>\n",
        "      <td>-0.089438</td>\n",
        "      <td>-0.089438</td>\n",
        "      <td>-0.089438</td>\n",
        "      <td> 1.551909</td>\n",
        "    </tr>\n",
        "    <tr>\n",
        "      <th>2000-01-07</th>\n",
        "      <td>-1.018512</td>\n",
        "      <td>-1.018512</td>\n",
        "      <td> 0.391206</td>\n",
        "      <td> 1.129206</td>\n",
        "    </tr>\n",
        "    <tr>\n",
        "      <th>2000-01-08</th>\n",
        "      <td>-0.718693</td>\n",
        "      <td> 1.148541</td>\n",
        "      <td>-0.718693</td>\n",
        "      <td> 1.909955</td>\n",
        "    </tr>\n",
        "  </tbody>\n",
        "</table>\n",
        "</div>"
       ],
       "metadata": {},
       "output_type": "pyout",
       "prompt_number": 39,
       "text": [
        "                   A         B         C         D\n",
        "2000-01-01  1.465834  0.254185  1.465834  1.465834\n",
        "2000-01-02  0.752514  1.569238  0.752514  0.303788\n",
        "2000-01-03 -2.408163 -2.408163 -2.408163  0.891180\n",
        "2000-01-04 -0.541430 -0.541430 -0.541430  0.669353\n",
        "2000-01-05 -0.146969 -0.146969 -0.146969  2.365109\n",
        "2000-01-06 -0.089438 -0.089438 -0.089438  1.551909\n",
        "2000-01-07 -1.018512 -1.018512  0.391206  1.129206\n",
        "2000-01-08 -0.718693  1.148541 -0.718693  1.909955"
       ]
      }
     ],
     "prompt_number": 39
    },
    {
     "cell_type": "code",
     "collapsed": false,
     "input": [
      "# mask is the inverse boolean operation of where.\n",
      "print s\n",
      "s.mask(s>=0)"
     ],
     "language": "python",
     "metadata": {},
     "outputs": [
      {
       "output_type": "stream",
       "stream": "stdout",
       "text": [
        "4    0\n",
        "3    1\n",
        "2    2\n",
        "1    3\n",
        "0    4\n",
        "dtype: int64\n"
       ]
      },
      {
       "metadata": {},
       "output_type": "pyout",
       "prompt_number": 43,
       "text": [
        "4   NaN\n",
        "3   NaN\n",
        "2   NaN\n",
        "1   NaN\n",
        "0   NaN\n",
        "dtype: float64"
       ]
      }
     ],
     "prompt_number": 43
    },
    {
     "cell_type": "heading",
     "level": 2,
     "metadata": {},
     "source": [
      "Take Methods"
     ]
    },
    {
     "cell_type": "code",
     "collapsed": false,
     "input": [
      "index = Index(randint(0, 1000, 10))\n",
      "print index\n",
      "positions = [0, 9, 3]\n",
      "print index[positions]\n",
      "print index.take(positions)\n",
      "ser = Series(randn(10))\n",
      "ser.ix[positions]"
     ],
     "language": "python",
     "metadata": {},
     "outputs": [
      {
       "output_type": "stream",
       "stream": "stdout",
       "text": [
        "Int64Index([254, 992, 438, 650, 117, 131, 413, 370, 553, 324], dtype='int64')\n",
        "Int64Index([254, 324, 650], dtype='int64')\n",
        "Int64Index([254, 324, 650], dtype='int64')\n"
       ]
      },
      {
       "metadata": {},
       "output_type": "pyout",
       "prompt_number": 45,
       "text": [
        "0    1.422918\n",
        "9   -1.551341\n",
        "3   -0.134841\n",
        "dtype: float64"
       ]
      }
     ],
     "prompt_number": 45
    },
    {
     "cell_type": "code",
     "collapsed": false,
     "input": [
      "# For DataFrames\n",
      "frm = DataFrame(randn(5, 3))\n",
      "print frm.take([1, 4, 3])\n",
      "print frm.take([0, 2], axis=1)"
     ],
     "language": "python",
     "metadata": {},
     "outputs": [
      {
       "output_type": "stream",
       "stream": "stdout",
       "text": [
        "          0         1         2\n",
        "1  1.240454 -0.108239  2.081276\n",
        "4  0.470764 -1.183348  0.071611\n",
        "3 -0.417545  1.351467  0.659378\n",
        "          0         2\n",
        "0  0.045708 -1.508830\n",
        "1  1.240454  2.081276\n",
        "2  0.847724 -0.625026\n",
        "3 -0.417545  0.659378\n",
        "4  0.470764  0.071611\n"
       ]
      }
     ],
     "prompt_number": 48
    },
    {
     "cell_type": "heading",
     "level": 2,
     "metadata": {},
     "source": [
      "Duplicate Data"
     ]
    },
    {
     "cell_type": "code",
     "collapsed": false,
     "input": [
      "df2 = DataFrame({'a' : ['one', 'one', 'two',\n",
      "                        'three', 'two', 'one', 'six'],\n",
      "                 'b' : ['x', 'y', 'y', 'x', 'y', 'x', 'x'],\n",
      "                 'c' : np.random.randn(7)})\n",
      "print df2\n",
      "df2.duplicated(['a', 'b'])"
     ],
     "language": "python",
     "metadata": {},
     "outputs": [
      {
       "output_type": "stream",
       "stream": "stdout",
       "text": [
        "       a  b         c\n",
        "0    one  x  0.549382\n",
        "1    one  y  1.288733\n",
        "2    two  y  1.044497\n",
        "3  three  x -0.952276\n",
        "4    two  y -0.172270\n",
        "5    one  x -2.260468\n",
        "6    six  x -1.241183\n"
       ]
      },
      {
       "metadata": {},
       "output_type": "pyout",
       "prompt_number": 52,
       "text": [
        "0    False\n",
        "1    False\n",
        "2    False\n",
        "3    False\n",
        "4     True\n",
        "5     True\n",
        "6    False\n",
        "dtype: bool"
       ]
      }
     ],
     "prompt_number": 52
    },
    {
     "cell_type": "code",
     "collapsed": false,
     "input": [
      "df2.duplicated(['a', 'b'], take_last=True)"
     ],
     "language": "python",
     "metadata": {},
     "outputs": [
      {
       "metadata": {},
       "output_type": "pyout",
       "prompt_number": 53,
       "text": [
        "0     True\n",
        "1    False\n",
        "2     True\n",
        "3    False\n",
        "4    False\n",
        "5    False\n",
        "6    False\n",
        "dtype: bool"
       ]
      }
     ],
     "prompt_number": 53
    },
    {
     "cell_type": "code",
     "collapsed": false,
     "input": [
      "df2.drop_duplicates(['a','b'])"
     ],
     "language": "python",
     "metadata": {},
     "outputs": [
      {
       "html": [
        "<div style=\"max-height:1000px;max-width:1500px;overflow:auto;\">\n",
        "<table border=\"1\" class=\"dataframe\">\n",
        "  <thead>\n",
        "    <tr style=\"text-align: right;\">\n",
        "      <th></th>\n",
        "      <th>a</th>\n",
        "      <th>b</th>\n",
        "      <th>c</th>\n",
        "    </tr>\n",
        "  </thead>\n",
        "  <tbody>\n",
        "    <tr>\n",
        "      <th>0</th>\n",
        "      <td>   one</td>\n",
        "      <td> x</td>\n",
        "      <td> 0.049795</td>\n",
        "    </tr>\n",
        "    <tr>\n",
        "      <th>1</th>\n",
        "      <td>   one</td>\n",
        "      <td> y</td>\n",
        "      <td>-1.619771</td>\n",
        "    </tr>\n",
        "    <tr>\n",
        "      <th>2</th>\n",
        "      <td>   two</td>\n",
        "      <td> y</td>\n",
        "      <td> 2.064296</td>\n",
        "    </tr>\n",
        "    <tr>\n",
        "      <th>3</th>\n",
        "      <td> three</td>\n",
        "      <td> x</td>\n",
        "      <td> 0.145072</td>\n",
        "    </tr>\n",
        "    <tr>\n",
        "      <th>6</th>\n",
        "      <td>   six</td>\n",
        "      <td> x</td>\n",
        "      <td>-0.198629</td>\n",
        "    </tr>\n",
        "  </tbody>\n",
        "</table>\n",
        "</div>"
       ],
       "metadata": {},
       "output_type": "pyout",
       "prompt_number": 50,
       "text": [
        "       a  b         c\n",
        "0    one  x  0.049795\n",
        "1    one  y -1.619771\n",
        "2    two  y  2.064296\n",
        "3  three  x  0.145072\n",
        "6    six  x -0.198629"
       ]
      }
     ],
     "prompt_number": 50
    },
    {
     "cell_type": "code",
     "collapsed": false,
     "input": [
      " df2.drop_duplicates(['a','b'], take_last=True)"
     ],
     "language": "python",
     "metadata": {},
     "outputs": [
      {
       "html": [
        "<div style=\"max-height:1000px;max-width:1500px;overflow:auto;\">\n",
        "<table border=\"1\" class=\"dataframe\">\n",
        "  <thead>\n",
        "    <tr style=\"text-align: right;\">\n",
        "      <th></th>\n",
        "      <th>a</th>\n",
        "      <th>b</th>\n",
        "      <th>c</th>\n",
        "    </tr>\n",
        "  </thead>\n",
        "  <tbody>\n",
        "    <tr>\n",
        "      <th>1</th>\n",
        "      <td>   one</td>\n",
        "      <td> y</td>\n",
        "      <td>-1.619771</td>\n",
        "    </tr>\n",
        "    <tr>\n",
        "      <th>3</th>\n",
        "      <td> three</td>\n",
        "      <td> x</td>\n",
        "      <td> 0.145072</td>\n",
        "    </tr>\n",
        "    <tr>\n",
        "      <th>4</th>\n",
        "      <td>   two</td>\n",
        "      <td> y</td>\n",
        "      <td> 0.369533</td>\n",
        "    </tr>\n",
        "    <tr>\n",
        "      <th>5</th>\n",
        "      <td>   one</td>\n",
        "      <td> x</td>\n",
        "      <td>-0.280999</td>\n",
        "    </tr>\n",
        "    <tr>\n",
        "      <th>6</th>\n",
        "      <td>   six</td>\n",
        "      <td> x</td>\n",
        "      <td>-0.198629</td>\n",
        "    </tr>\n",
        "  </tbody>\n",
        "</table>\n",
        "</div>"
       ],
       "metadata": {},
       "output_type": "pyout",
       "prompt_number": 51,
       "text": [
        "       a  b         c\n",
        "1    one  y -1.619771\n",
        "3  three  x  0.145072\n",
        "4    two  y  0.369533\n",
        "5    one  x -0.280999\n",
        "6    six  x -0.198629"
       ]
      }
     ],
     "prompt_number": 51
    },
    {
     "cell_type": "heading",
     "level": 3,
     "metadata": {},
     "source": [
      "Dictionary-like get() method\u00b6"
     ]
    },
    {
     "cell_type": "code",
     "collapsed": false,
     "input": [
      "s = Series([1,2,3], index=['a','b','c'])\n",
      "s.get('a')\n",
      "s.get('x', default=-1)"
     ],
     "language": "python",
     "metadata": {},
     "outputs": [
      {
       "metadata": {},
       "output_type": "pyout",
       "prompt_number": 54,
       "text": [
        "-1"
       ]
      }
     ],
     "prompt_number": 54
    }
   ],
   "metadata": {}
  }
 ]
}