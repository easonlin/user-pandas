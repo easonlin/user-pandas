{
 "metadata": {
  "name": "",
  "signature": "sha256:821df3c6281f9ce487185ec553fb2bd3e95233f7973fe7e4a50df161fddb766b"
 },
 "nbformat": 3,
 "nbformat_minor": 0,
 "worksheets": [
  {
   "cells": [
    {
     "cell_type": "heading",
     "level": 1,
     "metadata": {},
     "source": [
      "Essential Basic Functionality - Sorting http://pandas.pydata.org/pandas-docs/stable/basics.html"
     ]
    },
    {
     "cell_type": "code",
     "collapsed": false,
     "input": [
      "from pandas import *\n",
      "from io import *\n",
      "df = read_fwf(BytesIO(\"\"\"        one     three       two\n",
      "a -0.701368       NaN -0.087103\n",
      "b  0.109333 -0.354359  0.637674\n",
      "c -0.231617 -0.148387 -0.002666\n",
      "d       NaN -0.167407  0.104044\"\"\"), index_col=0)\n",
      "unsorted_df = df.reindex(index=['a', 'd', 'c', 'b'],\n",
      "                         columns=['three', 'two', 'one'])\n",
      "unsorted_df.sort_index()"
     ],
     "language": "python",
     "metadata": {},
     "outputs": [
      {
       "html": [
        "<div style=\"max-height:1000px;max-width:1500px;overflow:auto;\">\n",
        "<table border=\"1\" class=\"dataframe\">\n",
        "  <thead>\n",
        "    <tr style=\"text-align: right;\">\n",
        "      <th></th>\n",
        "      <th>one</th>\n",
        "      <th>three</th>\n",
        "      <th>two</th>\n",
        "    </tr>\n",
        "  </thead>\n",
        "  <tbody>\n",
        "    <tr>\n",
        "      <th>a</th>\n",
        "      <td>-0.701368</td>\n",
        "      <td>      NaN</td>\n",
        "      <td>-0.087103</td>\n",
        "    </tr>\n",
        "    <tr>\n",
        "      <th>d</th>\n",
        "      <td>      NaN</td>\n",
        "      <td>-0.167407</td>\n",
        "      <td> 0.104044</td>\n",
        "    </tr>\n",
        "    <tr>\n",
        "      <th>c</th>\n",
        "      <td>-0.231617</td>\n",
        "      <td>-0.148387</td>\n",
        "      <td>-0.002666</td>\n",
        "    </tr>\n",
        "    <tr>\n",
        "      <th>b</th>\n",
        "      <td> 0.109333</td>\n",
        "      <td>-0.354359</td>\n",
        "      <td> 0.637674</td>\n",
        "    </tr>\n",
        "  </tbody>\n",
        "</table>\n",
        "</div>"
       ],
       "metadata": {},
       "output_type": "pyout",
       "prompt_number": 3,
       "text": [
        "        one     three       two\n",
        "a -0.701368       NaN -0.087103\n",
        "d       NaN -0.167407  0.104044\n",
        "c -0.231617 -0.148387 -0.002666\n",
        "b  0.109333 -0.354359  0.637674"
       ]
      }
     ],
     "prompt_number": 3
    },
    {
     "cell_type": "code",
     "collapsed": false,
     "input": [
      "unsorted_df.sort_index(ascending=False)"
     ],
     "language": "python",
     "metadata": {},
     "outputs": [
      {
       "html": [
        "<div style=\"max-height:1000px;max-width:1500px;overflow:auto;\">\n",
        "<table border=\"1\" class=\"dataframe\">\n",
        "  <thead>\n",
        "    <tr style=\"text-align: right;\">\n",
        "      <th></th>\n",
        "      <th>three</th>\n",
        "      <th>two</th>\n",
        "      <th>one</th>\n",
        "    </tr>\n",
        "  </thead>\n",
        "  <tbody>\n",
        "    <tr>\n",
        "      <th>d</th>\n",
        "      <td>-0.167407</td>\n",
        "      <td> 0.104044</td>\n",
        "      <td>      NaN</td>\n",
        "    </tr>\n",
        "    <tr>\n",
        "      <th>c</th>\n",
        "      <td>-0.148387</td>\n",
        "      <td>-0.002666</td>\n",
        "      <td>-0.231617</td>\n",
        "    </tr>\n",
        "    <tr>\n",
        "      <th>b</th>\n",
        "      <td>-0.354359</td>\n",
        "      <td> 0.637674</td>\n",
        "      <td> 0.109333</td>\n",
        "    </tr>\n",
        "    <tr>\n",
        "      <th>a</th>\n",
        "      <td>      NaN</td>\n",
        "      <td>-0.087103</td>\n",
        "      <td>-0.701368</td>\n",
        "    </tr>\n",
        "  </tbody>\n",
        "</table>\n",
        "</div>"
       ],
       "metadata": {},
       "output_type": "pyout",
       "prompt_number": 4,
       "text": [
        "      three       two       one\n",
        "d -0.167407  0.104044       NaN\n",
        "c -0.148387 -0.002666 -0.231617\n",
        "b -0.354359  0.637674  0.109333\n",
        "a       NaN -0.087103 -0.701368"
       ]
      }
     ],
     "prompt_number": 4
    },
    {
     "cell_type": "code",
     "collapsed": false,
     "input": [
      "unsorted_df.sort_index(axis=1)"
     ],
     "language": "python",
     "metadata": {},
     "outputs": [
      {
       "html": [
        "<div style=\"max-height:1000px;max-width:1500px;overflow:auto;\">\n",
        "<table border=\"1\" class=\"dataframe\">\n",
        "  <thead>\n",
        "    <tr style=\"text-align: right;\">\n",
        "      <th></th>\n",
        "      <th>one</th>\n",
        "      <th>three</th>\n",
        "      <th>two</th>\n",
        "    </tr>\n",
        "  </thead>\n",
        "  <tbody>\n",
        "    <tr>\n",
        "      <th>a</th>\n",
        "      <td>-0.701368</td>\n",
        "      <td>      NaN</td>\n",
        "      <td>-0.087103</td>\n",
        "    </tr>\n",
        "    <tr>\n",
        "      <th>d</th>\n",
        "      <td>      NaN</td>\n",
        "      <td>-0.167407</td>\n",
        "      <td> 0.104044</td>\n",
        "    </tr>\n",
        "    <tr>\n",
        "      <th>c</th>\n",
        "      <td>-0.231617</td>\n",
        "      <td>-0.148387</td>\n",
        "      <td>-0.002666</td>\n",
        "    </tr>\n",
        "    <tr>\n",
        "      <th>b</th>\n",
        "      <td> 0.109333</td>\n",
        "      <td>-0.354359</td>\n",
        "      <td> 0.637674</td>\n",
        "    </tr>\n",
        "  </tbody>\n",
        "</table>\n",
        "</div>"
       ],
       "metadata": {},
       "output_type": "pyout",
       "prompt_number": 5,
       "text": [
        "        one     three       two\n",
        "a -0.701368       NaN -0.087103\n",
        "d       NaN -0.167407  0.104044\n",
        "c -0.231617 -0.148387 -0.002666\n",
        "b  0.109333 -0.354359  0.637674"
       ]
      }
     ],
     "prompt_number": 5
    },
    {
     "cell_type": "code",
     "collapsed": false,
     "input": [
      "# Specific column name for sort\n",
      "df.sort_index(by='two')"
     ],
     "language": "python",
     "metadata": {},
     "outputs": [
      {
       "html": [
        "<div style=\"max-height:1000px;max-width:1500px;overflow:auto;\">\n",
        "<table border=\"1\" class=\"dataframe\">\n",
        "  <thead>\n",
        "    <tr style=\"text-align: right;\">\n",
        "      <th></th>\n",
        "      <th>one</th>\n",
        "      <th>three</th>\n",
        "      <th>two</th>\n",
        "    </tr>\n",
        "  </thead>\n",
        "  <tbody>\n",
        "    <tr>\n",
        "      <th>a</th>\n",
        "      <td>-0.701368</td>\n",
        "      <td>      NaN</td>\n",
        "      <td>-0.087103</td>\n",
        "    </tr>\n",
        "    <tr>\n",
        "      <th>c</th>\n",
        "      <td>-0.231617</td>\n",
        "      <td>-0.148387</td>\n",
        "      <td>-0.002666</td>\n",
        "    </tr>\n",
        "    <tr>\n",
        "      <th>d</th>\n",
        "      <td>      NaN</td>\n",
        "      <td>-0.167407</td>\n",
        "      <td> 0.104044</td>\n",
        "    </tr>\n",
        "    <tr>\n",
        "      <th>b</th>\n",
        "      <td> 0.109333</td>\n",
        "      <td>-0.354359</td>\n",
        "      <td> 0.637674</td>\n",
        "    </tr>\n",
        "  </tbody>\n",
        "</table>\n",
        "</div>"
       ],
       "metadata": {},
       "output_type": "pyout",
       "prompt_number": 7,
       "text": [
        "        one     three       two\n",
        "a -0.701368       NaN -0.087103\n",
        "c -0.231617 -0.148387 -0.002666\n",
        "d       NaN -0.167407  0.104044\n",
        "b  0.109333 -0.354359  0.637674"
       ]
      }
     ],
     "prompt_number": 7
    },
    {
     "cell_type": "code",
     "collapsed": false,
     "input": [
      "# Specific a list of column name for sort\n",
      "df[['one', 'two', 'three']].sort_index(by=['one','two'])"
     ],
     "language": "python",
     "metadata": {},
     "outputs": [
      {
       "html": [
        "<div style=\"max-height:1000px;max-width:1500px;overflow:auto;\">\n",
        "<table border=\"1\" class=\"dataframe\">\n",
        "  <thead>\n",
        "    <tr style=\"text-align: right;\">\n",
        "      <th></th>\n",
        "      <th>one</th>\n",
        "      <th>two</th>\n",
        "      <th>three</th>\n",
        "    </tr>\n",
        "  </thead>\n",
        "  <tbody>\n",
        "    <tr>\n",
        "      <th>a</th>\n",
        "      <td>-0.701368</td>\n",
        "      <td>-0.087103</td>\n",
        "      <td>      NaN</td>\n",
        "    </tr>\n",
        "    <tr>\n",
        "      <th>c</th>\n",
        "      <td>-0.231617</td>\n",
        "      <td>-0.002666</td>\n",
        "      <td>-0.148387</td>\n",
        "    </tr>\n",
        "    <tr>\n",
        "      <th>b</th>\n",
        "      <td> 0.109333</td>\n",
        "      <td> 0.637674</td>\n",
        "      <td>-0.354359</td>\n",
        "    </tr>\n",
        "    <tr>\n",
        "      <th>d</th>\n",
        "      <td>      NaN</td>\n",
        "      <td> 0.104044</td>\n",
        "      <td>-0.167407</td>\n",
        "    </tr>\n",
        "  </tbody>\n",
        "</table>\n",
        "</div>"
       ],
       "metadata": {},
       "output_type": "pyout",
       "prompt_number": 8,
       "text": [
        "        one       two     three\n",
        "a -0.701368 -0.087103       NaN\n",
        "c -0.231617 -0.002666 -0.148387\n",
        "b  0.109333  0.637674 -0.354359\n",
        "d       NaN  0.104044 -0.167407"
       ]
      }
     ],
     "prompt_number": 8
    },
    {
     "cell_type": "code",
     "collapsed": false,
     "input": [
      "s = Series(randn(5), index=['a', 'b', 'c', 'd', 'e'])"
     ],
     "language": "python",
     "metadata": {},
     "outputs": [],
     "prompt_number": 9
    },
    {
     "cell_type": "code",
     "collapsed": false,
     "input": [
      "s[2] = np.nan\n",
      "s.order"
     ],
     "language": "python",
     "metadata": {},
     "outputs": [
      {
       "metadata": {},
       "output_type": "pyout",
       "prompt_number": 11,
       "text": [
        "<bound method Series.order of a   -2.566035\n",
        "b    0.910463\n",
        "c         NaN\n",
        "d   -0.885710\n",
        "e   -1.969207\n",
        "dtype: float64>"
       ]
      }
     ],
     "prompt_number": 11
    },
    {
     "cell_type": "code",
     "collapsed": false,
     "input": [
      "# Return a sorted Series copy\n",
      "s.order(na_position='first')"
     ],
     "language": "python",
     "metadata": {},
     "outputs": [
      {
       "metadata": {},
       "output_type": "pyout",
       "prompt_number": 13,
       "text": [
        "c         NaN\n",
        "a   -2.566035\n",
        "e   -1.969207\n",
        "d   -0.885710\n",
        "b    0.910463\n",
        "dtype: float64"
       ]
      }
     ],
     "prompt_number": 13
    },
    {
     "cell_type": "heading",
     "level": 2,
     "metadata": {},
     "source": [
      "smallest / largest values"
     ]
    },
    {
     "cell_type": "code",
     "collapsed": false,
     "input": [
      "s = Series(np.random.permutation(10))\n",
      "s"
     ],
     "language": "python",
     "metadata": {},
     "outputs": [
      {
       "metadata": {},
       "output_type": "pyout",
       "prompt_number": 14,
       "text": [
        "0    1\n",
        "1    2\n",
        "2    8\n",
        "3    3\n",
        "4    4\n",
        "5    0\n",
        "6    5\n",
        "7    9\n",
        "8    7\n",
        "9    6\n",
        "dtype: int32"
       ]
      }
     ],
     "prompt_number": 14
    },
    {
     "cell_type": "code",
     "collapsed": false,
     "input": [
      "s.order()"
     ],
     "language": "python",
     "metadata": {},
     "outputs": [
      {
       "metadata": {},
       "output_type": "pyout",
       "prompt_number": 15,
       "text": [
        "5    0\n",
        "0    1\n",
        "1    2\n",
        "3    3\n",
        "4    4\n",
        "6    5\n",
        "9    6\n",
        "8    7\n",
        "2    8\n",
        "7    9\n",
        "dtype: int32"
       ]
      }
     ],
     "prompt_number": 15
    },
    {
     "cell_type": "code",
     "collapsed": false,
     "input": [
      "s.nsmallest(3)"
     ],
     "language": "python",
     "metadata": {},
     "outputs": [
      {
       "metadata": {},
       "output_type": "pyout",
       "prompt_number": 16,
       "text": [
        "5    0\n",
        "0    1\n",
        "1    2\n",
        "dtype: int32"
       ]
      }
     ],
     "prompt_number": 16
    },
    {
     "cell_type": "code",
     "collapsed": false,
     "input": [
      "s.nlargest(3)"
     ],
     "language": "python",
     "metadata": {},
     "outputs": [
      {
       "metadata": {},
       "output_type": "pyout",
       "prompt_number": 17,
       "text": [
        "7    9\n",
        "2    8\n",
        "8    7\n",
        "dtype: int32"
       ]
      }
     ],
     "prompt_number": 17
    },
    {
     "cell_type": "heading",
     "level": 2,
     "metadata": {},
     "source": [
      "Sorting by multi-indexing columns"
     ]
    },
    {
     "cell_type": "code",
     "collapsed": false,
     "input": [
      "df1 = df.copy()\n",
      "df1.columns = MultiIndex.from_tuples([('a','one'),('a','two'),('b','three')])\n",
      "df1.sort_index(by=('a','two'))"
     ],
     "language": "python",
     "metadata": {},
     "outputs": [
      {
       "html": [
        "<div style=\"max-height:1000px;max-width:1500px;overflow:auto;\">\n",
        "<table border=\"1\" class=\"dataframe\">\n",
        "  <thead>\n",
        "    <tr>\n",
        "      <th></th>\n",
        "      <th colspan=\"2\" halign=\"left\">a</th>\n",
        "      <th>b</th>\n",
        "    </tr>\n",
        "    <tr>\n",
        "      <th></th>\n",
        "      <th>one</th>\n",
        "      <th>two</th>\n",
        "      <th>three</th>\n",
        "    </tr>\n",
        "  </thead>\n",
        "  <tbody>\n",
        "    <tr>\n",
        "      <th>b</th>\n",
        "      <td> 0.109333</td>\n",
        "      <td>-0.354359</td>\n",
        "      <td> 0.637674</td>\n",
        "    </tr>\n",
        "    <tr>\n",
        "      <th>d</th>\n",
        "      <td>      NaN</td>\n",
        "      <td>-0.167407</td>\n",
        "      <td> 0.104044</td>\n",
        "    </tr>\n",
        "    <tr>\n",
        "      <th>c</th>\n",
        "      <td>-0.231617</td>\n",
        "      <td>-0.148387</td>\n",
        "      <td>-0.002666</td>\n",
        "    </tr>\n",
        "    <tr>\n",
        "      <th>a</th>\n",
        "      <td>-0.701368</td>\n",
        "      <td>      NaN</td>\n",
        "      <td>-0.087103</td>\n",
        "    </tr>\n",
        "  </tbody>\n",
        "</table>\n",
        "</div>"
       ],
       "metadata": {},
       "output_type": "pyout",
       "prompt_number": 19,
       "text": [
        "          a                   b\n",
        "        one       two     three\n",
        "b  0.109333 -0.354359  0.637674\n",
        "d       NaN -0.167407  0.104044\n",
        "c -0.231617 -0.148387 -0.002666\n",
        "a -0.701368       NaN -0.087103"
       ]
      }
     ],
     "prompt_number": 19
    }
   ],
   "metadata": {}
  }
 ]
}